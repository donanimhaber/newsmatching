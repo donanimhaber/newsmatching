{
 "cells": [
  {
   "cell_type": "code",
   "execution_count": 10,
   "metadata": {
    "ExecuteTime": {
     "end_time": "2019-03-04T12:56:34.256850Z",
     "start_time": "2019-03-04T12:56:34.009360Z"
    }
   },
   "outputs": [],
   "source": [
    "from pymongo import MongoClient\n",
    "import pandas as pd\n",
    "import numpy as np\n",
    "from datetime import datetime as dt\n",
    "import re\n",
    "from matplotlib import pyplot as plt\n",
    "import matplotlib\n",
    "import fastText\n",
    "import html\n",
    "import string\n",
    "import nltk\n",
    "from multiprocessing import Process\n",
    "import multiprocessing\n",
    "import time\n",
    "import sys\n",
    "from importlib import reload\n",
    "import redis\n",
    "# from urllib import request\n",
    "from urllib.parse import urlparse\n",
    "import requests as req\n",
    "# from lxml import html\n",
    "import logging\n",
    "# from scrapy.http import Request\n",
    "import requests\n",
    "import json\n",
    "import requests\n",
    "from scrapy.http import TextResponse\n",
    "from bs4 import BeautifulSoup\n",
    "import re\n",
    "from collections import Counter\n",
    "from sklearn.metrics import precision_recall_curve\n",
    "from tabulate import tabulate\n",
    "from sklearn.tree import DecisionTreeClassifier\n",
    "from sklearn.neural_network import MLPClassifier\n",
    "from sklearn.ensemble import RandomForestClassifier\n",
    "from sklearn.svm import SVC\n",
    "from gensim.models import Word2Vec\n",
    "\n",
    "import pandas as pd\n",
    "import math\n",
    "import mpld3\n",
    "import pickle\n",
    "\n",
    "mpld3.enable_notebook()\n",
    "%matplotlib inline"
   ]
  },
  {
   "cell_type": "code",
   "execution_count": 82,
   "metadata": {
    "ExecuteTime": {
     "end_time": "2019-03-04T13:26:51.857235Z",
     "start_time": "2019-03-04T13:26:51.847440Z"
    }
   },
   "outputs": [],
   "source": [
    "import utils\n",
    "utils = reload(utils)"
   ]
  },
  {
   "cell_type": "code",
   "execution_count": 3,
   "metadata": {
    "ExecuteTime": {
     "end_time": "2019-03-04T12:54:25.761719Z",
     "start_time": "2019-03-04T12:54:25.382846Z"
    }
   },
   "outputs": [],
   "source": [
    "df_comparisons = pd.read_csv('df_comparisons_unsup_lemma.csv', index_col=0)\n",
    "df_news = pd.read_csv('df_news_unsup_lemma.csv', parse_dates=['Datetime', 'Date'])"
   ]
  },
  {
   "cell_type": "code",
   "execution_count": 4,
   "metadata": {
    "ExecuteTime": {
     "end_time": "2019-03-04T12:54:29.167862Z",
     "start_time": "2019-03-04T12:54:29.159467Z"
    }
   },
   "outputs": [],
   "source": [
    "fields = ['title', 'spot','text']"
   ]
  },
  {
   "cell_type": "code",
   "execution_count": 5,
   "metadata": {
    "ExecuteTime": {
     "end_time": "2019-03-04T12:54:34.871530Z",
     "start_time": "2019-03-04T12:54:34.813451Z"
    }
   },
   "outputs": [],
   "source": [
    "for field in fields:\n",
    "    df_news[field+'_pp_str'].fillna('', inplace=True)\n",
    "    df_news[field+'_pp'] = df_news[field+'_pp_str'].apply(lambda x: x.split())"
   ]
  },
  {
   "cell_type": "code",
   "execution_count": 11,
   "metadata": {
    "ExecuteTime": {
     "end_time": "2019-03-04T12:56:41.743004Z",
     "start_time": "2019-03-04T12:56:38.776405Z"
    }
   },
   "outputs": [],
   "source": [
    "ftmodel = fastText.load_model('../../data/model/downloads/haber-P1_S1_L1-100E.bin')\n",
    "model_w2v = Word2Vec.load('../../data/model/downloads/reaction.all.1544173485.punct_True.stopwords_True.lemmatized_True.w2v_100V_5E_1547415130.bin')"
   ]
  },
  {
   "cell_type": "code",
   "execution_count": 41,
   "metadata": {
    "ExecuteTime": {
     "end_time": "2019-03-04T13:02:15.836939Z",
     "start_time": "2019-03-04T13:02:14.311020Z"
    }
   },
   "outputs": [],
   "source": [
    "Xs_ft = {field: np.concatenate(df_news[field+'_pp_str'].apply(lambda doc: ftmodel.get_sentence_vector(doc).reshape(1,-1)).values, axis=0) for field in fields}"
   ]
  },
  {
   "cell_type": "code",
   "execution_count": 42,
   "metadata": {
    "ExecuteTime": {
     "end_time": "2019-03-04T13:02:31.114485Z",
     "start_time": "2019-03-04T13:02:31.103028Z"
    }
   },
   "outputs": [
    {
     "name": "stdout",
     "output_type": "stream",
     "text": [
      "title (2049, 100)\n",
      "spot (2049, 100)\n",
      "text (2049, 100)\n"
     ]
    }
   ],
   "source": [
    "for field in fields:\n",
    "    print(field, Xs_ft[field].shape)"
   ]
  },
  {
   "cell_type": "code",
   "execution_count": 27,
   "metadata": {
    "ExecuteTime": {
     "end_time": "2019-03-04T12:59:30.883954Z",
     "start_time": "2019-03-04T12:59:30.879545Z"
    }
   },
   "outputs": [],
   "source": [
    "def get_w2v_vector(words_now):\n",
    "    \n",
    "    vecnow = np.zeros((model_w2v.wv.vector_size,))\n",
    "    count = 0\n",
    "    \n",
    "    for word in words_now:\n",
    "        if word in model_w2v.wv.vocab:\n",
    "            vecnow += model_w2v.wv.word_vec(word)\n",
    "            count += 1\n",
    "            \n",
    "    if count == 0:\n",
    "        return vecnow\n",
    "    else:\n",
    "        return vecnow / count`"
   ]
  },
  {
   "cell_type": "code",
   "execution_count": 50,
   "metadata": {
    "ExecuteTime": {
     "end_time": "2019-03-04T13:03:51.710226Z",
     "start_time": "2019-03-04T13:03:50.408059Z"
    }
   },
   "outputs": [],
   "source": [
    "Xs_wv = {field: np.concatenate(df_news[field + '_pp'].apply(lambda x: get_w2v_vector(x).reshape(1,-1)).values, axis=0) for field in fields}"
   ]
  },
  {
   "cell_type": "code",
   "execution_count": 51,
   "metadata": {
    "ExecuteTime": {
     "end_time": "2019-03-04T13:03:58.205947Z",
     "start_time": "2019-03-04T13:03:58.199982Z"
    }
   },
   "outputs": [
    {
     "name": "stdout",
     "output_type": "stream",
     "text": [
      "title (2049, 100)\n",
      "spot (2049, 100)\n",
      "text (2049, 100)\n"
     ]
    }
   ],
   "source": [
    "for field in fields:\n",
    "    print(field, Xs_wv[field].shape)"
   ]
  },
  {
   "cell_type": "code",
   "execution_count": 56,
   "metadata": {
    "ExecuteTime": {
     "end_time": "2019-03-04T13:07:42.773707Z",
     "start_time": "2019-03-04T13:07:42.763537Z"
    }
   },
   "outputs": [
    {
     "data": {
      "text/plain": [
       "'text'"
      ]
     },
     "execution_count": 56,
     "metadata": {},
     "output_type": "execute_result"
    }
   ],
   "source": [
    "field"
   ]
  },
  {
   "cell_type": "code",
   "execution_count": 61,
   "metadata": {
    "ExecuteTime": {
     "end_time": "2019-03-04T13:08:38.474693Z",
     "start_time": "2019-03-04T13:08:38.464043Z"
    }
   },
   "outputs": [],
   "source": [
    "def concat_feats(rownow):\n",
    "    \n",
    "    x1 = Xs_wv[field][int(rownow.ind0),:].reshape(1,-1)\n",
    "    x2 = Xs_wv[field][int(rownow.ind1),:].reshape(1,-1)\n",
    "    \n",
    "    print(x1.shape, x2.shape)\n",
    "    \n",
    "    return np.concatenate((x1, x2), axis=1)"
   ]
  },
  {
   "cell_type": "code",
   "execution_count": 87,
   "metadata": {
    "ExecuteTime": {
     "end_time": "2019-03-04T13:32:35.778151Z",
     "start_time": "2019-03-04T13:32:32.028528Z"
    }
   },
   "outputs": [],
   "source": [
    "for field in fields:\n",
    "    df_comparisons['feat_concat_wv_' + field] = df_comparisons.apply(lambda row:\n",
    "                                                                     np.concatenate((Xs_wv[field][int(row.ind0),:].reshape(1,-1), Xs_wv[field][int(row.ind1),:].reshape(1,-1)), axis=1), axis=1)\n",
    "                                                                     \n",
    "\n",
    "                                                                     \n",
    "# F_concat_wv = {field: np.concatenate(df_comparisons.apply(lambda row: np.concatenate((Xs_wv[field][int(row.ind0),:].reshape(1,-1), Xs_wv[field][int(row.ind1),:].reshape(1,-1)), axis=1), axis=1).values,\n",
    "#                axis=0) for field in fields}"
   ]
  },
  {
   "cell_type": "code",
   "execution_count": 88,
   "metadata": {
    "ExecuteTime": {
     "end_time": "2019-03-04T13:33:14.739300Z",
     "start_time": "2019-03-04T13:33:10.689062Z"
    }
   },
   "outputs": [],
   "source": [
    "for field in fields:\n",
    "    df_comparisons['feat_concat_ft_' + field] = df_comparisons.apply(lambda row:\n",
    "                                                                     np.concatenate((Xs_ft[field][int(row.ind0),:].reshape(1,-1), Xs_ft[field][int(row.ind1),:].reshape(1,-1)), axis=1), axis=1)\n"
   ]
  },
  {
   "cell_type": "code",
   "execution_count": null,
   "metadata": {},
   "outputs": [],
   "source": []
  },
  {
   "cell_type": "code",
   "execution_count": 89,
   "metadata": {
    "ExecuteTime": {
     "end_time": "2019-03-04T13:33:32.234609Z",
     "start_time": "2019-03-04T13:33:32.185167Z"
    },
    "scrolled": true
   },
   "outputs": [
    {
     "name": "stdout",
     "output_type": "stream",
     "text": [
      "0\n",
      "(1672, 47)\n",
      "label\n",
      "0.0    1501\n",
      "1.0     171\n",
      "Name: label, dtype: int64\n",
      "\n",
      "1\n",
      "(1719, 47)\n",
      "label\n",
      "0.0    1535\n",
      "1.0     184\n",
      "Name: label, dtype: int64\n",
      "\n",
      "2\n",
      "(1664, 47)\n",
      "label\n",
      "0.0    1467\n",
      "1.0     197\n",
      "Name: label, dtype: int64\n",
      "\n",
      "3\n",
      "(1671, 47)\n",
      "label\n",
      "0.0    1485\n",
      "1.0     186\n",
      "Name: label, dtype: int64\n",
      "\n",
      "4\n",
      "(1743, 47)\n",
      "label\n",
      "0.0    1561\n",
      "1.0     182\n",
      "Name: label, dtype: int64\n",
      "\n",
      "5\n",
      "(1620, 47)\n",
      "label\n",
      "0.0    1444\n",
      "1.0     176\n",
      "Name: label, dtype: int64\n",
      "\n",
      "6\n",
      "(1636, 47)\n",
      "label\n",
      "0.0    1455\n",
      "1.0     181\n",
      "Name: label, dtype: int64\n",
      "\n",
      "7\n",
      "(1668, 47)\n",
      "label\n",
      "0.0    1463\n",
      "1.0     205\n",
      "Name: label, dtype: int64\n",
      "\n",
      "8\n",
      "(1758, 47)\n",
      "label\n",
      "0.0    1577\n",
      "1.0     181\n",
      "Name: label, dtype: int64\n",
      "\n",
      "9\n",
      "(1707, 47)\n",
      "label\n",
      "0.0    1512\n",
      "1.0     195\n",
      "Name: label, dtype: int64\n",
      "\n"
     ]
    }
   ],
   "source": [
    "n_val_splits = 10\n",
    "\n",
    "dfs_val_comparisons = utils.split_val_parts(df_comparisons, n_val_splits)"
   ]
  },
  {
   "cell_type": "code",
   "execution_count": 104,
   "metadata": {
    "ExecuteTime": {
     "end_time": "2019-03-04T13:40:10.500861Z",
     "start_time": "2019-03-04T13:40:10.492075Z"
    }
   },
   "outputs": [],
   "source": [
    "def print_prec_recall(colnames, return_res=False, dfnow=None):\n",
    "    \n",
    "    if dfnow is None:\n",
    "        dfnow = df_comparisons\n",
    "        \n",
    "    if not isinstance(colnames, list):\n",
    "        colnames = [colnames]\n",
    "    \n",
    "    table = []\n",
    "    res = {}\n",
    "    for colname in colnames:\n",
    "    \n",
    "        predictions = dfnow[colname]\n",
    "        labels = dfnow['label']\n",
    "\n",
    "        acc = float((predictions == labels).sum() / len(predictions))\n",
    "\n",
    "        true_positive = float(np.logical_and(predictions==1, labels==1).sum())\n",
    "        true_negative = float(np.logical_and(predictions==0, labels==0).sum())\n",
    "        false_positive = float(np.logical_and(predictions==1, labels==0).sum())\n",
    "        false_negative = float(np.logical_and(predictions==0, labels==1).sum())\n",
    "\n",
    "        if predictions.sum() == 0 or predictions.sum() == predictions.shape[0]:\n",
    "            print(\"Warning! number of positive predictions: %i\" % predictions.sum())\n",
    "            precision = 0 \n",
    "            recall = 0\n",
    "            f1 = 0\n",
    "        else:\n",
    "            precision = float(true_positive / (true_positive + false_positive))\n",
    "            recall = float(true_positive / (true_positive + false_negative))\n",
    "            f1 = 2*(recall * precision) / (recall + precision)\n",
    "    \n",
    "        table.append([colname, acc, f1, precision, recall, true_positive, true_negative, false_positive, false_negative])\n",
    "        \n",
    "        res[colname] = dict(\n",
    "            acc = acc,\n",
    "            f1 = f1,\n",
    "            precision = precision,\n",
    "            recall = recall,\n",
    "            true_positive = true_positive,\n",
    "            true_negative = true_negative,\n",
    "            false_positive = false_positive,\n",
    "            false_negative = false_negative)\n",
    "\n",
    "    print(tabulate(table, headers=['METHOD', 'ACC', 'F1', 'PREC', 'RECALL', 'TP', 'TN', 'FP', 'FN'], tablefmt=\"fancy_grid\"))\n",
    "    \n",
    "    if return_res:\n",
    "        return res"
   ]
  },
  {
   "cell_type": "code",
   "execution_count": 102,
   "metadata": {
    "ExecuteTime": {
     "end_time": "2019-03-04T13:39:33.596270Z",
     "start_time": "2019-03-04T13:39:33.578678Z"
    }
   },
   "outputs": [],
   "source": [
    "def cross_validate_concat(df_list, df_comparisons, classifier_func, colname, columns, n_split, labelcol='label'):\n",
    "    \n",
    "    models = []\n",
    "\n",
    "    for i in range(n_split):\n",
    "        split_inds = [ii for ii in range(n_split)]\n",
    "        split_inds.remove(i)\n",
    "        df_train_now = pd.concat([df_list[ii] for ii in split_inds], axis=0)\n",
    "        df_test_now = df_list[i]\n",
    "\n",
    "        Xtrain = np.concatenate(df_train_now[columns].values, axis=0)\n",
    "        ytrain = df_train_now[labelcol].values\n",
    "\n",
    "        Xtest = np.concatenate(df_test_now[columns].values, axis=0)\n",
    "        # ytest = df_test_now[labelcol].values\n",
    "        \n",
    "#         print(Xtrain.shape, ytrain.shape)\n",
    "        model = classifier_func()\n",
    "        model = model.fit(Xtrain, ytrain)\n",
    "\n",
    "        yhat = model.predict(Xtest)\n",
    "        df_comparisons.loc[df_test_now.index, colname] = yhat\n",
    "\n",
    "        models.append(model)\n",
    "\n",
    "    return models, df_comparisons"
   ]
  },
  {
   "cell_type": "markdown",
   "metadata": {},
   "source": [
    "__Fasttext Results__"
   ]
  },
  {
   "cell_type": "code",
   "execution_count": 103,
   "metadata": {
    "ExecuteTime": {
     "end_time": "2019-03-04T13:40:10.489837Z",
     "start_time": "2019-03-04T13:39:38.698195Z"
    },
    "scrolled": true
   },
   "outputs": [],
   "source": [
    "field = 'text'\n",
    "classifier_name = 'dt'\n",
    "wv_model_name = 'ft'\n",
    "\n",
    "out_colname = 'feat_concat_ft_'+field+'_'+classifier_name\n",
    "in_colname = 'feat_concat_ft_'+field\n",
    "\n",
    "classifier_func = lambda: DecisionTreeClassifier(max_depth=None, criterion='entropy', min_samples_leaf=10)\n",
    "trees, df_comparisons = cross_validate_concat(dfs_val_comparisons, df_comparisons, classifier_func, out_colname, in_colname, n_val_splits)"
   ]
  },
  {
   "cell_type": "code",
   "execution_count": 105,
   "metadata": {
    "ExecuteTime": {
     "end_time": "2019-03-04T13:40:15.590499Z",
     "start_time": "2019-03-04T13:40:15.571048Z"
    }
   },
   "outputs": [
    {
     "name": "stdout",
     "output_type": "stream",
     "text": [
      "╒════════════════════════╤══════════╤══════════╤══════════╤══════════╤══════╤═══════╤══════╤══════╕\n",
      "│ METHOD                 │      ACC │       F1 │     PREC │   RECALL │   TP │    TN │   FP │   FN │\n",
      "╞════════════════════════╪══════════╪══════════╪══════════╪══════════╪══════╪═══════╪══════╪══════╡\n",
      "│ feat_concat_ft_text_dt │ 0.897022 │ 0.518847 │ 0.534857 │ 0.503767 │  936 │ 14186 │  814 │  922 │\n",
      "╘════════════════════════╧══════════╧══════════╧══════════╧══════════╧══════╧═══════╧══════╧══════╛\n"
     ]
    }
   ],
   "source": [
    "print_prec_recall(out_colname)"
   ]
  },
  {
   "cell_type": "code",
   "execution_count": null,
   "metadata": {},
   "outputs": [],
   "source": []
  },
  {
   "cell_type": "code",
   "execution_count": 106,
   "metadata": {
    "ExecuteTime": {
     "end_time": "2019-03-04T13:44:01.650059Z",
     "start_time": "2019-03-04T13:41:42.484827Z"
    }
   },
   "outputs": [],
   "source": [
    "field = 'text'\n",
    "classifier_name = 'rf'\n",
    "wv_model_name = 'ft'\n",
    "\n",
    "out_colname = 'feat_concat_ft_'+field+'_'+classifier_name\n",
    "in_colname = 'feat_concat_ft_'+field\n",
    "\n",
    "classifier_func = lambda: RandomForestClassifier(n_estimators=100, criterion='gini', max_depth=None)\n",
    "trees, df_comparisons = cross_validate_concat(dfs_val_comparisons, df_comparisons, classifier_func, out_colname, in_colname, n_val_splits)"
   ]
  },
  {
   "cell_type": "code",
   "execution_count": 107,
   "metadata": {
    "ExecuteTime": {
     "end_time": "2019-03-04T13:44:01.659913Z",
     "start_time": "2019-03-04T13:44:01.652011Z"
    }
   },
   "outputs": [
    {
     "name": "stdout",
     "output_type": "stream",
     "text": [
      "╒════════════════════════╤══════════╤══════════╤══════════╤══════════╤══════╤═══════╤══════╤══════╕\n",
      "│ METHOD                 │      ACC │       F1 │     PREC │   RECALL │   TP │    TN │   FP │   FN │\n",
      "╞════════════════════════╪══════════╪══════════╪══════════╪══════════╪══════╪═══════╪══════╪══════╡\n",
      "│ feat_concat_ft_text_rf │ 0.942164 │ 0.647633 │ 0.985699 │ 0.482239 │  896 │ 14987 │   13 │  962 │\n",
      "╘════════════════════════╧══════════╧══════════╧══════════╧══════════╧══════╧═══════╧══════╧══════╛\n"
     ]
    }
   ],
   "source": [
    "print_prec_recall(out_colname)"
   ]
  },
  {
   "cell_type": "code",
   "execution_count": null,
   "metadata": {},
   "outputs": [],
   "source": []
  },
  {
   "cell_type": "code",
   "execution_count": 108,
   "metadata": {
    "ExecuteTime": {
     "end_time": "2019-03-04T13:50:40.916930Z",
     "start_time": "2019-03-04T13:46:02.584836Z"
    }
   },
   "outputs": [],
   "source": [
    "field = 'text'\n",
    "classifier_name = 'svm'\n",
    "wv_model_name = 'ft'\n",
    "\n",
    "out_colname = 'feat_concat_ft_'+field+'_'+classifier_name\n",
    "in_colname = 'feat_concat_ft_'+field\n",
    "\n",
    "classifier_func = lambda: SVC(C=1000000, kernel='rbf', gamma=1e-5)\n",
    "svms, df_comparisons = cross_validate_concat(dfs_val_comparisons, df_comparisons, classifier_func, out_colname, in_colname, n_val_splits)"
   ]
  },
  {
   "cell_type": "code",
   "execution_count": 110,
   "metadata": {
    "ExecuteTime": {
     "end_time": "2019-03-04T13:50:44.952708Z",
     "start_time": "2019-03-04T13:50:44.942575Z"
    }
   },
   "outputs": [
    {
     "name": "stdout",
     "output_type": "stream",
     "text": [
      "Warning! number of positive predictions: 0\n",
      "╒═════════════════════════╤══════════╤══════╤════════╤══════════╤══════╤═══════╤══════╤══════╕\n",
      "│ METHOD                  │      ACC │   F1 │   PREC │   RECALL │   TP │    TN │   FP │   FN │\n",
      "╞═════════════════════════╪══════════╪══════╪════════╪══════════╪══════╪═══════╪══════╪══════╡\n",
      "│ feat_concat_ft_text_svm │ 0.889785 │    0 │      0 │        0 │    0 │ 15000 │    0 │ 1858 │\n",
      "╘═════════════════════════╧══════════╧══════╧════════╧══════════╧══════╧═══════╧══════╧══════╛\n"
     ]
    }
   ],
   "source": [
    "print_prec_recall(out_colname)"
   ]
  },
  {
   "cell_type": "code",
   "execution_count": null,
   "metadata": {},
   "outputs": [],
   "source": []
  },
  {
   "cell_type": "markdown",
   "metadata": {},
   "source": [
    "__Word2VEc results__"
   ]
  },
  {
   "cell_type": "code",
   "execution_count": null,
   "metadata": {},
   "outputs": [],
   "source": []
  },
  {
   "cell_type": "code",
   "execution_count": 112,
   "metadata": {
    "ExecuteTime": {
     "end_time": "2019-03-04T13:54:42.825054Z",
     "start_time": "2019-03-04T13:52:27.316663Z"
    }
   },
   "outputs": [],
   "source": [
    "field = 'text'\n",
    "classifier_name = 'rf'\n",
    "wv_model_name = 'wv'\n",
    "\n",
    "out_colname = 'feat_concat_ft_'+field+'_'+classifier_name\n",
    "in_colname = 'feat_concat_ft_'+field\n",
    "\n",
    "classifier_func = lambda: RandomForestClassifier(n_estimators=100, criterion='gini', max_depth=None)\n",
    "trees, df_comparisons = cross_validate_concat(dfs_val_comparisons, df_comparisons, classifier_func, out_colname, in_colname, n_val_splits)"
   ]
  },
  {
   "cell_type": "code",
   "execution_count": 113,
   "metadata": {
    "ExecuteTime": {
     "end_time": "2019-03-04T13:54:42.833868Z",
     "start_time": "2019-03-04T13:54:42.826730Z"
    }
   },
   "outputs": [
    {
     "name": "stdout",
     "output_type": "stream",
     "text": [
      "╒════════════════════════╤══════════╤══════════╤══════════╤══════════╤══════╤═══════╤══════╤══════╕\n",
      "│ METHOD                 │      ACC │       F1 │     PREC │   RECALL │   TP │    TN │   FP │   FN │\n",
      "╞════════════════════════╪══════════╪══════════╪══════════╪══════════╪══════╪═══════╪══════╪══════╡\n",
      "│ feat_concat_ft_text_rf │ 0.941689 │ 0.645254 │ 0.979189 │ 0.481163 │  894 │ 14981 │   19 │  964 │\n",
      "╘════════════════════════╧══════════╧══════════╧══════════╧══════════╧══════╧═══════╧══════╧══════╛\n"
     ]
    }
   ],
   "source": [
    "print_prec_recall(out_colname)"
   ]
  },
  {
   "cell_type": "code",
   "execution_count": null,
   "metadata": {},
   "outputs": [],
   "source": []
  },
  {
   "cell_type": "code",
   "execution_count": 114,
   "metadata": {
    "ExecuteTime": {
     "end_time": "2019-03-04T13:59:06.108395Z",
     "start_time": "2019-03-04T13:54:42.835455Z"
    }
   },
   "outputs": [],
   "source": [
    "field = 'text'\n",
    "classifier_name = 'svm'\n",
    "wv_model_name = 'wv'\n",
    "\n",
    "out_colname = 'feat_concat_ft_'+field+'_'+classifier_name\n",
    "in_colname = 'feat_concat_ft_'+field\n",
    "\n",
    "classifier_func = lambda: SVC(C=1000000, kernel='rbf', gamma=1e-5)\n",
    "svms, df_comparisons = cross_validate_concat(dfs_val_comparisons, df_comparisons, classifier_func, out_colname, in_colname, n_val_splits)"
   ]
  },
  {
   "cell_type": "code",
   "execution_count": 115,
   "metadata": {
    "ExecuteTime": {
     "end_time": "2019-03-04T13:59:06.118463Z",
     "start_time": "2019-03-04T13:59:06.110375Z"
    }
   },
   "outputs": [
    {
     "name": "stdout",
     "output_type": "stream",
     "text": [
      "Warning! number of positive predictions: 0\n",
      "╒═════════════════════════╤══════════╤══════╤════════╤══════════╤══════╤═══════╤══════╤══════╕\n",
      "│ METHOD                  │      ACC │   F1 │   PREC │   RECALL │   TP │    TN │   FP │   FN │\n",
      "╞═════════════════════════╪══════════╪══════╪════════╪══════════╪══════╪═══════╪══════╪══════╡\n",
      "│ feat_concat_ft_text_svm │ 0.889785 │    0 │      0 │        0 │    0 │ 15000 │    0 │ 1858 │\n",
      "╘═════════════════════════╧══════════╧══════╧════════╧══════════╧══════╧═══════╧══════╧══════╛\n"
     ]
    }
   ],
   "source": [
    "print_prec_recall(out_colname)"
   ]
  },
  {
   "cell_type": "code",
   "execution_count": null,
   "metadata": {},
   "outputs": [],
   "source": []
  },
  {
   "cell_type": "code",
   "execution_count": null,
   "metadata": {},
   "outputs": [],
   "source": []
  },
  {
   "cell_type": "code",
   "execution_count": null,
   "metadata": {},
   "outputs": [],
   "source": []
  },
  {
   "cell_type": "code",
   "execution_count": null,
   "metadata": {},
   "outputs": [],
   "source": []
  },
  {
   "cell_type": "code",
   "execution_count": null,
   "metadata": {},
   "outputs": [],
   "source": []
  },
  {
   "cell_type": "code",
   "execution_count": null,
   "metadata": {},
   "outputs": [],
   "source": []
  },
  {
   "cell_type": "code",
   "execution_count": null,
   "metadata": {},
   "outputs": [],
   "source": []
  },
  {
   "cell_type": "code",
   "execution_count": null,
   "metadata": {},
   "outputs": [],
   "source": []
  },
  {
   "cell_type": "code",
   "execution_count": null,
   "metadata": {},
   "outputs": [],
   "source": []
  },
  {
   "cell_type": "code",
   "execution_count": null,
   "metadata": {},
   "outputs": [],
   "source": []
  }
 ],
 "metadata": {
  "kernelspec": {
   "display_name": "Python 3",
   "language": "python",
   "name": "python3"
  },
  "language_info": {
   "codemirror_mode": {
    "name": "ipython",
    "version": 3
   },
   "file_extension": ".py",
   "mimetype": "text/x-python",
   "name": "python",
   "nbconvert_exporter": "python",
   "pygments_lexer": "ipython3",
   "version": "3.6.8"
  }
 },
 "nbformat": 4,
 "nbformat_minor": 2
}
