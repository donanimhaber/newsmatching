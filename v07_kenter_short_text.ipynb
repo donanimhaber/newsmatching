{
 "cells": [
  {
   "cell_type": "code",
   "execution_count": 2,
   "metadata": {
    "ExecuteTime": {
     "end_time": "2019-03-05T12:11:26.232562Z",
     "start_time": "2019-03-05T12:11:26.167072Z"
    }
   },
   "outputs": [],
   "source": [
    "from pymongo import MongoClient\n",
    "import pandas as pd\n",
    "import numpy as np\n",
    "from datetime import datetime as dt\n",
    "import re\n",
    "from matplotlib import pyplot as plt\n",
    "import matplotlib\n",
    "import fastText\n",
    "import html\n",
    "import string\n",
    "import nltk\n",
    "from multiprocessing import Process\n",
    "import multiprocessing\n",
    "import time\n",
    "import sys\n",
    "from importlib import reload\n",
    "import redis\n",
    "# from urllib import request\n",
    "from urllib.parse import urlparse\n",
    "import requests as req\n",
    "# from lxml import html\n",
    "import logging\n",
    "# from scrapy.http import Request\n",
    "import requests\n",
    "import json\n",
    "import requests\n",
    "from scrapy.http import TextResponse\n",
    "from bs4 import BeautifulSoup\n",
    "import re\n",
    "from collections import Counter\n",
    "from sklearn.metrics import precision_recall_curve\n",
    "from tabulate import tabulate\n",
    "from sklearn.tree import DecisionTreeClassifier\n",
    "from sklearn.neural_network import MLPClassifier\n",
    "from sklearn.ensemble import RandomForestClassifier\n",
    "from sklearn.svm import SVC\n",
    "from gensim.models import Word2Vec\n",
    "from collections import defaultdict\n",
    "\n",
    "import pandas as pd\n",
    "import math\n",
    "import mpld3\n",
    "import pickle\n",
    "\n",
    "mpld3.enable_notebook()\n",
    "%matplotlib inline"
   ]
  },
  {
   "cell_type": "code",
   "execution_count": 3,
   "metadata": {
    "ExecuteTime": {
     "end_time": "2019-03-05T12:11:27.351149Z",
     "start_time": "2019-03-05T12:11:26.927445Z"
    }
   },
   "outputs": [],
   "source": [
    "df_comparisons = pd.read_csv('df_comparisons_unsup_lemma.csv', index_col=0)\n",
    "df_news = pd.read_csv('df_news_unsup_lemma.csv',  parse_dates=['Datetime', 'Date'], index_col=0)"
   ]
  },
  {
   "cell_type": "code",
   "execution_count": 4,
   "metadata": {
    "ExecuteTime": {
     "end_time": "2019-03-05T12:11:27.452158Z",
     "start_time": "2019-03-05T12:11:27.449387Z"
    }
   },
   "outputs": [],
   "source": [
    "fields = ['title', 'spot','text']"
   ]
  },
  {
   "cell_type": "code",
   "execution_count": 5,
   "metadata": {
    "ExecuteTime": {
     "end_time": "2019-03-05T12:11:28.791475Z",
     "start_time": "2019-03-05T12:11:28.709538Z"
    }
   },
   "outputs": [],
   "source": [
    "for field in fields:\n",
    "    df_news[field+'_pp_str'].fillna('', inplace=True)\n",
    "    df_news[field+'_pp'] = df_news[field+'_pp_str'].apply(lambda x: x.split())"
   ]
  },
  {
   "cell_type": "code",
   "execution_count": 6,
   "metadata": {
    "ExecuteTime": {
     "end_time": "2019-03-05T12:11:34.092305Z",
     "start_time": "2019-03-05T12:11:29.091653Z"
    }
   },
   "outputs": [],
   "source": [
    "ftmodel = fastText.load_model('../../data/model/downloads/haber-P1_S1_L1-100E.bin')\n",
    "model_w2v = Word2Vec.load('../../data/model/downloads/reaction.all.1544173485.punct_True.stopwords_True.lemmatized_True.w2v_100V_5E_1547415130.bin')"
   ]
  },
  {
   "cell_type": "code",
   "execution_count": null,
   "metadata": {},
   "outputs": [],
   "source": []
  },
  {
   "cell_type": "code",
   "execution_count": 7,
   "metadata": {
    "ExecuteTime": {
     "end_time": "2019-03-05T12:15:40.093257Z",
     "start_time": "2019-03-05T12:15:40.076533Z"
    }
   },
   "outputs": [],
   "source": [
    "class IdfCounter:\n",
    "    \n",
    "    def __init__(self):\n",
    "        \n",
    "        self.counts = Counter()\n",
    "        self.idfs = {}\n",
    "        self.N = 0\n",
    "        \n",
    "    def add_doc(self, docnow):\n",
    "        \n",
    "        self.N += 1\n",
    "        if self.N % 100_000 == 0:\n",
    "            print(\"Processed %i documents\" % self.N)\n",
    "            \n",
    "        docnow = set(docnow)\n",
    "        self.counts.update(docnow)\n",
    "                \n",
    "    def set_idfs(self):\n",
    "        \n",
    "        self.idfs = {}\n",
    "        for word, count in self.counts.items():\n",
    "            self.idfs[word] = np.log((self.N - count + 0.5) / (count + 0.5))"
   ]
  },
  {
   "cell_type": "code",
   "execution_count": 8,
   "metadata": {
    "ExecuteTime": {
     "end_time": "2019-03-05T12:15:40.490587Z",
     "start_time": "2019-03-05T12:15:40.486998Z"
    }
   },
   "outputs": [],
   "source": [
    "idf_counter = IdfCounter()"
   ]
  },
  {
   "cell_type": "code",
   "execution_count": 9,
   "metadata": {
    "ExecuteTime": {
     "end_time": "2019-03-05T12:19:29.671484Z",
     "start_time": "2019-03-05T12:15:41.132297Z"
    },
    "scrolled": true
   },
   "outputs": [
    {
     "name": "stdout",
     "output_type": "stream",
     "text": [
      "Processed 100000 documents\n",
      "Processed 200000 documents\n",
      "Processed 300000 documents\n",
      "Processed 400000 documents\n",
      "Processed 500000 documents\n",
      "Processed 600000 documents\n",
      "Processed 700000 documents\n",
      "Processed 800000 documents\n",
      "Processed 900000 documents\n",
      "Processed 1000000 documents\n",
      "Processed 1100000 documents\n",
      "Processed 1200000 documents\n",
      "Processed 1300000 documents\n",
      "Processed 1400000 documents\n",
      "Processed 1500000 documents\n",
      "Processed 1600000 documents\n",
      "Processed 1700000 documents\n",
      "Processed 1800000 documents\n",
      "Processed 1900000 documents\n",
      "Processed 2000000 documents\n",
      "Processed 2100000 documents\n",
      "Processed 2200000 documents\n",
      "Processed 2300000 documents\n",
      "Processed 2400000 documents\n",
      "Processed 2500000 documents\n",
      "Processed 2600000 documents\n",
      "Processed 2700000 documents\n",
      "Processed 2800000 documents\n",
      "Processed 2900000 documents\n",
      "Processed 3000000 documents\n",
      "Processed 3100000 documents\n",
      "Processed 3200000 documents\n",
      "Processed 3300000 documents\n",
      "Processed 3400000 documents\n",
      "Processed 3500000 documents\n",
      "Processed 3600000 documents\n",
      "Processed 3700000 documents\n"
     ]
    }
   ],
   "source": [
    "with open('../../data/haber-P1_S1_L1.txt', 'r') as f:\n",
    "    for line in f:\n",
    "        words = line.strip().split()\n",
    "        idf_counter.add_doc(words)"
   ]
  },
  {
   "cell_type": "code",
   "execution_count": 10,
   "metadata": {
    "ExecuteTime": {
     "end_time": "2019-03-05T12:19:33.673047Z",
     "start_time": "2019-03-05T12:19:29.673390Z"
    }
   },
   "outputs": [],
   "source": [
    "idf_counter.set_idfs()"
   ]
  },
  {
   "cell_type": "code",
   "execution_count": 11,
   "metadata": {
    "ExecuteTime": {
     "end_time": "2019-03-05T12:19:37.344636Z",
     "start_time": "2019-03-05T12:19:37.339425Z"
    }
   },
   "outputs": [
    {
     "data": {
      "text/plain": [
       "3741375"
      ]
     },
     "execution_count": 11,
     "metadata": {},
     "output_type": "execute_result"
    }
   ],
   "source": [
    "idf_counter.N"
   ]
  },
  {
   "cell_type": "code",
   "execution_count": 12,
   "metadata": {
    "ExecuteTime": {
     "end_time": "2019-03-05T12:19:37.610619Z",
     "start_time": "2019-03-05T12:19:37.603019Z"
    }
   },
   "outputs": [
    {
     "data": {
      "text/plain": [
       "3113574"
      ]
     },
     "execution_count": 12,
     "metadata": {},
     "output_type": "execute_result"
    }
   ],
   "source": [
    "len(idf_counter.idfs)"
   ]
  },
  {
   "cell_type": "code",
   "execution_count": 13,
   "metadata": {
    "ExecuteTime": {
     "end_time": "2019-03-05T12:19:38.529664Z",
     "start_time": "2019-03-05T12:19:37.974010Z"
    }
   },
   "outputs": [],
   "source": [
    "idfs_values = np.array(list(idf_counter.idfs.values()))\n",
    "max_idf = np.max(idfs_values)\n",
    "idf_dict = defaultdict(lambda: max_idf, idf_counter.idfs)"
   ]
  },
  {
   "cell_type": "code",
   "execution_count": 14,
   "metadata": {
    "ExecuteTime": {
     "end_time": "2019-03-05T12:19:40.740837Z",
     "start_time": "2019-03-05T12:19:40.730211Z"
    }
   },
   "outputs": [],
   "source": [
    "def get_idf_w2v(words):\n",
    "    idfs = []\n",
    "    for word in words:\n",
    "        if word in model_w2v.wv.vocab:\n",
    "            idfs.append(idf_dict[word])\n",
    "            \n",
    "    if len(idfs) == 0:\n",
    "        return np.array([1.]).reshape(-1,1)\n",
    "    else:\n",
    "        return np.array(idfs).reshape(-1,1)"
   ]
  },
  {
   "cell_type": "code",
   "execution_count": 15,
   "metadata": {
    "ExecuteTime": {
     "end_time": "2019-03-05T12:19:41.582755Z",
     "start_time": "2019-03-05T12:19:41.161406Z"
    }
   },
   "outputs": [],
   "source": [
    "for field in fields:\n",
    "    df_news[field+'_idfs_ft'] = df_news[field+'_pp'].apply(lambda x: np.array([idf_dict[word] for word in x]).reshape(-1,1))\n",
    "    df_news[field+'_idfs_wv'] = df_news[field+'_pp'].apply(get_idf_w2v)"
   ]
  },
  {
   "cell_type": "code",
   "execution_count": null,
   "metadata": {},
   "outputs": [],
   "source": []
  },
  {
   "cell_type": "code",
   "execution_count": 16,
   "metadata": {
    "ExecuteTime": {
     "end_time": "2019-03-05T12:19:48.421296Z",
     "start_time": "2019-03-05T12:19:48.415377Z"
    }
   },
   "outputs": [],
   "source": [
    "methods = ['kenter_wv', 'kenter_ft', 'idf_wv', 'idf_ft']"
   ]
  },
  {
   "cell_type": "code",
   "execution_count": 17,
   "metadata": {
    "ExecuteTime": {
     "end_time": "2019-03-05T12:19:48.926805Z",
     "start_time": "2019-03-05T12:19:48.917797Z"
    }
   },
   "outputs": [],
   "source": [
    "methods_cross = [met + '_' + field for met in methods for field in fields]"
   ]
  },
  {
   "cell_type": "code",
   "execution_count": 18,
   "metadata": {
    "ExecuteTime": {
     "end_time": "2019-03-05T12:19:50.726383Z",
     "start_time": "2019-03-05T12:19:50.713033Z"
    }
   },
   "outputs": [],
   "source": [
    "def get_w2v_matrix(words_now):\n",
    "    \n",
    "    vecs = []\n",
    "    \n",
    "    for word in words_now:\n",
    "        if word in model_w2v.wv.vocab:\n",
    "            vecs.append(model_w2v.wv.word_vec(word).reshape(1,-1))\n",
    "    if len(vecs) == 0:\n",
    "        return np.ones((1,100)) / 10\n",
    "    else:\n",
    "        res = np.concatenate(vecs, axis=0)\n",
    "        return res / np.sqrt((res**2).sum(axis=1, keepdims=True))"
   ]
  },
  {
   "cell_type": "code",
   "execution_count": 19,
   "metadata": {
    "ExecuteTime": {
     "end_time": "2019-03-05T12:19:51.117151Z",
     "start_time": "2019-03-05T12:19:51.110141Z"
    }
   },
   "outputs": [],
   "source": [
    "def get_ft_matrix(words_now):\n",
    "    \n",
    "    if len(words_now) == 0:\n",
    "        return np.ones((1,100)) / 10\n",
    "    \n",
    "    res = np.concatenate([ftmodel.get_word_vector(word).reshape(1,-1) for word in words_now], axis=0)\n",
    "    return res / np.sqrt((res**2).sum(axis=1, keepdims=True))"
   ]
  },
  {
   "cell_type": "code",
   "execution_count": 20,
   "metadata": {
    "ExecuteTime": {
     "end_time": "2019-03-05T12:19:57.920071Z",
     "start_time": "2019-03-05T12:19:52.317110Z"
    }
   },
   "outputs": [],
   "source": [
    "for field in fields:\n",
    "    df_news[field + '_pp_ft_mat'] = df_news[field + '_pp'].apply(get_ft_matrix)\n",
    "    df_news[field + '_pp_wv_mat'] = df_news[field + '_pp'].apply(get_w2v_matrix)"
   ]
  },
  {
   "cell_type": "code",
   "execution_count": 56,
   "metadata": {
    "ExecuteTime": {
     "end_time": "2019-03-05T12:31:05.002017Z",
     "start_time": "2019-03-05T12:31:04.985251Z"
    }
   },
   "outputs": [],
   "source": [
    "k1 = 2\n",
    "b = 0.75\n",
    "av_len = {field: df_news[field + '_pp'].apply(len).mean() for field in fields} "
   ]
  },
  {
   "cell_type": "code",
   "execution_count": 75,
   "metadata": {
    "ExecuteTime": {
     "end_time": "2019-03-05T12:37:46.218984Z",
     "start_time": "2019-03-05T12:37:46.215733Z"
    }
   },
   "outputs": [],
   "source": [
    "ks = [0.8,1,1.2,1.5,2,2.5,5]\n",
    "bs = [0.2, 0.5, 0.75, 0.9, 1]"
   ]
  },
  {
   "cell_type": "code",
   "execution_count": 129,
   "metadata": {
    "ExecuteTime": {
     "end_time": "2019-03-07T11:15:08.495693Z",
     "start_time": "2019-03-07T11:15:08.490906Z"
    }
   },
   "outputs": [],
   "source": [
    "ks = [5, 10, 20, 50]\n",
    "bs = [0, 0.001, 0.01, 0.1, 0.2]"
   ]
  },
  {
   "cell_type": "code",
   "execution_count": 130,
   "metadata": {
    "ExecuteTime": {
     "end_time": "2019-03-07T11:29:29.577905Z",
     "start_time": "2019-03-07T11:15:12.497349Z"
    }
   },
   "outputs": [
    {
     "name": "stdout",
     "output_type": "stream",
     "text": [
      "title\n",
      "spot\n",
      "text\n"
     ]
    }
   ],
   "source": [
    "for field in fields:\n",
    "    \n",
    "    print(field)\n",
    "    \n",
    "    ds_lens = df_news[field + '_pp'].apply(len)\n",
    "    ds_ft = df_news[field + '_pp_ft_mat']\n",
    "    ds_wv = df_news[field + '_pp_wv_mat']\n",
    "    ds_idf_ft = df_news[field+'_idfs_ft']\n",
    "    ds_idf_wv = df_news[field+'_idfs_wv']\n",
    "    \n",
    "    for index, row in df_comparisons.iterrows():\n",
    "        \n",
    "        ind0 = int(row.ind0)\n",
    "        ind1 = int(row.ind1)\n",
    "        \n",
    "        if ds_lens.iloc[ind1] == 0 or ds_lens.iloc[ind0] == 0:\n",
    "            \n",
    "            res_wv = {'k_'+str(k)+'_b_'+str(b): None for b in bs for k in ks}\n",
    "            res_ft = {'k_'+str(k)+'_b_'+str(b): None for b in bs for k in ks}\n",
    "            res_wv_idfonly = None\n",
    "            res_ft_idfonly = None\n",
    "        \n",
    "        else:\n",
    "        \n",
    "            if ds_lens.iloc[ind1] > ds_lens.iloc[ind0]:\n",
    "                tmp = ind1\n",
    "                ind1 = ind0\n",
    "                ind0 = tmp\n",
    "\n",
    "            mat_wv_l = ds_wv.iloc[ind0]\n",
    "            mat_wv_s = ds_wv.iloc[ind1]\n",
    "\n",
    "            mat_ft_l = ds_ft.iloc[ind0]\n",
    "            mat_ft_s = ds_ft.iloc[ind1]\n",
    "\n",
    "            len_s = ds_lens.iloc[ind1]\n",
    "            idf_l_ft = ds_idf_ft.iloc[ind0]\n",
    "            idf_l_wv = ds_idf_wv.iloc[ind0]\n",
    "\n",
    "            cos_wv = mat_wv_l @ mat_wv_s.transpose()\n",
    "            cos_ft = mat_ft_l @ mat_ft_s.transpose()\n",
    "\n",
    "            max_cos_wv = cos_wv.max(axis=1, keepdims=True)\n",
    "            max_cos_ft = cos_ft.max(axis=1, keepdims=True)\n",
    "            \n",
    "            res_wv = {}\n",
    "            res_ft = {}\n",
    "            \n",
    "            for k1 in ks:\n",
    "                for b in bs:\n",
    "                    res_wv['k_'+str(k1)+'_b_'+str(b)] = np.mean(idf_l_wv * max_cos_wv * (k1 + 1) / (max_cos_wv + k1 * (1-b+b*len_s / av_len[field]) ))\n",
    "                    res_ft['k_'+str(k1)+'_b_'+str(b)] = np.mean(idf_l_ft * max_cos_ft * (k1 + 1) / (max_cos_ft + k1 * (1-b+b*len_s / av_len[field]) ))\n",
    "            \n",
    "            res_wv_idfonly = np.mean(idf_l_wv * max_cos_wv)\n",
    "            res_ft_idfonly = np.mean(idf_l_ft * max_cos_ft)\n",
    "        \n",
    "        for k1 in ks:\n",
    "            for b in bs:\n",
    "                optname = 'k_'+str(k1)+'_b_'+str(b)\n",
    "                df_comparisons.loc[index, 'kenter_wv_'+optname + '_' + field] = res_wv[optname]\n",
    "                df_comparisons.loc[index, 'kenter_ft_'+optname + '_' + field] = res_ft[optname]\n",
    "        \n",
    "        df_comparisons.loc[index, 'idf_wv_'+field] = res_wv_idfonly\n",
    "        df_comparisons.loc[index, 'idf_ft_'+field] = res_ft_idfonly"
   ]
  },
  {
   "cell_type": "code",
   "execution_count": 131,
   "metadata": {
    "ExecuteTime": {
     "end_time": "2019-03-07T11:31:17.101290Z",
     "start_time": "2019-03-07T11:31:17.091842Z"
    }
   },
   "outputs": [],
   "source": [
    "def prec_recall(tp, fp, fn):\n",
    "\n",
    "    return float(tp / (tp + fp)), float(tp / (tp + fn))\n",
    "\n",
    "def find_eacc(labels_now, preds_now):\n",
    "    \n",
    "    labels_now = labels_now.flatten()\n",
    "    preds_now = preds_now.flatten()\n",
    "    \n",
    "    precs, recalls, thresholds = precision_recall_curve(labels_now, preds_now)\n",
    "    \n",
    "    indnow = np.argmin(np.abs(precs-recalls))\n",
    "    eacc = (precs[indnow] + recalls[indnow]) / 2\n",
    "    thr = thresholds[indnow]\n",
    "    \n",
    "    true_positive = np.logical_and(preds_now>=thr, labels_now==1).sum()\n",
    "    true_negative = np.logical_and(preds_now<thr, labels_now==0).sum()\n",
    "    false_positive = np.logical_and(preds_now>=thr, labels_now==0).sum()\n",
    "    false_negative = np.logical_and(preds_now<thr, labels_now==1).sum()\n",
    "    \n",
    "    precision, recall = prec_recall(true_positive, false_positive, false_negative)\n",
    "    \n",
    "    if recall == 0 and precision == 0:\n",
    "        f1 = 0\n",
    "    else:\n",
    "        f1 = 2*(recall * precision) / (recall + precision)\n",
    "    \n",
    "    out = dict(thr=thr,eacc=eacc, precision=precision, recall=recall, f1=f1,\n",
    "              tp=true_positive, tn=true_negative,\n",
    "               fp=false_positive, fn=false_negative,\n",
    "               precs=precs, recalls=recalls\n",
    "               )\n",
    "    \n",
    "    return out"
   ]
  },
  {
   "cell_type": "code",
   "execution_count": 132,
   "metadata": {
    "ExecuteTime": {
     "end_time": "2019-03-07T11:31:19.718297Z",
     "start_time": "2019-03-07T11:31:19.042068Z"
    }
   },
   "outputs": [
    {
     "data": {
      "image/png": "[encoded data removed]",
      "text/html": [
       "\n",
       "\n",
       "<style>\n",
       "\n",
       "</style>\n",
       "\n",
       "<div id=\"fig_el146691404154373583601556773457\"></div>\n",
       "<script>\n",
       "function mpld3_load_lib(url, callback){\n",
       "  var s = document.createElement('script');\n",
       "  s.src = url;\n",
       "  s.async = true;\n",
       "  s.onreadystatechange = s.onload = callback;\n",
       "  s.onerror = function(){console.warn(\"failed to load library \" + url);};\n",
       "  document.getElementsByTagName(\"head\")[0].appendChild(s);\n",
       "}\n",
       "\n",
       "if(typeof(mpld3) !== \"undefined\" && mpld3._mpld3IsLoaded){\n",
       "   // already loaded: just create the figure\n",
       "   !function(mpld3){\n",
       "       \n",
       "       mpld3.draw_figure(\"fig_el146691404154373583601556773457\", {\"width\": 432.0, \"height\": 288.0, \"axes\": [{\"bbox\": [0.125, 0.125, 0.775, 0.755], \"xlim\": [-11.0, 11.0], \"ylim\": [0.0, 1750.35], \"xdomain\": [-11.0, 11.0], \"ydomain\": [0.0, 1750.35], \"xscale\": \"linear\", \"yscale\": \"linear\", \"axes\": [{\"position\": \"bottom\", \"nticks\": 11, \"tickvalues\": null, \"tickformat\": null, \"scale\": \"linear\", \"fontsize\": 10.0, \"grid\": {\"gridOn\": true, \"color\": \"#B0B0B0\", \"dasharray\": \"none\", \"alpha\": 1.0}, \"visible\": true}, {\"position\": \"left\", \"nticks\": 10, \"tickvalues\": null, \"tickformat\": null, \"scale\": \"linear\", \"fontsize\": 10.0, \"grid\": {\"gridOn\": true, \"color\": \"#B0B0B0\", \"dasharray\": \"none\", \"alpha\": 1.0}, \"visible\": true}], \"axesbg\": \"#FFFFFF\", \"axesbgalpha\": null, \"zoomable\": true, \"id\": \"el14669140415437359480\", \"lines\": [], \"paths\": [{\"data\": \"data01\", \"xindex\": 0, \"yindex\": 1, \"coordinates\": \"data\", \"pathcodes\": [\"M\", \"L\", \"L\", \"L\", \"Z\"], \"id\": \"el14669140415437765264\", \"dasharray\": \"none\", \"alpha\": 1, \"facecolor\": \"#1F77B4\", \"edgecolor\": \"none\", \"edgewidth\": 1.0, \"zorder\": 1}, {\"data\": \"data01\", \"xindex\": 2, \"yindex\": 1, \"coordinates\": \"data\", \"pathcodes\": [\"M\", \"L\", \"L\", \"L\", \"Z\"], \"id\": \"el14669140415437764592\", \"dasharray\": \"none\", \"alpha\": 1, \"facecolor\": \"#1F77B4\", \"edgecolor\": \"none\", \"edgewidth\": 1.0, \"zorder\": 1}, {\"data\": \"data01\", \"xindex\": 3, \"yindex\": 1, \"coordinates\": \"data\", \"pathcodes\": [\"M\", \"L\", \"L\", \"L\", \"Z\"], \"id\": \"el14669140415448795232\", \"dasharray\": \"none\", \"alpha\": 1, \"facecolor\": \"#1F77B4\", \"edgecolor\": \"none\", \"edgewidth\": 1.0, \"zorder\": 1}, {\"data\": \"data01\", \"xindex\": 4, \"yindex\": 1, \"coordinates\": \"data\", \"pathcodes\": [\"M\", \"L\", \"L\", \"L\", \"Z\"], \"id\": \"el14669140415436727464\", \"dasharray\": \"none\", \"alpha\": 1, \"facecolor\": \"#1F77B4\", \"edgecolor\": \"none\", \"edgewidth\": 1.0, \"zorder\": 1}, {\"data\": \"data01\", \"xindex\": 5, \"yindex\": 1, \"coordinates\": \"data\", \"pathcodes\": [\"M\", \"L\", \"L\", \"L\", \"Z\"], \"id\": \"el14669140415436726624\", \"dasharray\": \"none\", \"alpha\": 1, \"facecolor\": \"#1F77B4\", \"edgecolor\": \"none\", \"edgewidth\": 1.0, \"zorder\": 1}, {\"data\": \"data01\", \"xindex\": 6, \"yindex\": 1, \"coordinates\": \"data\", \"pathcodes\": [\"M\", \"L\", \"L\", \"L\", \"Z\"], \"id\": \"el14669140415436705352\", \"dasharray\": \"none\", \"alpha\": 1, \"facecolor\": \"#1F77B4\", \"edgecolor\": \"none\", \"edgewidth\": 1.0, \"zorder\": 1}, {\"data\": \"data01\", \"xindex\": 7, \"yindex\": 1, \"coordinates\": \"data\", \"pathcodes\": [\"M\", \"L\", \"L\", \"L\", \"Z\"], \"id\": \"el14669140415436704512\", \"dasharray\": \"none\", \"alpha\": 1, \"facecolor\": \"#1F77B4\", \"edgecolor\": \"none\", \"edgewidth\": 1.0, \"zorder\": 1}, {\"data\": \"data01\", \"xindex\": 8, \"yindex\": 1, \"coordinates\": \"data\", \"pathcodes\": [\"M\", \"L\", \"L\", \"L\", \"Z\"], \"id\": \"el14669140415436703672\", \"dasharray\": \"none\", \"alpha\": 1, \"facecolor\": \"#1F77B4\", \"edgecolor\": \"none\", \"edgewidth\": 1.0, \"zorder\": 1}, {\"data\": \"data01\", \"xindex\": 9, \"yindex\": 1, \"coordinates\": \"data\", \"pathcodes\": [\"M\", \"L\", \"L\", \"L\", \"Z\"], \"id\": \"el14669140415453082512\", \"dasharray\": \"none\", \"alpha\": 1, \"facecolor\": \"#1F77B4\", \"edgecolor\": \"none\", \"edgewidth\": 1.0, \"zorder\": 1}, {\"data\": \"data01\", \"xindex\": 10, \"yindex\": 1, \"coordinates\": \"data\", \"pathcodes\": [\"M\", \"L\", \"L\", \"L\", \"Z\"], \"id\": \"el14669140415437735808\", \"dasharray\": \"none\", \"alpha\": 1, \"facecolor\": \"#1F77B4\", \"edgecolor\": \"none\", \"edgewidth\": 1.0, \"zorder\": 1}, {\"data\": \"data01\", \"xindex\": 11, \"yindex\": 1, \"coordinates\": \"data\", \"pathcodes\": [\"M\", \"L\", \"L\", \"L\", \"Z\"], \"id\": \"el14669140415437734968\", \"dasharray\": \"none\", \"alpha\": 1, \"facecolor\": \"#1F77B4\", \"edgecolor\": \"none\", \"edgewidth\": 1.0, \"zorder\": 1}, {\"data\": \"data01\", \"xindex\": 12, \"yindex\": 1, \"coordinates\": \"data\", \"pathcodes\": [\"M\", \"L\", \"L\", \"L\", \"Z\"], \"id\": \"el14669140415437734128\", \"dasharray\": \"none\", \"alpha\": 1, \"facecolor\": \"#1F77B4\", \"edgecolor\": \"none\", \"edgewidth\": 1.0, \"zorder\": 1}, {\"data\": \"data01\", \"xindex\": 13, \"yindex\": 1, \"coordinates\": \"data\", \"pathcodes\": [\"M\", \"L\", \"L\", \"L\", \"Z\"], \"id\": \"el14669140415437704664\", \"dasharray\": \"none\", \"alpha\": 1, \"facecolor\": \"#1F77B4\", \"edgecolor\": \"none\", \"edgewidth\": 1.0, \"zorder\": 1}, {\"data\": \"data01\", \"xindex\": 14, \"yindex\": 1, \"coordinates\": \"data\", \"pathcodes\": [\"M\", \"L\", \"L\", \"L\", \"Z\"], \"id\": \"el14669140415437703824\", \"dasharray\": \"none\", \"alpha\": 1, \"facecolor\": \"#1F77B4\", \"edgecolor\": \"none\", \"edgewidth\": 1.0, \"zorder\": 1}, {\"data\": \"data01\", \"xindex\": 15, \"yindex\": 1, \"coordinates\": \"data\", \"pathcodes\": [\"M\", \"L\", \"L\", \"L\", \"Z\"], \"id\": \"el14669140415440392824\", \"dasharray\": \"none\", \"alpha\": 1, \"facecolor\": \"#1F77B4\", \"edgecolor\": \"none\", \"edgewidth\": 1.0, \"zorder\": 1}, {\"data\": \"data01\", \"xindex\": 16, \"yindex\": 1, \"coordinates\": \"data\", \"pathcodes\": [\"M\", \"L\", \"L\", \"L\", \"Z\"], \"id\": \"el14669140415437651416\", \"dasharray\": \"none\", \"alpha\": 1, \"facecolor\": \"#1F77B4\", \"edgecolor\": \"none\", \"edgewidth\": 1.0, \"zorder\": 1}, {\"data\": \"data01\", \"xindex\": 17, \"yindex\": 1, \"coordinates\": \"data\", \"pathcodes\": [\"M\", \"L\", \"L\", \"L\", \"Z\"], \"id\": \"el14669140415437650576\", \"dasharray\": \"none\", \"alpha\": 1, \"facecolor\": \"#1F77B4\", \"edgecolor\": \"none\", \"edgewidth\": 1.0, \"zorder\": 1}, {\"data\": \"data01\", \"xindex\": 18, \"yindex\": 1, \"coordinates\": \"data\", \"pathcodes\": [\"M\", \"L\", \"L\", \"L\", \"Z\"], \"id\": \"el14669140415454644152\", \"dasharray\": \"none\", \"alpha\": 1, \"facecolor\": \"#1F77B4\", \"edgecolor\": \"none\", \"edgewidth\": 1.0, \"zorder\": 1}, {\"data\": \"data01\", \"xindex\": 19, \"yindex\": 1, \"coordinates\": \"data\", \"pathcodes\": [\"M\", \"L\", \"L\", \"L\", \"Z\"], \"id\": \"el14669140415437915136\", \"dasharray\": \"none\", \"alpha\": 1, \"facecolor\": \"#1F77B4\", \"edgecolor\": \"none\", \"edgewidth\": 1.0, \"zorder\": 1}, {\"data\": \"data01\", \"xindex\": 20, \"yindex\": 1, \"coordinates\": \"data\", \"pathcodes\": [\"M\", \"L\", \"L\", \"L\", \"Z\"], \"id\": \"el14669140415437914184\", \"dasharray\": \"none\", \"alpha\": 1, \"facecolor\": \"#1F77B4\", \"edgecolor\": \"none\", \"edgewidth\": 1.0, \"zorder\": 1}, {\"data\": \"data01\", \"xindex\": 21, \"yindex\": 1, \"coordinates\": \"data\", \"pathcodes\": [\"M\", \"L\", \"L\", \"L\", \"Z\"], \"id\": \"el14669140415437647656\", \"dasharray\": \"none\", \"alpha\": 1, \"facecolor\": \"#1F77B4\", \"edgecolor\": \"none\", \"edgewidth\": 1.0, \"zorder\": 1}, {\"data\": \"data01\", \"xindex\": 22, \"yindex\": 1, \"coordinates\": \"data\", \"pathcodes\": [\"M\", \"L\", \"L\", \"L\", \"Z\"], \"id\": \"el14669140415437540656\", \"dasharray\": \"none\", \"alpha\": 1, \"facecolor\": \"#1F77B4\", \"edgecolor\": \"none\", \"edgewidth\": 1.0, \"zorder\": 1}, {\"data\": \"data01\", \"xindex\": 23, \"yindex\": 1, \"coordinates\": \"data\", \"pathcodes\": [\"M\", \"L\", \"L\", \"L\", \"Z\"], \"id\": \"el14669140415437762632\", \"dasharray\": \"none\", \"alpha\": 1, \"facecolor\": \"#1F77B4\", \"edgecolor\": \"none\", \"edgewidth\": 1.0, \"zorder\": 1}, {\"data\": \"data01\", \"xindex\": 24, \"yindex\": 1, \"coordinates\": \"data\", \"pathcodes\": [\"M\", \"L\", \"L\", \"L\", \"Z\"], \"id\": \"el14669140415437762744\", \"dasharray\": \"none\", \"alpha\": 1, \"facecolor\": \"#1F77B4\", \"edgecolor\": \"none\", \"edgewidth\": 1.0, \"zorder\": 1}, {\"data\": \"data01\", \"xindex\": 25, \"yindex\": 1, \"coordinates\": \"data\", \"pathcodes\": [\"M\", \"L\", \"L\", \"L\", \"Z\"], \"id\": \"el14669140415437694904\", \"dasharray\": \"none\", \"alpha\": 1, \"facecolor\": \"#1F77B4\", \"edgecolor\": \"none\", \"edgewidth\": 1.0, \"zorder\": 1}, {\"data\": \"data01\", \"xindex\": 26, \"yindex\": 1, \"coordinates\": \"data\", \"pathcodes\": [\"M\", \"L\", \"L\", \"L\", \"Z\"], \"id\": \"el14669140415437694064\", \"dasharray\": \"none\", \"alpha\": 1, \"facecolor\": \"#1F77B4\", \"edgecolor\": \"none\", \"edgewidth\": 1.0, \"zorder\": 1}, {\"data\": \"data01\", \"xindex\": 27, \"yindex\": 1, \"coordinates\": \"data\", \"pathcodes\": [\"M\", \"L\", \"L\", \"L\", \"Z\"], \"id\": \"el14669140415437693224\", \"dasharray\": \"none\", \"alpha\": 1, \"facecolor\": \"#1F77B4\", \"edgecolor\": \"none\", \"edgewidth\": 1.0, \"zorder\": 1}, {\"data\": \"data01\", \"xindex\": 28, \"yindex\": 1, \"coordinates\": \"data\", \"pathcodes\": [\"M\", \"L\", \"L\", \"L\", \"Z\"], \"id\": \"el14669140415437696472\", \"dasharray\": \"none\", \"alpha\": 1, \"facecolor\": \"#1F77B4\", \"edgecolor\": \"none\", \"edgewidth\": 1.0, \"zorder\": 1}, {\"data\": \"data01\", \"xindex\": 29, \"yindex\": 1, \"coordinates\": \"data\", \"pathcodes\": [\"M\", \"L\", \"L\", \"L\", \"Z\"], \"id\": \"el14669140415446862592\", \"dasharray\": \"none\", \"alpha\": 1, \"facecolor\": \"#1F77B4\", \"edgecolor\": \"none\", \"edgewidth\": 1.0, \"zorder\": 1}, {\"data\": \"data01\", \"xindex\": 30, \"yindex\": 1, \"coordinates\": \"data\", \"pathcodes\": [\"M\", \"L\", \"L\", \"L\", \"Z\"], \"id\": \"el14669140415446901592\", \"dasharray\": \"none\", \"alpha\": 1, \"facecolor\": \"#1F77B4\", \"edgecolor\": \"none\", \"edgewidth\": 1.0, \"zorder\": 1}, {\"data\": \"data01\", \"xindex\": 31, \"yindex\": 1, \"coordinates\": \"data\", \"pathcodes\": [\"M\", \"L\", \"L\", \"L\", \"Z\"], \"id\": \"el14669140415450906240\", \"dasharray\": \"none\", \"alpha\": 1, \"facecolor\": \"#1F77B4\", \"edgecolor\": \"none\", \"edgewidth\": 1.0, \"zorder\": 1}, {\"data\": \"data01\", \"xindex\": 32, \"yindex\": 1, \"coordinates\": \"data\", \"pathcodes\": [\"M\", \"L\", \"L\", \"L\", \"Z\"], \"id\": \"el14669140415450734488\", \"dasharray\": \"none\", \"alpha\": 1, \"facecolor\": \"#1F77B4\", \"edgecolor\": \"none\", \"edgewidth\": 1.0, \"zorder\": 1}, {\"data\": \"data01\", \"xindex\": 33, \"yindex\": 1, \"coordinates\": \"data\", \"pathcodes\": [\"M\", \"L\", \"L\", \"L\", \"Z\"], \"id\": \"el14669140415450733760\", \"dasharray\": \"none\", \"alpha\": 1, \"facecolor\": \"#1F77B4\", \"edgecolor\": \"none\", \"edgewidth\": 1.0, \"zorder\": 1}, {\"data\": \"data01\", \"xindex\": 34, \"yindex\": 1, \"coordinates\": \"data\", \"pathcodes\": [\"M\", \"L\", \"L\", \"L\", \"Z\"], \"id\": \"el14669140415450732080\", \"dasharray\": \"none\", \"alpha\": 1, \"facecolor\": \"#1F77B4\", \"edgecolor\": \"none\", \"edgewidth\": 1.0, \"zorder\": 1}, {\"data\": \"data01\", \"xindex\": 35, \"yindex\": 1, \"coordinates\": \"data\", \"pathcodes\": [\"M\", \"L\", \"L\", \"L\", \"Z\"], \"id\": \"el14669140415450732584\", \"dasharray\": \"none\", \"alpha\": 1, \"facecolor\": \"#1F77B4\", \"edgecolor\": \"none\", \"edgewidth\": 1.0, \"zorder\": 1}, {\"data\": \"data01\", \"xindex\": 36, \"yindex\": 1, \"coordinates\": \"data\", \"pathcodes\": [\"M\", \"L\", \"L\", \"L\", \"Z\"], \"id\": \"el14669140418589123752\", \"dasharray\": \"none\", \"alpha\": 1, \"facecolor\": \"#1F77B4\", \"edgecolor\": \"none\", \"edgewidth\": 1.0, \"zorder\": 1}, {\"data\": \"data01\", \"xindex\": 37, \"yindex\": 1, \"coordinates\": \"data\", \"pathcodes\": [\"M\", \"L\", \"L\", \"L\", \"Z\"], \"id\": \"el14669140418589125544\", \"dasharray\": \"none\", \"alpha\": 1, \"facecolor\": \"#1F77B4\", \"edgecolor\": \"none\", \"edgewidth\": 1.0, \"zorder\": 1}, {\"data\": \"data01\", \"xindex\": 38, \"yindex\": 1, \"coordinates\": \"data\", \"pathcodes\": [\"M\", \"L\", \"L\", \"L\", \"Z\"], \"id\": \"el14669140418589125376\", \"dasharray\": \"none\", \"alpha\": 1, \"facecolor\": \"#1F77B4\", \"edgecolor\": \"none\", \"edgewidth\": 1.0, \"zorder\": 1}, {\"data\": \"data01\", \"xindex\": 39, \"yindex\": 1, \"coordinates\": \"data\", \"pathcodes\": [\"M\", \"L\", \"L\", \"L\", \"Z\"], \"id\": \"el14669140415443275728\", \"dasharray\": \"none\", \"alpha\": 1, \"facecolor\": \"#1F77B4\", \"edgecolor\": \"none\", \"edgewidth\": 1.0, \"zorder\": 1}, {\"data\": \"data01\", \"xindex\": 40, \"yindex\": 1, \"coordinates\": \"data\", \"pathcodes\": [\"M\", \"L\", \"L\", \"L\", \"Z\"], \"id\": \"el14669140415435936264\", \"dasharray\": \"none\", \"alpha\": 1, \"facecolor\": \"#1F77B4\", \"edgecolor\": \"none\", \"edgewidth\": 1.0, \"zorder\": 1}, {\"data\": \"data01\", \"xindex\": 41, \"yindex\": 1, \"coordinates\": \"data\", \"pathcodes\": [\"M\", \"L\", \"L\", \"L\", \"Z\"], \"id\": \"el14669140415435937104\", \"dasharray\": \"none\", \"alpha\": 1, \"facecolor\": \"#1F77B4\", \"edgecolor\": \"none\", \"edgewidth\": 1.0, \"zorder\": 1}, {\"data\": \"data01\", \"xindex\": 42, \"yindex\": 1, \"coordinates\": \"data\", \"pathcodes\": [\"M\", \"L\", \"L\", \"L\", \"Z\"], \"id\": \"el14669140415435937944\", \"dasharray\": \"none\", \"alpha\": 1, \"facecolor\": \"#1F77B4\", \"edgecolor\": \"none\", \"edgewidth\": 1.0, \"zorder\": 1}, {\"data\": \"data01\", \"xindex\": 43, \"yindex\": 1, \"coordinates\": \"data\", \"pathcodes\": [\"M\", \"L\", \"L\", \"L\", \"Z\"], \"id\": \"el14669140415435938784\", \"dasharray\": \"none\", \"alpha\": 1, \"facecolor\": \"#1F77B4\", \"edgecolor\": \"none\", \"edgewidth\": 1.0, \"zorder\": 1}, {\"data\": \"data01\", \"xindex\": 44, \"yindex\": 1, \"coordinates\": \"data\", \"pathcodes\": [\"M\", \"L\", \"L\", \"L\", \"Z\"], \"id\": \"el14669140415435939624\", \"dasharray\": \"none\", \"alpha\": 1, \"facecolor\": \"#1F77B4\", \"edgecolor\": \"none\", \"edgewidth\": 1.0, \"zorder\": 1}, {\"data\": \"data01\", \"xindex\": 45, \"yindex\": 1, \"coordinates\": \"data\", \"pathcodes\": [\"M\", \"L\", \"L\", \"L\", \"Z\"], \"id\": \"el14669140415436014256\", \"dasharray\": \"none\", \"alpha\": 1, \"facecolor\": \"#1F77B4\", \"edgecolor\": \"none\", \"edgewidth\": 1.0, \"zorder\": 1}, {\"data\": \"data01\", \"xindex\": 46, \"yindex\": 1, \"coordinates\": \"data\", \"pathcodes\": [\"M\", \"L\", \"L\", \"L\", \"Z\"], \"id\": \"el14669140415436015096\", \"dasharray\": \"none\", \"alpha\": 1, \"facecolor\": \"#1F77B4\", \"edgecolor\": \"none\", \"edgewidth\": 1.0, \"zorder\": 1}, {\"data\": \"data01\", \"xindex\": 47, \"yindex\": 1, \"coordinates\": \"data\", \"pathcodes\": [\"M\", \"L\", \"L\", \"L\", \"Z\"], \"id\": \"el14669140415436015936\", \"dasharray\": \"none\", \"alpha\": 1, \"facecolor\": \"#1F77B4\", \"edgecolor\": \"none\", \"edgewidth\": 1.0, \"zorder\": 1}, {\"data\": \"data01\", \"xindex\": 48, \"yindex\": 1, \"coordinates\": \"data\", \"pathcodes\": [\"M\", \"L\", \"L\", \"L\", \"Z\"], \"id\": \"el14669140415436016776\", \"dasharray\": \"none\", \"alpha\": 1, \"facecolor\": \"#1F77B4\", \"edgecolor\": \"none\", \"edgewidth\": 1.0, \"zorder\": 1}, {\"data\": \"data01\", \"xindex\": 49, \"yindex\": 1, \"coordinates\": \"data\", \"pathcodes\": [\"M\", \"L\", \"L\", \"L\", \"Z\"], \"id\": \"el14669140415436017616\", \"dasharray\": \"none\", \"alpha\": 1, \"facecolor\": \"#1F77B4\", \"edgecolor\": \"none\", \"edgewidth\": 1.0, \"zorder\": 1}, {\"data\": \"data01\", \"xindex\": 50, \"yindex\": 1, \"coordinates\": \"data\", \"pathcodes\": [\"M\", \"L\", \"L\", \"L\", \"Z\"], \"id\": \"el14669140415436084056\", \"dasharray\": \"none\", \"alpha\": 1, \"facecolor\": \"#1F77B4\", \"edgecolor\": \"none\", \"edgewidth\": 1.0, \"zorder\": 1}, {\"data\": \"data01\", \"xindex\": 51, \"yindex\": 1, \"coordinates\": \"data\", \"pathcodes\": [\"M\", \"L\", \"L\", \"L\", \"Z\"], \"id\": \"el14669140415436084896\", \"dasharray\": \"none\", \"alpha\": 1, \"facecolor\": \"#1F77B4\", \"edgecolor\": \"none\", \"edgewidth\": 1.0, \"zorder\": 1}, {\"data\": \"data01\", \"xindex\": 52, \"yindex\": 1, \"coordinates\": \"data\", \"pathcodes\": [\"M\", \"L\", \"L\", \"L\", \"Z\"], \"id\": \"el14669140415436085736\", \"dasharray\": \"none\", \"alpha\": 1, \"facecolor\": \"#1F77B4\", \"edgecolor\": \"none\", \"edgewidth\": 1.0, \"zorder\": 1}, {\"data\": \"data01\", \"xindex\": 53, \"yindex\": 1, \"coordinates\": \"data\", \"pathcodes\": [\"M\", \"L\", \"L\", \"L\", \"Z\"], \"id\": \"el14669140415436086576\", \"dasharray\": \"none\", \"alpha\": 1, \"facecolor\": \"#1F77B4\", \"edgecolor\": \"none\", \"edgewidth\": 1.0, \"zorder\": 1}, {\"data\": \"data01\", \"xindex\": 54, \"yindex\": 1, \"coordinates\": \"data\", \"pathcodes\": [\"M\", \"L\", \"L\", \"L\", \"Z\"], \"id\": \"el14669140415436861624\", \"dasharray\": \"none\", \"alpha\": 1, \"facecolor\": \"#1F77B4\", \"edgecolor\": \"none\", \"edgewidth\": 1.0, \"zorder\": 1}, {\"data\": \"data02\", \"xindex\": 0, \"yindex\": 1, \"coordinates\": \"data\", \"pathcodes\": [\"M\", \"L\", \"L\", \"L\", \"Z\"], \"id\": \"el14669140415436862464\", \"dasharray\": \"none\", \"alpha\": 1, \"facecolor\": \"#1F77B4\", \"edgecolor\": \"none\", \"edgewidth\": 1.0, \"zorder\": 1}, {\"data\": \"data03\", \"xindex\": 0, \"yindex\": 1, \"coordinates\": \"data\", \"pathcodes\": [\"M\", \"L\", \"L\", \"L\", \"Z\"], \"id\": \"el14669140415436863304\", \"dasharray\": \"none\", \"alpha\": 1, \"facecolor\": \"#1F77B4\", \"edgecolor\": \"none\", \"edgewidth\": 1.0, \"zorder\": 1}, {\"data\": \"data04\", \"xindex\": 0, \"yindex\": 1, \"coordinates\": \"data\", \"pathcodes\": [\"M\", \"L\", \"L\", \"L\", \"Z\"], \"id\": \"el14669140415436864144\", \"dasharray\": \"none\", \"alpha\": 1, \"facecolor\": \"#1F77B4\", \"edgecolor\": \"none\", \"edgewidth\": 1.0, \"zorder\": 1}, {\"data\": \"data05\", \"xindex\": 0, \"yindex\": 1, \"coordinates\": \"data\", \"pathcodes\": [\"M\", \"L\", \"L\", \"L\", \"Z\"], \"id\": \"el14669140415436864984\", \"dasharray\": \"none\", \"alpha\": 1, \"facecolor\": \"#1F77B4\", \"edgecolor\": \"none\", \"edgewidth\": 1.0, \"zorder\": 1}, {\"data\": \"data06\", \"xindex\": 0, \"yindex\": 1, \"coordinates\": \"data\", \"pathcodes\": [\"M\", \"L\", \"L\", \"L\", \"Z\"], \"id\": \"el14669140415436796256\", \"dasharray\": \"none\", \"alpha\": 1, \"facecolor\": \"#1F77B4\", \"edgecolor\": \"none\", \"edgewidth\": 1.0, \"zorder\": 1}, {\"data\": \"data07\", \"xindex\": 0, \"yindex\": 1, \"coordinates\": \"data\", \"pathcodes\": [\"M\", \"L\", \"L\", \"L\", \"Z\"], \"id\": \"el14669140415436797096\", \"dasharray\": \"none\", \"alpha\": 1, \"facecolor\": \"#1F77B4\", \"edgecolor\": \"none\", \"edgewidth\": 1.0, \"zorder\": 1}, {\"data\": \"data08\", \"xindex\": 0, \"yindex\": 1, \"coordinates\": \"data\", \"pathcodes\": [\"M\", \"L\", \"L\", \"L\", \"Z\"], \"id\": \"el14669140415436797936\", \"dasharray\": \"none\", \"alpha\": 1, \"facecolor\": \"#1F77B4\", \"edgecolor\": \"none\", \"edgewidth\": 1.0, \"zorder\": 1}, {\"data\": \"data09\", \"xindex\": 0, \"yindex\": 1, \"coordinates\": \"data\", \"pathcodes\": [\"M\", \"L\", \"L\", \"L\", \"Z\"], \"id\": \"el14669140415436798776\", \"dasharray\": \"none\", \"alpha\": 1, \"facecolor\": \"#1F77B4\", \"edgecolor\": \"none\", \"edgewidth\": 1.0, \"zorder\": 1}, {\"data\": \"data10\", \"xindex\": 0, \"yindex\": 1, \"coordinates\": \"data\", \"pathcodes\": [\"M\", \"L\", \"L\", \"L\", \"Z\"], \"id\": \"el14669140415436799616\", \"dasharray\": \"none\", \"alpha\": 1, \"facecolor\": \"#1F77B4\", \"edgecolor\": \"none\", \"edgewidth\": 1.0, \"zorder\": 1}, {\"data\": \"data11\", \"xindex\": 0, \"yindex\": 1, \"coordinates\": \"data\", \"pathcodes\": [\"M\", \"L\", \"L\", \"L\", \"Z\"], \"id\": \"el14669140415436833288\", \"dasharray\": \"none\", \"alpha\": 1, \"facecolor\": \"#1F77B4\", \"edgecolor\": \"none\", \"edgewidth\": 1.0, \"zorder\": 1}, {\"data\": \"data12\", \"xindex\": 0, \"yindex\": 1, \"coordinates\": \"data\", \"pathcodes\": [\"M\", \"L\", \"L\", \"L\", \"Z\"], \"id\": \"el14669140415436834128\", \"dasharray\": \"none\", \"alpha\": 1, \"facecolor\": \"#1F77B4\", \"edgecolor\": \"none\", \"edgewidth\": 1.0, \"zorder\": 1}, {\"data\": \"data13\", \"xindex\": 0, \"yindex\": 1, \"coordinates\": \"data\", \"pathcodes\": [\"M\", \"L\", \"L\", \"L\", \"Z\"], \"id\": \"el14669140415436834968\", \"dasharray\": \"none\", \"alpha\": 1, \"facecolor\": \"#1F77B4\", \"edgecolor\": \"none\", \"edgewidth\": 1.0, \"zorder\": 1}, {\"data\": \"data14\", \"xindex\": 0, \"yindex\": 1, \"coordinates\": \"data\", \"pathcodes\": [\"M\", \"L\", \"L\", \"L\", \"Z\"], \"id\": \"el14669140415436835808\", \"dasharray\": \"none\", \"alpha\": 1, \"facecolor\": \"#1F77B4\", \"edgecolor\": \"none\", \"edgewidth\": 1.0, \"zorder\": 1}, {\"data\": \"data15\", \"xindex\": 0, \"yindex\": 1, \"coordinates\": \"data\", \"pathcodes\": [\"M\", \"L\", \"L\", \"L\", \"Z\"], \"id\": \"el14669140415436836648\", \"dasharray\": \"none\", \"alpha\": 1, \"facecolor\": \"#1F77B4\", \"edgecolor\": \"none\", \"edgewidth\": 1.0, \"zorder\": 1}, {\"data\": \"data16\", \"xindex\": 0, \"yindex\": 1, \"coordinates\": \"data\", \"pathcodes\": [\"M\", \"L\", \"L\", \"L\", \"Z\"], \"id\": \"el14669140415434625712\", \"dasharray\": \"none\", \"alpha\": 1, \"facecolor\": \"#1F77B4\", \"edgecolor\": \"none\", \"edgewidth\": 1.0, \"zorder\": 1}, {\"data\": \"data17\", \"xindex\": 0, \"yindex\": 1, \"coordinates\": \"data\", \"pathcodes\": [\"M\", \"L\", \"L\", \"L\", \"Z\"], \"id\": \"el14669140415434626552\", \"dasharray\": \"none\", \"alpha\": 1, \"facecolor\": \"#1F77B4\", \"edgecolor\": \"none\", \"edgewidth\": 1.0, \"zorder\": 1}, {\"data\": \"data18\", \"xindex\": 0, \"yindex\": 1, \"coordinates\": \"data\", \"pathcodes\": [\"M\", \"L\", \"L\", \"L\", \"Z\"], \"id\": \"el14669140415434627392\", \"dasharray\": \"none\", \"alpha\": 1, \"facecolor\": \"#1F77B4\", \"edgecolor\": \"none\", \"edgewidth\": 1.0, \"zorder\": 1}, {\"data\": \"data19\", \"xindex\": 0, \"yindex\": 1, \"coordinates\": \"data\", \"pathcodes\": [\"M\", \"L\", \"L\", \"L\", \"Z\"], \"id\": \"el14669140415434628232\", \"dasharray\": \"none\", \"alpha\": 1, \"facecolor\": \"#1F77B4\", \"edgecolor\": \"none\", \"edgewidth\": 1.0, \"zorder\": 1}, {\"data\": \"data20\", \"xindex\": 0, \"yindex\": 1, \"coordinates\": \"data\", \"pathcodes\": [\"M\", \"L\", \"L\", \"L\", \"Z\"], \"id\": \"el14669140415434629072\", \"dasharray\": \"none\", \"alpha\": 1, \"facecolor\": \"#1F77B4\", \"edgecolor\": \"none\", \"edgewidth\": 1.0, \"zorder\": 1}, {\"data\": \"data21\", \"xindex\": 0, \"yindex\": 1, \"coordinates\": \"data\", \"pathcodes\": [\"M\", \"L\", \"L\", \"L\", \"Z\"], \"id\": \"el14669140415434695512\", \"dasharray\": \"none\", \"alpha\": 1, \"facecolor\": \"#1F77B4\", \"edgecolor\": \"none\", \"edgewidth\": 1.0, \"zorder\": 1}, {\"data\": \"data22\", \"xindex\": 0, \"yindex\": 1, \"coordinates\": \"data\", \"pathcodes\": [\"M\", \"L\", \"L\", \"L\", \"Z\"], \"id\": \"el14669140415434696352\", \"dasharray\": \"none\", \"alpha\": 1, \"facecolor\": \"#1F77B4\", \"edgecolor\": \"none\", \"edgewidth\": 1.0, \"zorder\": 1}, {\"data\": \"data23\", \"xindex\": 0, \"yindex\": 1, \"coordinates\": \"data\", \"pathcodes\": [\"M\", \"L\", \"L\", \"L\", \"Z\"], \"id\": \"el14669140415434697192\", \"dasharray\": \"none\", \"alpha\": 1, \"facecolor\": \"#1F77B4\", \"edgecolor\": \"none\", \"edgewidth\": 1.0, \"zorder\": 1}, {\"data\": \"data05\", \"xindex\": 2, \"yindex\": 1, \"coordinates\": \"data\", \"pathcodes\": [\"M\", \"L\", \"L\", \"L\", \"Z\"], \"id\": \"el14669140415434698032\", \"dasharray\": \"none\", \"alpha\": 1, \"facecolor\": \"#1F77B4\", \"edgecolor\": \"none\", \"edgewidth\": 1.0, \"zorder\": 1}, {\"data\": \"data24\", \"xindex\": 0, \"yindex\": 1, \"coordinates\": \"data\", \"pathcodes\": [\"M\", \"L\", \"L\", \"L\", \"Z\"], \"id\": \"el14669140415434772664\", \"dasharray\": \"none\", \"alpha\": 1, \"facecolor\": \"#1F77B4\", \"edgecolor\": \"none\", \"edgewidth\": 1.0, \"zorder\": 1}, {\"data\": \"data25\", \"xindex\": 0, \"yindex\": 1, \"coordinates\": \"data\", \"pathcodes\": [\"M\", \"L\", \"L\", \"L\", \"Z\"], \"id\": \"el14669140415434773504\", \"dasharray\": \"none\", \"alpha\": 1, \"facecolor\": \"#1F77B4\", \"edgecolor\": \"none\", \"edgewidth\": 1.0, \"zorder\": 1}, {\"data\": \"data26\", \"xindex\": 0, \"yindex\": 1, \"coordinates\": \"data\", \"pathcodes\": [\"M\", \"L\", \"L\", \"L\", \"Z\"], \"id\": \"el14669140415434774344\", \"dasharray\": \"none\", \"alpha\": 1, \"facecolor\": \"#1F77B4\", \"edgecolor\": \"none\", \"edgewidth\": 1.0, \"zorder\": 1}, {\"data\": \"data27\", \"xindex\": 0, \"yindex\": 1, \"coordinates\": \"data\", \"pathcodes\": [\"M\", \"L\", \"L\", \"L\", \"Z\"], \"id\": \"el14669140415434775184\", \"dasharray\": \"none\", \"alpha\": 1, \"facecolor\": \"#1F77B4\", \"edgecolor\": \"none\", \"edgewidth\": 1.0, \"zorder\": 1}, {\"data\": \"data28\", \"xindex\": 0, \"yindex\": 1, \"coordinates\": \"data\", \"pathcodes\": [\"M\", \"L\", \"L\", \"L\", \"Z\"], \"id\": \"el14669140415434776024\", \"dasharray\": \"none\", \"alpha\": 1, \"facecolor\": \"#1F77B4\", \"edgecolor\": \"none\", \"edgewidth\": 1.0, \"zorder\": 1}, {\"data\": \"data29\", \"xindex\": 0, \"yindex\": 1, \"coordinates\": \"data\", \"pathcodes\": [\"M\", \"L\", \"L\", \"L\", \"Z\"], \"id\": \"el14669140415434858848\", \"dasharray\": \"none\", \"alpha\": 1, \"facecolor\": \"#1F77B4\", \"edgecolor\": \"none\", \"edgewidth\": 1.0, \"zorder\": 1}, {\"data\": \"data30\", \"xindex\": 0, \"yindex\": 1, \"coordinates\": \"data\", \"pathcodes\": [\"M\", \"L\", \"L\", \"L\", \"Z\"], \"id\": \"el14669140415434859688\", \"dasharray\": \"none\", \"alpha\": 1, \"facecolor\": \"#1F77B4\", \"edgecolor\": \"none\", \"edgewidth\": 1.0, \"zorder\": 1}, {\"data\": \"data31\", \"xindex\": 0, \"yindex\": 1, \"coordinates\": \"data\", \"pathcodes\": [\"M\", \"L\", \"L\", \"L\", \"Z\"], \"id\": \"el14669140415434860528\", \"dasharray\": \"none\", \"alpha\": 1, \"facecolor\": \"#1F77B4\", \"edgecolor\": \"none\", \"edgewidth\": 1.0, \"zorder\": 1}, {\"data\": \"data32\", \"xindex\": 0, \"yindex\": 1, \"coordinates\": \"data\", \"pathcodes\": [\"M\", \"L\", \"L\", \"L\", \"Z\"], \"id\": \"el14669140415434861368\", \"dasharray\": \"none\", \"alpha\": 1, \"facecolor\": \"#1F77B4\", \"edgecolor\": \"none\", \"edgewidth\": 1.0, \"zorder\": 1}, {\"data\": \"data32\", \"xindex\": 2, \"yindex\": 1, \"coordinates\": \"data\", \"pathcodes\": [\"M\", \"L\", \"L\", \"L\", \"Z\"], \"id\": \"el14669140415434862208\", \"dasharray\": \"none\", \"alpha\": 1, \"facecolor\": \"#1F77B4\", \"edgecolor\": \"none\", \"edgewidth\": 1.0, \"zorder\": 1}, {\"data\": \"data02\", \"xindex\": 2, \"yindex\": 1, \"coordinates\": \"data\", \"pathcodes\": [\"M\", \"L\", \"L\", \"L\", \"Z\"], \"id\": \"el14669140415434400264\", \"dasharray\": \"none\", \"alpha\": 1, \"facecolor\": \"#1F77B4\", \"edgecolor\": \"none\", \"edgewidth\": 1.0, \"zorder\": 1}, {\"data\": \"data31\", \"xindex\": 2, \"yindex\": 1, \"coordinates\": \"data\", \"pathcodes\": [\"M\", \"L\", \"L\", \"L\", \"Z\"], \"id\": \"el14669140415434401104\", \"dasharray\": \"none\", \"alpha\": 1, \"facecolor\": \"#1F77B4\", \"edgecolor\": \"none\", \"edgewidth\": 1.0, \"zorder\": 1}, {\"data\": \"data31\", \"xindex\": 3, \"yindex\": 1, \"coordinates\": \"data\", \"pathcodes\": [\"M\", \"L\", \"L\", \"L\", \"Z\"], \"id\": \"el14669140415434401944\", \"dasharray\": \"none\", \"alpha\": 1, \"facecolor\": \"#1F77B4\", \"edgecolor\": \"none\", \"edgewidth\": 1.0, \"zorder\": 1}, {\"data\": \"data01\", \"xindex\": 55, \"yindex\": 1, \"coordinates\": \"data\", \"pathcodes\": [\"M\", \"L\", \"L\", \"L\", \"Z\"], \"id\": \"el14669140415434402784\", \"dasharray\": \"none\", \"alpha\": 1, \"facecolor\": \"#1F77B4\", \"edgecolor\": \"none\", \"edgewidth\": 1.0, \"zorder\": 1}, {\"data\": \"data31\", \"xindex\": 4, \"yindex\": 1, \"coordinates\": \"data\", \"pathcodes\": [\"M\", \"L\", \"L\", \"L\", \"Z\"], \"id\": \"el14669140415434403624\", \"dasharray\": \"none\", \"alpha\": 1, \"facecolor\": \"#1F77B4\", \"edgecolor\": \"none\", \"edgewidth\": 1.0, \"zorder\": 1}, {\"data\": \"data31\", \"xindex\": 5, \"yindex\": 1, \"coordinates\": \"data\", \"pathcodes\": [\"M\", \"L\", \"L\", \"L\", \"Z\"], \"id\": \"el14669140415434482352\", \"dasharray\": \"none\", \"alpha\": 1, \"facecolor\": \"#1F77B4\", \"edgecolor\": \"none\", \"edgewidth\": 1.0, \"zorder\": 1}, {\"data\": \"data31\", \"xindex\": 6, \"yindex\": 1, \"coordinates\": \"data\", \"pathcodes\": [\"M\", \"L\", \"L\", \"L\", \"Z\"], \"id\": \"el14669140415434483192\", \"dasharray\": \"none\", \"alpha\": 1, \"facecolor\": \"#1F77B4\", \"edgecolor\": \"none\", \"edgewidth\": 1.0, \"zorder\": 1}, {\"data\": \"data31\", \"xindex\": 7, \"yindex\": 1, \"coordinates\": \"data\", \"pathcodes\": [\"M\", \"L\", \"L\", \"L\", \"Z\"], \"id\": \"el14669140415434484032\", \"dasharray\": \"none\", \"alpha\": 1, \"facecolor\": \"#1F77B4\", \"edgecolor\": \"none\", \"edgewidth\": 1.0, \"zorder\": 1}, {\"data\": \"data31\", \"xindex\": 8, \"yindex\": 1, \"coordinates\": \"data\", \"pathcodes\": [\"M\", \"L\", \"L\", \"L\", \"Z\"], \"id\": \"el14669140415434484872\", \"dasharray\": \"none\", \"alpha\": 1, \"facecolor\": \"#1F77B4\", \"edgecolor\": \"none\", \"edgewidth\": 1.0, \"zorder\": 1}, {\"data\": \"data31\", \"xindex\": 9, \"yindex\": 1, \"coordinates\": \"data\", \"pathcodes\": [\"M\", \"L\", \"L\", \"L\", \"Z\"], \"id\": \"el14669140415434485712\", \"dasharray\": \"none\", \"alpha\": 1, \"facecolor\": \"#1F77B4\", \"edgecolor\": \"none\", \"edgewidth\": 1.0, \"zorder\": 1}, {\"data\": \"data01\", \"xindex\": 56, \"yindex\": 1, \"coordinates\": \"data\", \"pathcodes\": [\"M\", \"L\", \"L\", \"L\", \"Z\"], \"id\": \"el14669140415434572632\", \"dasharray\": \"none\", \"alpha\": 1, \"facecolor\": \"#1F77B4\", \"edgecolor\": \"none\", \"edgewidth\": 1.0, \"zorder\": 1}, {\"data\": \"data01\", \"xindex\": 57, \"yindex\": 1, \"coordinates\": \"data\", \"pathcodes\": [\"M\", \"L\", \"L\", \"L\", \"Z\"], \"id\": \"el14669140415434573472\", \"dasharray\": \"none\", \"alpha\": 1, \"facecolor\": \"#1F77B4\", \"edgecolor\": \"none\", \"edgewidth\": 1.0, \"zorder\": 1}, {\"data\": \"data01\", \"xindex\": 58, \"yindex\": 1, \"coordinates\": \"data\", \"pathcodes\": [\"M\", \"L\", \"L\", \"L\", \"Z\"], \"id\": \"el14669140415434574312\", \"dasharray\": \"none\", \"alpha\": 1, \"facecolor\": \"#1F77B4\", \"edgecolor\": \"none\", \"edgewidth\": 1.0, \"zorder\": 1}, {\"data\": \"data01\", \"xindex\": 0, \"yindex\": 1, \"coordinates\": \"data\", \"pathcodes\": [\"M\", \"L\", \"L\", \"L\", \"Z\"], \"id\": \"el14669140415434575544\", \"dasharray\": \"none\", \"alpha\": 1, \"facecolor\": \"#FF7F0E\", \"edgecolor\": \"none\", \"edgewidth\": 1.0, \"zorder\": 1}, {\"data\": \"data01\", \"xindex\": 2, \"yindex\": 1, \"coordinates\": \"data\", \"pathcodes\": [\"M\", \"L\", \"L\", \"L\", \"Z\"], \"id\": \"el14669140415437765152\", \"dasharray\": \"none\", \"alpha\": 1, \"facecolor\": \"#FF7F0E\", \"edgecolor\": \"none\", \"edgewidth\": 1.0, \"zorder\": 1}, {\"data\": \"data01\", \"xindex\": 3, \"yindex\": 1, \"coordinates\": \"data\", \"pathcodes\": [\"M\", \"L\", \"L\", \"L\", \"Z\"], \"id\": \"el14669140415436452976\", \"dasharray\": \"none\", \"alpha\": 1, \"facecolor\": \"#FF7F0E\", \"edgecolor\": \"none\", \"edgewidth\": 1.0, \"zorder\": 1}, {\"data\": \"data01\", \"xindex\": 4, \"yindex\": 1, \"coordinates\": \"data\", \"pathcodes\": [\"M\", \"L\", \"L\", \"L\", \"Z\"], \"id\": \"el14669140415436453816\", \"dasharray\": \"none\", \"alpha\": 1, \"facecolor\": \"#FF7F0E\", \"edgecolor\": \"none\", \"edgewidth\": 1.0, \"zorder\": 1}, {\"data\": \"data01\", \"xindex\": 5, \"yindex\": 1, \"coordinates\": \"data\", \"pathcodes\": [\"M\", \"L\", \"L\", \"L\", \"Z\"], \"id\": \"el14669140415436454656\", \"dasharray\": \"none\", \"alpha\": 1, \"facecolor\": \"#FF7F0E\", \"edgecolor\": \"none\", \"edgewidth\": 1.0, \"zorder\": 1}, {\"data\": \"data01\", \"xindex\": 6, \"yindex\": 1, \"coordinates\": \"data\", \"pathcodes\": [\"M\", \"L\", \"L\", \"L\", \"Z\"], \"id\": \"el14669140415436455496\", \"dasharray\": \"none\", \"alpha\": 1, \"facecolor\": \"#FF7F0E\", \"edgecolor\": \"none\", \"edgewidth\": 1.0, \"zorder\": 1}, {\"data\": \"data01\", \"xindex\": 7, \"yindex\": 1, \"coordinates\": \"data\", \"pathcodes\": [\"M\", \"L\", \"L\", \"L\", \"Z\"], \"id\": \"el14669140415436517840\", \"dasharray\": \"none\", \"alpha\": 1, \"facecolor\": \"#FF7F0E\", \"edgecolor\": \"none\", \"edgewidth\": 1.0, \"zorder\": 1}, {\"data\": \"data01\", \"xindex\": 8, \"yindex\": 1, \"coordinates\": \"data\", \"pathcodes\": [\"M\", \"L\", \"L\", \"L\", \"Z\"], \"id\": \"el14669140415436518680\", \"dasharray\": \"none\", \"alpha\": 1, \"facecolor\": \"#FF7F0E\", \"edgecolor\": \"none\", \"edgewidth\": 1.0, \"zorder\": 1}, {\"data\": \"data01\", \"xindex\": 9, \"yindex\": 1, \"coordinates\": \"data\", \"pathcodes\": [\"M\", \"L\", \"L\", \"L\", \"Z\"], \"id\": \"el14669140415436519520\", \"dasharray\": \"none\", \"alpha\": 1, \"facecolor\": \"#FF7F0E\", \"edgecolor\": \"none\", \"edgewidth\": 1.0, \"zorder\": 1}, {\"data\": \"data01\", \"xindex\": 10, \"yindex\": 1, \"coordinates\": \"data\", \"pathcodes\": [\"M\", \"L\", \"L\", \"L\", \"Z\"], \"id\": \"el14669140415436520360\", \"dasharray\": \"none\", \"alpha\": 1, \"facecolor\": \"#FF7F0E\", \"edgecolor\": \"none\", \"edgewidth\": 1.0, \"zorder\": 1}, {\"data\": \"data01\", \"xindex\": 11, \"yindex\": 1, \"coordinates\": \"data\", \"pathcodes\": [\"M\", \"L\", \"L\", \"L\", \"Z\"], \"id\": \"el14669140415436521200\", \"dasharray\": \"none\", \"alpha\": 1, \"facecolor\": \"#FF7F0E\", \"edgecolor\": \"none\", \"edgewidth\": 1.0, \"zorder\": 1}, {\"data\": \"data01\", \"xindex\": 12, \"yindex\": 1, \"coordinates\": \"data\", \"pathcodes\": [\"M\", \"L\", \"L\", \"L\", \"Z\"], \"id\": \"el14669140415436628600\", \"dasharray\": \"none\", \"alpha\": 1, \"facecolor\": \"#FF7F0E\", \"edgecolor\": \"none\", \"edgewidth\": 1.0, \"zorder\": 1}, {\"data\": \"data01\", \"xindex\": 13, \"yindex\": 1, \"coordinates\": \"data\", \"pathcodes\": [\"M\", \"L\", \"L\", \"L\", \"Z\"], \"id\": \"el14669140415436629440\", \"dasharray\": \"none\", \"alpha\": 1, \"facecolor\": \"#FF7F0E\", \"edgecolor\": \"none\", \"edgewidth\": 1.0, \"zorder\": 1}, {\"data\": \"data01\", \"xindex\": 14, \"yindex\": 1, \"coordinates\": \"data\", \"pathcodes\": [\"M\", \"L\", \"L\", \"L\", \"Z\"], \"id\": \"el14669140415436630280\", \"dasharray\": \"none\", \"alpha\": 1, \"facecolor\": \"#FF7F0E\", \"edgecolor\": \"none\", \"edgewidth\": 1.0, \"zorder\": 1}, {\"data\": \"data01\", \"xindex\": 15, \"yindex\": 1, \"coordinates\": \"data\", \"pathcodes\": [\"M\", \"L\", \"L\", \"L\", \"Z\"], \"id\": \"el14669140415436631120\", \"dasharray\": \"none\", \"alpha\": 1, \"facecolor\": \"#FF7F0E\", \"edgecolor\": \"none\", \"edgewidth\": 1.0, \"zorder\": 1}, {\"data\": \"data01\", \"xindex\": 16, \"yindex\": 1, \"coordinates\": \"data\", \"pathcodes\": [\"M\", \"L\", \"L\", \"L\", \"Z\"], \"id\": \"el14669140415436631960\", \"dasharray\": \"none\", \"alpha\": 1, \"facecolor\": \"#FF7F0E\", \"edgecolor\": \"none\", \"edgewidth\": 1.0, \"zorder\": 1}, {\"data\": \"data01\", \"xindex\": 17, \"yindex\": 1, \"coordinates\": \"data\", \"pathcodes\": [\"M\", \"L\", \"L\", \"L\", \"Z\"], \"id\": \"el14669140415434113824\", \"dasharray\": \"none\", \"alpha\": 1, \"facecolor\": \"#FF7F0E\", \"edgecolor\": \"none\", \"edgewidth\": 1.0, \"zorder\": 1}, {\"data\": \"data01\", \"xindex\": 18, \"yindex\": 1, \"coordinates\": \"data\", \"pathcodes\": [\"M\", \"L\", \"L\", \"L\", \"Z\"], \"id\": \"el14669140415434114664\", \"dasharray\": \"none\", \"alpha\": 1, \"facecolor\": \"#FF7F0E\", \"edgecolor\": \"none\", \"edgewidth\": 1.0, \"zorder\": 1}, {\"data\": \"data01\", \"xindex\": 19, \"yindex\": 1, \"coordinates\": \"data\", \"pathcodes\": [\"M\", \"L\", \"L\", \"L\", \"Z\"], \"id\": \"el14669140415434115504\", \"dasharray\": \"none\", \"alpha\": 1, \"facecolor\": \"#FF7F0E\", \"edgecolor\": \"none\", \"edgewidth\": 1.0, \"zorder\": 1}, {\"data\": \"data01\", \"xindex\": 20, \"yindex\": 1, \"coordinates\": \"data\", \"pathcodes\": [\"M\", \"L\", \"L\", \"L\", \"Z\"], \"id\": \"el14669140415434116344\", \"dasharray\": \"none\", \"alpha\": 1, \"facecolor\": \"#FF7F0E\", \"edgecolor\": \"none\", \"edgewidth\": 1.0, \"zorder\": 1}, {\"data\": \"data01\", \"xindex\": 21, \"yindex\": 1, \"coordinates\": \"data\", \"pathcodes\": [\"M\", \"L\", \"L\", \"L\", \"Z\"], \"id\": \"el14669140415434166400\", \"dasharray\": \"none\", \"alpha\": 1, \"facecolor\": \"#FF7F0E\", \"edgecolor\": \"none\", \"edgewidth\": 1.0, \"zorder\": 1}, {\"data\": \"data01\", \"xindex\": 22, \"yindex\": 1, \"coordinates\": \"data\", \"pathcodes\": [\"M\", \"L\", \"L\", \"L\", \"Z\"], \"id\": \"el14669140415434167240\", \"dasharray\": \"none\", \"alpha\": 1, \"facecolor\": \"#FF7F0E\", \"edgecolor\": \"none\", \"edgewidth\": 1.0, \"zorder\": 1}, {\"data\": \"data01\", \"xindex\": 23, \"yindex\": 1, \"coordinates\": \"data\", \"pathcodes\": [\"M\", \"L\", \"L\", \"L\", \"Z\"], \"id\": \"el14669140415434168080\", \"dasharray\": \"none\", \"alpha\": 1, \"facecolor\": \"#FF7F0E\", \"edgecolor\": \"none\", \"edgewidth\": 1.0, \"zorder\": 1}, {\"data\": \"data01\", \"xindex\": 24, \"yindex\": 1, \"coordinates\": \"data\", \"pathcodes\": [\"M\", \"L\", \"L\", \"L\", \"Z\"], \"id\": \"el14669140415434168920\", \"dasharray\": \"none\", \"alpha\": 1, \"facecolor\": \"#FF7F0E\", \"edgecolor\": \"none\", \"edgewidth\": 1.0, \"zorder\": 1}, {\"data\": \"data01\", \"xindex\": 25, \"yindex\": 1, \"coordinates\": \"data\", \"pathcodes\": [\"M\", \"L\", \"L\", \"L\", \"Z\"], \"id\": \"el14669140415434169760\", \"dasharray\": \"none\", \"alpha\": 1, \"facecolor\": \"#FF7F0E\", \"edgecolor\": \"none\", \"edgewidth\": 1.0, \"zorder\": 1}, {\"data\": \"data01\", \"xindex\": 26, \"yindex\": 1, \"coordinates\": \"data\", \"pathcodes\": [\"M\", \"L\", \"L\", \"L\", \"Z\"], \"id\": \"el14669140415434244392\", \"dasharray\": \"none\", \"alpha\": 1, \"facecolor\": \"#FF7F0E\", \"edgecolor\": \"none\", \"edgewidth\": 1.0, \"zorder\": 1}, {\"data\": \"data01\", \"xindex\": 27, \"yindex\": 1, \"coordinates\": \"data\", \"pathcodes\": [\"M\", \"L\", \"L\", \"L\", \"Z\"], \"id\": \"el14669140415434245232\", \"dasharray\": \"none\", \"alpha\": 1, \"facecolor\": \"#FF7F0E\", \"edgecolor\": \"none\", \"edgewidth\": 1.0, \"zorder\": 1}, {\"data\": \"data01\", \"xindex\": 28, \"yindex\": 1, \"coordinates\": \"data\", \"pathcodes\": [\"M\", \"L\", \"L\", \"L\", \"Z\"], \"id\": \"el14669140415434246072\", \"dasharray\": \"none\", \"alpha\": 1, \"facecolor\": \"#FF7F0E\", \"edgecolor\": \"none\", \"edgewidth\": 1.0, \"zorder\": 1}, {\"data\": \"data01\", \"xindex\": 29, \"yindex\": 1, \"coordinates\": \"data\", \"pathcodes\": [\"M\", \"L\", \"L\", \"L\", \"Z\"], \"id\": \"el14669140415434246912\", \"dasharray\": \"none\", \"alpha\": 1, \"facecolor\": \"#FF7F0E\", \"edgecolor\": \"none\", \"edgewidth\": 1.0, \"zorder\": 1}, {\"data\": \"data01\", \"xindex\": 30, \"yindex\": 1, \"coordinates\": \"data\", \"pathcodes\": [\"M\", \"L\", \"L\", \"L\", \"Z\"], \"id\": \"el14669140415434247752\", \"dasharray\": \"none\", \"alpha\": 1, \"facecolor\": \"#FF7F0E\", \"edgecolor\": \"none\", \"edgewidth\": 1.0, \"zorder\": 1}, {\"data\": \"data01\", \"xindex\": 31, \"yindex\": 1, \"coordinates\": \"data\", \"pathcodes\": [\"M\", \"L\", \"L\", \"L\", \"Z\"], \"id\": \"el14669140415434326480\", \"dasharray\": \"none\", \"alpha\": 1, \"facecolor\": \"#FF7F0E\", \"edgecolor\": \"none\", \"edgewidth\": 1.0, \"zorder\": 1}, {\"data\": \"data01\", \"xindex\": 32, \"yindex\": 1, \"coordinates\": \"data\", \"pathcodes\": [\"M\", \"L\", \"L\", \"L\", \"Z\"], \"id\": \"el14669140415434327320\", \"dasharray\": \"none\", \"alpha\": 1, \"facecolor\": \"#FF7F0E\", \"edgecolor\": \"none\", \"edgewidth\": 1.0, \"zorder\": 1}, {\"data\": \"data01\", \"xindex\": 33, \"yindex\": 1, \"coordinates\": \"data\", \"pathcodes\": [\"M\", \"L\", \"L\", \"L\", \"Z\"], \"id\": \"el14669140415434328160\", \"dasharray\": \"none\", \"alpha\": 1, \"facecolor\": \"#FF7F0E\", \"edgecolor\": \"none\", \"edgewidth\": 1.0, \"zorder\": 1}, {\"data\": \"data01\", \"xindex\": 34, \"yindex\": 1, \"coordinates\": \"data\", \"pathcodes\": [\"M\", \"L\", \"L\", \"L\", \"Z\"], \"id\": \"el14669140415434329000\", \"dasharray\": \"none\", \"alpha\": 1, \"facecolor\": \"#FF7F0E\", \"edgecolor\": \"none\", \"edgewidth\": 1.0, \"zorder\": 1}, {\"data\": \"data01\", \"xindex\": 35, \"yindex\": 1, \"coordinates\": \"data\", \"pathcodes\": [\"M\", \"L\", \"L\", \"L\", \"Z\"], \"id\": \"el14669140415434329840\", \"dasharray\": \"none\", \"alpha\": 1, \"facecolor\": \"#FF7F0E\", \"edgecolor\": \"none\", \"edgewidth\": 1.0, \"zorder\": 1}, {\"data\": \"data01\", \"xindex\": 36, \"yindex\": 1, \"coordinates\": \"data\", \"pathcodes\": [\"M\", \"L\", \"L\", \"L\", \"Z\"], \"id\": \"el14669140415433884280\", \"dasharray\": \"none\", \"alpha\": 1, \"facecolor\": \"#FF7F0E\", \"edgecolor\": \"none\", \"edgewidth\": 1.0, \"zorder\": 1}, {\"data\": \"data01\", \"xindex\": 37, \"yindex\": 1, \"coordinates\": \"data\", \"pathcodes\": [\"M\", \"L\", \"L\", \"L\", \"Z\"], \"id\": \"el14669140415433885120\", \"dasharray\": \"none\", \"alpha\": 1, \"facecolor\": \"#FF7F0E\", \"edgecolor\": \"none\", \"edgewidth\": 1.0, \"zorder\": 1}, {\"data\": \"data01\", \"xindex\": 38, \"yindex\": 1, \"coordinates\": \"data\", \"pathcodes\": [\"M\", \"L\", \"L\", \"L\", \"Z\"], \"id\": \"el14669140415433885960\", \"dasharray\": \"none\", \"alpha\": 1, \"facecolor\": \"#FF7F0E\", \"edgecolor\": \"none\", \"edgewidth\": 1.0, \"zorder\": 1}, {\"data\": \"data01\", \"xindex\": 39, \"yindex\": 1, \"coordinates\": \"data\", \"pathcodes\": [\"M\", \"L\", \"L\", \"L\", \"Z\"], \"id\": \"el14669140415433886800\", \"dasharray\": \"none\", \"alpha\": 1, \"facecolor\": \"#FF7F0E\", \"edgecolor\": \"none\", \"edgewidth\": 1.0, \"zorder\": 1}, {\"data\": \"data01\", \"xindex\": 40, \"yindex\": 1, \"coordinates\": \"data\", \"pathcodes\": [\"M\", \"L\", \"L\", \"L\", \"Z\"], \"id\": \"el14669140415433887640\", \"dasharray\": \"none\", \"alpha\": 1, \"facecolor\": \"#FF7F0E\", \"edgecolor\": \"none\", \"edgewidth\": 1.0, \"zorder\": 1}, {\"data\": \"data01\", \"xindex\": 41, \"yindex\": 1, \"coordinates\": \"data\", \"pathcodes\": [\"M\", \"L\", \"L\", \"L\", \"Z\"], \"id\": \"el14669140415433949984\", \"dasharray\": \"none\", \"alpha\": 1, \"facecolor\": \"#FF7F0E\", \"edgecolor\": \"none\", \"edgewidth\": 1.0, \"zorder\": 1}, {\"data\": \"data01\", \"xindex\": 42, \"yindex\": 1, \"coordinates\": \"data\", \"pathcodes\": [\"M\", \"L\", \"L\", \"L\", \"Z\"], \"id\": \"el14669140415433950824\", \"dasharray\": \"none\", \"alpha\": 1, \"facecolor\": \"#FF7F0E\", \"edgecolor\": \"none\", \"edgewidth\": 1.0, \"zorder\": 1}, {\"data\": \"data01\", \"xindex\": 43, \"yindex\": 1, \"coordinates\": \"data\", \"pathcodes\": [\"M\", \"L\", \"L\", \"L\", \"Z\"], \"id\": \"el14669140415433951664\", \"dasharray\": \"none\", \"alpha\": 1, \"facecolor\": \"#FF7F0E\", \"edgecolor\": \"none\", \"edgewidth\": 1.0, \"zorder\": 1}, {\"data\": \"data01\", \"xindex\": 44, \"yindex\": 1, \"coordinates\": \"data\", \"pathcodes\": [\"M\", \"L\", \"L\", \"L\", \"Z\"], \"id\": \"el14669140415433952504\", \"dasharray\": \"none\", \"alpha\": 1, \"facecolor\": \"#FF7F0E\", \"edgecolor\": \"none\", \"edgewidth\": 1.0, \"zorder\": 1}, {\"data\": \"data01\", \"xindex\": 45, \"yindex\": 1, \"coordinates\": \"data\", \"pathcodes\": [\"M\", \"L\", \"L\", \"L\", \"Z\"], \"id\": \"el14669140415434018944\", \"dasharray\": \"none\", \"alpha\": 1, \"facecolor\": \"#FF7F0E\", \"edgecolor\": \"none\", \"edgewidth\": 1.0, \"zorder\": 1}, {\"data\": \"data01\", \"xindex\": 46, \"yindex\": 1, \"coordinates\": \"data\", \"pathcodes\": [\"M\", \"L\", \"L\", \"L\", \"Z\"], \"id\": \"el14669140415434019784\", \"dasharray\": \"none\", \"alpha\": 1, \"facecolor\": \"#FF7F0E\", \"edgecolor\": \"none\", \"edgewidth\": 1.0, \"zorder\": 1}, {\"data\": \"data01\", \"xindex\": 47, \"yindex\": 1, \"coordinates\": \"data\", \"pathcodes\": [\"M\", \"L\", \"L\", \"L\", \"Z\"], \"id\": \"el14669140415434020624\", \"dasharray\": \"none\", \"alpha\": 1, \"facecolor\": \"#FF7F0E\", \"edgecolor\": \"none\", \"edgewidth\": 1.0, \"zorder\": 1}, {\"data\": \"data01\", \"xindex\": 48, \"yindex\": 1, \"coordinates\": \"data\", \"pathcodes\": [\"M\", \"L\", \"L\", \"L\", \"Z\"], \"id\": \"el14669140415434021464\", \"dasharray\": \"none\", \"alpha\": 1, \"facecolor\": \"#FF7F0E\", \"edgecolor\": \"none\", \"edgewidth\": 1.0, \"zorder\": 1}, {\"data\": \"data01\", \"xindex\": 49, \"yindex\": 1, \"coordinates\": \"data\", \"pathcodes\": [\"M\", \"L\", \"L\", \"L\", \"Z\"], \"id\": \"el14669140415434022304\", \"dasharray\": \"none\", \"alpha\": 1, \"facecolor\": \"#FF7F0E\", \"edgecolor\": \"none\", \"edgewidth\": 1.0, \"zorder\": 1}, {\"data\": \"data01\", \"xindex\": 50, \"yindex\": 1, \"coordinates\": \"data\", \"pathcodes\": [\"M\", \"L\", \"L\", \"L\", \"Z\"], \"id\": \"el14669140415433597224\", \"dasharray\": \"none\", \"alpha\": 1, \"facecolor\": \"#FF7F0E\", \"edgecolor\": \"none\", \"edgewidth\": 1.0, \"zorder\": 1}, {\"data\": \"data01\", \"xindex\": 51, \"yindex\": 1, \"coordinates\": \"data\", \"pathcodes\": [\"M\", \"L\", \"L\", \"L\", \"Z\"], \"id\": \"el14669140415433598064\", \"dasharray\": \"none\", \"alpha\": 1, \"facecolor\": \"#FF7F0E\", \"edgecolor\": \"none\", \"edgewidth\": 1.0, \"zorder\": 1}, {\"data\": \"data01\", \"xindex\": 52, \"yindex\": 1, \"coordinates\": \"data\", \"pathcodes\": [\"M\", \"L\", \"L\", \"L\", \"Z\"], \"id\": \"el14669140415433598904\", \"dasharray\": \"none\", \"alpha\": 1, \"facecolor\": \"#FF7F0E\", \"edgecolor\": \"none\", \"edgewidth\": 1.0, \"zorder\": 1}, {\"data\": \"data01\", \"xindex\": 53, \"yindex\": 1, \"coordinates\": \"data\", \"pathcodes\": [\"M\", \"L\", \"L\", \"L\", \"Z\"], \"id\": \"el14669140415433599744\", \"dasharray\": \"none\", \"alpha\": 1, \"facecolor\": \"#FF7F0E\", \"edgecolor\": \"none\", \"edgewidth\": 1.0, \"zorder\": 1}, {\"data\": \"data01\", \"xindex\": 54, \"yindex\": 59, \"coordinates\": \"data\", \"pathcodes\": [\"M\", \"L\", \"L\", \"L\", \"Z\"], \"id\": \"el14669140415433600584\", \"dasharray\": \"none\", \"alpha\": 1, \"facecolor\": \"#FF7F0E\", \"edgecolor\": \"none\", \"edgewidth\": 1.0, \"zorder\": 1}, {\"data\": \"data01\", \"xindex\": 60, \"yindex\": 1, \"coordinates\": \"data\", \"pathcodes\": [\"M\", \"L\", \"L\", \"L\", \"Z\"], \"id\": \"el14669140415433662928\", \"dasharray\": \"none\", \"alpha\": 1, \"facecolor\": \"#FF7F0E\", \"edgecolor\": \"none\", \"edgewidth\": 1.0, \"zorder\": 1}, {\"data\": \"data03\", \"xindex\": 0, \"yindex\": 2, \"coordinates\": \"data\", \"pathcodes\": [\"M\", \"L\", \"L\", \"L\", \"Z\"], \"id\": \"el14669140415433663768\", \"dasharray\": \"none\", \"alpha\": 1, \"facecolor\": \"#FF7F0E\", \"edgecolor\": \"none\", \"edgewidth\": 1.0, \"zorder\": 1}, {\"data\": \"data04\", \"xindex\": 0, \"yindex\": 2, \"coordinates\": \"data\", \"pathcodes\": [\"M\", \"L\", \"L\", \"L\", \"Z\"], \"id\": \"el14669140415433664608\", \"dasharray\": \"none\", \"alpha\": 1, \"facecolor\": \"#FF7F0E\", \"edgecolor\": \"none\", \"edgewidth\": 1.0, \"zorder\": 1}, {\"data\": \"data05\", \"xindex\": 0, \"yindex\": 3, \"coordinates\": \"data\", \"pathcodes\": [\"M\", \"L\", \"L\", \"L\", \"Z\"], \"id\": \"el14669140415433665448\", \"dasharray\": \"none\", \"alpha\": 1, \"facecolor\": \"#FF7F0E\", \"edgecolor\": \"none\", \"edgewidth\": 1.0, \"zorder\": 1}, {\"data\": \"data03\", \"xindex\": 3, \"yindex\": 1, \"coordinates\": \"data\", \"pathcodes\": [\"M\", \"L\", \"L\", \"L\", \"Z\"], \"id\": \"el14669140415433666288\", \"dasharray\": \"none\", \"alpha\": 1, \"facecolor\": \"#FF7F0E\", \"edgecolor\": \"none\", \"edgewidth\": 1.0, \"zorder\": 1}, {\"data\": \"data07\", \"xindex\": 0, \"yindex\": 2, \"coordinates\": \"data\", \"pathcodes\": [\"M\", \"L\", \"L\", \"L\", \"Z\"], \"id\": \"el14669140415433753208\", \"dasharray\": \"none\", \"alpha\": 1, \"facecolor\": \"#FF7F0E\", \"edgecolor\": \"none\", \"edgewidth\": 1.0, \"zorder\": 1}, {\"data\": \"data08\", \"xindex\": 0, \"yindex\": 2, \"coordinates\": \"data\", \"pathcodes\": [\"M\", \"L\", \"L\", \"L\", \"Z\"], \"id\": \"el14669140415433754048\", \"dasharray\": \"none\", \"alpha\": 1, \"facecolor\": \"#FF7F0E\", \"edgecolor\": \"none\", \"edgewidth\": 1.0, \"zorder\": 1}, {\"data\": \"data09\", \"xindex\": 0, \"yindex\": 2, \"coordinates\": \"data\", \"pathcodes\": [\"M\", \"L\", \"L\", \"L\", \"Z\"], \"id\": \"el14669140415433754888\", \"dasharray\": \"none\", \"alpha\": 1, \"facecolor\": \"#FF7F0E\", \"edgecolor\": \"none\", \"edgewidth\": 1.0, \"zorder\": 1}, {\"data\": \"data10\", \"xindex\": 0, \"yindex\": 2, \"coordinates\": \"data\", \"pathcodes\": [\"M\", \"L\", \"L\", \"L\", \"Z\"], \"id\": \"el14669140415433755728\", \"dasharray\": \"none\", \"alpha\": 1, \"facecolor\": \"#FF7F0E\", \"edgecolor\": \"none\", \"edgewidth\": 1.0, \"zorder\": 1}, {\"data\": \"data11\", \"xindex\": 0, \"yindex\": 2, \"coordinates\": \"data\", \"pathcodes\": [\"M\", \"L\", \"L\", \"L\", \"Z\"], \"id\": \"el14669140415433756568\", \"dasharray\": \"none\", \"alpha\": 1, \"facecolor\": \"#FF7F0E\", \"edgecolor\": \"none\", \"edgewidth\": 1.0, \"zorder\": 1}, {\"data\": \"data12\", \"xindex\": 0, \"yindex\": 2, \"coordinates\": \"data\", \"pathcodes\": [\"M\", \"L\", \"L\", \"L\", \"Z\"], \"id\": \"el14669140415442993952\", \"dasharray\": \"none\", \"alpha\": 1, \"facecolor\": \"#FF7F0E\", \"edgecolor\": \"none\", \"edgewidth\": 1.0, \"zorder\": 1}, {\"data\": \"data13\", \"xindex\": 0, \"yindex\": 2, \"coordinates\": \"data\", \"pathcodes\": [\"M\", \"L\", \"L\", \"L\", \"Z\"], \"id\": \"el14669140415442994792\", \"dasharray\": \"none\", \"alpha\": 1, \"facecolor\": \"#FF7F0E\", \"edgecolor\": \"none\", \"edgewidth\": 1.0, \"zorder\": 1}, {\"data\": \"data14\", \"xindex\": 0, \"yindex\": 2, \"coordinates\": \"data\", \"pathcodes\": [\"M\", \"L\", \"L\", \"L\", \"Z\"], \"id\": \"el14669140415442995632\", \"dasharray\": \"none\", \"alpha\": 1, \"facecolor\": \"#FF7F0E\", \"edgecolor\": \"none\", \"edgewidth\": 1.0, \"zorder\": 1}, {\"data\": \"data15\", \"xindex\": 0, \"yindex\": 2, \"coordinates\": \"data\", \"pathcodes\": [\"M\", \"L\", \"L\", \"L\", \"Z\"], \"id\": \"el14669140415442996472\", \"dasharray\": \"none\", \"alpha\": 1, \"facecolor\": \"#FF7F0E\", \"edgecolor\": \"none\", \"edgewidth\": 1.0, \"zorder\": 1}, {\"data\": \"data16\", \"xindex\": 0, \"yindex\": 2, \"coordinates\": \"data\", \"pathcodes\": [\"M\", \"L\", \"L\", \"L\", \"Z\"], \"id\": \"el14669140415443062912\", \"dasharray\": \"none\", \"alpha\": 1, \"facecolor\": \"#FF7F0E\", \"edgecolor\": \"none\", \"edgewidth\": 1.0, \"zorder\": 1}, {\"data\": \"data17\", \"xindex\": 0, \"yindex\": 2, \"coordinates\": \"data\", \"pathcodes\": [\"M\", \"L\", \"L\", \"L\", \"Z\"], \"id\": \"el14669140415443063752\", \"dasharray\": \"none\", \"alpha\": 1, \"facecolor\": \"#FF7F0E\", \"edgecolor\": \"none\", \"edgewidth\": 1.0, \"zorder\": 1}, {\"data\": \"data18\", \"xindex\": 0, \"yindex\": 2, \"coordinates\": \"data\", \"pathcodes\": [\"M\", \"L\", \"L\", \"L\", \"Z\"], \"id\": \"el14669140415443064592\", \"dasharray\": \"none\", \"alpha\": 1, \"facecolor\": \"#FF7F0E\", \"edgecolor\": \"none\", \"edgewidth\": 1.0, \"zorder\": 1}, {\"data\": \"data19\", \"xindex\": 0, \"yindex\": 2, \"coordinates\": \"data\", \"pathcodes\": [\"M\", \"L\", \"L\", \"L\", \"Z\"], \"id\": \"el14669140415443065432\", \"dasharray\": \"none\", \"alpha\": 1, \"facecolor\": \"#FF7F0E\", \"edgecolor\": \"none\", \"edgewidth\": 1.0, \"zorder\": 1}, {\"data\": \"data20\", \"xindex\": 0, \"yindex\": 2, \"coordinates\": \"data\", \"pathcodes\": [\"M\", \"L\", \"L\", \"L\", \"Z\"], \"id\": \"el14669140415443066272\", \"dasharray\": \"none\", \"alpha\": 1, \"facecolor\": \"#FF7F0E\", \"edgecolor\": \"none\", \"edgewidth\": 1.0, \"zorder\": 1}, {\"data\": \"data21\", \"xindex\": 0, \"yindex\": 2, \"coordinates\": \"data\", \"pathcodes\": [\"M\", \"L\", \"L\", \"L\", \"Z\"], \"id\": \"el14669140415443149096\", \"dasharray\": \"none\", \"alpha\": 1, \"facecolor\": \"#FF7F0E\", \"edgecolor\": \"none\", \"edgewidth\": 1.0, \"zorder\": 1}, {\"data\": \"data22\", \"xindex\": 0, \"yindex\": 2, \"coordinates\": \"data\", \"pathcodes\": [\"M\", \"L\", \"L\", \"L\", \"Z\"], \"id\": \"el14669140415443149936\", \"dasharray\": \"none\", \"alpha\": 1, \"facecolor\": \"#FF7F0E\", \"edgecolor\": \"none\", \"edgewidth\": 1.0, \"zorder\": 1}, {\"data\": \"data23\", \"xindex\": 0, \"yindex\": 2, \"coordinates\": \"data\", \"pathcodes\": [\"M\", \"L\", \"L\", \"L\", \"Z\"], \"id\": \"el14669140415443150776\", \"dasharray\": \"none\", \"alpha\": 1, \"facecolor\": \"#FF7F0E\", \"edgecolor\": \"none\", \"edgewidth\": 1.0, \"zorder\": 1}, {\"data\": \"data05\", \"xindex\": 2, \"yindex\": 4, \"coordinates\": \"data\", \"pathcodes\": [\"M\", \"L\", \"L\", \"L\", \"Z\"], \"id\": \"el14669140415443151616\", \"dasharray\": \"none\", \"alpha\": 1, \"facecolor\": \"#FF7F0E\", \"edgecolor\": \"none\", \"edgewidth\": 1.0, \"zorder\": 1}, {\"data\": \"data24\", \"xindex\": 0, \"yindex\": 2, \"coordinates\": \"data\", \"pathcodes\": [\"M\", \"L\", \"L\", \"L\", \"Z\"], \"id\": \"el14669140415443152456\", \"dasharray\": \"none\", \"alpha\": 1, \"facecolor\": \"#FF7F0E\", \"edgecolor\": \"none\", \"edgewidth\": 1.0, \"zorder\": 1}, {\"data\": \"data25\", \"xindex\": 0, \"yindex\": 2, \"coordinates\": \"data\", \"pathcodes\": [\"M\", \"L\", \"L\", \"L\", \"Z\"], \"id\": \"el14669140415443214800\", \"dasharray\": \"none\", \"alpha\": 1, \"facecolor\": \"#FF7F0E\", \"edgecolor\": \"none\", \"edgewidth\": 1.0, \"zorder\": 1}, {\"data\": \"data26\", \"xindex\": 0, \"yindex\": 2, \"coordinates\": \"data\", \"pathcodes\": [\"M\", \"L\", \"L\", \"L\", \"Z\"], \"id\": \"el14669140415443215640\", \"dasharray\": \"none\", \"alpha\": 1, \"facecolor\": \"#FF7F0E\", \"edgecolor\": \"none\", \"edgewidth\": 1.0, \"zorder\": 1}, {\"data\": \"data27\", \"xindex\": 0, \"yindex\": 2, \"coordinates\": \"data\", \"pathcodes\": [\"M\", \"L\", \"L\", \"L\", \"Z\"], \"id\": \"el14669140415443216480\", \"dasharray\": \"none\", \"alpha\": 1, \"facecolor\": \"#FF7F0E\", \"edgecolor\": \"none\", \"edgewidth\": 1.0, \"zorder\": 1}, {\"data\": \"data28\", \"xindex\": 0, \"yindex\": 2, \"coordinates\": \"data\", \"pathcodes\": [\"M\", \"L\", \"L\", \"L\", \"Z\"], \"id\": \"el14669140415443217320\", \"dasharray\": \"none\", \"alpha\": 1, \"facecolor\": \"#FF7F0E\", \"edgecolor\": \"none\", \"edgewidth\": 1.0, \"zorder\": 1}, {\"data\": \"data08\", \"xindex\": 3, \"yindex\": 2, \"coordinates\": \"data\", \"pathcodes\": [\"M\", \"L\", \"L\", \"L\", \"Z\"], \"id\": \"el14669140415443218160\", \"dasharray\": \"none\", \"alpha\": 1, \"facecolor\": \"#FF7F0E\", \"edgecolor\": \"none\", \"edgewidth\": 1.0, \"zorder\": 1}, {\"data\": \"data30\", \"xindex\": 0, \"yindex\": 2, \"coordinates\": \"data\", \"pathcodes\": [\"M\", \"L\", \"L\", \"L\", \"Z\"], \"id\": \"el14669140415442506360\", \"dasharray\": \"none\", \"alpha\": 1, \"facecolor\": \"#FF7F0E\", \"edgecolor\": \"none\", \"edgewidth\": 1.0, \"zorder\": 1}, {\"data\": \"data31\", \"xindex\": 0, \"yindex\": 10, \"coordinates\": \"data\", \"pathcodes\": [\"M\", \"L\", \"L\", \"L\", \"Z\"], \"id\": \"el14669140415442507200\", \"dasharray\": \"none\", \"alpha\": 1, \"facecolor\": \"#FF7F0E\", \"edgecolor\": \"none\", \"edgewidth\": 1.0, \"zorder\": 1}, {\"data\": \"data32\", \"xindex\": 0, \"yindex\": 3, \"coordinates\": \"data\", \"pathcodes\": [\"M\", \"L\", \"L\", \"L\", \"Z\"], \"id\": \"el14669140415442508040\", \"dasharray\": \"none\", \"alpha\": 1, \"facecolor\": \"#FF7F0E\", \"edgecolor\": \"none\", \"edgewidth\": 1.0, \"zorder\": 1}, {\"data\": \"data04\", \"xindex\": 3, \"yindex\": 2, \"coordinates\": \"data\", \"pathcodes\": [\"M\", \"L\", \"L\", \"L\", \"Z\"], \"id\": \"el14669140415442508880\", \"dasharray\": \"none\", \"alpha\": 1, \"facecolor\": \"#FF7F0E\", \"edgecolor\": \"none\", \"edgewidth\": 1.0, \"zorder\": 1}, {\"data\": \"data02\", \"xindex\": 2, \"yindex\": 3, \"coordinates\": \"data\", \"pathcodes\": [\"M\", \"L\", \"L\", \"L\", \"Z\"], \"id\": \"el14669140415442509720\", \"dasharray\": \"none\", \"alpha\": 1, \"facecolor\": \"#FF7F0E\", \"edgecolor\": \"none\", \"edgewidth\": 1.0, \"zorder\": 1}, {\"data\": \"data05\", \"xindex\": 5, \"yindex\": 3, \"coordinates\": \"data\", \"pathcodes\": [\"M\", \"L\", \"L\", \"L\", \"Z\"], \"id\": \"el14669140415442600736\", \"dasharray\": \"none\", \"alpha\": 1, \"facecolor\": \"#FF7F0E\", \"edgecolor\": \"none\", \"edgewidth\": 1.0, \"zorder\": 1}, {\"data\": \"data02\", \"xindex\": 4, \"yindex\": 1, \"coordinates\": \"data\", \"pathcodes\": [\"M\", \"L\", \"L\", \"L\", \"Z\"], \"id\": \"el14669140415442601576\", \"dasharray\": \"none\", \"alpha\": 1, \"facecolor\": \"#FF7F0E\", \"edgecolor\": \"none\", \"edgewidth\": 1.0, \"zorder\": 1}, {\"data\": \"data01\", \"xindex\": 55, \"yindex\": 61, \"coordinates\": \"data\", \"pathcodes\": [\"M\", \"L\", \"L\", \"L\", \"Z\"], \"id\": \"el14669140415442602416\", \"dasharray\": \"none\", \"alpha\": 1, \"facecolor\": \"#FF7F0E\", \"edgecolor\": \"none\", \"edgewidth\": 1.0, \"zorder\": 1}, {\"data\": \"data03\", \"xindex\": 4, \"yindex\": 2, \"coordinates\": \"data\", \"pathcodes\": [\"M\", \"L\", \"L\", \"L\", \"Z\"], \"id\": \"el14669140415442603256\", \"dasharray\": \"none\", \"alpha\": 1, \"facecolor\": \"#FF7F0E\", \"edgecolor\": \"none\", \"edgewidth\": 1.0, \"zorder\": 1}, {\"data\": \"data02\", \"xindex\": 5, \"yindex\": 1, \"coordinates\": \"data\", \"pathcodes\": [\"M\", \"L\", \"L\", \"L\", \"Z\"], \"id\": \"el14669140415442657408\", \"dasharray\": \"none\", \"alpha\": 1, \"facecolor\": \"#FF7F0E\", \"edgecolor\": \"none\", \"edgewidth\": 1.0, \"zorder\": 1}, {\"data\": \"data03\", \"xindex\": 5, \"yindex\": 2, \"coordinates\": \"data\", \"pathcodes\": [\"M\", \"L\", \"L\", \"L\", \"Z\"], \"id\": \"el14669140415442658248\", \"dasharray\": \"none\", \"alpha\": 1, \"facecolor\": \"#FF7F0E\", \"edgecolor\": \"none\", \"edgewidth\": 1.0, \"zorder\": 1}, {\"data\": \"data03\", \"xindex\": 6, \"yindex\": 2, \"coordinates\": \"data\", \"pathcodes\": [\"M\", \"L\", \"L\", \"L\", \"Z\"], \"id\": \"el14669140415442659088\", \"dasharray\": \"none\", \"alpha\": 1, \"facecolor\": \"#FF7F0E\", \"edgecolor\": \"none\", \"edgewidth\": 1.0, \"zorder\": 1}, {\"data\": \"data01\", \"xindex\": 62, \"yindex\": 1, \"coordinates\": \"data\", \"pathcodes\": [\"M\", \"L\", \"L\", \"L\", \"Z\"], \"id\": \"el14669140415442659928\", \"dasharray\": \"none\", \"alpha\": 1, \"facecolor\": \"#FF7F0E\", \"edgecolor\": \"none\", \"edgewidth\": 1.0, \"zorder\": 1}, {\"data\": \"data01\", \"xindex\": 63, \"yindex\": 1, \"coordinates\": \"data\", \"pathcodes\": [\"M\", \"L\", \"L\", \"L\", \"Z\"], \"id\": \"el14669140415442660768\", \"dasharray\": \"none\", \"alpha\": 1, \"facecolor\": \"#FF7F0E\", \"edgecolor\": \"none\", \"edgewidth\": 1.0, \"zorder\": 1}, {\"data\": \"data01\", \"xindex\": 56, \"yindex\": 1, \"coordinates\": \"data\", \"pathcodes\": [\"M\", \"L\", \"L\", \"L\", \"Z\"], \"id\": \"el14669140415441686824\", \"dasharray\": \"none\", \"alpha\": 1, \"facecolor\": \"#FF7F0E\", \"edgecolor\": \"none\", \"edgewidth\": 1.0, \"zorder\": 1}, {\"data\": \"data01\", \"xindex\": 57, \"yindex\": 1, \"coordinates\": \"data\", \"pathcodes\": [\"M\", \"L\", \"L\", \"L\", \"Z\"], \"id\": \"el14669140415441687664\", \"dasharray\": \"none\", \"alpha\": 1, \"facecolor\": \"#FF7F0E\", \"edgecolor\": \"none\", \"edgewidth\": 1.0, \"zorder\": 1}, {\"data\": \"data01\", \"xindex\": 58, \"yindex\": 64, \"coordinates\": \"data\", \"pathcodes\": [\"M\", \"L\", \"L\", \"L\", \"Z\"], \"id\": \"el14669140415441688504\", \"dasharray\": \"none\", \"alpha\": 1, \"facecolor\": \"#FF7F0E\", \"edgecolor\": \"none\", \"edgewidth\": 1.0, \"zorder\": 1}], \"markers\": [], \"texts\": [], \"collections\": [], \"images\": [], \"sharex\": [], \"sharey\": []}], \"data\": {\"data01\": [[-10.0, 0.0, -9.8, -9.6, -9.400000000000002, -9.2, -9.0, -8.8, -8.6, -8.400000000000002, -8.2, -8.0, -7.799999999999999, -7.6, -7.4, -7.199999999999999, -7.0, -6.799999999999999, -6.6, -6.4, -6.199999999999999, -6.0, -5.799999999999999, -5.6, -5.399999999999999, -5.199999999999999, -5.0, -4.799999999999999, -4.6, -4.399999999999999, -4.199999999999999, -4.0, -3.8, -3.5999999999999996, -3.3999999999999995, -3.1999999999999993, -3.0, -2.8, -2.5999999999999996, -2.3999999999999995, -2.1999999999999993, -2.0, -1.799999999999999, -1.5999999999999996, -1.4000000000000004, -1.1999999999999993, -1.0, -0.7999999999999989, -0.5999999999999996, -0.3999999999999986, -0.1999999999999993, 0.0, 0.20000000000000107, 0.40000000000000036, 0.6000000000000014, 8.0, 9.400000000000002, 9.600000000000001, 9.8, 0.0, 0.8000000000000007, 0.0, 9.0, 9.200000000000003, 0.0], [-9.8, 0.0, -9.6, -9.4, -9.200000000000001, -9.0, -8.8, -8.6, -8.4, -8.200000000000001, -8.0, -7.8, -7.599999999999999, -7.4, -7.199999999999999, -7.0, -6.8, -6.599999999999999, -6.4, -6.199999999999999, -6.0, -5.8, -5.599999999999999, -5.3999999999999995, -5.199999999999998, -5.0, -4.8, -4.599999999999999, -4.3999999999999995, -4.199999999999998, -4.0, -3.8, -3.5999999999999996, -3.3999999999999995, -3.1999999999999993, -3.0, -2.8, -2.5999999999999996, -2.3999999999999995, -2.1999999999999993, -2.0, -1.799999999999999, -1.5999999999999996, -1.4000000000000004, -1.1999999999999993, -1.0, -0.7999999999999989, -0.5999999999999996, -0.3999999999999986, -0.1999999999999993, 0.0, 0.20000000000000107, 0.40000000000000036, 0.6000000000000014, 0.8000000000000007, 8.2, 9.600000000000001, 9.8, 10.0, 0.0, 1.0, 0.0, 9.200000000000003, 9.400000000000002, 0.0], [-9.8, 0.0, -9.6, -9.4, -9.200000000000001, -9.0, -8.8, -8.6, -8.4, -8.200000000000001, -8.0, -7.8, -7.599999999999999, -7.4, -7.199999999999999, -7.0, -6.8, -6.599999999999999, -6.4, -6.199999999999999, -6.0, -5.8, -5.599999999999999, -5.3999999999999995, -5.199999999999998, -5.0, -4.8, -4.599999999999999, -4.3999999999999995, -4.199999999999998, -4.0, -3.8, -3.5999999999999996, -3.3999999999999995, -3.1999999999999993, -3.0, -2.8, -2.5999999999999996, -2.3999999999999995, -2.1999999999999993, -2.0, -1.799999999999999, -1.5999999999999996, -1.4000000000000004, -1.1999999999999993, -1.0, -0.7999999999999989, -0.5999999999999996, -0.3999999999999986, -0.1999999999999993, 0.0, 0.20000000000000107, 0.40000000000000036, 0.6000000000000014, 0.8000000000000007, 8.2, 9.600000000000001, 9.8, 10.0, 3.0, 1.0, 4.0, 9.200000000000003, 9.400000000000002, 1.0], [-10.0, 0.0, -9.8, -9.6, -9.400000000000002, -9.2, -9.0, -8.8, -8.6, -8.400000000000002, -8.2, -8.0, -7.799999999999999, -7.6, -7.4, -7.199999999999999, -7.0, -6.799999999999999, -6.6, -6.4, -6.199999999999999, -6.0, -5.799999999999999, -5.6, -5.399999999999999, -5.199999999999999, -5.0, -4.799999999999999, -4.6, -4.399999999999999, -4.199999999999999, -4.0, -3.8, -3.5999999999999996, -3.3999999999999995, -3.1999999999999993, -3.0, -2.8, -2.5999999999999996, -2.3999999999999995, -2.1999999999999993, -2.0, -1.799999999999999, -1.5999999999999996, -1.4000000000000004, -1.1999999999999993, -1.0, -0.7999999999999989, -0.5999999999999996, -0.3999999999999986, -0.1999999999999993, 0.0, 0.20000000000000107, 0.40000000000000036, 0.6000000000000014, 8.0, 9.400000000000002, 9.600000000000001, 9.8, 3.0, 0.8000000000000007, 4.0, 9.0, 9.200000000000003, 1.0]], \"data02\": [[0.8000000000000007, 0.0, 7.400000000000002, 0.0, 7.800000000000001, 8.400000000000002], [1.0, 0.0, 7.600000000000001, 0.0, 8.0, 8.600000000000001], [1.0, 2.0, 7.600000000000001, 7.0, 8.0, 8.600000000000001], [0.8000000000000007, 2.0, 7.400000000000002, 7.0, 7.800000000000001, 8.400000000000002]], \"data03\": [[1.0, 0.0, 0.0, 1.6000000000000014, 8.2, 8.600000000000001, 8.8], [1.200000000000001, 0.0, 0.0, 1.8000000000000007, 8.400000000000002, 8.8, 9.0], [1.200000000000001, 10.0, 1.0, 1.8000000000000007, 8.400000000000002, 8.8, 9.0], [1.0, 10.0, 1.0, 1.6000000000000014, 8.2, 8.600000000000001, 8.8]], \"data04\": [[1.200000000000001, 0.0, 0.0, 7.199999999999999], [1.4000000000000004, 0.0, 0.0, 7.400000000000002], [1.4000000000000004, 29.0, 9.0, 7.400000000000002], [1.200000000000001, 29.0, 9.0, 7.199999999999999]], \"data05\": [[1.4000000000000004, 0.0, 5.200000000000001, 0.0, 0.0, 7.600000000000001], [1.6000000000000014, 0.0, 5.4, 0.0, 0.0, 7.800000000000001], [1.6000000000000014, 87.0, 5.4, 6.0, 78.0, 7.800000000000001], [1.4000000000000004, 87.0, 5.200000000000001, 6.0, 78.0, 7.600000000000001]], \"data06\": [[1.6000000000000014, 0.0], [1.8000000000000007, 0.0], [1.8000000000000007, 163.0], [1.6000000000000014, 163.0]], \"data07\": [[1.8000000000000007, 0.0, 0.0], [2.0, 0.0, 0.0], [2.0, 253.0, 14.0], [1.8000000000000007, 253.0, 14.0]], \"data08\": [[2.0, 0.0, 0.0, 6.400000000000002], [2.200000000000001, 0.0, 0.0, 6.600000000000001], [2.200000000000001, 466.0, 23.0, 6.600000000000001], [2.0, 466.0, 23.0, 6.400000000000002]], \"data09\": [[2.200000000000001, 0.0, 0.0], [2.4000000000000004, 0.0, 0.0], [2.4000000000000004, 719.0, 41.0], [2.200000000000001, 719.0, 41.0]], \"data10\": [[2.4000000000000004, 0.0, 0.0], [2.6000000000000014, 0.0, 0.0], [2.6000000000000014, 958.0, 38.0], [2.4000000000000004, 958.0, 38.0]], \"data11\": [[2.6000000000000014, 0.0, 0.0], [2.8000000000000007, 0.0, 0.0], [2.8000000000000007, 1208.0, 35.0], [2.6000000000000014, 1208.0, 35.0]], \"data12\": [[2.8000000000000007, 0.0, 0.0], [3.0, 0.0, 0.0], [3.0, 1512.0, 71.0], [2.8000000000000007, 1512.0, 71.0]], \"data13\": [[3.0, 0.0, 0.0], [3.200000000000001, 0.0, 0.0], [3.200000000000001, 1661.0, 60.0], [3.0, 1661.0, 60.0]], \"data14\": [[3.200000000000001, 0.0, 0.0], [3.4000000000000004, 0.0, 0.0], [3.4000000000000004, 1667.0, 84.0], [3.200000000000001, 1667.0, 84.0]], \"data15\": [[3.4000000000000004, 0.0, 0.0], [3.6000000000000014, 0.0, 0.0], [3.6000000000000014, 1548.0, 92.0], [3.4000000000000004, 1548.0, 92.0]], \"data16\": [[3.6000000000000014, 0.0, 0.0], [3.8000000000000007, 0.0, 0.0], [3.8000000000000007, 1237.0, 95.0], [3.6000000000000014, 1237.0, 95.0]], \"data17\": [[3.8000000000000007, 0.0, 0.0], [4.0, 0.0, 0.0], [4.0, 1017.0, 129.0], [3.8000000000000007, 1017.0, 129.0]], \"data18\": [[4.0, 0.0, 0.0], [4.200000000000001, 0.0, 0.0], [4.200000000000001, 712.0, 119.0], [4.0, 712.0, 119.0]], \"data19\": [[4.200000000000001, 0.0, 0.0], [4.4, 0.0, 0.0], [4.4, 575.0, 110.0], [4.200000000000001, 575.0, 110.0]], \"data20\": [[4.4, 0.0, 0.0], [4.600000000000001, 0.0, 0.0], [4.600000000000001, 349.0, 125.0], [4.4, 349.0, 125.0]], \"data21\": [[4.600000000000001, 0.0, 0.0], [4.800000000000001, 0.0, 0.0], [4.800000000000001, 260.0, 142.0], [4.600000000000001, 260.0, 142.0]], \"data22\": [[4.800000000000001, 0.0, 0.0], [5.0, 0.0, 0.0], [5.0, 192.0, 127.0], [4.800000000000001, 192.0, 127.0]], \"data23\": [[5.0, 0.0, 0.0], [5.200000000000001, 0.0, 0.0], [5.200000000000001, 123.0, 80.0], [5.0, 123.0, 80.0]], \"data24\": [[5.4, 0.0, 0.0], [5.600000000000001, 0.0, 0.0], [5.600000000000001, 50.0, 67.0], [5.4, 50.0, 67.0]], \"data25\": [[5.600000000000001, 0.0, 0.0], [5.800000000000001, 0.0, 0.0], [5.800000000000001, 37.0, 52.0], [5.600000000000001, 37.0, 52.0]], \"data26\": [[5.800000000000001, 0.0, 0.0], [6.0, 0.0, 0.0], [6.0, 25.0, 65.0], [5.800000000000001, 25.0, 65.0]], \"data27\": [[6.0, 0.0, 0.0], [6.199999999999999, 0.0, 0.0], [6.199999999999999, 11.0, 43.0], [6.0, 11.0, 43.0]], \"data28\": [[6.199999999999999, 0.0, 0.0], [6.400000000000002, 0.0, 0.0], [6.400000000000002, 13.0, 31.0], [6.199999999999999, 13.0, 31.0]], \"data29\": [[6.400000000000002, 0.0], [6.600000000000001, 0.0], [6.600000000000001, 7.0], [6.400000000000002, 7.0]], \"data30\": [[6.600000000000001, 0.0, 0.0], [6.800000000000001, 0.0, 0.0], [6.800000000000001, 5.0, 17.0], [6.600000000000001, 5.0, 17.0]], \"data31\": [[6.800000000000001, 0.0, 7.600000000000001, 7.800000000000001, 8.2, 8.400000000000002, 8.600000000000001, 8.8, 9.0, 9.200000000000003, 0.0], [7.0, 0.0, 7.800000000000001, 8.0, 8.400000000000002, 8.600000000000001, 8.8, 9.0, 9.200000000000003, 9.400000000000002, 0.0], [7.0, 1.0, 7.800000000000001, 8.0, 8.400000000000002, 8.600000000000001, 8.8, 9.0, 9.200000000000003, 9.400000000000002, 19.0], [6.800000000000001, 1.0, 7.600000000000001, 7.800000000000001, 8.2, 8.400000000000002, 8.600000000000001, 8.8, 9.0, 9.200000000000003, 19.0]], \"data32\": [[7.0, 0.0, 7.199999999999999, 0.0], [7.199999999999999, 0.0, 7.400000000000002, 0.0], [7.199999999999999, 3.0, 7.400000000000002, 15.0], [7.0, 3.0, 7.199999999999999, 15.0]]}, \"id\": \"el14669140415437358360\", \"plugins\": [{\"type\": \"reset\"}, {\"type\": \"zoom\", \"button\": true, \"enabled\": false}, {\"type\": \"boxzoom\", \"button\": true, \"enabled\": false}]});\n",
       "   }(mpld3);\n",
       "}else if(typeof define === \"function\" && define.amd){\n",
       "   // require.js is available: use it to load d3/mpld3\n",
       "   require.config({paths: {d3: \"https://mpld3.github.io/js/d3.v3.min\"}});\n",
       "   require([\"d3\"], function(d3){\n",
       "      window.d3 = d3;\n",
       "      mpld3_load_lib(\"https://mpld3.github.io/js/mpld3.v0.3.js\", function(){\n",
       "         \n",
       "         mpld3.draw_figure(\"fig_el146691404154373583601556773457\", {\"width\": 432.0, \"height\": 288.0, \"axes\": [{\"bbox\": [0.125, 0.125, 0.775, 0.755], \"xlim\": [-11.0, 11.0], \"ylim\": [0.0, 1750.35], \"xdomain\": [-11.0, 11.0], \"ydomain\": [0.0, 1750.35], \"xscale\": \"linear\", \"yscale\": \"linear\", \"axes\": [{\"position\": \"bottom\", \"nticks\": 11, \"tickvalues\": null, \"tickformat\": null, \"scale\": \"linear\", \"fontsize\": 10.0, \"grid\": {\"gridOn\": true, \"color\": \"#B0B0B0\", \"dasharray\": \"none\", \"alpha\": 1.0}, \"visible\": true}, {\"position\": \"left\", \"nticks\": 10, \"tickvalues\": null, \"tickformat\": null, \"scale\": \"linear\", \"fontsize\": 10.0, \"grid\": {\"gridOn\": true, \"color\": \"#B0B0B0\", \"dasharray\": \"none\", \"alpha\": 1.0}, \"visible\": true}], \"axesbg\": \"#FFFFFF\", \"axesbgalpha\": null, \"zoomable\": true, \"id\": \"el14669140415437359480\", \"lines\": [], \"paths\": [{\"data\": \"data01\", \"xindex\": 0, \"yindex\": 1, \"coordinates\": \"data\", \"pathcodes\": [\"M\", \"L\", \"L\", \"L\", \"Z\"], \"id\": \"el14669140415437765264\", \"dasharray\": \"none\", \"alpha\": 1, \"facecolor\": \"#1F77B4\", \"edgecolor\": \"none\", \"edgewidth\": 1.0, \"zorder\": 1}, {\"data\": \"data01\", \"xindex\": 2, \"yindex\": 1, \"coordinates\": \"data\", \"pathcodes\": [\"M\", \"L\", \"L\", \"L\", \"Z\"], \"id\": \"el14669140415437764592\", \"dasharray\": \"none\", \"alpha\": 1, \"facecolor\": \"#1F77B4\", \"edgecolor\": \"none\", \"edgewidth\": 1.0, \"zorder\": 1}, {\"data\": \"data01\", \"xindex\": 3, \"yindex\": 1, \"coordinates\": \"data\", \"pathcodes\": [\"M\", \"L\", \"L\", \"L\", \"Z\"], \"id\": \"el14669140415448795232\", \"dasharray\": \"none\", \"alpha\": 1, \"facecolor\": \"#1F77B4\", \"edgecolor\": \"none\", \"edgewidth\": 1.0, \"zorder\": 1}, {\"data\": \"data01\", \"xindex\": 4, \"yindex\": 1, \"coordinates\": \"data\", \"pathcodes\": [\"M\", \"L\", \"L\", \"L\", \"Z\"], \"id\": \"el14669140415436727464\", \"dasharray\": \"none\", \"alpha\": 1, \"facecolor\": \"#1F77B4\", \"edgecolor\": \"none\", \"edgewidth\": 1.0, \"zorder\": 1}, {\"data\": \"data01\", \"xindex\": 5, \"yindex\": 1, \"coordinates\": \"data\", \"pathcodes\": [\"M\", \"L\", \"L\", \"L\", \"Z\"], \"id\": \"el14669140415436726624\", \"dasharray\": \"none\", \"alpha\": 1, \"facecolor\": \"#1F77B4\", \"edgecolor\": \"none\", \"edgewidth\": 1.0, \"zorder\": 1}, {\"data\": \"data01\", \"xindex\": 6, \"yindex\": 1, \"coordinates\": \"data\", \"pathcodes\": [\"M\", \"L\", \"L\", \"L\", \"Z\"], \"id\": \"el14669140415436705352\", \"dasharray\": \"none\", \"alpha\": 1, \"facecolor\": \"#1F77B4\", \"edgecolor\": \"none\", \"edgewidth\": 1.0, \"zorder\": 1}, {\"data\": \"data01\", \"xindex\": 7, \"yindex\": 1, \"coordinates\": \"data\", \"pathcodes\": [\"M\", \"L\", \"L\", \"L\", \"Z\"], \"id\": \"el14669140415436704512\", \"dasharray\": \"none\", \"alpha\": 1, \"facecolor\": \"#1F77B4\", \"edgecolor\": \"none\", \"edgewidth\": 1.0, \"zorder\": 1}, {\"data\": \"data01\", \"xindex\": 8, \"yindex\": 1, \"coordinates\": \"data\", \"pathcodes\": [\"M\", \"L\", \"L\", \"L\", \"Z\"], \"id\": \"el14669140415436703672\", \"dasharray\": \"none\", \"alpha\": 1, \"facecolor\": \"#1F77B4\", \"edgecolor\": \"none\", \"edgewidth\": 1.0, \"zorder\": 1}, {\"data\": \"data01\", \"xindex\": 9, \"yindex\": 1, \"coordinates\": \"data\", \"pathcodes\": [\"M\", \"L\", \"L\", \"L\", \"Z\"], \"id\": \"el14669140415453082512\", \"dasharray\": \"none\", \"alpha\": 1, \"facecolor\": \"#1F77B4\", \"edgecolor\": \"none\", \"edgewidth\": 1.0, \"zorder\": 1}, {\"data\": \"data01\", \"xindex\": 10, \"yindex\": 1, \"coordinates\": \"data\", \"pathcodes\": [\"M\", \"L\", \"L\", \"L\", \"Z\"], \"id\": \"el14669140415437735808\", \"dasharray\": \"none\", \"alpha\": 1, \"facecolor\": \"#1F77B4\", \"edgecolor\": \"none\", \"edgewidth\": 1.0, \"zorder\": 1}, {\"data\": \"data01\", \"xindex\": 11, \"yindex\": 1, \"coordinates\": \"data\", \"pathcodes\": [\"M\", \"L\", \"L\", \"L\", \"Z\"], \"id\": \"el14669140415437734968\", \"dasharray\": \"none\", \"alpha\": 1, \"facecolor\": \"#1F77B4\", \"edgecolor\": \"none\", \"edgewidth\": 1.0, \"zorder\": 1}, {\"data\": \"data01\", \"xindex\": 12, \"yindex\": 1, \"coordinates\": \"data\", \"pathcodes\": [\"M\", \"L\", \"L\", \"L\", \"Z\"], \"id\": \"el14669140415437734128\", \"dasharray\": \"none\", \"alpha\": 1, \"facecolor\": \"#1F77B4\", \"edgecolor\": \"none\", \"edgewidth\": 1.0, \"zorder\": 1}, {\"data\": \"data01\", \"xindex\": 13, \"yindex\": 1, \"coordinates\": \"data\", \"pathcodes\": [\"M\", \"L\", \"L\", \"L\", \"Z\"], \"id\": \"el14669140415437704664\", \"dasharray\": \"none\", \"alpha\": 1, \"facecolor\": \"#1F77B4\", \"edgecolor\": \"none\", \"edgewidth\": 1.0, \"zorder\": 1}, {\"data\": \"data01\", \"xindex\": 14, \"yindex\": 1, \"coordinates\": \"data\", \"pathcodes\": [\"M\", \"L\", \"L\", \"L\", \"Z\"], \"id\": \"el14669140415437703824\", \"dasharray\": \"none\", \"alpha\": 1, \"facecolor\": \"#1F77B4\", \"edgecolor\": \"none\", \"edgewidth\": 1.0, \"zorder\": 1}, {\"data\": \"data01\", \"xindex\": 15, \"yindex\": 1, \"coordinates\": \"data\", \"pathcodes\": [\"M\", \"L\", \"L\", \"L\", \"Z\"], \"id\": \"el14669140415440392824\", \"dasharray\": \"none\", \"alpha\": 1, \"facecolor\": \"#1F77B4\", \"edgecolor\": \"none\", \"edgewidth\": 1.0, \"zorder\": 1}, {\"data\": \"data01\", \"xindex\": 16, \"yindex\": 1, \"coordinates\": \"data\", \"pathcodes\": [\"M\", \"L\", \"L\", \"L\", \"Z\"], \"id\": \"el14669140415437651416\", \"dasharray\": \"none\", \"alpha\": 1, \"facecolor\": \"#1F77B4\", \"edgecolor\": \"none\", \"edgewidth\": 1.0, \"zorder\": 1}, {\"data\": \"data01\", \"xindex\": 17, \"yindex\": 1, \"coordinates\": \"data\", \"pathcodes\": [\"M\", \"L\", \"L\", \"L\", \"Z\"], \"id\": \"el14669140415437650576\", \"dasharray\": \"none\", \"alpha\": 1, \"facecolor\": \"#1F77B4\", \"edgecolor\": \"none\", \"edgewidth\": 1.0, \"zorder\": 1}, {\"data\": \"data01\", \"xindex\": 18, \"yindex\": 1, \"coordinates\": \"data\", \"pathcodes\": [\"M\", \"L\", \"L\", \"L\", \"Z\"], \"id\": \"el14669140415454644152\", \"dasharray\": \"none\", \"alpha\": 1, \"facecolor\": \"#1F77B4\", \"edgecolor\": \"none\", \"edgewidth\": 1.0, \"zorder\": 1}, {\"data\": \"data01\", \"xindex\": 19, \"yindex\": 1, \"coordinates\": \"data\", \"pathcodes\": [\"M\", \"L\", \"L\", \"L\", \"Z\"], \"id\": \"el14669140415437915136\", \"dasharray\": \"none\", \"alpha\": 1, \"facecolor\": \"#1F77B4\", \"edgecolor\": \"none\", \"edgewidth\": 1.0, \"zorder\": 1}, {\"data\": \"data01\", \"xindex\": 20, \"yindex\": 1, \"coordinates\": \"data\", \"pathcodes\": [\"M\", \"L\", \"L\", \"L\", \"Z\"], \"id\": \"el14669140415437914184\", \"dasharray\": \"none\", \"alpha\": 1, \"facecolor\": \"#1F77B4\", \"edgecolor\": \"none\", \"edgewidth\": 1.0, \"zorder\": 1}, {\"data\": \"data01\", \"xindex\": 21, \"yindex\": 1, \"coordinates\": \"data\", \"pathcodes\": [\"M\", \"L\", \"L\", \"L\", \"Z\"], \"id\": \"el14669140415437647656\", \"dasharray\": \"none\", \"alpha\": 1, \"facecolor\": \"#1F77B4\", \"edgecolor\": \"none\", \"edgewidth\": 1.0, \"zorder\": 1}, {\"data\": \"data01\", \"xindex\": 22, \"yindex\": 1, \"coordinates\": \"data\", \"pathcodes\": [\"M\", \"L\", \"L\", \"L\", \"Z\"], \"id\": \"el14669140415437540656\", \"dasharray\": \"none\", \"alpha\": 1, \"facecolor\": \"#1F77B4\", \"edgecolor\": \"none\", \"edgewidth\": 1.0, \"zorder\": 1}, {\"data\": \"data01\", \"xindex\": 23, \"yindex\": 1, \"coordinates\": \"data\", \"pathcodes\": [\"M\", \"L\", \"L\", \"L\", \"Z\"], \"id\": \"el14669140415437762632\", \"dasharray\": \"none\", \"alpha\": 1, \"facecolor\": \"#1F77B4\", \"edgecolor\": \"none\", \"edgewidth\": 1.0, \"zorder\": 1}, {\"data\": \"data01\", \"xindex\": 24, \"yindex\": 1, \"coordinates\": \"data\", \"pathcodes\": [\"M\", \"L\", \"L\", \"L\", \"Z\"], \"id\": \"el14669140415437762744\", \"dasharray\": \"none\", \"alpha\": 1, \"facecolor\": \"#1F77B4\", \"edgecolor\": \"none\", \"edgewidth\": 1.0, \"zorder\": 1}, {\"data\": \"data01\", \"xindex\": 25, \"yindex\": 1, \"coordinates\": \"data\", \"pathcodes\": [\"M\", \"L\", \"L\", \"L\", \"Z\"], \"id\": \"el14669140415437694904\", \"dasharray\": \"none\", \"alpha\": 1, \"facecolor\": \"#1F77B4\", \"edgecolor\": \"none\", \"edgewidth\": 1.0, \"zorder\": 1}, {\"data\": \"data01\", \"xindex\": 26, \"yindex\": 1, \"coordinates\": \"data\", \"pathcodes\": [\"M\", \"L\", \"L\", \"L\", \"Z\"], \"id\": \"el14669140415437694064\", \"dasharray\": \"none\", \"alpha\": 1, \"facecolor\": \"#1F77B4\", \"edgecolor\": \"none\", \"edgewidth\": 1.0, \"zorder\": 1}, {\"data\": \"data01\", \"xindex\": 27, \"yindex\": 1, \"coordinates\": \"data\", \"pathcodes\": [\"M\", \"L\", \"L\", \"L\", \"Z\"], \"id\": \"el14669140415437693224\", \"dasharray\": \"none\", \"alpha\": 1, \"facecolor\": \"#1F77B4\", \"edgecolor\": \"none\", \"edgewidth\": 1.0, \"zorder\": 1}, {\"data\": \"data01\", \"xindex\": 28, \"yindex\": 1, \"coordinates\": \"data\", \"pathcodes\": [\"M\", \"L\", \"L\", \"L\", \"Z\"], \"id\": \"el14669140415437696472\", \"dasharray\": \"none\", \"alpha\": 1, \"facecolor\": \"#1F77B4\", \"edgecolor\": \"none\", \"edgewidth\": 1.0, \"zorder\": 1}, {\"data\": \"data01\", \"xindex\": 29, \"yindex\": 1, \"coordinates\": \"data\", \"pathcodes\": [\"M\", \"L\", \"L\", \"L\", \"Z\"], \"id\": \"el14669140415446862592\", \"dasharray\": \"none\", \"alpha\": 1, \"facecolor\": \"#1F77B4\", \"edgecolor\": \"none\", \"edgewidth\": 1.0, \"zorder\": 1}, {\"data\": \"data01\", \"xindex\": 30, \"yindex\": 1, \"coordinates\": \"data\", \"pathcodes\": [\"M\", \"L\", \"L\", \"L\", \"Z\"], \"id\": \"el14669140415446901592\", \"dasharray\": \"none\", \"alpha\": 1, \"facecolor\": \"#1F77B4\", \"edgecolor\": \"none\", \"edgewidth\": 1.0, \"zorder\": 1}, {\"data\": \"data01\", \"xindex\": 31, \"yindex\": 1, \"coordinates\": \"data\", \"pathcodes\": [\"M\", \"L\", \"L\", \"L\", \"Z\"], \"id\": \"el14669140415450906240\", \"dasharray\": \"none\", \"alpha\": 1, \"facecolor\": \"#1F77B4\", \"edgecolor\": \"none\", \"edgewidth\": 1.0, \"zorder\": 1}, {\"data\": \"data01\", \"xindex\": 32, \"yindex\": 1, \"coordinates\": \"data\", \"pathcodes\": [\"M\", \"L\", \"L\", \"L\", \"Z\"], \"id\": \"el14669140415450734488\", \"dasharray\": \"none\", \"alpha\": 1, \"facecolor\": \"#1F77B4\", \"edgecolor\": \"none\", \"edgewidth\": 1.0, \"zorder\": 1}, {\"data\": \"data01\", \"xindex\": 33, \"yindex\": 1, \"coordinates\": \"data\", \"pathcodes\": [\"M\", \"L\", \"L\", \"L\", \"Z\"], \"id\": \"el14669140415450733760\", \"dasharray\": \"none\", \"alpha\": 1, \"facecolor\": \"#1F77B4\", \"edgecolor\": \"none\", \"edgewidth\": 1.0, \"zorder\": 1}, {\"data\": \"data01\", \"xindex\": 34, \"yindex\": 1, \"coordinates\": \"data\", \"pathcodes\": [\"M\", \"L\", \"L\", \"L\", \"Z\"], \"id\": \"el14669140415450732080\", \"dasharray\": \"none\", \"alpha\": 1, \"facecolor\": \"#1F77B4\", \"edgecolor\": \"none\", \"edgewidth\": 1.0, \"zorder\": 1}, {\"data\": \"data01\", \"xindex\": 35, \"yindex\": 1, \"coordinates\": \"data\", \"pathcodes\": [\"M\", \"L\", \"L\", \"L\", \"Z\"], \"id\": \"el14669140415450732584\", \"dasharray\": \"none\", \"alpha\": 1, \"facecolor\": \"#1F77B4\", \"edgecolor\": \"none\", \"edgewidth\": 1.0, \"zorder\": 1}, {\"data\": \"data01\", \"xindex\": 36, \"yindex\": 1, \"coordinates\": \"data\", \"pathcodes\": [\"M\", \"L\", \"L\", \"L\", \"Z\"], \"id\": \"el14669140418589123752\", \"dasharray\": \"none\", \"alpha\": 1, \"facecolor\": \"#1F77B4\", \"edgecolor\": \"none\", \"edgewidth\": 1.0, \"zorder\": 1}, {\"data\": \"data01\", \"xindex\": 37, \"yindex\": 1, \"coordinates\": \"data\", \"pathcodes\": [\"M\", \"L\", \"L\", \"L\", \"Z\"], \"id\": \"el14669140418589125544\", \"dasharray\": \"none\", \"alpha\": 1, \"facecolor\": \"#1F77B4\", \"edgecolor\": \"none\", \"edgewidth\": 1.0, \"zorder\": 1}, {\"data\": \"data01\", \"xindex\": 38, \"yindex\": 1, \"coordinates\": \"data\", \"pathcodes\": [\"M\", \"L\", \"L\", \"L\", \"Z\"], \"id\": \"el14669140418589125376\", \"dasharray\": \"none\", \"alpha\": 1, \"facecolor\": \"#1F77B4\", \"edgecolor\": \"none\", \"edgewidth\": 1.0, \"zorder\": 1}, {\"data\": \"data01\", \"xindex\": 39, \"yindex\": 1, \"coordinates\": \"data\", \"pathcodes\": [\"M\", \"L\", \"L\", \"L\", \"Z\"], \"id\": \"el14669140415443275728\", \"dasharray\": \"none\", \"alpha\": 1, \"facecolor\": \"#1F77B4\", \"edgecolor\": \"none\", \"edgewidth\": 1.0, \"zorder\": 1}, {\"data\": \"data01\", \"xindex\": 40, \"yindex\": 1, \"coordinates\": \"data\", \"pathcodes\": [\"M\", \"L\", \"L\", \"L\", \"Z\"], \"id\": \"el14669140415435936264\", \"dasharray\": \"none\", \"alpha\": 1, \"facecolor\": \"#1F77B4\", \"edgecolor\": \"none\", \"edgewidth\": 1.0, \"zorder\": 1}, {\"data\": \"data01\", \"xindex\": 41, \"yindex\": 1, \"coordinates\": \"data\", \"pathcodes\": [\"M\", \"L\", \"L\", \"L\", \"Z\"], \"id\": \"el14669140415435937104\", \"dasharray\": \"none\", \"alpha\": 1, \"facecolor\": \"#1F77B4\", \"edgecolor\": \"none\", \"edgewidth\": 1.0, \"zorder\": 1}, {\"data\": \"data01\", \"xindex\": 42, \"yindex\": 1, \"coordinates\": \"data\", \"pathcodes\": [\"M\", \"L\", \"L\", \"L\", \"Z\"], \"id\": \"el14669140415435937944\", \"dasharray\": \"none\", \"alpha\": 1, \"facecolor\": \"#1F77B4\", \"edgecolor\": \"none\", \"edgewidth\": 1.0, \"zorder\": 1}, {\"data\": \"data01\", \"xindex\": 43, \"yindex\": 1, \"coordinates\": \"data\", \"pathcodes\": [\"M\", \"L\", \"L\", \"L\", \"Z\"], \"id\": \"el14669140415435938784\", \"dasharray\": \"none\", \"alpha\": 1, \"facecolor\": \"#1F77B4\", \"edgecolor\": \"none\", \"edgewidth\": 1.0, \"zorder\": 1}, {\"data\": \"data01\", \"xindex\": 44, \"yindex\": 1, \"coordinates\": \"data\", \"pathcodes\": [\"M\", \"L\", \"L\", \"L\", \"Z\"], \"id\": \"el14669140415435939624\", \"dasharray\": \"none\", \"alpha\": 1, \"facecolor\": \"#1F77B4\", \"edgecolor\": \"none\", \"edgewidth\": 1.0, \"zorder\": 1}, {\"data\": \"data01\", \"xindex\": 45, \"yindex\": 1, \"coordinates\": \"data\", \"pathcodes\": [\"M\", \"L\", \"L\", \"L\", \"Z\"], \"id\": \"el14669140415436014256\", \"dasharray\": \"none\", \"alpha\": 1, \"facecolor\": \"#1F77B4\", \"edgecolor\": \"none\", \"edgewidth\": 1.0, \"zorder\": 1}, {\"data\": \"data01\", \"xindex\": 46, \"yindex\": 1, \"coordinates\": \"data\", \"pathcodes\": [\"M\", \"L\", \"L\", \"L\", \"Z\"], \"id\": \"el14669140415436015096\", \"dasharray\": \"none\", \"alpha\": 1, \"facecolor\": \"#1F77B4\", \"edgecolor\": \"none\", \"edgewidth\": 1.0, \"zorder\": 1}, {\"data\": \"data01\", \"xindex\": 47, \"yindex\": 1, \"coordinates\": \"data\", \"pathcodes\": [\"M\", \"L\", \"L\", \"L\", \"Z\"], \"id\": \"el14669140415436015936\", \"dasharray\": \"none\", \"alpha\": 1, \"facecolor\": \"#1F77B4\", \"edgecolor\": \"none\", \"edgewidth\": 1.0, \"zorder\": 1}, {\"data\": \"data01\", \"xindex\": 48, \"yindex\": 1, \"coordinates\": \"data\", \"pathcodes\": [\"M\", \"L\", \"L\", \"L\", \"Z\"], \"id\": \"el14669140415436016776\", \"dasharray\": \"none\", \"alpha\": 1, \"facecolor\": \"#1F77B4\", \"edgecolor\": \"none\", \"edgewidth\": 1.0, \"zorder\": 1}, {\"data\": \"data01\", \"xindex\": 49, \"yindex\": 1, \"coordinates\": \"data\", \"pathcodes\": [\"M\", \"L\", \"L\", \"L\", \"Z\"], \"id\": \"el14669140415436017616\", \"dasharray\": \"none\", \"alpha\": 1, \"facecolor\": \"#1F77B4\", \"edgecolor\": \"none\", \"edgewidth\": 1.0, \"zorder\": 1}, {\"data\": \"data01\", \"xindex\": 50, \"yindex\": 1, \"coordinates\": \"data\", \"pathcodes\": [\"M\", \"L\", \"L\", \"L\", \"Z\"], \"id\": \"el14669140415436084056\", \"dasharray\": \"none\", \"alpha\": 1, \"facecolor\": \"#1F77B4\", \"edgecolor\": \"none\", \"edgewidth\": 1.0, \"zorder\": 1}, {\"data\": \"data01\", \"xindex\": 51, \"yindex\": 1, \"coordinates\": \"data\", \"pathcodes\": [\"M\", \"L\", \"L\", \"L\", \"Z\"], \"id\": \"el14669140415436084896\", \"dasharray\": \"none\", \"alpha\": 1, \"facecolor\": \"#1F77B4\", \"edgecolor\": \"none\", \"edgewidth\": 1.0, \"zorder\": 1}, {\"data\": \"data01\", \"xindex\": 52, \"yindex\": 1, \"coordinates\": \"data\", \"pathcodes\": [\"M\", \"L\", \"L\", \"L\", \"Z\"], \"id\": \"el14669140415436085736\", \"dasharray\": \"none\", \"alpha\": 1, \"facecolor\": \"#1F77B4\", \"edgecolor\": \"none\", \"edgewidth\": 1.0, \"zorder\": 1}, {\"data\": \"data01\", \"xindex\": 53, \"yindex\": 1, \"coordinates\": \"data\", \"pathcodes\": [\"M\", \"L\", \"L\", \"L\", \"Z\"], \"id\": \"el14669140415436086576\", \"dasharray\": \"none\", \"alpha\": 1, \"facecolor\": \"#1F77B4\", \"edgecolor\": \"none\", \"edgewidth\": 1.0, \"zorder\": 1}, {\"data\": \"data01\", \"xindex\": 54, \"yindex\": 1, \"coordinates\": \"data\", \"pathcodes\": [\"M\", \"L\", \"L\", \"L\", \"Z\"], \"id\": \"el14669140415436861624\", \"dasharray\": \"none\", \"alpha\": 1, \"facecolor\": \"#1F77B4\", \"edgecolor\": \"none\", \"edgewidth\": 1.0, \"zorder\": 1}, {\"data\": \"data02\", \"xindex\": 0, \"yindex\": 1, \"coordinates\": \"data\", \"pathcodes\": [\"M\", \"L\", \"L\", \"L\", \"Z\"], \"id\": \"el14669140415436862464\", \"dasharray\": \"none\", \"alpha\": 1, \"facecolor\": \"#1F77B4\", \"edgecolor\": \"none\", \"edgewidth\": 1.0, \"zorder\": 1}, {\"data\": \"data03\", \"xindex\": 0, \"yindex\": 1, \"coordinates\": \"data\", \"pathcodes\": [\"M\", \"L\", \"L\", \"L\", \"Z\"], \"id\": \"el14669140415436863304\", \"dasharray\": \"none\", \"alpha\": 1, \"facecolor\": \"#1F77B4\", \"edgecolor\": \"none\", \"edgewidth\": 1.0, \"zorder\": 1}, {\"data\": \"data04\", \"xindex\": 0, \"yindex\": 1, \"coordinates\": \"data\", \"pathcodes\": [\"M\", \"L\", \"L\", \"L\", \"Z\"], \"id\": \"el14669140415436864144\", \"dasharray\": \"none\", \"alpha\": 1, \"facecolor\": \"#1F77B4\", \"edgecolor\": \"none\", \"edgewidth\": 1.0, \"zorder\": 1}, {\"data\": \"data05\", \"xindex\": 0, \"yindex\": 1, \"coordinates\": \"data\", \"pathcodes\": [\"M\", \"L\", \"L\", \"L\", \"Z\"], \"id\": \"el14669140415436864984\", \"dasharray\": \"none\", \"alpha\": 1, \"facecolor\": \"#1F77B4\", \"edgecolor\": \"none\", \"edgewidth\": 1.0, \"zorder\": 1}, {\"data\": \"data06\", \"xindex\": 0, \"yindex\": 1, \"coordinates\": \"data\", \"pathcodes\": [\"M\", \"L\", \"L\", \"L\", \"Z\"], \"id\": \"el14669140415436796256\", \"dasharray\": \"none\", \"alpha\": 1, \"facecolor\": \"#1F77B4\", \"edgecolor\": \"none\", \"edgewidth\": 1.0, \"zorder\": 1}, {\"data\": \"data07\", \"xindex\": 0, \"yindex\": 1, \"coordinates\": \"data\", \"pathcodes\": [\"M\", \"L\", \"L\", \"L\", \"Z\"], \"id\": \"el14669140415436797096\", \"dasharray\": \"none\", \"alpha\": 1, \"facecolor\": \"#1F77B4\", \"edgecolor\": \"none\", \"edgewidth\": 1.0, \"zorder\": 1}, {\"data\": \"data08\", \"xindex\": 0, \"yindex\": 1, \"coordinates\": \"data\", \"pathcodes\": [\"M\", \"L\", \"L\", \"L\", \"Z\"], \"id\": \"el14669140415436797936\", \"dasharray\": \"none\", \"alpha\": 1, \"facecolor\": \"#1F77B4\", \"edgecolor\": \"none\", \"edgewidth\": 1.0, \"zorder\": 1}, {\"data\": \"data09\", \"xindex\": 0, \"yindex\": 1, \"coordinates\": \"data\", \"pathcodes\": [\"M\", \"L\", \"L\", \"L\", \"Z\"], \"id\": \"el14669140415436798776\", \"dasharray\": \"none\", \"alpha\": 1, \"facecolor\": \"#1F77B4\", \"edgecolor\": \"none\", \"edgewidth\": 1.0, \"zorder\": 1}, {\"data\": \"data10\", \"xindex\": 0, \"yindex\": 1, \"coordinates\": \"data\", \"pathcodes\": [\"M\", \"L\", \"L\", \"L\", \"Z\"], \"id\": \"el14669140415436799616\", \"dasharray\": \"none\", \"alpha\": 1, \"facecolor\": \"#1F77B4\", \"edgecolor\": \"none\", \"edgewidth\": 1.0, \"zorder\": 1}, {\"data\": \"data11\", \"xindex\": 0, \"yindex\": 1, \"coordinates\": \"data\", \"pathcodes\": [\"M\", \"L\", \"L\", \"L\", \"Z\"], \"id\": \"el14669140415436833288\", \"dasharray\": \"none\", \"alpha\": 1, \"facecolor\": \"#1F77B4\", \"edgecolor\": \"none\", \"edgewidth\": 1.0, \"zorder\": 1}, {\"data\": \"data12\", \"xindex\": 0, \"yindex\": 1, \"coordinates\": \"data\", \"pathcodes\": [\"M\", \"L\", \"L\", \"L\", \"Z\"], \"id\": \"el14669140415436834128\", \"dasharray\": \"none\", \"alpha\": 1, \"facecolor\": \"#1F77B4\", \"edgecolor\": \"none\", \"edgewidth\": 1.0, \"zorder\": 1}, {\"data\": \"data13\", \"xindex\": 0, \"yindex\": 1, \"coordinates\": \"data\", \"pathcodes\": [\"M\", \"L\", \"L\", \"L\", \"Z\"], \"id\": \"el14669140415436834968\", \"dasharray\": \"none\", \"alpha\": 1, \"facecolor\": \"#1F77B4\", \"edgecolor\": \"none\", \"edgewidth\": 1.0, \"zorder\": 1}, {\"data\": \"data14\", \"xindex\": 0, \"yindex\": 1, \"coordinates\": \"data\", \"pathcodes\": [\"M\", \"L\", \"L\", \"L\", \"Z\"], \"id\": \"el14669140415436835808\", \"dasharray\": \"none\", \"alpha\": 1, \"facecolor\": \"#1F77B4\", \"edgecolor\": \"none\", \"edgewidth\": 1.0, \"zorder\": 1}, {\"data\": \"data15\", \"xindex\": 0, \"yindex\": 1, \"coordinates\": \"data\", \"pathcodes\": [\"M\", \"L\", \"L\", \"L\", \"Z\"], \"id\": \"el14669140415436836648\", \"dasharray\": \"none\", \"alpha\": 1, \"facecolor\": \"#1F77B4\", \"edgecolor\": \"none\", \"edgewidth\": 1.0, \"zorder\": 1}, {\"data\": \"data16\", \"xindex\": 0, \"yindex\": 1, \"coordinates\": \"data\", \"pathcodes\": [\"M\", \"L\", \"L\", \"L\", \"Z\"], \"id\": \"el14669140415434625712\", \"dasharray\": \"none\", \"alpha\": 1, \"facecolor\": \"#1F77B4\", \"edgecolor\": \"none\", \"edgewidth\": 1.0, \"zorder\": 1}, {\"data\": \"data17\", \"xindex\": 0, \"yindex\": 1, \"coordinates\": \"data\", \"pathcodes\": [\"M\", \"L\", \"L\", \"L\", \"Z\"], \"id\": \"el14669140415434626552\", \"dasharray\": \"none\", \"alpha\": 1, \"facecolor\": \"#1F77B4\", \"edgecolor\": \"none\", \"edgewidth\": 1.0, \"zorder\": 1}, {\"data\": \"data18\", \"xindex\": 0, \"yindex\": 1, \"coordinates\": \"data\", \"pathcodes\": [\"M\", \"L\", \"L\", \"L\", \"Z\"], \"id\": \"el14669140415434627392\", \"dasharray\": \"none\", \"alpha\": 1, \"facecolor\": \"#1F77B4\", \"edgecolor\": \"none\", \"edgewidth\": 1.0, \"zorder\": 1}, {\"data\": \"data19\", \"xindex\": 0, \"yindex\": 1, \"coordinates\": \"data\", \"pathcodes\": [\"M\", \"L\", \"L\", \"L\", \"Z\"], \"id\": \"el14669140415434628232\", \"dasharray\": \"none\", \"alpha\": 1, \"facecolor\": \"#1F77B4\", \"edgecolor\": \"none\", \"edgewidth\": 1.0, \"zorder\": 1}, {\"data\": \"data20\", \"xindex\": 0, \"yindex\": 1, \"coordinates\": \"data\", \"pathcodes\": [\"M\", \"L\", \"L\", \"L\", \"Z\"], \"id\": \"el14669140415434629072\", \"dasharray\": \"none\", \"alpha\": 1, \"facecolor\": \"#1F77B4\", \"edgecolor\": \"none\", \"edgewidth\": 1.0, \"zorder\": 1}, {\"data\": \"data21\", \"xindex\": 0, \"yindex\": 1, \"coordinates\": \"data\", \"pathcodes\": [\"M\", \"L\", \"L\", \"L\", \"Z\"], \"id\": \"el14669140415434695512\", \"dasharray\": \"none\", \"alpha\": 1, \"facecolor\": \"#1F77B4\", \"edgecolor\": \"none\", \"edgewidth\": 1.0, \"zorder\": 1}, {\"data\": \"data22\", \"xindex\": 0, \"yindex\": 1, \"coordinates\": \"data\", \"pathcodes\": [\"M\", \"L\", \"L\", \"L\", \"Z\"], \"id\": \"el14669140415434696352\", \"dasharray\": \"none\", \"alpha\": 1, \"facecolor\": \"#1F77B4\", \"edgecolor\": \"none\", \"edgewidth\": 1.0, \"zorder\": 1}, {\"data\": \"data23\", \"xindex\": 0, \"yindex\": 1, \"coordinates\": \"data\", \"pathcodes\": [\"M\", \"L\", \"L\", \"L\", \"Z\"], \"id\": \"el14669140415434697192\", \"dasharray\": \"none\", \"alpha\": 1, \"facecolor\": \"#1F77B4\", \"edgecolor\": \"none\", \"edgewidth\": 1.0, \"zorder\": 1}, {\"data\": \"data05\", \"xindex\": 2, \"yindex\": 1, \"coordinates\": \"data\", \"pathcodes\": [\"M\", \"L\", \"L\", \"L\", \"Z\"], \"id\": \"el14669140415434698032\", \"dasharray\": \"none\", \"alpha\": 1, \"facecolor\": \"#1F77B4\", \"edgecolor\": \"none\", \"edgewidth\": 1.0, \"zorder\": 1}, {\"data\": \"data24\", \"xindex\": 0, \"yindex\": 1, \"coordinates\": \"data\", \"pathcodes\": [\"M\", \"L\", \"L\", \"L\", \"Z\"], \"id\": \"el14669140415434772664\", \"dasharray\": \"none\", \"alpha\": 1, \"facecolor\": \"#1F77B4\", \"edgecolor\": \"none\", \"edgewidth\": 1.0, \"zorder\": 1}, {\"data\": \"data25\", \"xindex\": 0, \"yindex\": 1, \"coordinates\": \"data\", \"pathcodes\": [\"M\", \"L\", \"L\", \"L\", \"Z\"], \"id\": \"el14669140415434773504\", \"dasharray\": \"none\", \"alpha\": 1, \"facecolor\": \"#1F77B4\", \"edgecolor\": \"none\", \"edgewidth\": 1.0, \"zorder\": 1}, {\"data\": \"data26\", \"xindex\": 0, \"yindex\": 1, \"coordinates\": \"data\", \"pathcodes\": [\"M\", \"L\", \"L\", \"L\", \"Z\"], \"id\": \"el14669140415434774344\", \"dasharray\": \"none\", \"alpha\": 1, \"facecolor\": \"#1F77B4\", \"edgecolor\": \"none\", \"edgewidth\": 1.0, \"zorder\": 1}, {\"data\": \"data27\", \"xindex\": 0, \"yindex\": 1, \"coordinates\": \"data\", \"pathcodes\": [\"M\", \"L\", \"L\", \"L\", \"Z\"], \"id\": \"el14669140415434775184\", \"dasharray\": \"none\", \"alpha\": 1, \"facecolor\": \"#1F77B4\", \"edgecolor\": \"none\", \"edgewidth\": 1.0, \"zorder\": 1}, {\"data\": \"data28\", \"xindex\": 0, \"yindex\": 1, \"coordinates\": \"data\", \"pathcodes\": [\"M\", \"L\", \"L\", \"L\", \"Z\"], \"id\": \"el14669140415434776024\", \"dasharray\": \"none\", \"alpha\": 1, \"facecolor\": \"#1F77B4\", \"edgecolor\": \"none\", \"edgewidth\": 1.0, \"zorder\": 1}, {\"data\": \"data29\", \"xindex\": 0, \"yindex\": 1, \"coordinates\": \"data\", \"pathcodes\": [\"M\", \"L\", \"L\", \"L\", \"Z\"], \"id\": \"el14669140415434858848\", \"dasharray\": \"none\", \"alpha\": 1, \"facecolor\": \"#1F77B4\", \"edgecolor\": \"none\", \"edgewidth\": 1.0, \"zorder\": 1}, {\"data\": \"data30\", \"xindex\": 0, \"yindex\": 1, \"coordinates\": \"data\", \"pathcodes\": [\"M\", \"L\", \"L\", \"L\", \"Z\"], \"id\": \"el14669140415434859688\", \"dasharray\": \"none\", \"alpha\": 1, \"facecolor\": \"#1F77B4\", \"edgecolor\": \"none\", \"edgewidth\": 1.0, \"zorder\": 1}, {\"data\": \"data31\", \"xindex\": 0, \"yindex\": 1, \"coordinates\": \"data\", \"pathcodes\": [\"M\", \"L\", \"L\", \"L\", \"Z\"], \"id\": \"el14669140415434860528\", \"dasharray\": \"none\", \"alpha\": 1, \"facecolor\": \"#1F77B4\", \"edgecolor\": \"none\", \"edgewidth\": 1.0, \"zorder\": 1}, {\"data\": \"data32\", \"xindex\": 0, \"yindex\": 1, \"coordinates\": \"data\", \"pathcodes\": [\"M\", \"L\", \"L\", \"L\", \"Z\"], \"id\": \"el14669140415434861368\", \"dasharray\": \"none\", \"alpha\": 1, \"facecolor\": \"#1F77B4\", \"edgecolor\": \"none\", \"edgewidth\": 1.0, \"zorder\": 1}, {\"data\": \"data32\", \"xindex\": 2, \"yindex\": 1, \"coordinates\": \"data\", \"pathcodes\": [\"M\", \"L\", \"L\", \"L\", \"Z\"], \"id\": \"el14669140415434862208\", \"dasharray\": \"none\", \"alpha\": 1, \"facecolor\": \"#1F77B4\", \"edgecolor\": \"none\", \"edgewidth\": 1.0, \"zorder\": 1}, {\"data\": \"data02\", \"xindex\": 2, \"yindex\": 1, \"coordinates\": \"data\", \"pathcodes\": [\"M\", \"L\", \"L\", \"L\", \"Z\"], \"id\": \"el14669140415434400264\", \"dasharray\": \"none\", \"alpha\": 1, \"facecolor\": \"#1F77B4\", \"edgecolor\": \"none\", \"edgewidth\": 1.0, \"zorder\": 1}, {\"data\": \"data31\", \"xindex\": 2, \"yindex\": 1, \"coordinates\": \"data\", \"pathcodes\": [\"M\", \"L\", \"L\", \"L\", \"Z\"], \"id\": \"el14669140415434401104\", \"dasharray\": \"none\", \"alpha\": 1, \"facecolor\": \"#1F77B4\", \"edgecolor\": \"none\", \"edgewidth\": 1.0, \"zorder\": 1}, {\"data\": \"data31\", \"xindex\": 3, \"yindex\": 1, \"coordinates\": \"data\", \"pathcodes\": [\"M\", \"L\", \"L\", \"L\", \"Z\"], \"id\": \"el14669140415434401944\", \"dasharray\": \"none\", \"alpha\": 1, \"facecolor\": \"#1F77B4\", \"edgecolor\": \"none\", \"edgewidth\": 1.0, \"zorder\": 1}, {\"data\": \"data01\", \"xindex\": 55, \"yindex\": 1, \"coordinates\": \"data\", \"pathcodes\": [\"M\", \"L\", \"L\", \"L\", \"Z\"], \"id\": \"el14669140415434402784\", \"dasharray\": \"none\", \"alpha\": 1, \"facecolor\": \"#1F77B4\", \"edgecolor\": \"none\", \"edgewidth\": 1.0, \"zorder\": 1}, {\"data\": \"data31\", \"xindex\": 4, \"yindex\": 1, \"coordinates\": \"data\", \"pathcodes\": [\"M\", \"L\", \"L\", \"L\", \"Z\"], \"id\": \"el14669140415434403624\", \"dasharray\": \"none\", \"alpha\": 1, \"facecolor\": \"#1F77B4\", \"edgecolor\": \"none\", \"edgewidth\": 1.0, \"zorder\": 1}, {\"data\": \"data31\", \"xindex\": 5, \"yindex\": 1, \"coordinates\": \"data\", \"pathcodes\": [\"M\", \"L\", \"L\", \"L\", \"Z\"], \"id\": \"el14669140415434482352\", \"dasharray\": \"none\", \"alpha\": 1, \"facecolor\": \"#1F77B4\", \"edgecolor\": \"none\", \"edgewidth\": 1.0, \"zorder\": 1}, {\"data\": \"data31\", \"xindex\": 6, \"yindex\": 1, \"coordinates\": \"data\", \"pathcodes\": [\"M\", \"L\", \"L\", \"L\", \"Z\"], \"id\": \"el14669140415434483192\", \"dasharray\": \"none\", \"alpha\": 1, \"facecolor\": \"#1F77B4\", \"edgecolor\": \"none\", \"edgewidth\": 1.0, \"zorder\": 1}, {\"data\": \"data31\", \"xindex\": 7, \"yindex\": 1, \"coordinates\": \"data\", \"pathcodes\": [\"M\", \"L\", \"L\", \"L\", \"Z\"], \"id\": \"el14669140415434484032\", \"dasharray\": \"none\", \"alpha\": 1, \"facecolor\": \"#1F77B4\", \"edgecolor\": \"none\", \"edgewidth\": 1.0, \"zorder\": 1}, {\"data\": \"data31\", \"xindex\": 8, \"yindex\": 1, \"coordinates\": \"data\", \"pathcodes\": [\"M\", \"L\", \"L\", \"L\", \"Z\"], \"id\": \"el14669140415434484872\", \"dasharray\": \"none\", \"alpha\": 1, \"facecolor\": \"#1F77B4\", \"edgecolor\": \"none\", \"edgewidth\": 1.0, \"zorder\": 1}, {\"data\": \"data31\", \"xindex\": 9, \"yindex\": 1, \"coordinates\": \"data\", \"pathcodes\": [\"M\", \"L\", \"L\", \"L\", \"Z\"], \"id\": \"el14669140415434485712\", \"dasharray\": \"none\", \"alpha\": 1, \"facecolor\": \"#1F77B4\", \"edgecolor\": \"none\", \"edgewidth\": 1.0, \"zorder\": 1}, {\"data\": \"data01\", \"xindex\": 56, \"yindex\": 1, \"coordinates\": \"data\", \"pathcodes\": [\"M\", \"L\", \"L\", \"L\", \"Z\"], \"id\": \"el14669140415434572632\", \"dasharray\": \"none\", \"alpha\": 1, \"facecolor\": \"#1F77B4\", \"edgecolor\": \"none\", \"edgewidth\": 1.0, \"zorder\": 1}, {\"data\": \"data01\", \"xindex\": 57, \"yindex\": 1, \"coordinates\": \"data\", \"pathcodes\": [\"M\", \"L\", \"L\", \"L\", \"Z\"], \"id\": \"el14669140415434573472\", \"dasharray\": \"none\", \"alpha\": 1, \"facecolor\": \"#1F77B4\", \"edgecolor\": \"none\", \"edgewidth\": 1.0, \"zorder\": 1}, {\"data\": \"data01\", \"xindex\": 58, \"yindex\": 1, \"coordinates\": \"data\", \"pathcodes\": [\"M\", \"L\", \"L\", \"L\", \"Z\"], \"id\": \"el14669140415434574312\", \"dasharray\": \"none\", \"alpha\": 1, \"facecolor\": \"#1F77B4\", \"edgecolor\": \"none\", \"edgewidth\": 1.0, \"zorder\": 1}, {\"data\": \"data01\", \"xindex\": 0, \"yindex\": 1, \"coordinates\": \"data\", \"pathcodes\": [\"M\", \"L\", \"L\", \"L\", \"Z\"], \"id\": \"el14669140415434575544\", \"dasharray\": \"none\", \"alpha\": 1, \"facecolor\": \"#FF7F0E\", \"edgecolor\": \"none\", \"edgewidth\": 1.0, \"zorder\": 1}, {\"data\": \"data01\", \"xindex\": 2, \"yindex\": 1, \"coordinates\": \"data\", \"pathcodes\": [\"M\", \"L\", \"L\", \"L\", \"Z\"], \"id\": \"el14669140415437765152\", \"dasharray\": \"none\", \"alpha\": 1, \"facecolor\": \"#FF7F0E\", \"edgecolor\": \"none\", \"edgewidth\": 1.0, \"zorder\": 1}, {\"data\": \"data01\", \"xindex\": 3, \"yindex\": 1, \"coordinates\": \"data\", \"pathcodes\": [\"M\", \"L\", \"L\", \"L\", \"Z\"], \"id\": \"el14669140415436452976\", \"dasharray\": \"none\", \"alpha\": 1, \"facecolor\": \"#FF7F0E\", \"edgecolor\": \"none\", \"edgewidth\": 1.0, \"zorder\": 1}, {\"data\": \"data01\", \"xindex\": 4, \"yindex\": 1, \"coordinates\": \"data\", \"pathcodes\": [\"M\", \"L\", \"L\", \"L\", \"Z\"], \"id\": \"el14669140415436453816\", \"dasharray\": \"none\", \"alpha\": 1, \"facecolor\": \"#FF7F0E\", \"edgecolor\": \"none\", \"edgewidth\": 1.0, \"zorder\": 1}, {\"data\": \"data01\", \"xindex\": 5, \"yindex\": 1, \"coordinates\": \"data\", \"pathcodes\": [\"M\", \"L\", \"L\", \"L\", \"Z\"], \"id\": \"el14669140415436454656\", \"dasharray\": \"none\", \"alpha\": 1, \"facecolor\": \"#FF7F0E\", \"edgecolor\": \"none\", \"edgewidth\": 1.0, \"zorder\": 1}, {\"data\": \"data01\", \"xindex\": 6, \"yindex\": 1, \"coordinates\": \"data\", \"pathcodes\": [\"M\", \"L\", \"L\", \"L\", \"Z\"], \"id\": \"el14669140415436455496\", \"dasharray\": \"none\", \"alpha\": 1, \"facecolor\": \"#FF7F0E\", \"edgecolor\": \"none\", \"edgewidth\": 1.0, \"zorder\": 1}, {\"data\": \"data01\", \"xindex\": 7, \"yindex\": 1, \"coordinates\": \"data\", \"pathcodes\": [\"M\", \"L\", \"L\", \"L\", \"Z\"], \"id\": \"el14669140415436517840\", \"dasharray\": \"none\", \"alpha\": 1, \"facecolor\": \"#FF7F0E\", \"edgecolor\": \"none\", \"edgewidth\": 1.0, \"zorder\": 1}, {\"data\": \"data01\", \"xindex\": 8, \"yindex\": 1, \"coordinates\": \"data\", \"pathcodes\": [\"M\", \"L\", \"L\", \"L\", \"Z\"], \"id\": \"el14669140415436518680\", \"dasharray\": \"none\", \"alpha\": 1, \"facecolor\": \"#FF7F0E\", \"edgecolor\": \"none\", \"edgewidth\": 1.0, \"zorder\": 1}, {\"data\": \"data01\", \"xindex\": 9, \"yindex\": 1, \"coordinates\": \"data\", \"pathcodes\": [\"M\", \"L\", \"L\", \"L\", \"Z\"], \"id\": \"el14669140415436519520\", \"dasharray\": \"none\", \"alpha\": 1, \"facecolor\": \"#FF7F0E\", \"edgecolor\": \"none\", \"edgewidth\": 1.0, \"zorder\": 1}, {\"data\": \"data01\", \"xindex\": 10, \"yindex\": 1, \"coordinates\": \"data\", \"pathcodes\": [\"M\", \"L\", \"L\", \"L\", \"Z\"], \"id\": \"el14669140415436520360\", \"dasharray\": \"none\", \"alpha\": 1, \"facecolor\": \"#FF7F0E\", \"edgecolor\": \"none\", \"edgewidth\": 1.0, \"zorder\": 1}, {\"data\": \"data01\", \"xindex\": 11, \"yindex\": 1, \"coordinates\": \"data\", \"pathcodes\": [\"M\", \"L\", \"L\", \"L\", \"Z\"], \"id\": \"el14669140415436521200\", \"dasharray\": \"none\", \"alpha\": 1, \"facecolor\": \"#FF7F0E\", \"edgecolor\": \"none\", \"edgewidth\": 1.0, \"zorder\": 1}, {\"data\": \"data01\", \"xindex\": 12, \"yindex\": 1, \"coordinates\": \"data\", \"pathcodes\": [\"M\", \"L\", \"L\", \"L\", \"Z\"], \"id\": \"el14669140415436628600\", \"dasharray\": \"none\", \"alpha\": 1, \"facecolor\": \"#FF7F0E\", \"edgecolor\": \"none\", \"edgewidth\": 1.0, \"zorder\": 1}, {\"data\": \"data01\", \"xindex\": 13, \"yindex\": 1, \"coordinates\": \"data\", \"pathcodes\": [\"M\", \"L\", \"L\", \"L\", \"Z\"], \"id\": \"el14669140415436629440\", \"dasharray\": \"none\", \"alpha\": 1, \"facecolor\": \"#FF7F0E\", \"edgecolor\": \"none\", \"edgewidth\": 1.0, \"zorder\": 1}, {\"data\": \"data01\", \"xindex\": 14, \"yindex\": 1, \"coordinates\": \"data\", \"pathcodes\": [\"M\", \"L\", \"L\", \"L\", \"Z\"], \"id\": \"el14669140415436630280\", \"dasharray\": \"none\", \"alpha\": 1, \"facecolor\": \"#FF7F0E\", \"edgecolor\": \"none\", \"edgewidth\": 1.0, \"zorder\": 1}, {\"data\": \"data01\", \"xindex\": 15, \"yindex\": 1, \"coordinates\": \"data\", \"pathcodes\": [\"M\", \"L\", \"L\", \"L\", \"Z\"], \"id\": \"el14669140415436631120\", \"dasharray\": \"none\", \"alpha\": 1, \"facecolor\": \"#FF7F0E\", \"edgecolor\": \"none\", \"edgewidth\": 1.0, \"zorder\": 1}, {\"data\": \"data01\", \"xindex\": 16, \"yindex\": 1, \"coordinates\": \"data\", \"pathcodes\": [\"M\", \"L\", \"L\", \"L\", \"Z\"], \"id\": \"el14669140415436631960\", \"dasharray\": \"none\", \"alpha\": 1, \"facecolor\": \"#FF7F0E\", \"edgecolor\": \"none\", \"edgewidth\": 1.0, \"zorder\": 1}, {\"data\": \"data01\", \"xindex\": 17, \"yindex\": 1, \"coordinates\": \"data\", \"pathcodes\": [\"M\", \"L\", \"L\", \"L\", \"Z\"], \"id\": \"el14669140415434113824\", \"dasharray\": \"none\", \"alpha\": 1, \"facecolor\": \"#FF7F0E\", \"edgecolor\": \"none\", \"edgewidth\": 1.0, \"zorder\": 1}, {\"data\": \"data01\", \"xindex\": 18, \"yindex\": 1, \"coordinates\": \"data\", \"pathcodes\": [\"M\", \"L\", \"L\", \"L\", \"Z\"], \"id\": \"el14669140415434114664\", \"dasharray\": \"none\", \"alpha\": 1, \"facecolor\": \"#FF7F0E\", \"edgecolor\": \"none\", \"edgewidth\": 1.0, \"zorder\": 1}, {\"data\": \"data01\", \"xindex\": 19, \"yindex\": 1, \"coordinates\": \"data\", \"pathcodes\": [\"M\", \"L\", \"L\", \"L\", \"Z\"], \"id\": \"el14669140415434115504\", \"dasharray\": \"none\", \"alpha\": 1, \"facecolor\": \"#FF7F0E\", \"edgecolor\": \"none\", \"edgewidth\": 1.0, \"zorder\": 1}, {\"data\": \"data01\", \"xindex\": 20, \"yindex\": 1, \"coordinates\": \"data\", \"pathcodes\": [\"M\", \"L\", \"L\", \"L\", \"Z\"], \"id\": \"el14669140415434116344\", \"dasharray\": \"none\", \"alpha\": 1, \"facecolor\": \"#FF7F0E\", \"edgecolor\": \"none\", \"edgewidth\": 1.0, \"zorder\": 1}, {\"data\": \"data01\", \"xindex\": 21, \"yindex\": 1, \"coordinates\": \"data\", \"pathcodes\": [\"M\", \"L\", \"L\", \"L\", \"Z\"], \"id\": \"el14669140415434166400\", \"dasharray\": \"none\", \"alpha\": 1, \"facecolor\": \"#FF7F0E\", \"edgecolor\": \"none\", \"edgewidth\": 1.0, \"zorder\": 1}, {\"data\": \"data01\", \"xindex\": 22, \"yindex\": 1, \"coordinates\": \"data\", \"pathcodes\": [\"M\", \"L\", \"L\", \"L\", \"Z\"], \"id\": \"el14669140415434167240\", \"dasharray\": \"none\", \"alpha\": 1, \"facecolor\": \"#FF7F0E\", \"edgecolor\": \"none\", \"edgewidth\": 1.0, \"zorder\": 1}, {\"data\": \"data01\", \"xindex\": 23, \"yindex\": 1, \"coordinates\": \"data\", \"pathcodes\": [\"M\", \"L\", \"L\", \"L\", \"Z\"], \"id\": \"el14669140415434168080\", \"dasharray\": \"none\", \"alpha\": 1, \"facecolor\": \"#FF7F0E\", \"edgecolor\": \"none\", \"edgewidth\": 1.0, \"zorder\": 1}, {\"data\": \"data01\", \"xindex\": 24, \"yindex\": 1, \"coordinates\": \"data\", \"pathcodes\": [\"M\", \"L\", \"L\", \"L\", \"Z\"], \"id\": \"el14669140415434168920\", \"dasharray\": \"none\", \"alpha\": 1, \"facecolor\": \"#FF7F0E\", \"edgecolor\": \"none\", \"edgewidth\": 1.0, \"zorder\": 1}, {\"data\": \"data01\", \"xindex\": 25, \"yindex\": 1, \"coordinates\": \"data\", \"pathcodes\": [\"M\", \"L\", \"L\", \"L\", \"Z\"], \"id\": \"el14669140415434169760\", \"dasharray\": \"none\", \"alpha\": 1, \"facecolor\": \"#FF7F0E\", \"edgecolor\": \"none\", \"edgewidth\": 1.0, \"zorder\": 1}, {\"data\": \"data01\", \"xindex\": 26, \"yindex\": 1, \"coordinates\": \"data\", \"pathcodes\": [\"M\", \"L\", \"L\", \"L\", \"Z\"], \"id\": \"el14669140415434244392\", \"dasharray\": \"none\", \"alpha\": 1, \"facecolor\": \"#FF7F0E\", \"edgecolor\": \"none\", \"edgewidth\": 1.0, \"zorder\": 1}, {\"data\": \"data01\", \"xindex\": 27, \"yindex\": 1, \"coordinates\": \"data\", \"pathcodes\": [\"M\", \"L\", \"L\", \"L\", \"Z\"], \"id\": \"el14669140415434245232\", \"dasharray\": \"none\", \"alpha\": 1, \"facecolor\": \"#FF7F0E\", \"edgecolor\": \"none\", \"edgewidth\": 1.0, \"zorder\": 1}, {\"data\": \"data01\", \"xindex\": 28, \"yindex\": 1, \"coordinates\": \"data\", \"pathcodes\": [\"M\", \"L\", \"L\", \"L\", \"Z\"], \"id\": \"el14669140415434246072\", \"dasharray\": \"none\", \"alpha\": 1, \"facecolor\": \"#FF7F0E\", \"edgecolor\": \"none\", \"edgewidth\": 1.0, \"zorder\": 1}, {\"data\": \"data01\", \"xindex\": 29, \"yindex\": 1, \"coordinates\": \"data\", \"pathcodes\": [\"M\", \"L\", \"L\", \"L\", \"Z\"], \"id\": \"el14669140415434246912\", \"dasharray\": \"none\", \"alpha\": 1, \"facecolor\": \"#FF7F0E\", \"edgecolor\": \"none\", \"edgewidth\": 1.0, \"zorder\": 1}, {\"data\": \"data01\", \"xindex\": 30, \"yindex\": 1, \"coordinates\": \"data\", \"pathcodes\": [\"M\", \"L\", \"L\", \"L\", \"Z\"], \"id\": \"el14669140415434247752\", \"dasharray\": \"none\", \"alpha\": 1, \"facecolor\": \"#FF7F0E\", \"edgecolor\": \"none\", \"edgewidth\": 1.0, \"zorder\": 1}, {\"data\": \"data01\", \"xindex\": 31, \"yindex\": 1, \"coordinates\": \"data\", \"pathcodes\": [\"M\", \"L\", \"L\", \"L\", \"Z\"], \"id\": \"el14669140415434326480\", \"dasharray\": \"none\", \"alpha\": 1, \"facecolor\": \"#FF7F0E\", \"edgecolor\": \"none\", \"edgewidth\": 1.0, \"zorder\": 1}, {\"data\": \"data01\", \"xindex\": 32, \"yindex\": 1, \"coordinates\": \"data\", \"pathcodes\": [\"M\", \"L\", \"L\", \"L\", \"Z\"], \"id\": \"el14669140415434327320\", \"dasharray\": \"none\", \"alpha\": 1, \"facecolor\": \"#FF7F0E\", \"edgecolor\": \"none\", \"edgewidth\": 1.0, \"zorder\": 1}, {\"data\": \"data01\", \"xindex\": 33, \"yindex\": 1, \"coordinates\": \"data\", \"pathcodes\": [\"M\", \"L\", \"L\", \"L\", \"Z\"], \"id\": \"el14669140415434328160\", \"dasharray\": \"none\", \"alpha\": 1, \"facecolor\": \"#FF7F0E\", \"edgecolor\": \"none\", \"edgewidth\": 1.0, \"zorder\": 1}, {\"data\": \"data01\", \"xindex\": 34, \"yindex\": 1, \"coordinates\": \"data\", \"pathcodes\": [\"M\", \"L\", \"L\", \"L\", \"Z\"], \"id\": \"el14669140415434329000\", \"dasharray\": \"none\", \"alpha\": 1, \"facecolor\": \"#FF7F0E\", \"edgecolor\": \"none\", \"edgewidth\": 1.0, \"zorder\": 1}, {\"data\": \"data01\", \"xindex\": 35, \"yindex\": 1, \"coordinates\": \"data\", \"pathcodes\": [\"M\", \"L\", \"L\", \"L\", \"Z\"], \"id\": \"el14669140415434329840\", \"dasharray\": \"none\", \"alpha\": 1, \"facecolor\": \"#FF7F0E\", \"edgecolor\": \"none\", \"edgewidth\": 1.0, \"zorder\": 1}, {\"data\": \"data01\", \"xindex\": 36, \"yindex\": 1, \"coordinates\": \"data\", \"pathcodes\": [\"M\", \"L\", \"L\", \"L\", \"Z\"], \"id\": \"el14669140415433884280\", \"dasharray\": \"none\", \"alpha\": 1, \"facecolor\": \"#FF7F0E\", \"edgecolor\": \"none\", \"edgewidth\": 1.0, \"zorder\": 1}, {\"data\": \"data01\", \"xindex\": 37, \"yindex\": 1, \"coordinates\": \"data\", \"pathcodes\": [\"M\", \"L\", \"L\", \"L\", \"Z\"], \"id\": \"el14669140415433885120\", \"dasharray\": \"none\", \"alpha\": 1, \"facecolor\": \"#FF7F0E\", \"edgecolor\": \"none\", \"edgewidth\": 1.0, \"zorder\": 1}, {\"data\": \"data01\", \"xindex\": 38, \"yindex\": 1, \"coordinates\": \"data\", \"pathcodes\": [\"M\", \"L\", \"L\", \"L\", \"Z\"], \"id\": \"el14669140415433885960\", \"dasharray\": \"none\", \"alpha\": 1, \"facecolor\": \"#FF7F0E\", \"edgecolor\": \"none\", \"edgewidth\": 1.0, \"zorder\": 1}, {\"data\": \"data01\", \"xindex\": 39, \"yindex\": 1, \"coordinates\": \"data\", \"pathcodes\": [\"M\", \"L\", \"L\", \"L\", \"Z\"], \"id\": \"el14669140415433886800\", \"dasharray\": \"none\", \"alpha\": 1, \"facecolor\": \"#FF7F0E\", \"edgecolor\": \"none\", \"edgewidth\": 1.0, \"zorder\": 1}, {\"data\": \"data01\", \"xindex\": 40, \"yindex\": 1, \"coordinates\": \"data\", \"pathcodes\": [\"M\", \"L\", \"L\", \"L\", \"Z\"], \"id\": \"el14669140415433887640\", \"dasharray\": \"none\", \"alpha\": 1, \"facecolor\": \"#FF7F0E\", \"edgecolor\": \"none\", \"edgewidth\": 1.0, \"zorder\": 1}, {\"data\": \"data01\", \"xindex\": 41, \"yindex\": 1, \"coordinates\": \"data\", \"pathcodes\": [\"M\", \"L\", \"L\", \"L\", \"Z\"], \"id\": \"el14669140415433949984\", \"dasharray\": \"none\", \"alpha\": 1, \"facecolor\": \"#FF7F0E\", \"edgecolor\": \"none\", \"edgewidth\": 1.0, \"zorder\": 1}, {\"data\": \"data01\", \"xindex\": 42, \"yindex\": 1, \"coordinates\": \"data\", \"pathcodes\": [\"M\", \"L\", \"L\", \"L\", \"Z\"], \"id\": \"el14669140415433950824\", \"dasharray\": \"none\", \"alpha\": 1, \"facecolor\": \"#FF7F0E\", \"edgecolor\": \"none\", \"edgewidth\": 1.0, \"zorder\": 1}, {\"data\": \"data01\", \"xindex\": 43, \"yindex\": 1, \"coordinates\": \"data\", \"pathcodes\": [\"M\", \"L\", \"L\", \"L\", \"Z\"], \"id\": \"el14669140415433951664\", \"dasharray\": \"none\", \"alpha\": 1, \"facecolor\": \"#FF7F0E\", \"edgecolor\": \"none\", \"edgewidth\": 1.0, \"zorder\": 1}, {\"data\": \"data01\", \"xindex\": 44, \"yindex\": 1, \"coordinates\": \"data\", \"pathcodes\": [\"M\", \"L\", \"L\", \"L\", \"Z\"], \"id\": \"el14669140415433952504\", \"dasharray\": \"none\", \"alpha\": 1, \"facecolor\": \"#FF7F0E\", \"edgecolor\": \"none\", \"edgewidth\": 1.0, \"zorder\": 1}, {\"data\": \"data01\", \"xindex\": 45, \"yindex\": 1, \"coordinates\": \"data\", \"pathcodes\": [\"M\", \"L\", \"L\", \"L\", \"Z\"], \"id\": \"el14669140415434018944\", \"dasharray\": \"none\", \"alpha\": 1, \"facecolor\": \"#FF7F0E\", \"edgecolor\": \"none\", \"edgewidth\": 1.0, \"zorder\": 1}, {\"data\": \"data01\", \"xindex\": 46, \"yindex\": 1, \"coordinates\": \"data\", \"pathcodes\": [\"M\", \"L\", \"L\", \"L\", \"Z\"], \"id\": \"el14669140415434019784\", \"dasharray\": \"none\", \"alpha\": 1, \"facecolor\": \"#FF7F0E\", \"edgecolor\": \"none\", \"edgewidth\": 1.0, \"zorder\": 1}, {\"data\": \"data01\", \"xindex\": 47, \"yindex\": 1, \"coordinates\": \"data\", \"pathcodes\": [\"M\", \"L\", \"L\", \"L\", \"Z\"], \"id\": \"el14669140415434020624\", \"dasharray\": \"none\", \"alpha\": 1, \"facecolor\": \"#FF7F0E\", \"edgecolor\": \"none\", \"edgewidth\": 1.0, \"zorder\": 1}, {\"data\": \"data01\", \"xindex\": 48, \"yindex\": 1, \"coordinates\": \"data\", \"pathcodes\": [\"M\", \"L\", \"L\", \"L\", \"Z\"], \"id\": \"el14669140415434021464\", \"dasharray\": \"none\", \"alpha\": 1, \"facecolor\": \"#FF7F0E\", \"edgecolor\": \"none\", \"edgewidth\": 1.0, \"zorder\": 1}, {\"data\": \"data01\", \"xindex\": 49, \"yindex\": 1, \"coordinates\": \"data\", \"pathcodes\": [\"M\", \"L\", \"L\", \"L\", \"Z\"], \"id\": \"el14669140415434022304\", \"dasharray\": \"none\", \"alpha\": 1, \"facecolor\": \"#FF7F0E\", \"edgecolor\": \"none\", \"edgewidth\": 1.0, \"zorder\": 1}, {\"data\": \"data01\", \"xindex\": 50, \"yindex\": 1, \"coordinates\": \"data\", \"pathcodes\": [\"M\", \"L\", \"L\", \"L\", \"Z\"], \"id\": \"el14669140415433597224\", \"dasharray\": \"none\", \"alpha\": 1, \"facecolor\": \"#FF7F0E\", \"edgecolor\": \"none\", \"edgewidth\": 1.0, \"zorder\": 1}, {\"data\": \"data01\", \"xindex\": 51, \"yindex\": 1, \"coordinates\": \"data\", \"pathcodes\": [\"M\", \"L\", \"L\", \"L\", \"Z\"], \"id\": \"el14669140415433598064\", \"dasharray\": \"none\", \"alpha\": 1, \"facecolor\": \"#FF7F0E\", \"edgecolor\": \"none\", \"edgewidth\": 1.0, \"zorder\": 1}, {\"data\": \"data01\", \"xindex\": 52, \"yindex\": 1, \"coordinates\": \"data\", \"pathcodes\": [\"M\", \"L\", \"L\", \"L\", \"Z\"], \"id\": \"el14669140415433598904\", \"dasharray\": \"none\", \"alpha\": 1, \"facecolor\": \"#FF7F0E\", \"edgecolor\": \"none\", \"edgewidth\": 1.0, \"zorder\": 1}, {\"data\": \"data01\", \"xindex\": 53, \"yindex\": 1, \"coordinates\": \"data\", \"pathcodes\": [\"M\", \"L\", \"L\", \"L\", \"Z\"], \"id\": \"el14669140415433599744\", \"dasharray\": \"none\", \"alpha\": 1, \"facecolor\": \"#FF7F0E\", \"edgecolor\": \"none\", \"edgewidth\": 1.0, \"zorder\": 1}, {\"data\": \"data01\", \"xindex\": 54, \"yindex\": 59, \"coordinates\": \"data\", \"pathcodes\": [\"M\", \"L\", \"L\", \"L\", \"Z\"], \"id\": \"el14669140415433600584\", \"dasharray\": \"none\", \"alpha\": 1, \"facecolor\": \"#FF7F0E\", \"edgecolor\": \"none\", \"edgewidth\": 1.0, \"zorder\": 1}, {\"data\": \"data01\", \"xindex\": 60, \"yindex\": 1, \"coordinates\": \"data\", \"pathcodes\": [\"M\", \"L\", \"L\", \"L\", \"Z\"], \"id\": \"el14669140415433662928\", \"dasharray\": \"none\", \"alpha\": 1, \"facecolor\": \"#FF7F0E\", \"edgecolor\": \"none\", \"edgewidth\": 1.0, \"zorder\": 1}, {\"data\": \"data03\", \"xindex\": 0, \"yindex\": 2, \"coordinates\": \"data\", \"pathcodes\": [\"M\", \"L\", \"L\", \"L\", \"Z\"], \"id\": \"el14669140415433663768\", \"dasharray\": \"none\", \"alpha\": 1, \"facecolor\": \"#FF7F0E\", \"edgecolor\": \"none\", \"edgewidth\": 1.0, \"zorder\": 1}, {\"data\": \"data04\", \"xindex\": 0, \"yindex\": 2, \"coordinates\": \"data\", \"pathcodes\": [\"M\", \"L\", \"L\", \"L\", \"Z\"], \"id\": \"el14669140415433664608\", \"dasharray\": \"none\", \"alpha\": 1, \"facecolor\": \"#FF7F0E\", \"edgecolor\": \"none\", \"edgewidth\": 1.0, \"zorder\": 1}, {\"data\": \"data05\", \"xindex\": 0, \"yindex\": 3, \"coordinates\": \"data\", \"pathcodes\": [\"M\", \"L\", \"L\", \"L\", \"Z\"], \"id\": \"el14669140415433665448\", \"dasharray\": \"none\", \"alpha\": 1, \"facecolor\": \"#FF7F0E\", \"edgecolor\": \"none\", \"edgewidth\": 1.0, \"zorder\": 1}, {\"data\": \"data03\", \"xindex\": 3, \"yindex\": 1, \"coordinates\": \"data\", \"pathcodes\": [\"M\", \"L\", \"L\", \"L\", \"Z\"], \"id\": \"el14669140415433666288\", \"dasharray\": \"none\", \"alpha\": 1, \"facecolor\": \"#FF7F0E\", \"edgecolor\": \"none\", \"edgewidth\": 1.0, \"zorder\": 1}, {\"data\": \"data07\", \"xindex\": 0, \"yindex\": 2, \"coordinates\": \"data\", \"pathcodes\": [\"M\", \"L\", \"L\", \"L\", \"Z\"], \"id\": \"el14669140415433753208\", \"dasharray\": \"none\", \"alpha\": 1, \"facecolor\": \"#FF7F0E\", \"edgecolor\": \"none\", \"edgewidth\": 1.0, \"zorder\": 1}, {\"data\": \"data08\", \"xindex\": 0, \"yindex\": 2, \"coordinates\": \"data\", \"pathcodes\": [\"M\", \"L\", \"L\", \"L\", \"Z\"], \"id\": \"el14669140415433754048\", \"dasharray\": \"none\", \"alpha\": 1, \"facecolor\": \"#FF7F0E\", \"edgecolor\": \"none\", \"edgewidth\": 1.0, \"zorder\": 1}, {\"data\": \"data09\", \"xindex\": 0, \"yindex\": 2, \"coordinates\": \"data\", \"pathcodes\": [\"M\", \"L\", \"L\", \"L\", \"Z\"], \"id\": \"el14669140415433754888\", \"dasharray\": \"none\", \"alpha\": 1, \"facecolor\": \"#FF7F0E\", \"edgecolor\": \"none\", \"edgewidth\": 1.0, \"zorder\": 1}, {\"data\": \"data10\", \"xindex\": 0, \"yindex\": 2, \"coordinates\": \"data\", \"pathcodes\": [\"M\", \"L\", \"L\", \"L\", \"Z\"], \"id\": \"el14669140415433755728\", \"dasharray\": \"none\", \"alpha\": 1, \"facecolor\": \"#FF7F0E\", \"edgecolor\": \"none\", \"edgewidth\": 1.0, \"zorder\": 1}, {\"data\": \"data11\", \"xindex\": 0, \"yindex\": 2, \"coordinates\": \"data\", \"pathcodes\": [\"M\", \"L\", \"L\", \"L\", \"Z\"], \"id\": \"el14669140415433756568\", \"dasharray\": \"none\", \"alpha\": 1, \"facecolor\": \"#FF7F0E\", \"edgecolor\": \"none\", \"edgewidth\": 1.0, \"zorder\": 1}, {\"data\": \"data12\", \"xindex\": 0, \"yindex\": 2, \"coordinates\": \"data\", \"pathcodes\": [\"M\", \"L\", \"L\", \"L\", \"Z\"], \"id\": \"el14669140415442993952\", \"dasharray\": \"none\", \"alpha\": 1, \"facecolor\": \"#FF7F0E\", \"edgecolor\": \"none\", \"edgewidth\": 1.0, \"zorder\": 1}, {\"data\": \"data13\", \"xindex\": 0, \"yindex\": 2, \"coordinates\": \"data\", \"pathcodes\": [\"M\", \"L\", \"L\", \"L\", \"Z\"], \"id\": \"el14669140415442994792\", \"dasharray\": \"none\", \"alpha\": 1, \"facecolor\": \"#FF7F0E\", \"edgecolor\": \"none\", \"edgewidth\": 1.0, \"zorder\": 1}, {\"data\": \"data14\", \"xindex\": 0, \"yindex\": 2, \"coordinates\": \"data\", \"pathcodes\": [\"M\", \"L\", \"L\", \"L\", \"Z\"], \"id\": \"el14669140415442995632\", \"dasharray\": \"none\", \"alpha\": 1, \"facecolor\": \"#FF7F0E\", \"edgecolor\": \"none\", \"edgewidth\": 1.0, \"zorder\": 1}, {\"data\": \"data15\", \"xindex\": 0, \"yindex\": 2, \"coordinates\": \"data\", \"pathcodes\": [\"M\", \"L\", \"L\", \"L\", \"Z\"], \"id\": \"el14669140415442996472\", \"dasharray\": \"none\", \"alpha\": 1, \"facecolor\": \"#FF7F0E\", \"edgecolor\": \"none\", \"edgewidth\": 1.0, \"zorder\": 1}, {\"data\": \"data16\", \"xindex\": 0, \"yindex\": 2, \"coordinates\": \"data\", \"pathcodes\": [\"M\", \"L\", \"L\", \"L\", \"Z\"], \"id\": \"el14669140415443062912\", \"dasharray\": \"none\", \"alpha\": 1, \"facecolor\": \"#FF7F0E\", \"edgecolor\": \"none\", \"edgewidth\": 1.0, \"zorder\": 1}, {\"data\": \"data17\", \"xindex\": 0, \"yindex\": 2, \"coordinates\": \"data\", \"pathcodes\": [\"M\", \"L\", \"L\", \"L\", \"Z\"], \"id\": \"el14669140415443063752\", \"dasharray\": \"none\", \"alpha\": 1, \"facecolor\": \"#FF7F0E\", \"edgecolor\": \"none\", \"edgewidth\": 1.0, \"zorder\": 1}, {\"data\": \"data18\", \"xindex\": 0, \"yindex\": 2, \"coordinates\": \"data\", \"pathcodes\": [\"M\", \"L\", \"L\", \"L\", \"Z\"], \"id\": \"el14669140415443064592\", \"dasharray\": \"none\", \"alpha\": 1, \"facecolor\": \"#FF7F0E\", \"edgecolor\": \"none\", \"edgewidth\": 1.0, \"zorder\": 1}, {\"data\": \"data19\", \"xindex\": 0, \"yindex\": 2, \"coordinates\": \"data\", \"pathcodes\": [\"M\", \"L\", \"L\", \"L\", \"Z\"], \"id\": \"el14669140415443065432\", \"dasharray\": \"none\", \"alpha\": 1, \"facecolor\": \"#FF7F0E\", \"edgecolor\": \"none\", \"edgewidth\": 1.0, \"zorder\": 1}, {\"data\": \"data20\", \"xindex\": 0, \"yindex\": 2, \"coordinates\": \"data\", \"pathcodes\": [\"M\", \"L\", \"L\", \"L\", \"Z\"], \"id\": \"el14669140415443066272\", \"dasharray\": \"none\", \"alpha\": 1, \"facecolor\": \"#FF7F0E\", \"edgecolor\": \"none\", \"edgewidth\": 1.0, \"zorder\": 1}, {\"data\": \"data21\", \"xindex\": 0, \"yindex\": 2, \"coordinates\": \"data\", \"pathcodes\": [\"M\", \"L\", \"L\", \"L\", \"Z\"], \"id\": \"el14669140415443149096\", \"dasharray\": \"none\", \"alpha\": 1, \"facecolor\": \"#FF7F0E\", \"edgecolor\": \"none\", \"edgewidth\": 1.0, \"zorder\": 1}, {\"data\": \"data22\", \"xindex\": 0, \"yindex\": 2, \"coordinates\": \"data\", \"pathcodes\": [\"M\", \"L\", \"L\", \"L\", \"Z\"], \"id\": \"el14669140415443149936\", \"dasharray\": \"none\", \"alpha\": 1, \"facecolor\": \"#FF7F0E\", \"edgecolor\": \"none\", \"edgewidth\": 1.0, \"zorder\": 1}, {\"data\": \"data23\", \"xindex\": 0, \"yindex\": 2, \"coordinates\": \"data\", \"pathcodes\": [\"M\", \"L\", \"L\", \"L\", \"Z\"], \"id\": \"el14669140415443150776\", \"dasharray\": \"none\", \"alpha\": 1, \"facecolor\": \"#FF7F0E\", \"edgecolor\": \"none\", \"edgewidth\": 1.0, \"zorder\": 1}, {\"data\": \"data05\", \"xindex\": 2, \"yindex\": 4, \"coordinates\": \"data\", \"pathcodes\": [\"M\", \"L\", \"L\", \"L\", \"Z\"], \"id\": \"el14669140415443151616\", \"dasharray\": \"none\", \"alpha\": 1, \"facecolor\": \"#FF7F0E\", \"edgecolor\": \"none\", \"edgewidth\": 1.0, \"zorder\": 1}, {\"data\": \"data24\", \"xindex\": 0, \"yindex\": 2, \"coordinates\": \"data\", \"pathcodes\": [\"M\", \"L\", \"L\", \"L\", \"Z\"], \"id\": \"el14669140415443152456\", \"dasharray\": \"none\", \"alpha\": 1, \"facecolor\": \"#FF7F0E\", \"edgecolor\": \"none\", \"edgewidth\": 1.0, \"zorder\": 1}, {\"data\": \"data25\", \"xindex\": 0, \"yindex\": 2, \"coordinates\": \"data\", \"pathcodes\": [\"M\", \"L\", \"L\", \"L\", \"Z\"], \"id\": \"el14669140415443214800\", \"dasharray\": \"none\", \"alpha\": 1, \"facecolor\": \"#FF7F0E\", \"edgecolor\": \"none\", \"edgewidth\": 1.0, \"zorder\": 1}, {\"data\": \"data26\", \"xindex\": 0, \"yindex\": 2, \"coordinates\": \"data\", \"pathcodes\": [\"M\", \"L\", \"L\", \"L\", \"Z\"], \"id\": \"el14669140415443215640\", \"dasharray\": \"none\", \"alpha\": 1, \"facecolor\": \"#FF7F0E\", \"edgecolor\": \"none\", \"edgewidth\": 1.0, \"zorder\": 1}, {\"data\": \"data27\", \"xindex\": 0, \"yindex\": 2, \"coordinates\": \"data\", \"pathcodes\": [\"M\", \"L\", \"L\", \"L\", \"Z\"], \"id\": \"el14669140415443216480\", \"dasharray\": \"none\", \"alpha\": 1, \"facecolor\": \"#FF7F0E\", \"edgecolor\": \"none\", \"edgewidth\": 1.0, \"zorder\": 1}, {\"data\": \"data28\", \"xindex\": 0, \"yindex\": 2, \"coordinates\": \"data\", \"pathcodes\": [\"M\", \"L\", \"L\", \"L\", \"Z\"], \"id\": \"el14669140415443217320\", \"dasharray\": \"none\", \"alpha\": 1, \"facecolor\": \"#FF7F0E\", \"edgecolor\": \"none\", \"edgewidth\": 1.0, \"zorder\": 1}, {\"data\": \"data08\", \"xindex\": 3, \"yindex\": 2, \"coordinates\": \"data\", \"pathcodes\": [\"M\", \"L\", \"L\", \"L\", \"Z\"], \"id\": \"el14669140415443218160\", \"dasharray\": \"none\", \"alpha\": 1, \"facecolor\": \"#FF7F0E\", \"edgecolor\": \"none\", \"edgewidth\": 1.0, \"zorder\": 1}, {\"data\": \"data30\", \"xindex\": 0, \"yindex\": 2, \"coordinates\": \"data\", \"pathcodes\": [\"M\", \"L\", \"L\", \"L\", \"Z\"], \"id\": \"el14669140415442506360\", \"dasharray\": \"none\", \"alpha\": 1, \"facecolor\": \"#FF7F0E\", \"edgecolor\": \"none\", \"edgewidth\": 1.0, \"zorder\": 1}, {\"data\": \"data31\", \"xindex\": 0, \"yindex\": 10, \"coordinates\": \"data\", \"pathcodes\": [\"M\", \"L\", \"L\", \"L\", \"Z\"], \"id\": \"el14669140415442507200\", \"dasharray\": \"none\", \"alpha\": 1, \"facecolor\": \"#FF7F0E\", \"edgecolor\": \"none\", \"edgewidth\": 1.0, \"zorder\": 1}, {\"data\": \"data32\", \"xindex\": 0, \"yindex\": 3, \"coordinates\": \"data\", \"pathcodes\": [\"M\", \"L\", \"L\", \"L\", \"Z\"], \"id\": \"el14669140415442508040\", \"dasharray\": \"none\", \"alpha\": 1, \"facecolor\": \"#FF7F0E\", \"edgecolor\": \"none\", \"edgewidth\": 1.0, \"zorder\": 1}, {\"data\": \"data04\", \"xindex\": 3, \"yindex\": 2, \"coordinates\": \"data\", \"pathcodes\": [\"M\", \"L\", \"L\", \"L\", \"Z\"], \"id\": \"el14669140415442508880\", \"dasharray\": \"none\", \"alpha\": 1, \"facecolor\": \"#FF7F0E\", \"edgecolor\": \"none\", \"edgewidth\": 1.0, \"zorder\": 1}, {\"data\": \"data02\", \"xindex\": 2, \"yindex\": 3, \"coordinates\": \"data\", \"pathcodes\": [\"M\", \"L\", \"L\", \"L\", \"Z\"], \"id\": \"el14669140415442509720\", \"dasharray\": \"none\", \"alpha\": 1, \"facecolor\": \"#FF7F0E\", \"edgecolor\": \"none\", \"edgewidth\": 1.0, \"zorder\": 1}, {\"data\": \"data05\", \"xindex\": 5, \"yindex\": 3, \"coordinates\": \"data\", \"pathcodes\": [\"M\", \"L\", \"L\", \"L\", \"Z\"], \"id\": \"el14669140415442600736\", \"dasharray\": \"none\", \"alpha\": 1, \"facecolor\": \"#FF7F0E\", \"edgecolor\": \"none\", \"edgewidth\": 1.0, \"zorder\": 1}, {\"data\": \"data02\", \"xindex\": 4, \"yindex\": 1, \"coordinates\": \"data\", \"pathcodes\": [\"M\", \"L\", \"L\", \"L\", \"Z\"], \"id\": \"el14669140415442601576\", \"dasharray\": \"none\", \"alpha\": 1, \"facecolor\": \"#FF7F0E\", \"edgecolor\": \"none\", \"edgewidth\": 1.0, \"zorder\": 1}, {\"data\": \"data01\", \"xindex\": 55, \"yindex\": 61, \"coordinates\": \"data\", \"pathcodes\": [\"M\", \"L\", \"L\", \"L\", \"Z\"], \"id\": \"el14669140415442602416\", \"dasharray\": \"none\", \"alpha\": 1, \"facecolor\": \"#FF7F0E\", \"edgecolor\": \"none\", \"edgewidth\": 1.0, \"zorder\": 1}, {\"data\": \"data03\", \"xindex\": 4, \"yindex\": 2, \"coordinates\": \"data\", \"pathcodes\": [\"M\", \"L\", \"L\", \"L\", \"Z\"], \"id\": \"el14669140415442603256\", \"dasharray\": \"none\", \"alpha\": 1, \"facecolor\": \"#FF7F0E\", \"edgecolor\": \"none\", \"edgewidth\": 1.0, \"zorder\": 1}, {\"data\": \"data02\", \"xindex\": 5, \"yindex\": 1, \"coordinates\": \"data\", \"pathcodes\": [\"M\", \"L\", \"L\", \"L\", \"Z\"], \"id\": \"el14669140415442657408\", \"dasharray\": \"none\", \"alpha\": 1, \"facecolor\": \"#FF7F0E\", \"edgecolor\": \"none\", \"edgewidth\": 1.0, \"zorder\": 1}, {\"data\": \"data03\", \"xindex\": 5, \"yindex\": 2, \"coordinates\": \"data\", \"pathcodes\": [\"M\", \"L\", \"L\", \"L\", \"Z\"], \"id\": \"el14669140415442658248\", \"dasharray\": \"none\", \"alpha\": 1, \"facecolor\": \"#FF7F0E\", \"edgecolor\": \"none\", \"edgewidth\": 1.0, \"zorder\": 1}, {\"data\": \"data03\", \"xindex\": 6, \"yindex\": 2, \"coordinates\": \"data\", \"pathcodes\": [\"M\", \"L\", \"L\", \"L\", \"Z\"], \"id\": \"el14669140415442659088\", \"dasharray\": \"none\", \"alpha\": 1, \"facecolor\": \"#FF7F0E\", \"edgecolor\": \"none\", \"edgewidth\": 1.0, \"zorder\": 1}, {\"data\": \"data01\", \"xindex\": 62, \"yindex\": 1, \"coordinates\": \"data\", \"pathcodes\": [\"M\", \"L\", \"L\", \"L\", \"Z\"], \"id\": \"el14669140415442659928\", \"dasharray\": \"none\", \"alpha\": 1, \"facecolor\": \"#FF7F0E\", \"edgecolor\": \"none\", \"edgewidth\": 1.0, \"zorder\": 1}, {\"data\": \"data01\", \"xindex\": 63, \"yindex\": 1, \"coordinates\": \"data\", \"pathcodes\": [\"M\", \"L\", \"L\", \"L\", \"Z\"], \"id\": \"el14669140415442660768\", \"dasharray\": \"none\", \"alpha\": 1, \"facecolor\": \"#FF7F0E\", \"edgecolor\": \"none\", \"edgewidth\": 1.0, \"zorder\": 1}, {\"data\": \"data01\", \"xindex\": 56, \"yindex\": 1, \"coordinates\": \"data\", \"pathcodes\": [\"M\", \"L\", \"L\", \"L\", \"Z\"], \"id\": \"el14669140415441686824\", \"dasharray\": \"none\", \"alpha\": 1, \"facecolor\": \"#FF7F0E\", \"edgecolor\": \"none\", \"edgewidth\": 1.0, \"zorder\": 1}, {\"data\": \"data01\", \"xindex\": 57, \"yindex\": 1, \"coordinates\": \"data\", \"pathcodes\": [\"M\", \"L\", \"L\", \"L\", \"Z\"], \"id\": \"el14669140415441687664\", \"dasharray\": \"none\", \"alpha\": 1, \"facecolor\": \"#FF7F0E\", \"edgecolor\": \"none\", \"edgewidth\": 1.0, \"zorder\": 1}, {\"data\": \"data01\", \"xindex\": 58, \"yindex\": 64, \"coordinates\": \"data\", \"pathcodes\": [\"M\", \"L\", \"L\", \"L\", \"Z\"], \"id\": \"el14669140415441688504\", \"dasharray\": \"none\", \"alpha\": 1, \"facecolor\": \"#FF7F0E\", \"edgecolor\": \"none\", \"edgewidth\": 1.0, \"zorder\": 1}], \"markers\": [], \"texts\": [], \"collections\": [], \"images\": [], \"sharex\": [], \"sharey\": []}], \"data\": {\"data01\": [[-10.0, 0.0, -9.8, -9.6, -9.400000000000002, -9.2, -9.0, -8.8, -8.6, -8.400000000000002, -8.2, -8.0, -7.799999999999999, -7.6, -7.4, -7.199999999999999, -7.0, -6.799999999999999, -6.6, -6.4, -6.199999999999999, -6.0, -5.799999999999999, -5.6, -5.399999999999999, -5.199999999999999, -5.0, -4.799999999999999, -4.6, -4.399999999999999, -4.199999999999999, -4.0, -3.8, -3.5999999999999996, -3.3999999999999995, -3.1999999999999993, -3.0, -2.8, -2.5999999999999996, -2.3999999999999995, -2.1999999999999993, -2.0, -1.799999999999999, -1.5999999999999996, -1.4000000000000004, -1.1999999999999993, -1.0, -0.7999999999999989, -0.5999999999999996, -0.3999999999999986, -0.1999999999999993, 0.0, 0.20000000000000107, 0.40000000000000036, 0.6000000000000014, 8.0, 9.400000000000002, 9.600000000000001, 9.8, 0.0, 0.8000000000000007, 0.0, 9.0, 9.200000000000003, 0.0], [-9.8, 0.0, -9.6, -9.4, -9.200000000000001, -9.0, -8.8, -8.6, -8.4, -8.200000000000001, -8.0, -7.8, -7.599999999999999, -7.4, -7.199999999999999, -7.0, -6.8, -6.599999999999999, -6.4, -6.199999999999999, -6.0, -5.8, -5.599999999999999, -5.3999999999999995, -5.199999999999998, -5.0, -4.8, -4.599999999999999, -4.3999999999999995, -4.199999999999998, -4.0, -3.8, -3.5999999999999996, -3.3999999999999995, -3.1999999999999993, -3.0, -2.8, -2.5999999999999996, -2.3999999999999995, -2.1999999999999993, -2.0, -1.799999999999999, -1.5999999999999996, -1.4000000000000004, -1.1999999999999993, -1.0, -0.7999999999999989, -0.5999999999999996, -0.3999999999999986, -0.1999999999999993, 0.0, 0.20000000000000107, 0.40000000000000036, 0.6000000000000014, 0.8000000000000007, 8.2, 9.600000000000001, 9.8, 10.0, 0.0, 1.0, 0.0, 9.200000000000003, 9.400000000000002, 0.0], [-9.8, 0.0, -9.6, -9.4, -9.200000000000001, -9.0, -8.8, -8.6, -8.4, -8.200000000000001, -8.0, -7.8, -7.599999999999999, -7.4, -7.199999999999999, -7.0, -6.8, -6.599999999999999, -6.4, -6.199999999999999, -6.0, -5.8, -5.599999999999999, -5.3999999999999995, -5.199999999999998, -5.0, -4.8, -4.599999999999999, -4.3999999999999995, -4.199999999999998, -4.0, -3.8, -3.5999999999999996, -3.3999999999999995, -3.1999999999999993, -3.0, -2.8, -2.5999999999999996, -2.3999999999999995, -2.1999999999999993, -2.0, -1.799999999999999, -1.5999999999999996, -1.4000000000000004, -1.1999999999999993, -1.0, -0.7999999999999989, -0.5999999999999996, -0.3999999999999986, -0.1999999999999993, 0.0, 0.20000000000000107, 0.40000000000000036, 0.6000000000000014, 0.8000000000000007, 8.2, 9.600000000000001, 9.8, 10.0, 3.0, 1.0, 4.0, 9.200000000000003, 9.400000000000002, 1.0], [-10.0, 0.0, -9.8, -9.6, -9.400000000000002, -9.2, -9.0, -8.8, -8.6, -8.400000000000002, -8.2, -8.0, -7.799999999999999, -7.6, -7.4, -7.199999999999999, -7.0, -6.799999999999999, -6.6, -6.4, -6.199999999999999, -6.0, -5.799999999999999, -5.6, -5.399999999999999, -5.199999999999999, -5.0, -4.799999999999999, -4.6, -4.399999999999999, -4.199999999999999, -4.0, -3.8, -3.5999999999999996, -3.3999999999999995, -3.1999999999999993, -3.0, -2.8, -2.5999999999999996, -2.3999999999999995, -2.1999999999999993, -2.0, -1.799999999999999, -1.5999999999999996, -1.4000000000000004, -1.1999999999999993, -1.0, -0.7999999999999989, -0.5999999999999996, -0.3999999999999986, -0.1999999999999993, 0.0, 0.20000000000000107, 0.40000000000000036, 0.6000000000000014, 8.0, 9.400000000000002, 9.600000000000001, 9.8, 3.0, 0.8000000000000007, 4.0, 9.0, 9.200000000000003, 1.0]], \"data02\": [[0.8000000000000007, 0.0, 7.400000000000002, 0.0, 7.800000000000001, 8.400000000000002], [1.0, 0.0, 7.600000000000001, 0.0, 8.0, 8.600000000000001], [1.0, 2.0, 7.600000000000001, 7.0, 8.0, 8.600000000000001], [0.8000000000000007, 2.0, 7.400000000000002, 7.0, 7.800000000000001, 8.400000000000002]], \"data03\": [[1.0, 0.0, 0.0, 1.6000000000000014, 8.2, 8.600000000000001, 8.8], [1.200000000000001, 0.0, 0.0, 1.8000000000000007, 8.400000000000002, 8.8, 9.0], [1.200000000000001, 10.0, 1.0, 1.8000000000000007, 8.400000000000002, 8.8, 9.0], [1.0, 10.0, 1.0, 1.6000000000000014, 8.2, 8.600000000000001, 8.8]], \"data04\": [[1.200000000000001, 0.0, 0.0, 7.199999999999999], [1.4000000000000004, 0.0, 0.0, 7.400000000000002], [1.4000000000000004, 29.0, 9.0, 7.400000000000002], [1.200000000000001, 29.0, 9.0, 7.199999999999999]], \"data05\": [[1.4000000000000004, 0.0, 5.200000000000001, 0.0, 0.0, 7.600000000000001], [1.6000000000000014, 0.0, 5.4, 0.0, 0.0, 7.800000000000001], [1.6000000000000014, 87.0, 5.4, 6.0, 78.0, 7.800000000000001], [1.4000000000000004, 87.0, 5.200000000000001, 6.0, 78.0, 7.600000000000001]], \"data06\": [[1.6000000000000014, 0.0], [1.8000000000000007, 0.0], [1.8000000000000007, 163.0], [1.6000000000000014, 163.0]], \"data07\": [[1.8000000000000007, 0.0, 0.0], [2.0, 0.0, 0.0], [2.0, 253.0, 14.0], [1.8000000000000007, 253.0, 14.0]], \"data08\": [[2.0, 0.0, 0.0, 6.400000000000002], [2.200000000000001, 0.0, 0.0, 6.600000000000001], [2.200000000000001, 466.0, 23.0, 6.600000000000001], [2.0, 466.0, 23.0, 6.400000000000002]], \"data09\": [[2.200000000000001, 0.0, 0.0], [2.4000000000000004, 0.0, 0.0], [2.4000000000000004, 719.0, 41.0], [2.200000000000001, 719.0, 41.0]], \"data10\": [[2.4000000000000004, 0.0, 0.0], [2.6000000000000014, 0.0, 0.0], [2.6000000000000014, 958.0, 38.0], [2.4000000000000004, 958.0, 38.0]], \"data11\": [[2.6000000000000014, 0.0, 0.0], [2.8000000000000007, 0.0, 0.0], [2.8000000000000007, 1208.0, 35.0], [2.6000000000000014, 1208.0, 35.0]], \"data12\": [[2.8000000000000007, 0.0, 0.0], [3.0, 0.0, 0.0], [3.0, 1512.0, 71.0], [2.8000000000000007, 1512.0, 71.0]], \"data13\": [[3.0, 0.0, 0.0], [3.200000000000001, 0.0, 0.0], [3.200000000000001, 1661.0, 60.0], [3.0, 1661.0, 60.0]], \"data14\": [[3.200000000000001, 0.0, 0.0], [3.4000000000000004, 0.0, 0.0], [3.4000000000000004, 1667.0, 84.0], [3.200000000000001, 1667.0, 84.0]], \"data15\": [[3.4000000000000004, 0.0, 0.0], [3.6000000000000014, 0.0, 0.0], [3.6000000000000014, 1548.0, 92.0], [3.4000000000000004, 1548.0, 92.0]], \"data16\": [[3.6000000000000014, 0.0, 0.0], [3.8000000000000007, 0.0, 0.0], [3.8000000000000007, 1237.0, 95.0], [3.6000000000000014, 1237.0, 95.0]], \"data17\": [[3.8000000000000007, 0.0, 0.0], [4.0, 0.0, 0.0], [4.0, 1017.0, 129.0], [3.8000000000000007, 1017.0, 129.0]], \"data18\": [[4.0, 0.0, 0.0], [4.200000000000001, 0.0, 0.0], [4.200000000000001, 712.0, 119.0], [4.0, 712.0, 119.0]], \"data19\": [[4.200000000000001, 0.0, 0.0], [4.4, 0.0, 0.0], [4.4, 575.0, 110.0], [4.200000000000001, 575.0, 110.0]], \"data20\": [[4.4, 0.0, 0.0], [4.600000000000001, 0.0, 0.0], [4.600000000000001, 349.0, 125.0], [4.4, 349.0, 125.0]], \"data21\": [[4.600000000000001, 0.0, 0.0], [4.800000000000001, 0.0, 0.0], [4.800000000000001, 260.0, 142.0], [4.600000000000001, 260.0, 142.0]], \"data22\": [[4.800000000000001, 0.0, 0.0], [5.0, 0.0, 0.0], [5.0, 192.0, 127.0], [4.800000000000001, 192.0, 127.0]], \"data23\": [[5.0, 0.0, 0.0], [5.200000000000001, 0.0, 0.0], [5.200000000000001, 123.0, 80.0], [5.0, 123.0, 80.0]], \"data24\": [[5.4, 0.0, 0.0], [5.600000000000001, 0.0, 0.0], [5.600000000000001, 50.0, 67.0], [5.4, 50.0, 67.0]], \"data25\": [[5.600000000000001, 0.0, 0.0], [5.800000000000001, 0.0, 0.0], [5.800000000000001, 37.0, 52.0], [5.600000000000001, 37.0, 52.0]], \"data26\": [[5.800000000000001, 0.0, 0.0], [6.0, 0.0, 0.0], [6.0, 25.0, 65.0], [5.800000000000001, 25.0, 65.0]], \"data27\": [[6.0, 0.0, 0.0], [6.199999999999999, 0.0, 0.0], [6.199999999999999, 11.0, 43.0], [6.0, 11.0, 43.0]], \"data28\": [[6.199999999999999, 0.0, 0.0], [6.400000000000002, 0.0, 0.0], [6.400000000000002, 13.0, 31.0], [6.199999999999999, 13.0, 31.0]], \"data29\": [[6.400000000000002, 0.0], [6.600000000000001, 0.0], [6.600000000000001, 7.0], [6.400000000000002, 7.0]], \"data30\": [[6.600000000000001, 0.0, 0.0], [6.800000000000001, 0.0, 0.0], [6.800000000000001, 5.0, 17.0], [6.600000000000001, 5.0, 17.0]], \"data31\": [[6.800000000000001, 0.0, 7.600000000000001, 7.800000000000001, 8.2, 8.400000000000002, 8.600000000000001, 8.8, 9.0, 9.200000000000003, 0.0], [7.0, 0.0, 7.800000000000001, 8.0, 8.400000000000002, 8.600000000000001, 8.8, 9.0, 9.200000000000003, 9.400000000000002, 0.0], [7.0, 1.0, 7.800000000000001, 8.0, 8.400000000000002, 8.600000000000001, 8.8, 9.0, 9.200000000000003, 9.400000000000002, 19.0], [6.800000000000001, 1.0, 7.600000000000001, 7.800000000000001, 8.2, 8.400000000000002, 8.600000000000001, 8.8, 9.0, 9.200000000000003, 19.0]], \"data32\": [[7.0, 0.0, 7.199999999999999, 0.0], [7.199999999999999, 0.0, 7.400000000000002, 0.0], [7.199999999999999, 3.0, 7.400000000000002, 15.0], [7.0, 3.0, 7.199999999999999, 15.0]]}, \"id\": \"el14669140415437358360\", \"plugins\": [{\"type\": \"reset\"}, {\"type\": \"zoom\", \"button\": true, \"enabled\": false}, {\"type\": \"boxzoom\", \"button\": true, \"enabled\": false}]});\n",
       "      });\n",
       "    });\n",
       "}else{\n",
       "    // require.js not available: dynamically load d3 & mpld3\n",
       "    mpld3_load_lib(\"https://mpld3.github.io/js/d3.v3.min.js\", function(){\n",
       "         mpld3_load_lib(\"https://mpld3.github.io/js/mpld3.v0.3.js\", function(){\n",
       "                 \n",
       "                 mpld3.draw_figure(\"fig_el146691404154373583601556773457\", {\"width\": 432.0, \"height\": 288.0, \"axes\": [{\"bbox\": [0.125, 0.125, 0.775, 0.755], \"xlim\": [-11.0, 11.0], \"ylim\": [0.0, 1750.35], \"xdomain\": [-11.0, 11.0], \"ydomain\": [0.0, 1750.35], \"xscale\": \"linear\", \"yscale\": \"linear\", \"axes\": [{\"position\": \"bottom\", \"nticks\": 11, \"tickvalues\": null, \"tickformat\": null, \"scale\": \"linear\", \"fontsize\": 10.0, \"grid\": {\"gridOn\": true, \"color\": \"#B0B0B0\", \"dasharray\": \"none\", \"alpha\": 1.0}, \"visible\": true}, {\"position\": \"left\", \"nticks\": 10, \"tickvalues\": null, \"tickformat\": null, \"scale\": \"linear\", \"fontsize\": 10.0, \"grid\": {\"gridOn\": true, \"color\": \"#B0B0B0\", \"dasharray\": \"none\", \"alpha\": 1.0}, \"visible\": true}], \"axesbg\": \"#FFFFFF\", \"axesbgalpha\": null, \"zoomable\": true, \"id\": \"el14669140415437359480\", \"lines\": [], \"paths\": [{\"data\": \"data01\", \"xindex\": 0, \"yindex\": 1, \"coordinates\": \"data\", \"pathcodes\": [\"M\", \"L\", \"L\", \"L\", \"Z\"], \"id\": \"el14669140415437765264\", \"dasharray\": \"none\", \"alpha\": 1, \"facecolor\": \"#1F77B4\", \"edgecolor\": \"none\", \"edgewidth\": 1.0, \"zorder\": 1}, {\"data\": \"data01\", \"xindex\": 2, \"yindex\": 1, \"coordinates\": \"data\", \"pathcodes\": [\"M\", \"L\", \"L\", \"L\", \"Z\"], \"id\": \"el14669140415437764592\", \"dasharray\": \"none\", \"alpha\": 1, \"facecolor\": \"#1F77B4\", \"edgecolor\": \"none\", \"edgewidth\": 1.0, \"zorder\": 1}, {\"data\": \"data01\", \"xindex\": 3, \"yindex\": 1, \"coordinates\": \"data\", \"pathcodes\": [\"M\", \"L\", \"L\", \"L\", \"Z\"], \"id\": \"el14669140415448795232\", \"dasharray\": \"none\", \"alpha\": 1, \"facecolor\": \"#1F77B4\", \"edgecolor\": \"none\", \"edgewidth\": 1.0, \"zorder\": 1}, {\"data\": \"data01\", \"xindex\": 4, \"yindex\": 1, \"coordinates\": \"data\", \"pathcodes\": [\"M\", \"L\", \"L\", \"L\", \"Z\"], \"id\": \"el14669140415436727464\", \"dasharray\": \"none\", \"alpha\": 1, \"facecolor\": \"#1F77B4\", \"edgecolor\": \"none\", \"edgewidth\": 1.0, \"zorder\": 1}, {\"data\": \"data01\", \"xindex\": 5, \"yindex\": 1, \"coordinates\": \"data\", \"pathcodes\": [\"M\", \"L\", \"L\", \"L\", \"Z\"], \"id\": \"el14669140415436726624\", \"dasharray\": \"none\", \"alpha\": 1, \"facecolor\": \"#1F77B4\", \"edgecolor\": \"none\", \"edgewidth\": 1.0, \"zorder\": 1}, {\"data\": \"data01\", \"xindex\": 6, \"yindex\": 1, \"coordinates\": \"data\", \"pathcodes\": [\"M\", \"L\", \"L\", \"L\", \"Z\"], \"id\": \"el14669140415436705352\", \"dasharray\": \"none\", \"alpha\": 1, \"facecolor\": \"#1F77B4\", \"edgecolor\": \"none\", \"edgewidth\": 1.0, \"zorder\": 1}, {\"data\": \"data01\", \"xindex\": 7, \"yindex\": 1, \"coordinates\": \"data\", \"pathcodes\": [\"M\", \"L\", \"L\", \"L\", \"Z\"], \"id\": \"el14669140415436704512\", \"dasharray\": \"none\", \"alpha\": 1, \"facecolor\": \"#1F77B4\", \"edgecolor\": \"none\", \"edgewidth\": 1.0, \"zorder\": 1}, {\"data\": \"data01\", \"xindex\": 8, \"yindex\": 1, \"coordinates\": \"data\", \"pathcodes\": [\"M\", \"L\", \"L\", \"L\", \"Z\"], \"id\": \"el14669140415436703672\", \"dasharray\": \"none\", \"alpha\": 1, \"facecolor\": \"#1F77B4\", \"edgecolor\": \"none\", \"edgewidth\": 1.0, \"zorder\": 1}, {\"data\": \"data01\", \"xindex\": 9, \"yindex\": 1, \"coordinates\": \"data\", \"pathcodes\": [\"M\", \"L\", \"L\", \"L\", \"Z\"], \"id\": \"el14669140415453082512\", \"dasharray\": \"none\", \"alpha\": 1, \"facecolor\": \"#1F77B4\", \"edgecolor\": \"none\", \"edgewidth\": 1.0, \"zorder\": 1}, {\"data\": \"data01\", \"xindex\": 10, \"yindex\": 1, \"coordinates\": \"data\", \"pathcodes\": [\"M\", \"L\", \"L\", \"L\", \"Z\"], \"id\": \"el14669140415437735808\", \"dasharray\": \"none\", \"alpha\": 1, \"facecolor\": \"#1F77B4\", \"edgecolor\": \"none\", \"edgewidth\": 1.0, \"zorder\": 1}, {\"data\": \"data01\", \"xindex\": 11, \"yindex\": 1, \"coordinates\": \"data\", \"pathcodes\": [\"M\", \"L\", \"L\", \"L\", \"Z\"], \"id\": \"el14669140415437734968\", \"dasharray\": \"none\", \"alpha\": 1, \"facecolor\": \"#1F77B4\", \"edgecolor\": \"none\", \"edgewidth\": 1.0, \"zorder\": 1}, {\"data\": \"data01\", \"xindex\": 12, \"yindex\": 1, \"coordinates\": \"data\", \"pathcodes\": [\"M\", \"L\", \"L\", \"L\", \"Z\"], \"id\": \"el14669140415437734128\", \"dasharray\": \"none\", \"alpha\": 1, \"facecolor\": \"#1F77B4\", \"edgecolor\": \"none\", \"edgewidth\": 1.0, \"zorder\": 1}, {\"data\": \"data01\", \"xindex\": 13, \"yindex\": 1, \"coordinates\": \"data\", \"pathcodes\": [\"M\", \"L\", \"L\", \"L\", \"Z\"], \"id\": \"el14669140415437704664\", \"dasharray\": \"none\", \"alpha\": 1, \"facecolor\": \"#1F77B4\", \"edgecolor\": \"none\", \"edgewidth\": 1.0, \"zorder\": 1}, {\"data\": \"data01\", \"xindex\": 14, \"yindex\": 1, \"coordinates\": \"data\", \"pathcodes\": [\"M\", \"L\", \"L\", \"L\", \"Z\"], \"id\": \"el14669140415437703824\", \"dasharray\": \"none\", \"alpha\": 1, \"facecolor\": \"#1F77B4\", \"edgecolor\": \"none\", \"edgewidth\": 1.0, \"zorder\": 1}, {\"data\": \"data01\", \"xindex\": 15, \"yindex\": 1, \"coordinates\": \"data\", \"pathcodes\": [\"M\", \"L\", \"L\", \"L\", \"Z\"], \"id\": \"el14669140415440392824\", \"dasharray\": \"none\", \"alpha\": 1, \"facecolor\": \"#1F77B4\", \"edgecolor\": \"none\", \"edgewidth\": 1.0, \"zorder\": 1}, {\"data\": \"data01\", \"xindex\": 16, \"yindex\": 1, \"coordinates\": \"data\", \"pathcodes\": [\"M\", \"L\", \"L\", \"L\", \"Z\"], \"id\": \"el14669140415437651416\", \"dasharray\": \"none\", \"alpha\": 1, \"facecolor\": \"#1F77B4\", \"edgecolor\": \"none\", \"edgewidth\": 1.0, \"zorder\": 1}, {\"data\": \"data01\", \"xindex\": 17, \"yindex\": 1, \"coordinates\": \"data\", \"pathcodes\": [\"M\", \"L\", \"L\", \"L\", \"Z\"], \"id\": \"el14669140415437650576\", \"dasharray\": \"none\", \"alpha\": 1, \"facecolor\": \"#1F77B4\", \"edgecolor\": \"none\", \"edgewidth\": 1.0, \"zorder\": 1}, {\"data\": \"data01\", \"xindex\": 18, \"yindex\": 1, \"coordinates\": \"data\", \"pathcodes\": [\"M\", \"L\", \"L\", \"L\", \"Z\"], \"id\": \"el14669140415454644152\", \"dasharray\": \"none\", \"alpha\": 1, \"facecolor\": \"#1F77B4\", \"edgecolor\": \"none\", \"edgewidth\": 1.0, \"zorder\": 1}, {\"data\": \"data01\", \"xindex\": 19, \"yindex\": 1, \"coordinates\": \"data\", \"pathcodes\": [\"M\", \"L\", \"L\", \"L\", \"Z\"], \"id\": \"el14669140415437915136\", \"dasharray\": \"none\", \"alpha\": 1, \"facecolor\": \"#1F77B4\", \"edgecolor\": \"none\", \"edgewidth\": 1.0, \"zorder\": 1}, {\"data\": \"data01\", \"xindex\": 20, \"yindex\": 1, \"coordinates\": \"data\", \"pathcodes\": [\"M\", \"L\", \"L\", \"L\", \"Z\"], \"id\": \"el14669140415437914184\", \"dasharray\": \"none\", \"alpha\": 1, \"facecolor\": \"#1F77B4\", \"edgecolor\": \"none\", \"edgewidth\": 1.0, \"zorder\": 1}, {\"data\": \"data01\", \"xindex\": 21, \"yindex\": 1, \"coordinates\": \"data\", \"pathcodes\": [\"M\", \"L\", \"L\", \"L\", \"Z\"], \"id\": \"el14669140415437647656\", \"dasharray\": \"none\", \"alpha\": 1, \"facecolor\": \"#1F77B4\", \"edgecolor\": \"none\", \"edgewidth\": 1.0, \"zorder\": 1}, {\"data\": \"data01\", \"xindex\": 22, \"yindex\": 1, \"coordinates\": \"data\", \"pathcodes\": [\"M\", \"L\", \"L\", \"L\", \"Z\"], \"id\": \"el14669140415437540656\", \"dasharray\": \"none\", \"alpha\": 1, \"facecolor\": \"#1F77B4\", \"edgecolor\": \"none\", \"edgewidth\": 1.0, \"zorder\": 1}, {\"data\": \"data01\", \"xindex\": 23, \"yindex\": 1, \"coordinates\": \"data\", \"pathcodes\": [\"M\", \"L\", \"L\", \"L\", \"Z\"], \"id\": \"el14669140415437762632\", \"dasharray\": \"none\", \"alpha\": 1, \"facecolor\": \"#1F77B4\", \"edgecolor\": \"none\", \"edgewidth\": 1.0, \"zorder\": 1}, {\"data\": \"data01\", \"xindex\": 24, \"yindex\": 1, \"coordinates\": \"data\", \"pathcodes\": [\"M\", \"L\", \"L\", \"L\", \"Z\"], \"id\": \"el14669140415437762744\", \"dasharray\": \"none\", \"alpha\": 1, \"facecolor\": \"#1F77B4\", \"edgecolor\": \"none\", \"edgewidth\": 1.0, \"zorder\": 1}, {\"data\": \"data01\", \"xindex\": 25, \"yindex\": 1, \"coordinates\": \"data\", \"pathcodes\": [\"M\", \"L\", \"L\", \"L\", \"Z\"], \"id\": \"el14669140415437694904\", \"dasharray\": \"none\", \"alpha\": 1, \"facecolor\": \"#1F77B4\", \"edgecolor\": \"none\", \"edgewidth\": 1.0, \"zorder\": 1}, {\"data\": \"data01\", \"xindex\": 26, \"yindex\": 1, \"coordinates\": \"data\", \"pathcodes\": [\"M\", \"L\", \"L\", \"L\", \"Z\"], \"id\": \"el14669140415437694064\", \"dasharray\": \"none\", \"alpha\": 1, \"facecolor\": \"#1F77B4\", \"edgecolor\": \"none\", \"edgewidth\": 1.0, \"zorder\": 1}, {\"data\": \"data01\", \"xindex\": 27, \"yindex\": 1, \"coordinates\": \"data\", \"pathcodes\": [\"M\", \"L\", \"L\", \"L\", \"Z\"], \"id\": \"el14669140415437693224\", \"dasharray\": \"none\", \"alpha\": 1, \"facecolor\": \"#1F77B4\", \"edgecolor\": \"none\", \"edgewidth\": 1.0, \"zorder\": 1}, {\"data\": \"data01\", \"xindex\": 28, \"yindex\": 1, \"coordinates\": \"data\", \"pathcodes\": [\"M\", \"L\", \"L\", \"L\", \"Z\"], \"id\": \"el14669140415437696472\", \"dasharray\": \"none\", \"alpha\": 1, \"facecolor\": \"#1F77B4\", \"edgecolor\": \"none\", \"edgewidth\": 1.0, \"zorder\": 1}, {\"data\": \"data01\", \"xindex\": 29, \"yindex\": 1, \"coordinates\": \"data\", \"pathcodes\": [\"M\", \"L\", \"L\", \"L\", \"Z\"], \"id\": \"el14669140415446862592\", \"dasharray\": \"none\", \"alpha\": 1, \"facecolor\": \"#1F77B4\", \"edgecolor\": \"none\", \"edgewidth\": 1.0, \"zorder\": 1}, {\"data\": \"data01\", \"xindex\": 30, \"yindex\": 1, \"coordinates\": \"data\", \"pathcodes\": [\"M\", \"L\", \"L\", \"L\", \"Z\"], \"id\": \"el14669140415446901592\", \"dasharray\": \"none\", \"alpha\": 1, \"facecolor\": \"#1F77B4\", \"edgecolor\": \"none\", \"edgewidth\": 1.0, \"zorder\": 1}, {\"data\": \"data01\", \"xindex\": 31, \"yindex\": 1, \"coordinates\": \"data\", \"pathcodes\": [\"M\", \"L\", \"L\", \"L\", \"Z\"], \"id\": \"el14669140415450906240\", \"dasharray\": \"none\", \"alpha\": 1, \"facecolor\": \"#1F77B4\", \"edgecolor\": \"none\", \"edgewidth\": 1.0, \"zorder\": 1}, {\"data\": \"data01\", \"xindex\": 32, \"yindex\": 1, \"coordinates\": \"data\", \"pathcodes\": [\"M\", \"L\", \"L\", \"L\", \"Z\"], \"id\": \"el14669140415450734488\", \"dasharray\": \"none\", \"alpha\": 1, \"facecolor\": \"#1F77B4\", \"edgecolor\": \"none\", \"edgewidth\": 1.0, \"zorder\": 1}, {\"data\": \"data01\", \"xindex\": 33, \"yindex\": 1, \"coordinates\": \"data\", \"pathcodes\": [\"M\", \"L\", \"L\", \"L\", \"Z\"], \"id\": \"el14669140415450733760\", \"dasharray\": \"none\", \"alpha\": 1, \"facecolor\": \"#1F77B4\", \"edgecolor\": \"none\", \"edgewidth\": 1.0, \"zorder\": 1}, {\"data\": \"data01\", \"xindex\": 34, \"yindex\": 1, \"coordinates\": \"data\", \"pathcodes\": [\"M\", \"L\", \"L\", \"L\", \"Z\"], \"id\": \"el14669140415450732080\", \"dasharray\": \"none\", \"alpha\": 1, \"facecolor\": \"#1F77B4\", \"edgecolor\": \"none\", \"edgewidth\": 1.0, \"zorder\": 1}, {\"data\": \"data01\", \"xindex\": 35, \"yindex\": 1, \"coordinates\": \"data\", \"pathcodes\": [\"M\", \"L\", \"L\", \"L\", \"Z\"], \"id\": \"el14669140415450732584\", \"dasharray\": \"none\", \"alpha\": 1, \"facecolor\": \"#1F77B4\", \"edgecolor\": \"none\", \"edgewidth\": 1.0, \"zorder\": 1}, {\"data\": \"data01\", \"xindex\": 36, \"yindex\": 1, \"coordinates\": \"data\", \"pathcodes\": [\"M\", \"L\", \"L\", \"L\", \"Z\"], \"id\": \"el14669140418589123752\", \"dasharray\": \"none\", \"alpha\": 1, \"facecolor\": \"#1F77B4\", \"edgecolor\": \"none\", \"edgewidth\": 1.0, \"zorder\": 1}, {\"data\": \"data01\", \"xindex\": 37, \"yindex\": 1, \"coordinates\": \"data\", \"pathcodes\": [\"M\", \"L\", \"L\", \"L\", \"Z\"], \"id\": \"el14669140418589125544\", \"dasharray\": \"none\", \"alpha\": 1, \"facecolor\": \"#1F77B4\", \"edgecolor\": \"none\", \"edgewidth\": 1.0, \"zorder\": 1}, {\"data\": \"data01\", \"xindex\": 38, \"yindex\": 1, \"coordinates\": \"data\", \"pathcodes\": [\"M\", \"L\", \"L\", \"L\", \"Z\"], \"id\": \"el14669140418589125376\", \"dasharray\": \"none\", \"alpha\": 1, \"facecolor\": \"#1F77B4\", \"edgecolor\": \"none\", \"edgewidth\": 1.0, \"zorder\": 1}, {\"data\": \"data01\", \"xindex\": 39, \"yindex\": 1, \"coordinates\": \"data\", \"pathcodes\": [\"M\", \"L\", \"L\", \"L\", \"Z\"], \"id\": \"el14669140415443275728\", \"dasharray\": \"none\", \"alpha\": 1, \"facecolor\": \"#1F77B4\", \"edgecolor\": \"none\", \"edgewidth\": 1.0, \"zorder\": 1}, {\"data\": \"data01\", \"xindex\": 40, \"yindex\": 1, \"coordinates\": \"data\", \"pathcodes\": [\"M\", \"L\", \"L\", \"L\", \"Z\"], \"id\": \"el14669140415435936264\", \"dasharray\": \"none\", \"alpha\": 1, \"facecolor\": \"#1F77B4\", \"edgecolor\": \"none\", \"edgewidth\": 1.0, \"zorder\": 1}, {\"data\": \"data01\", \"xindex\": 41, \"yindex\": 1, \"coordinates\": \"data\", \"pathcodes\": [\"M\", \"L\", \"L\", \"L\", \"Z\"], \"id\": \"el14669140415435937104\", \"dasharray\": \"none\", \"alpha\": 1, \"facecolor\": \"#1F77B4\", \"edgecolor\": \"none\", \"edgewidth\": 1.0, \"zorder\": 1}, {\"data\": \"data01\", \"xindex\": 42, \"yindex\": 1, \"coordinates\": \"data\", \"pathcodes\": [\"M\", \"L\", \"L\", \"L\", \"Z\"], \"id\": \"el14669140415435937944\", \"dasharray\": \"none\", \"alpha\": 1, \"facecolor\": \"#1F77B4\", \"edgecolor\": \"none\", \"edgewidth\": 1.0, \"zorder\": 1}, {\"data\": \"data01\", \"xindex\": 43, \"yindex\": 1, \"coordinates\": \"data\", \"pathcodes\": [\"M\", \"L\", \"L\", \"L\", \"Z\"], \"id\": \"el14669140415435938784\", \"dasharray\": \"none\", \"alpha\": 1, \"facecolor\": \"#1F77B4\", \"edgecolor\": \"none\", \"edgewidth\": 1.0, \"zorder\": 1}, {\"data\": \"data01\", \"xindex\": 44, \"yindex\": 1, \"coordinates\": \"data\", \"pathcodes\": [\"M\", \"L\", \"L\", \"L\", \"Z\"], \"id\": \"el14669140415435939624\", \"dasharray\": \"none\", \"alpha\": 1, \"facecolor\": \"#1F77B4\", \"edgecolor\": \"none\", \"edgewidth\": 1.0, \"zorder\": 1}, {\"data\": \"data01\", \"xindex\": 45, \"yindex\": 1, \"coordinates\": \"data\", \"pathcodes\": [\"M\", \"L\", \"L\", \"L\", \"Z\"], \"id\": \"el14669140415436014256\", \"dasharray\": \"none\", \"alpha\": 1, \"facecolor\": \"#1F77B4\", \"edgecolor\": \"none\", \"edgewidth\": 1.0, \"zorder\": 1}, {\"data\": \"data01\", \"xindex\": 46, \"yindex\": 1, \"coordinates\": \"data\", \"pathcodes\": [\"M\", \"L\", \"L\", \"L\", \"Z\"], \"id\": \"el14669140415436015096\", \"dasharray\": \"none\", \"alpha\": 1, \"facecolor\": \"#1F77B4\", \"edgecolor\": \"none\", \"edgewidth\": 1.0, \"zorder\": 1}, {\"data\": \"data01\", \"xindex\": 47, \"yindex\": 1, \"coordinates\": \"data\", \"pathcodes\": [\"M\", \"L\", \"L\", \"L\", \"Z\"], \"id\": \"el14669140415436015936\", \"dasharray\": \"none\", \"alpha\": 1, \"facecolor\": \"#1F77B4\", \"edgecolor\": \"none\", \"edgewidth\": 1.0, \"zorder\": 1}, {\"data\": \"data01\", \"xindex\": 48, \"yindex\": 1, \"coordinates\": \"data\", \"pathcodes\": [\"M\", \"L\", \"L\", \"L\", \"Z\"], \"id\": \"el14669140415436016776\", \"dasharray\": \"none\", \"alpha\": 1, \"facecolor\": \"#1F77B4\", \"edgecolor\": \"none\", \"edgewidth\": 1.0, \"zorder\": 1}, {\"data\": \"data01\", \"xindex\": 49, \"yindex\": 1, \"coordinates\": \"data\", \"pathcodes\": [\"M\", \"L\", \"L\", \"L\", \"Z\"], \"id\": \"el14669140415436017616\", \"dasharray\": \"none\", \"alpha\": 1, \"facecolor\": \"#1F77B4\", \"edgecolor\": \"none\", \"edgewidth\": 1.0, \"zorder\": 1}, {\"data\": \"data01\", \"xindex\": 50, \"yindex\": 1, \"coordinates\": \"data\", \"pathcodes\": [\"M\", \"L\", \"L\", \"L\", \"Z\"], \"id\": \"el14669140415436084056\", \"dasharray\": \"none\", \"alpha\": 1, \"facecolor\": \"#1F77B4\", \"edgecolor\": \"none\", \"edgewidth\": 1.0, \"zorder\": 1}, {\"data\": \"data01\", \"xindex\": 51, \"yindex\": 1, \"coordinates\": \"data\", \"pathcodes\": [\"M\", \"L\", \"L\", \"L\", \"Z\"], \"id\": \"el14669140415436084896\", \"dasharray\": \"none\", \"alpha\": 1, \"facecolor\": \"#1F77B4\", \"edgecolor\": \"none\", \"edgewidth\": 1.0, \"zorder\": 1}, {\"data\": \"data01\", \"xindex\": 52, \"yindex\": 1, \"coordinates\": \"data\", \"pathcodes\": [\"M\", \"L\", \"L\", \"L\", \"Z\"], \"id\": \"el14669140415436085736\", \"dasharray\": \"none\", \"alpha\": 1, \"facecolor\": \"#1F77B4\", \"edgecolor\": \"none\", \"edgewidth\": 1.0, \"zorder\": 1}, {\"data\": \"data01\", \"xindex\": 53, \"yindex\": 1, \"coordinates\": \"data\", \"pathcodes\": [\"M\", \"L\", \"L\", \"L\", \"Z\"], \"id\": \"el14669140415436086576\", \"dasharray\": \"none\", \"alpha\": 1, \"facecolor\": \"#1F77B4\", \"edgecolor\": \"none\", \"edgewidth\": 1.0, \"zorder\": 1}, {\"data\": \"data01\", \"xindex\": 54, \"yindex\": 1, \"coordinates\": \"data\", \"pathcodes\": [\"M\", \"L\", \"L\", \"L\", \"Z\"], \"id\": \"el14669140415436861624\", \"dasharray\": \"none\", \"alpha\": 1, \"facecolor\": \"#1F77B4\", \"edgecolor\": \"none\", \"edgewidth\": 1.0, \"zorder\": 1}, {\"data\": \"data02\", \"xindex\": 0, \"yindex\": 1, \"coordinates\": \"data\", \"pathcodes\": [\"M\", \"L\", \"L\", \"L\", \"Z\"], \"id\": \"el14669140415436862464\", \"dasharray\": \"none\", \"alpha\": 1, \"facecolor\": \"#1F77B4\", \"edgecolor\": \"none\", \"edgewidth\": 1.0, \"zorder\": 1}, {\"data\": \"data03\", \"xindex\": 0, \"yindex\": 1, \"coordinates\": \"data\", \"pathcodes\": [\"M\", \"L\", \"L\", \"L\", \"Z\"], \"id\": \"el14669140415436863304\", \"dasharray\": \"none\", \"alpha\": 1, \"facecolor\": \"#1F77B4\", \"edgecolor\": \"none\", \"edgewidth\": 1.0, \"zorder\": 1}, {\"data\": \"data04\", \"xindex\": 0, \"yindex\": 1, \"coordinates\": \"data\", \"pathcodes\": [\"M\", \"L\", \"L\", \"L\", \"Z\"], \"id\": \"el14669140415436864144\", \"dasharray\": \"none\", \"alpha\": 1, \"facecolor\": \"#1F77B4\", \"edgecolor\": \"none\", \"edgewidth\": 1.0, \"zorder\": 1}, {\"data\": \"data05\", \"xindex\": 0, \"yindex\": 1, \"coordinates\": \"data\", \"pathcodes\": [\"M\", \"L\", \"L\", \"L\", \"Z\"], \"id\": \"el14669140415436864984\", \"dasharray\": \"none\", \"alpha\": 1, \"facecolor\": \"#1F77B4\", \"edgecolor\": \"none\", \"edgewidth\": 1.0, \"zorder\": 1}, {\"data\": \"data06\", \"xindex\": 0, \"yindex\": 1, \"coordinates\": \"data\", \"pathcodes\": [\"M\", \"L\", \"L\", \"L\", \"Z\"], \"id\": \"el14669140415436796256\", \"dasharray\": \"none\", \"alpha\": 1, \"facecolor\": \"#1F77B4\", \"edgecolor\": \"none\", \"edgewidth\": 1.0, \"zorder\": 1}, {\"data\": \"data07\", \"xindex\": 0, \"yindex\": 1, \"coordinates\": \"data\", \"pathcodes\": [\"M\", \"L\", \"L\", \"L\", \"Z\"], \"id\": \"el14669140415436797096\", \"dasharray\": \"none\", \"alpha\": 1, \"facecolor\": \"#1F77B4\", \"edgecolor\": \"none\", \"edgewidth\": 1.0, \"zorder\": 1}, {\"data\": \"data08\", \"xindex\": 0, \"yindex\": 1, \"coordinates\": \"data\", \"pathcodes\": [\"M\", \"L\", \"L\", \"L\", \"Z\"], \"id\": \"el14669140415436797936\", \"dasharray\": \"none\", \"alpha\": 1, \"facecolor\": \"#1F77B4\", \"edgecolor\": \"none\", \"edgewidth\": 1.0, \"zorder\": 1}, {\"data\": \"data09\", \"xindex\": 0, \"yindex\": 1, \"coordinates\": \"data\", \"pathcodes\": [\"M\", \"L\", \"L\", \"L\", \"Z\"], \"id\": \"el14669140415436798776\", \"dasharray\": \"none\", \"alpha\": 1, \"facecolor\": \"#1F77B4\", \"edgecolor\": \"none\", \"edgewidth\": 1.0, \"zorder\": 1}, {\"data\": \"data10\", \"xindex\": 0, \"yindex\": 1, \"coordinates\": \"data\", \"pathcodes\": [\"M\", \"L\", \"L\", \"L\", \"Z\"], \"id\": \"el14669140415436799616\", \"dasharray\": \"none\", \"alpha\": 1, \"facecolor\": \"#1F77B4\", \"edgecolor\": \"none\", \"edgewidth\": 1.0, \"zorder\": 1}, {\"data\": \"data11\", \"xindex\": 0, \"yindex\": 1, \"coordinates\": \"data\", \"pathcodes\": [\"M\", \"L\", \"L\", \"L\", \"Z\"], \"id\": \"el14669140415436833288\", \"dasharray\": \"none\", \"alpha\": 1, \"facecolor\": \"#1F77B4\", \"edgecolor\": \"none\", \"edgewidth\": 1.0, \"zorder\": 1}, {\"data\": \"data12\", \"xindex\": 0, \"yindex\": 1, \"coordinates\": \"data\", \"pathcodes\": [\"M\", \"L\", \"L\", \"L\", \"Z\"], \"id\": \"el14669140415436834128\", \"dasharray\": \"none\", \"alpha\": 1, \"facecolor\": \"#1F77B4\", \"edgecolor\": \"none\", \"edgewidth\": 1.0, \"zorder\": 1}, {\"data\": \"data13\", \"xindex\": 0, \"yindex\": 1, \"coordinates\": \"data\", \"pathcodes\": [\"M\", \"L\", \"L\", \"L\", \"Z\"], \"id\": \"el14669140415436834968\", \"dasharray\": \"none\", \"alpha\": 1, \"facecolor\": \"#1F77B4\", \"edgecolor\": \"none\", \"edgewidth\": 1.0, \"zorder\": 1}, {\"data\": \"data14\", \"xindex\": 0, \"yindex\": 1, \"coordinates\": \"data\", \"pathcodes\": [\"M\", \"L\", \"L\", \"L\", \"Z\"], \"id\": \"el14669140415436835808\", \"dasharray\": \"none\", \"alpha\": 1, \"facecolor\": \"#1F77B4\", \"edgecolor\": \"none\", \"edgewidth\": 1.0, \"zorder\": 1}, {\"data\": \"data15\", \"xindex\": 0, \"yindex\": 1, \"coordinates\": \"data\", \"pathcodes\": [\"M\", \"L\", \"L\", \"L\", \"Z\"], \"id\": \"el14669140415436836648\", \"dasharray\": \"none\", \"alpha\": 1, \"facecolor\": \"#1F77B4\", \"edgecolor\": \"none\", \"edgewidth\": 1.0, \"zorder\": 1}, {\"data\": \"data16\", \"xindex\": 0, \"yindex\": 1, \"coordinates\": \"data\", \"pathcodes\": [\"M\", \"L\", \"L\", \"L\", \"Z\"], \"id\": \"el14669140415434625712\", \"dasharray\": \"none\", \"alpha\": 1, \"facecolor\": \"#1F77B4\", \"edgecolor\": \"none\", \"edgewidth\": 1.0, \"zorder\": 1}, {\"data\": \"data17\", \"xindex\": 0, \"yindex\": 1, \"coordinates\": \"data\", \"pathcodes\": [\"M\", \"L\", \"L\", \"L\", \"Z\"], \"id\": \"el14669140415434626552\", \"dasharray\": \"none\", \"alpha\": 1, \"facecolor\": \"#1F77B4\", \"edgecolor\": \"none\", \"edgewidth\": 1.0, \"zorder\": 1}, {\"data\": \"data18\", \"xindex\": 0, \"yindex\": 1, \"coordinates\": \"data\", \"pathcodes\": [\"M\", \"L\", \"L\", \"L\", \"Z\"], \"id\": \"el14669140415434627392\", \"dasharray\": \"none\", \"alpha\": 1, \"facecolor\": \"#1F77B4\", \"edgecolor\": \"none\", \"edgewidth\": 1.0, \"zorder\": 1}, {\"data\": \"data19\", \"xindex\": 0, \"yindex\": 1, \"coordinates\": \"data\", \"pathcodes\": [\"M\", \"L\", \"L\", \"L\", \"Z\"], \"id\": \"el14669140415434628232\", \"dasharray\": \"none\", \"alpha\": 1, \"facecolor\": \"#1F77B4\", \"edgecolor\": \"none\", \"edgewidth\": 1.0, \"zorder\": 1}, {\"data\": \"data20\", \"xindex\": 0, \"yindex\": 1, \"coordinates\": \"data\", \"pathcodes\": [\"M\", \"L\", \"L\", \"L\", \"Z\"], \"id\": \"el14669140415434629072\", \"dasharray\": \"none\", \"alpha\": 1, \"facecolor\": \"#1F77B4\", \"edgecolor\": \"none\", \"edgewidth\": 1.0, \"zorder\": 1}, {\"data\": \"data21\", \"xindex\": 0, \"yindex\": 1, \"coordinates\": \"data\", \"pathcodes\": [\"M\", \"L\", \"L\", \"L\", \"Z\"], \"id\": \"el14669140415434695512\", \"dasharray\": \"none\", \"alpha\": 1, \"facecolor\": \"#1F77B4\", \"edgecolor\": \"none\", \"edgewidth\": 1.0, \"zorder\": 1}, {\"data\": \"data22\", \"xindex\": 0, \"yindex\": 1, \"coordinates\": \"data\", \"pathcodes\": [\"M\", \"L\", \"L\", \"L\", \"Z\"], \"id\": \"el14669140415434696352\", \"dasharray\": \"none\", \"alpha\": 1, \"facecolor\": \"#1F77B4\", \"edgecolor\": \"none\", \"edgewidth\": 1.0, \"zorder\": 1}, {\"data\": \"data23\", \"xindex\": 0, \"yindex\": 1, \"coordinates\": \"data\", \"pathcodes\": [\"M\", \"L\", \"L\", \"L\", \"Z\"], \"id\": \"el14669140415434697192\", \"dasharray\": \"none\", \"alpha\": 1, \"facecolor\": \"#1F77B4\", \"edgecolor\": \"none\", \"edgewidth\": 1.0, \"zorder\": 1}, {\"data\": \"data05\", \"xindex\": 2, \"yindex\": 1, \"coordinates\": \"data\", \"pathcodes\": [\"M\", \"L\", \"L\", \"L\", \"Z\"], \"id\": \"el14669140415434698032\", \"dasharray\": \"none\", \"alpha\": 1, \"facecolor\": \"#1F77B4\", \"edgecolor\": \"none\", \"edgewidth\": 1.0, \"zorder\": 1}, {\"data\": \"data24\", \"xindex\": 0, \"yindex\": 1, \"coordinates\": \"data\", \"pathcodes\": [\"M\", \"L\", \"L\", \"L\", \"Z\"], \"id\": \"el14669140415434772664\", \"dasharray\": \"none\", \"alpha\": 1, \"facecolor\": \"#1F77B4\", \"edgecolor\": \"none\", \"edgewidth\": 1.0, \"zorder\": 1}, {\"data\": \"data25\", \"xindex\": 0, \"yindex\": 1, \"coordinates\": \"data\", \"pathcodes\": [\"M\", \"L\", \"L\", \"L\", \"Z\"], \"id\": \"el14669140415434773504\", \"dasharray\": \"none\", \"alpha\": 1, \"facecolor\": \"#1F77B4\", \"edgecolor\": \"none\", \"edgewidth\": 1.0, \"zorder\": 1}, {\"data\": \"data26\", \"xindex\": 0, \"yindex\": 1, \"coordinates\": \"data\", \"pathcodes\": [\"M\", \"L\", \"L\", \"L\", \"Z\"], \"id\": \"el14669140415434774344\", \"dasharray\": \"none\", \"alpha\": 1, \"facecolor\": \"#1F77B4\", \"edgecolor\": \"none\", \"edgewidth\": 1.0, \"zorder\": 1}, {\"data\": \"data27\", \"xindex\": 0, \"yindex\": 1, \"coordinates\": \"data\", \"pathcodes\": [\"M\", \"L\", \"L\", \"L\", \"Z\"], \"id\": \"el14669140415434775184\", \"dasharray\": \"none\", \"alpha\": 1, \"facecolor\": \"#1F77B4\", \"edgecolor\": \"none\", \"edgewidth\": 1.0, \"zorder\": 1}, {\"data\": \"data28\", \"xindex\": 0, \"yindex\": 1, \"coordinates\": \"data\", \"pathcodes\": [\"M\", \"L\", \"L\", \"L\", \"Z\"], \"id\": \"el14669140415434776024\", \"dasharray\": \"none\", \"alpha\": 1, \"facecolor\": \"#1F77B4\", \"edgecolor\": \"none\", \"edgewidth\": 1.0, \"zorder\": 1}, {\"data\": \"data29\", \"xindex\": 0, \"yindex\": 1, \"coordinates\": \"data\", \"pathcodes\": [\"M\", \"L\", \"L\", \"L\", \"Z\"], \"id\": \"el14669140415434858848\", \"dasharray\": \"none\", \"alpha\": 1, \"facecolor\": \"#1F77B4\", \"edgecolor\": \"none\", \"edgewidth\": 1.0, \"zorder\": 1}, {\"data\": \"data30\", \"xindex\": 0, \"yindex\": 1, \"coordinates\": \"data\", \"pathcodes\": [\"M\", \"L\", \"L\", \"L\", \"Z\"], \"id\": \"el14669140415434859688\", \"dasharray\": \"none\", \"alpha\": 1, \"facecolor\": \"#1F77B4\", \"edgecolor\": \"none\", \"edgewidth\": 1.0, \"zorder\": 1}, {\"data\": \"data31\", \"xindex\": 0, \"yindex\": 1, \"coordinates\": \"data\", \"pathcodes\": [\"M\", \"L\", \"L\", \"L\", \"Z\"], \"id\": \"el14669140415434860528\", \"dasharray\": \"none\", \"alpha\": 1, \"facecolor\": \"#1F77B4\", \"edgecolor\": \"none\", \"edgewidth\": 1.0, \"zorder\": 1}, {\"data\": \"data32\", \"xindex\": 0, \"yindex\": 1, \"coordinates\": \"data\", \"pathcodes\": [\"M\", \"L\", \"L\", \"L\", \"Z\"], \"id\": \"el14669140415434861368\", \"dasharray\": \"none\", \"alpha\": 1, \"facecolor\": \"#1F77B4\", \"edgecolor\": \"none\", \"edgewidth\": 1.0, \"zorder\": 1}, {\"data\": \"data32\", \"xindex\": 2, \"yindex\": 1, \"coordinates\": \"data\", \"pathcodes\": [\"M\", \"L\", \"L\", \"L\", \"Z\"], \"id\": \"el14669140415434862208\", \"dasharray\": \"none\", \"alpha\": 1, \"facecolor\": \"#1F77B4\", \"edgecolor\": \"none\", \"edgewidth\": 1.0, \"zorder\": 1}, {\"data\": \"data02\", \"xindex\": 2, \"yindex\": 1, \"coordinates\": \"data\", \"pathcodes\": [\"M\", \"L\", \"L\", \"L\", \"Z\"], \"id\": \"el14669140415434400264\", \"dasharray\": \"none\", \"alpha\": 1, \"facecolor\": \"#1F77B4\", \"edgecolor\": \"none\", \"edgewidth\": 1.0, \"zorder\": 1}, {\"data\": \"data31\", \"xindex\": 2, \"yindex\": 1, \"coordinates\": \"data\", \"pathcodes\": [\"M\", \"L\", \"L\", \"L\", \"Z\"], \"id\": \"el14669140415434401104\", \"dasharray\": \"none\", \"alpha\": 1, \"facecolor\": \"#1F77B4\", \"edgecolor\": \"none\", \"edgewidth\": 1.0, \"zorder\": 1}, {\"data\": \"data31\", \"xindex\": 3, \"yindex\": 1, \"coordinates\": \"data\", \"pathcodes\": [\"M\", \"L\", \"L\", \"L\", \"Z\"], \"id\": \"el14669140415434401944\", \"dasharray\": \"none\", \"alpha\": 1, \"facecolor\": \"#1F77B4\", \"edgecolor\": \"none\", \"edgewidth\": 1.0, \"zorder\": 1}, {\"data\": \"data01\", \"xindex\": 55, \"yindex\": 1, \"coordinates\": \"data\", \"pathcodes\": [\"M\", \"L\", \"L\", \"L\", \"Z\"], \"id\": \"el14669140415434402784\", \"dasharray\": \"none\", \"alpha\": 1, \"facecolor\": \"#1F77B4\", \"edgecolor\": \"none\", \"edgewidth\": 1.0, \"zorder\": 1}, {\"data\": \"data31\", \"xindex\": 4, \"yindex\": 1, \"coordinates\": \"data\", \"pathcodes\": [\"M\", \"L\", \"L\", \"L\", \"Z\"], \"id\": \"el14669140415434403624\", \"dasharray\": \"none\", \"alpha\": 1, \"facecolor\": \"#1F77B4\", \"edgecolor\": \"none\", \"edgewidth\": 1.0, \"zorder\": 1}, {\"data\": \"data31\", \"xindex\": 5, \"yindex\": 1, \"coordinates\": \"data\", \"pathcodes\": [\"M\", \"L\", \"L\", \"L\", \"Z\"], \"id\": \"el14669140415434482352\", \"dasharray\": \"none\", \"alpha\": 1, \"facecolor\": \"#1F77B4\", \"edgecolor\": \"none\", \"edgewidth\": 1.0, \"zorder\": 1}, {\"data\": \"data31\", \"xindex\": 6, \"yindex\": 1, \"coordinates\": \"data\", \"pathcodes\": [\"M\", \"L\", \"L\", \"L\", \"Z\"], \"id\": \"el14669140415434483192\", \"dasharray\": \"none\", \"alpha\": 1, \"facecolor\": \"#1F77B4\", \"edgecolor\": \"none\", \"edgewidth\": 1.0, \"zorder\": 1}, {\"data\": \"data31\", \"xindex\": 7, \"yindex\": 1, \"coordinates\": \"data\", \"pathcodes\": [\"M\", \"L\", \"L\", \"L\", \"Z\"], \"id\": \"el14669140415434484032\", \"dasharray\": \"none\", \"alpha\": 1, \"facecolor\": \"#1F77B4\", \"edgecolor\": \"none\", \"edgewidth\": 1.0, \"zorder\": 1}, {\"data\": \"data31\", \"xindex\": 8, \"yindex\": 1, \"coordinates\": \"data\", \"pathcodes\": [\"M\", \"L\", \"L\", \"L\", \"Z\"], \"id\": \"el14669140415434484872\", \"dasharray\": \"none\", \"alpha\": 1, \"facecolor\": \"#1F77B4\", \"edgecolor\": \"none\", \"edgewidth\": 1.0, \"zorder\": 1}, {\"data\": \"data31\", \"xindex\": 9, \"yindex\": 1, \"coordinates\": \"data\", \"pathcodes\": [\"M\", \"L\", \"L\", \"L\", \"Z\"], \"id\": \"el14669140415434485712\", \"dasharray\": \"none\", \"alpha\": 1, \"facecolor\": \"#1F77B4\", \"edgecolor\": \"none\", \"edgewidth\": 1.0, \"zorder\": 1}, {\"data\": \"data01\", \"xindex\": 56, \"yindex\": 1, \"coordinates\": \"data\", \"pathcodes\": [\"M\", \"L\", \"L\", \"L\", \"Z\"], \"id\": \"el14669140415434572632\", \"dasharray\": \"none\", \"alpha\": 1, \"facecolor\": \"#1F77B4\", \"edgecolor\": \"none\", \"edgewidth\": 1.0, \"zorder\": 1}, {\"data\": \"data01\", \"xindex\": 57, \"yindex\": 1, \"coordinates\": \"data\", \"pathcodes\": [\"M\", \"L\", \"L\", \"L\", \"Z\"], \"id\": \"el14669140415434573472\", \"dasharray\": \"none\", \"alpha\": 1, \"facecolor\": \"#1F77B4\", \"edgecolor\": \"none\", \"edgewidth\": 1.0, \"zorder\": 1}, {\"data\": \"data01\", \"xindex\": 58, \"yindex\": 1, \"coordinates\": \"data\", \"pathcodes\": [\"M\", \"L\", \"L\", \"L\", \"Z\"], \"id\": \"el14669140415434574312\", \"dasharray\": \"none\", \"alpha\": 1, \"facecolor\": \"#1F77B4\", \"edgecolor\": \"none\", \"edgewidth\": 1.0, \"zorder\": 1}, {\"data\": \"data01\", \"xindex\": 0, \"yindex\": 1, \"coordinates\": \"data\", \"pathcodes\": [\"M\", \"L\", \"L\", \"L\", \"Z\"], \"id\": \"el14669140415434575544\", \"dasharray\": \"none\", \"alpha\": 1, \"facecolor\": \"#FF7F0E\", \"edgecolor\": \"none\", \"edgewidth\": 1.0, \"zorder\": 1}, {\"data\": \"data01\", \"xindex\": 2, \"yindex\": 1, \"coordinates\": \"data\", \"pathcodes\": [\"M\", \"L\", \"L\", \"L\", \"Z\"], \"id\": \"el14669140415437765152\", \"dasharray\": \"none\", \"alpha\": 1, \"facecolor\": \"#FF7F0E\", \"edgecolor\": \"none\", \"edgewidth\": 1.0, \"zorder\": 1}, {\"data\": \"data01\", \"xindex\": 3, \"yindex\": 1, \"coordinates\": \"data\", \"pathcodes\": [\"M\", \"L\", \"L\", \"L\", \"Z\"], \"id\": \"el14669140415436452976\", \"dasharray\": \"none\", \"alpha\": 1, \"facecolor\": \"#FF7F0E\", \"edgecolor\": \"none\", \"edgewidth\": 1.0, \"zorder\": 1}, {\"data\": \"data01\", \"xindex\": 4, \"yindex\": 1, \"coordinates\": \"data\", \"pathcodes\": [\"M\", \"L\", \"L\", \"L\", \"Z\"], \"id\": \"el14669140415436453816\", \"dasharray\": \"none\", \"alpha\": 1, \"facecolor\": \"#FF7F0E\", \"edgecolor\": \"none\", \"edgewidth\": 1.0, \"zorder\": 1}, {\"data\": \"data01\", \"xindex\": 5, \"yindex\": 1, \"coordinates\": \"data\", \"pathcodes\": [\"M\", \"L\", \"L\", \"L\", \"Z\"], \"id\": \"el14669140415436454656\", \"dasharray\": \"none\", \"alpha\": 1, \"facecolor\": \"#FF7F0E\", \"edgecolor\": \"none\", \"edgewidth\": 1.0, \"zorder\": 1}, {\"data\": \"data01\", \"xindex\": 6, \"yindex\": 1, \"coordinates\": \"data\", \"pathcodes\": [\"M\", \"L\", \"L\", \"L\", \"Z\"], \"id\": \"el14669140415436455496\", \"dasharray\": \"none\", \"alpha\": 1, \"facecolor\": \"#FF7F0E\", \"edgecolor\": \"none\", \"edgewidth\": 1.0, \"zorder\": 1}, {\"data\": \"data01\", \"xindex\": 7, \"yindex\": 1, \"coordinates\": \"data\", \"pathcodes\": [\"M\", \"L\", \"L\", \"L\", \"Z\"], \"id\": \"el14669140415436517840\", \"dasharray\": \"none\", \"alpha\": 1, \"facecolor\": \"#FF7F0E\", \"edgecolor\": \"none\", \"edgewidth\": 1.0, \"zorder\": 1}, {\"data\": \"data01\", \"xindex\": 8, \"yindex\": 1, \"coordinates\": \"data\", \"pathcodes\": [\"M\", \"L\", \"L\", \"L\", \"Z\"], \"id\": \"el14669140415436518680\", \"dasharray\": \"none\", \"alpha\": 1, \"facecolor\": \"#FF7F0E\", \"edgecolor\": \"none\", \"edgewidth\": 1.0, \"zorder\": 1}, {\"data\": \"data01\", \"xindex\": 9, \"yindex\": 1, \"coordinates\": \"data\", \"pathcodes\": [\"M\", \"L\", \"L\", \"L\", \"Z\"], \"id\": \"el14669140415436519520\", \"dasharray\": \"none\", \"alpha\": 1, \"facecolor\": \"#FF7F0E\", \"edgecolor\": \"none\", \"edgewidth\": 1.0, \"zorder\": 1}, {\"data\": \"data01\", \"xindex\": 10, \"yindex\": 1, \"coordinates\": \"data\", \"pathcodes\": [\"M\", \"L\", \"L\", \"L\", \"Z\"], \"id\": \"el14669140415436520360\", \"dasharray\": \"none\", \"alpha\": 1, \"facecolor\": \"#FF7F0E\", \"edgecolor\": \"none\", \"edgewidth\": 1.0, \"zorder\": 1}, {\"data\": \"data01\", \"xindex\": 11, \"yindex\": 1, \"coordinates\": \"data\", \"pathcodes\": [\"M\", \"L\", \"L\", \"L\", \"Z\"], \"id\": \"el14669140415436521200\", \"dasharray\": \"none\", \"alpha\": 1, \"facecolor\": \"#FF7F0E\", \"edgecolor\": \"none\", \"edgewidth\": 1.0, \"zorder\": 1}, {\"data\": \"data01\", \"xindex\": 12, \"yindex\": 1, \"coordinates\": \"data\", \"pathcodes\": [\"M\", \"L\", \"L\", \"L\", \"Z\"], \"id\": \"el14669140415436628600\", \"dasharray\": \"none\", \"alpha\": 1, \"facecolor\": \"#FF7F0E\", \"edgecolor\": \"none\", \"edgewidth\": 1.0, \"zorder\": 1}, {\"data\": \"data01\", \"xindex\": 13, \"yindex\": 1, \"coordinates\": \"data\", \"pathcodes\": [\"M\", \"L\", \"L\", \"L\", \"Z\"], \"id\": \"el14669140415436629440\", \"dasharray\": \"none\", \"alpha\": 1, \"facecolor\": \"#FF7F0E\", \"edgecolor\": \"none\", \"edgewidth\": 1.0, \"zorder\": 1}, {\"data\": \"data01\", \"xindex\": 14, \"yindex\": 1, \"coordinates\": \"data\", \"pathcodes\": [\"M\", \"L\", \"L\", \"L\", \"Z\"], \"id\": \"el14669140415436630280\", \"dasharray\": \"none\", \"alpha\": 1, \"facecolor\": \"#FF7F0E\", \"edgecolor\": \"none\", \"edgewidth\": 1.0, \"zorder\": 1}, {\"data\": \"data01\", \"xindex\": 15, \"yindex\": 1, \"coordinates\": \"data\", \"pathcodes\": [\"M\", \"L\", \"L\", \"L\", \"Z\"], \"id\": \"el14669140415436631120\", \"dasharray\": \"none\", \"alpha\": 1, \"facecolor\": \"#FF7F0E\", \"edgecolor\": \"none\", \"edgewidth\": 1.0, \"zorder\": 1}, {\"data\": \"data01\", \"xindex\": 16, \"yindex\": 1, \"coordinates\": \"data\", \"pathcodes\": [\"M\", \"L\", \"L\", \"L\", \"Z\"], \"id\": \"el14669140415436631960\", \"dasharray\": \"none\", \"alpha\": 1, \"facecolor\": \"#FF7F0E\", \"edgecolor\": \"none\", \"edgewidth\": 1.0, \"zorder\": 1}, {\"data\": \"data01\", \"xindex\": 17, \"yindex\": 1, \"coordinates\": \"data\", \"pathcodes\": [\"M\", \"L\", \"L\", \"L\", \"Z\"], \"id\": \"el14669140415434113824\", \"dasharray\": \"none\", \"alpha\": 1, \"facecolor\": \"#FF7F0E\", \"edgecolor\": \"none\", \"edgewidth\": 1.0, \"zorder\": 1}, {\"data\": \"data01\", \"xindex\": 18, \"yindex\": 1, \"coordinates\": \"data\", \"pathcodes\": [\"M\", \"L\", \"L\", \"L\", \"Z\"], \"id\": \"el14669140415434114664\", \"dasharray\": \"none\", \"alpha\": 1, \"facecolor\": \"#FF7F0E\", \"edgecolor\": \"none\", \"edgewidth\": 1.0, \"zorder\": 1}, {\"data\": \"data01\", \"xindex\": 19, \"yindex\": 1, \"coordinates\": \"data\", \"pathcodes\": [\"M\", \"L\", \"L\", \"L\", \"Z\"], \"id\": \"el14669140415434115504\", \"dasharray\": \"none\", \"alpha\": 1, \"facecolor\": \"#FF7F0E\", \"edgecolor\": \"none\", \"edgewidth\": 1.0, \"zorder\": 1}, {\"data\": \"data01\", \"xindex\": 20, \"yindex\": 1, \"coordinates\": \"data\", \"pathcodes\": [\"M\", \"L\", \"L\", \"L\", \"Z\"], \"id\": \"el14669140415434116344\", \"dasharray\": \"none\", \"alpha\": 1, \"facecolor\": \"#FF7F0E\", \"edgecolor\": \"none\", \"edgewidth\": 1.0, \"zorder\": 1}, {\"data\": \"data01\", \"xindex\": 21, \"yindex\": 1, \"coordinates\": \"data\", \"pathcodes\": [\"M\", \"L\", \"L\", \"L\", \"Z\"], \"id\": \"el14669140415434166400\", \"dasharray\": \"none\", \"alpha\": 1, \"facecolor\": \"#FF7F0E\", \"edgecolor\": \"none\", \"edgewidth\": 1.0, \"zorder\": 1}, {\"data\": \"data01\", \"xindex\": 22, \"yindex\": 1, \"coordinates\": \"data\", \"pathcodes\": [\"M\", \"L\", \"L\", \"L\", \"Z\"], \"id\": \"el14669140415434167240\", \"dasharray\": \"none\", \"alpha\": 1, \"facecolor\": \"#FF7F0E\", \"edgecolor\": \"none\", \"edgewidth\": 1.0, \"zorder\": 1}, {\"data\": \"data01\", \"xindex\": 23, \"yindex\": 1, \"coordinates\": \"data\", \"pathcodes\": [\"M\", \"L\", \"L\", \"L\", \"Z\"], \"id\": \"el14669140415434168080\", \"dasharray\": \"none\", \"alpha\": 1, \"facecolor\": \"#FF7F0E\", \"edgecolor\": \"none\", \"edgewidth\": 1.0, \"zorder\": 1}, {\"data\": \"data01\", \"xindex\": 24, \"yindex\": 1, \"coordinates\": \"data\", \"pathcodes\": [\"M\", \"L\", \"L\", \"L\", \"Z\"], \"id\": \"el14669140415434168920\", \"dasharray\": \"none\", \"alpha\": 1, \"facecolor\": \"#FF7F0E\", \"edgecolor\": \"none\", \"edgewidth\": 1.0, \"zorder\": 1}, {\"data\": \"data01\", \"xindex\": 25, \"yindex\": 1, \"coordinates\": \"data\", \"pathcodes\": [\"M\", \"L\", \"L\", \"L\", \"Z\"], \"id\": \"el14669140415434169760\", \"dasharray\": \"none\", \"alpha\": 1, \"facecolor\": \"#FF7F0E\", \"edgecolor\": \"none\", \"edgewidth\": 1.0, \"zorder\": 1}, {\"data\": \"data01\", \"xindex\": 26, \"yindex\": 1, \"coordinates\": \"data\", \"pathcodes\": [\"M\", \"L\", \"L\", \"L\", \"Z\"], \"id\": \"el14669140415434244392\", \"dasharray\": \"none\", \"alpha\": 1, \"facecolor\": \"#FF7F0E\", \"edgecolor\": \"none\", \"edgewidth\": 1.0, \"zorder\": 1}, {\"data\": \"data01\", \"xindex\": 27, \"yindex\": 1, \"coordinates\": \"data\", \"pathcodes\": [\"M\", \"L\", \"L\", \"L\", \"Z\"], \"id\": \"el14669140415434245232\", \"dasharray\": \"none\", \"alpha\": 1, \"facecolor\": \"#FF7F0E\", \"edgecolor\": \"none\", \"edgewidth\": 1.0, \"zorder\": 1}, {\"data\": \"data01\", \"xindex\": 28, \"yindex\": 1, \"coordinates\": \"data\", \"pathcodes\": [\"M\", \"L\", \"L\", \"L\", \"Z\"], \"id\": \"el14669140415434246072\", \"dasharray\": \"none\", \"alpha\": 1, \"facecolor\": \"#FF7F0E\", \"edgecolor\": \"none\", \"edgewidth\": 1.0, \"zorder\": 1}, {\"data\": \"data01\", \"xindex\": 29, \"yindex\": 1, \"coordinates\": \"data\", \"pathcodes\": [\"M\", \"L\", \"L\", \"L\", \"Z\"], \"id\": \"el14669140415434246912\", \"dasharray\": \"none\", \"alpha\": 1, \"facecolor\": \"#FF7F0E\", \"edgecolor\": \"none\", \"edgewidth\": 1.0, \"zorder\": 1}, {\"data\": \"data01\", \"xindex\": 30, \"yindex\": 1, \"coordinates\": \"data\", \"pathcodes\": [\"M\", \"L\", \"L\", \"L\", \"Z\"], \"id\": \"el14669140415434247752\", \"dasharray\": \"none\", \"alpha\": 1, \"facecolor\": \"#FF7F0E\", \"edgecolor\": \"none\", \"edgewidth\": 1.0, \"zorder\": 1}, {\"data\": \"data01\", \"xindex\": 31, \"yindex\": 1, \"coordinates\": \"data\", \"pathcodes\": [\"M\", \"L\", \"L\", \"L\", \"Z\"], \"id\": \"el14669140415434326480\", \"dasharray\": \"none\", \"alpha\": 1, \"facecolor\": \"#FF7F0E\", \"edgecolor\": \"none\", \"edgewidth\": 1.0, \"zorder\": 1}, {\"data\": \"data01\", \"xindex\": 32, \"yindex\": 1, \"coordinates\": \"data\", \"pathcodes\": [\"M\", \"L\", \"L\", \"L\", \"Z\"], \"id\": \"el14669140415434327320\", \"dasharray\": \"none\", \"alpha\": 1, \"facecolor\": \"#FF7F0E\", \"edgecolor\": \"none\", \"edgewidth\": 1.0, \"zorder\": 1}, {\"data\": \"data01\", \"xindex\": 33, \"yindex\": 1, \"coordinates\": \"data\", \"pathcodes\": [\"M\", \"L\", \"L\", \"L\", \"Z\"], \"id\": \"el14669140415434328160\", \"dasharray\": \"none\", \"alpha\": 1, \"facecolor\": \"#FF7F0E\", \"edgecolor\": \"none\", \"edgewidth\": 1.0, \"zorder\": 1}, {\"data\": \"data01\", \"xindex\": 34, \"yindex\": 1, \"coordinates\": \"data\", \"pathcodes\": [\"M\", \"L\", \"L\", \"L\", \"Z\"], \"id\": \"el14669140415434329000\", \"dasharray\": \"none\", \"alpha\": 1, \"facecolor\": \"#FF7F0E\", \"edgecolor\": \"none\", \"edgewidth\": 1.0, \"zorder\": 1}, {\"data\": \"data01\", \"xindex\": 35, \"yindex\": 1, \"coordinates\": \"data\", \"pathcodes\": [\"M\", \"L\", \"L\", \"L\", \"Z\"], \"id\": \"el14669140415434329840\", \"dasharray\": \"none\", \"alpha\": 1, \"facecolor\": \"#FF7F0E\", \"edgecolor\": \"none\", \"edgewidth\": 1.0, \"zorder\": 1}, {\"data\": \"data01\", \"xindex\": 36, \"yindex\": 1, \"coordinates\": \"data\", \"pathcodes\": [\"M\", \"L\", \"L\", \"L\", \"Z\"], \"id\": \"el14669140415433884280\", \"dasharray\": \"none\", \"alpha\": 1, \"facecolor\": \"#FF7F0E\", \"edgecolor\": \"none\", \"edgewidth\": 1.0, \"zorder\": 1}, {\"data\": \"data01\", \"xindex\": 37, \"yindex\": 1, \"coordinates\": \"data\", \"pathcodes\": [\"M\", \"L\", \"L\", \"L\", \"Z\"], \"id\": \"el14669140415433885120\", \"dasharray\": \"none\", \"alpha\": 1, \"facecolor\": \"#FF7F0E\", \"edgecolor\": \"none\", \"edgewidth\": 1.0, \"zorder\": 1}, {\"data\": \"data01\", \"xindex\": 38, \"yindex\": 1, \"coordinates\": \"data\", \"pathcodes\": [\"M\", \"L\", \"L\", \"L\", \"Z\"], \"id\": \"el14669140415433885960\", \"dasharray\": \"none\", \"alpha\": 1, \"facecolor\": \"#FF7F0E\", \"edgecolor\": \"none\", \"edgewidth\": 1.0, \"zorder\": 1}, {\"data\": \"data01\", \"xindex\": 39, \"yindex\": 1, \"coordinates\": \"data\", \"pathcodes\": [\"M\", \"L\", \"L\", \"L\", \"Z\"], \"id\": \"el14669140415433886800\", \"dasharray\": \"none\", \"alpha\": 1, \"facecolor\": \"#FF7F0E\", \"edgecolor\": \"none\", \"edgewidth\": 1.0, \"zorder\": 1}, {\"data\": \"data01\", \"xindex\": 40, \"yindex\": 1, \"coordinates\": \"data\", \"pathcodes\": [\"M\", \"L\", \"L\", \"L\", \"Z\"], \"id\": \"el14669140415433887640\", \"dasharray\": \"none\", \"alpha\": 1, \"facecolor\": \"#FF7F0E\", \"edgecolor\": \"none\", \"edgewidth\": 1.0, \"zorder\": 1}, {\"data\": \"data01\", \"xindex\": 41, \"yindex\": 1, \"coordinates\": \"data\", \"pathcodes\": [\"M\", \"L\", \"L\", \"L\", \"Z\"], \"id\": \"el14669140415433949984\", \"dasharray\": \"none\", \"alpha\": 1, \"facecolor\": \"#FF7F0E\", \"edgecolor\": \"none\", \"edgewidth\": 1.0, \"zorder\": 1}, {\"data\": \"data01\", \"xindex\": 42, \"yindex\": 1, \"coordinates\": \"data\", \"pathcodes\": [\"M\", \"L\", \"L\", \"L\", \"Z\"], \"id\": \"el14669140415433950824\", \"dasharray\": \"none\", \"alpha\": 1, \"facecolor\": \"#FF7F0E\", \"edgecolor\": \"none\", \"edgewidth\": 1.0, \"zorder\": 1}, {\"data\": \"data01\", \"xindex\": 43, \"yindex\": 1, \"coordinates\": \"data\", \"pathcodes\": [\"M\", \"L\", \"L\", \"L\", \"Z\"], \"id\": \"el14669140415433951664\", \"dasharray\": \"none\", \"alpha\": 1, \"facecolor\": \"#FF7F0E\", \"edgecolor\": \"none\", \"edgewidth\": 1.0, \"zorder\": 1}, {\"data\": \"data01\", \"xindex\": 44, \"yindex\": 1, \"coordinates\": \"data\", \"pathcodes\": [\"M\", \"L\", \"L\", \"L\", \"Z\"], \"id\": \"el14669140415433952504\", \"dasharray\": \"none\", \"alpha\": 1, \"facecolor\": \"#FF7F0E\", \"edgecolor\": \"none\", \"edgewidth\": 1.0, \"zorder\": 1}, {\"data\": \"data01\", \"xindex\": 45, \"yindex\": 1, \"coordinates\": \"data\", \"pathcodes\": [\"M\", \"L\", \"L\", \"L\", \"Z\"], \"id\": \"el14669140415434018944\", \"dasharray\": \"none\", \"alpha\": 1, \"facecolor\": \"#FF7F0E\", \"edgecolor\": \"none\", \"edgewidth\": 1.0, \"zorder\": 1}, {\"data\": \"data01\", \"xindex\": 46, \"yindex\": 1, \"coordinates\": \"data\", \"pathcodes\": [\"M\", \"L\", \"L\", \"L\", \"Z\"], \"id\": \"el14669140415434019784\", \"dasharray\": \"none\", \"alpha\": 1, \"facecolor\": \"#FF7F0E\", \"edgecolor\": \"none\", \"edgewidth\": 1.0, \"zorder\": 1}, {\"data\": \"data01\", \"xindex\": 47, \"yindex\": 1, \"coordinates\": \"data\", \"pathcodes\": [\"M\", \"L\", \"L\", \"L\", \"Z\"], \"id\": \"el14669140415434020624\", \"dasharray\": \"none\", \"alpha\": 1, \"facecolor\": \"#FF7F0E\", \"edgecolor\": \"none\", \"edgewidth\": 1.0, \"zorder\": 1}, {\"data\": \"data01\", \"xindex\": 48, \"yindex\": 1, \"coordinates\": \"data\", \"pathcodes\": [\"M\", \"L\", \"L\", \"L\", \"Z\"], \"id\": \"el14669140415434021464\", \"dasharray\": \"none\", \"alpha\": 1, \"facecolor\": \"#FF7F0E\", \"edgecolor\": \"none\", \"edgewidth\": 1.0, \"zorder\": 1}, {\"data\": \"data01\", \"xindex\": 49, \"yindex\": 1, \"coordinates\": \"data\", \"pathcodes\": [\"M\", \"L\", \"L\", \"L\", \"Z\"], \"id\": \"el14669140415434022304\", \"dasharray\": \"none\", \"alpha\": 1, \"facecolor\": \"#FF7F0E\", \"edgecolor\": \"none\", \"edgewidth\": 1.0, \"zorder\": 1}, {\"data\": \"data01\", \"xindex\": 50, \"yindex\": 1, \"coordinates\": \"data\", \"pathcodes\": [\"M\", \"L\", \"L\", \"L\", \"Z\"], \"id\": \"el14669140415433597224\", \"dasharray\": \"none\", \"alpha\": 1, \"facecolor\": \"#FF7F0E\", \"edgecolor\": \"none\", \"edgewidth\": 1.0, \"zorder\": 1}, {\"data\": \"data01\", \"xindex\": 51, \"yindex\": 1, \"coordinates\": \"data\", \"pathcodes\": [\"M\", \"L\", \"L\", \"L\", \"Z\"], \"id\": \"el14669140415433598064\", \"dasharray\": \"none\", \"alpha\": 1, \"facecolor\": \"#FF7F0E\", \"edgecolor\": \"none\", \"edgewidth\": 1.0, \"zorder\": 1}, {\"data\": \"data01\", \"xindex\": 52, \"yindex\": 1, \"coordinates\": \"data\", \"pathcodes\": [\"M\", \"L\", \"L\", \"L\", \"Z\"], \"id\": \"el14669140415433598904\", \"dasharray\": \"none\", \"alpha\": 1, \"facecolor\": \"#FF7F0E\", \"edgecolor\": \"none\", \"edgewidth\": 1.0, \"zorder\": 1}, {\"data\": \"data01\", \"xindex\": 53, \"yindex\": 1, \"coordinates\": \"data\", \"pathcodes\": [\"M\", \"L\", \"L\", \"L\", \"Z\"], \"id\": \"el14669140415433599744\", \"dasharray\": \"none\", \"alpha\": 1, \"facecolor\": \"#FF7F0E\", \"edgecolor\": \"none\", \"edgewidth\": 1.0, \"zorder\": 1}, {\"data\": \"data01\", \"xindex\": 54, \"yindex\": 59, \"coordinates\": \"data\", \"pathcodes\": [\"M\", \"L\", \"L\", \"L\", \"Z\"], \"id\": \"el14669140415433600584\", \"dasharray\": \"none\", \"alpha\": 1, \"facecolor\": \"#FF7F0E\", \"edgecolor\": \"none\", \"edgewidth\": 1.0, \"zorder\": 1}, {\"data\": \"data01\", \"xindex\": 60, \"yindex\": 1, \"coordinates\": \"data\", \"pathcodes\": [\"M\", \"L\", \"L\", \"L\", \"Z\"], \"id\": \"el14669140415433662928\", \"dasharray\": \"none\", \"alpha\": 1, \"facecolor\": \"#FF7F0E\", \"edgecolor\": \"none\", \"edgewidth\": 1.0, \"zorder\": 1}, {\"data\": \"data03\", \"xindex\": 0, \"yindex\": 2, \"coordinates\": \"data\", \"pathcodes\": [\"M\", \"L\", \"L\", \"L\", \"Z\"], \"id\": \"el14669140415433663768\", \"dasharray\": \"none\", \"alpha\": 1, \"facecolor\": \"#FF7F0E\", \"edgecolor\": \"none\", \"edgewidth\": 1.0, \"zorder\": 1}, {\"data\": \"data04\", \"xindex\": 0, \"yindex\": 2, \"coordinates\": \"data\", \"pathcodes\": [\"M\", \"L\", \"L\", \"L\", \"Z\"], \"id\": \"el14669140415433664608\", \"dasharray\": \"none\", \"alpha\": 1, \"facecolor\": \"#FF7F0E\", \"edgecolor\": \"none\", \"edgewidth\": 1.0, \"zorder\": 1}, {\"data\": \"data05\", \"xindex\": 0, \"yindex\": 3, \"coordinates\": \"data\", \"pathcodes\": [\"M\", \"L\", \"L\", \"L\", \"Z\"], \"id\": \"el14669140415433665448\", \"dasharray\": \"none\", \"alpha\": 1, \"facecolor\": \"#FF7F0E\", \"edgecolor\": \"none\", \"edgewidth\": 1.0, \"zorder\": 1}, {\"data\": \"data03\", \"xindex\": 3, \"yindex\": 1, \"coordinates\": \"data\", \"pathcodes\": [\"M\", \"L\", \"L\", \"L\", \"Z\"], \"id\": \"el14669140415433666288\", \"dasharray\": \"none\", \"alpha\": 1, \"facecolor\": \"#FF7F0E\", \"edgecolor\": \"none\", \"edgewidth\": 1.0, \"zorder\": 1}, {\"data\": \"data07\", \"xindex\": 0, \"yindex\": 2, \"coordinates\": \"data\", \"pathcodes\": [\"M\", \"L\", \"L\", \"L\", \"Z\"], \"id\": \"el14669140415433753208\", \"dasharray\": \"none\", \"alpha\": 1, \"facecolor\": \"#FF7F0E\", \"edgecolor\": \"none\", \"edgewidth\": 1.0, \"zorder\": 1}, {\"data\": \"data08\", \"xindex\": 0, \"yindex\": 2, \"coordinates\": \"data\", \"pathcodes\": [\"M\", \"L\", \"L\", \"L\", \"Z\"], \"id\": \"el14669140415433754048\", \"dasharray\": \"none\", \"alpha\": 1, \"facecolor\": \"#FF7F0E\", \"edgecolor\": \"none\", \"edgewidth\": 1.0, \"zorder\": 1}, {\"data\": \"data09\", \"xindex\": 0, \"yindex\": 2, \"coordinates\": \"data\", \"pathcodes\": [\"M\", \"L\", \"L\", \"L\", \"Z\"], \"id\": \"el14669140415433754888\", \"dasharray\": \"none\", \"alpha\": 1, \"facecolor\": \"#FF7F0E\", \"edgecolor\": \"none\", \"edgewidth\": 1.0, \"zorder\": 1}, {\"data\": \"data10\", \"xindex\": 0, \"yindex\": 2, \"coordinates\": \"data\", \"pathcodes\": [\"M\", \"L\", \"L\", \"L\", \"Z\"], \"id\": \"el14669140415433755728\", \"dasharray\": \"none\", \"alpha\": 1, \"facecolor\": \"#FF7F0E\", \"edgecolor\": \"none\", \"edgewidth\": 1.0, \"zorder\": 1}, {\"data\": \"data11\", \"xindex\": 0, \"yindex\": 2, \"coordinates\": \"data\", \"pathcodes\": [\"M\", \"L\", \"L\", \"L\", \"Z\"], \"id\": \"el14669140415433756568\", \"dasharray\": \"none\", \"alpha\": 1, \"facecolor\": \"#FF7F0E\", \"edgecolor\": \"none\", \"edgewidth\": 1.0, \"zorder\": 1}, {\"data\": \"data12\", \"xindex\": 0, \"yindex\": 2, \"coordinates\": \"data\", \"pathcodes\": [\"M\", \"L\", \"L\", \"L\", \"Z\"], \"id\": \"el14669140415442993952\", \"dasharray\": \"none\", \"alpha\": 1, \"facecolor\": \"#FF7F0E\", \"edgecolor\": \"none\", \"edgewidth\": 1.0, \"zorder\": 1}, {\"data\": \"data13\", \"xindex\": 0, \"yindex\": 2, \"coordinates\": \"data\", \"pathcodes\": [\"M\", \"L\", \"L\", \"L\", \"Z\"], \"id\": \"el14669140415442994792\", \"dasharray\": \"none\", \"alpha\": 1, \"facecolor\": \"#FF7F0E\", \"edgecolor\": \"none\", \"edgewidth\": 1.0, \"zorder\": 1}, {\"data\": \"data14\", \"xindex\": 0, \"yindex\": 2, \"coordinates\": \"data\", \"pathcodes\": [\"M\", \"L\", \"L\", \"L\", \"Z\"], \"id\": \"el14669140415442995632\", \"dasharray\": \"none\", \"alpha\": 1, \"facecolor\": \"#FF7F0E\", \"edgecolor\": \"none\", \"edgewidth\": 1.0, \"zorder\": 1}, {\"data\": \"data15\", \"xindex\": 0, \"yindex\": 2, \"coordinates\": \"data\", \"pathcodes\": [\"M\", \"L\", \"L\", \"L\", \"Z\"], \"id\": \"el14669140415442996472\", \"dasharray\": \"none\", \"alpha\": 1, \"facecolor\": \"#FF7F0E\", \"edgecolor\": \"none\", \"edgewidth\": 1.0, \"zorder\": 1}, {\"data\": \"data16\", \"xindex\": 0, \"yindex\": 2, \"coordinates\": \"data\", \"pathcodes\": [\"M\", \"L\", \"L\", \"L\", \"Z\"], \"id\": \"el14669140415443062912\", \"dasharray\": \"none\", \"alpha\": 1, \"facecolor\": \"#FF7F0E\", \"edgecolor\": \"none\", \"edgewidth\": 1.0, \"zorder\": 1}, {\"data\": \"data17\", \"xindex\": 0, \"yindex\": 2, \"coordinates\": \"data\", \"pathcodes\": [\"M\", \"L\", \"L\", \"L\", \"Z\"], \"id\": \"el14669140415443063752\", \"dasharray\": \"none\", \"alpha\": 1, \"facecolor\": \"#FF7F0E\", \"edgecolor\": \"none\", \"edgewidth\": 1.0, \"zorder\": 1}, {\"data\": \"data18\", \"xindex\": 0, \"yindex\": 2, \"coordinates\": \"data\", \"pathcodes\": [\"M\", \"L\", \"L\", \"L\", \"Z\"], \"id\": \"el14669140415443064592\", \"dasharray\": \"none\", \"alpha\": 1, \"facecolor\": \"#FF7F0E\", \"edgecolor\": \"none\", \"edgewidth\": 1.0, \"zorder\": 1}, {\"data\": \"data19\", \"xindex\": 0, \"yindex\": 2, \"coordinates\": \"data\", \"pathcodes\": [\"M\", \"L\", \"L\", \"L\", \"Z\"], \"id\": \"el14669140415443065432\", \"dasharray\": \"none\", \"alpha\": 1, \"facecolor\": \"#FF7F0E\", \"edgecolor\": \"none\", \"edgewidth\": 1.0, \"zorder\": 1}, {\"data\": \"data20\", \"xindex\": 0, \"yindex\": 2, \"coordinates\": \"data\", \"pathcodes\": [\"M\", \"L\", \"L\", \"L\", \"Z\"], \"id\": \"el14669140415443066272\", \"dasharray\": \"none\", \"alpha\": 1, \"facecolor\": \"#FF7F0E\", \"edgecolor\": \"none\", \"edgewidth\": 1.0, \"zorder\": 1}, {\"data\": \"data21\", \"xindex\": 0, \"yindex\": 2, \"coordinates\": \"data\", \"pathcodes\": [\"M\", \"L\", \"L\", \"L\", \"Z\"], \"id\": \"el14669140415443149096\", \"dasharray\": \"none\", \"alpha\": 1, \"facecolor\": \"#FF7F0E\", \"edgecolor\": \"none\", \"edgewidth\": 1.0, \"zorder\": 1}, {\"data\": \"data22\", \"xindex\": 0, \"yindex\": 2, \"coordinates\": \"data\", \"pathcodes\": [\"M\", \"L\", \"L\", \"L\", \"Z\"], \"id\": \"el14669140415443149936\", \"dasharray\": \"none\", \"alpha\": 1, \"facecolor\": \"#FF7F0E\", \"edgecolor\": \"none\", \"edgewidth\": 1.0, \"zorder\": 1}, {\"data\": \"data23\", \"xindex\": 0, \"yindex\": 2, \"coordinates\": \"data\", \"pathcodes\": [\"M\", \"L\", \"L\", \"L\", \"Z\"], \"id\": \"el14669140415443150776\", \"dasharray\": \"none\", \"alpha\": 1, \"facecolor\": \"#FF7F0E\", \"edgecolor\": \"none\", \"edgewidth\": 1.0, \"zorder\": 1}, {\"data\": \"data05\", \"xindex\": 2, \"yindex\": 4, \"coordinates\": \"data\", \"pathcodes\": [\"M\", \"L\", \"L\", \"L\", \"Z\"], \"id\": \"el14669140415443151616\", \"dasharray\": \"none\", \"alpha\": 1, \"facecolor\": \"#FF7F0E\", \"edgecolor\": \"none\", \"edgewidth\": 1.0, \"zorder\": 1}, {\"data\": \"data24\", \"xindex\": 0, \"yindex\": 2, \"coordinates\": \"data\", \"pathcodes\": [\"M\", \"L\", \"L\", \"L\", \"Z\"], \"id\": \"el14669140415443152456\", \"dasharray\": \"none\", \"alpha\": 1, \"facecolor\": \"#FF7F0E\", \"edgecolor\": \"none\", \"edgewidth\": 1.0, \"zorder\": 1}, {\"data\": \"data25\", \"xindex\": 0, \"yindex\": 2, \"coordinates\": \"data\", \"pathcodes\": [\"M\", \"L\", \"L\", \"L\", \"Z\"], \"id\": \"el14669140415443214800\", \"dasharray\": \"none\", \"alpha\": 1, \"facecolor\": \"#FF7F0E\", \"edgecolor\": \"none\", \"edgewidth\": 1.0, \"zorder\": 1}, {\"data\": \"data26\", \"xindex\": 0, \"yindex\": 2, \"coordinates\": \"data\", \"pathcodes\": [\"M\", \"L\", \"L\", \"L\", \"Z\"], \"id\": \"el14669140415443215640\", \"dasharray\": \"none\", \"alpha\": 1, \"facecolor\": \"#FF7F0E\", \"edgecolor\": \"none\", \"edgewidth\": 1.0, \"zorder\": 1}, {\"data\": \"data27\", \"xindex\": 0, \"yindex\": 2, \"coordinates\": \"data\", \"pathcodes\": [\"M\", \"L\", \"L\", \"L\", \"Z\"], \"id\": \"el14669140415443216480\", \"dasharray\": \"none\", \"alpha\": 1, \"facecolor\": \"#FF7F0E\", \"edgecolor\": \"none\", \"edgewidth\": 1.0, \"zorder\": 1}, {\"data\": \"data28\", \"xindex\": 0, \"yindex\": 2, \"coordinates\": \"data\", \"pathcodes\": [\"M\", \"L\", \"L\", \"L\", \"Z\"], \"id\": \"el14669140415443217320\", \"dasharray\": \"none\", \"alpha\": 1, \"facecolor\": \"#FF7F0E\", \"edgecolor\": \"none\", \"edgewidth\": 1.0, \"zorder\": 1}, {\"data\": \"data08\", \"xindex\": 3, \"yindex\": 2, \"coordinates\": \"data\", \"pathcodes\": [\"M\", \"L\", \"L\", \"L\", \"Z\"], \"id\": \"el14669140415443218160\", \"dasharray\": \"none\", \"alpha\": 1, \"facecolor\": \"#FF7F0E\", \"edgecolor\": \"none\", \"edgewidth\": 1.0, \"zorder\": 1}, {\"data\": \"data30\", \"xindex\": 0, \"yindex\": 2, \"coordinates\": \"data\", \"pathcodes\": [\"M\", \"L\", \"L\", \"L\", \"Z\"], \"id\": \"el14669140415442506360\", \"dasharray\": \"none\", \"alpha\": 1, \"facecolor\": \"#FF7F0E\", \"edgecolor\": \"none\", \"edgewidth\": 1.0, \"zorder\": 1}, {\"data\": \"data31\", \"xindex\": 0, \"yindex\": 10, \"coordinates\": \"data\", \"pathcodes\": [\"M\", \"L\", \"L\", \"L\", \"Z\"], \"id\": \"el14669140415442507200\", \"dasharray\": \"none\", \"alpha\": 1, \"facecolor\": \"#FF7F0E\", \"edgecolor\": \"none\", \"edgewidth\": 1.0, \"zorder\": 1}, {\"data\": \"data32\", \"xindex\": 0, \"yindex\": 3, \"coordinates\": \"data\", \"pathcodes\": [\"M\", \"L\", \"L\", \"L\", \"Z\"], \"id\": \"el14669140415442508040\", \"dasharray\": \"none\", \"alpha\": 1, \"facecolor\": \"#FF7F0E\", \"edgecolor\": \"none\", \"edgewidth\": 1.0, \"zorder\": 1}, {\"data\": \"data04\", \"xindex\": 3, \"yindex\": 2, \"coordinates\": \"data\", \"pathcodes\": [\"M\", \"L\", \"L\", \"L\", \"Z\"], \"id\": \"el14669140415442508880\", \"dasharray\": \"none\", \"alpha\": 1, \"facecolor\": \"#FF7F0E\", \"edgecolor\": \"none\", \"edgewidth\": 1.0, \"zorder\": 1}, {\"data\": \"data02\", \"xindex\": 2, \"yindex\": 3, \"coordinates\": \"data\", \"pathcodes\": [\"M\", \"L\", \"L\", \"L\", \"Z\"], \"id\": \"el14669140415442509720\", \"dasharray\": \"none\", \"alpha\": 1, \"facecolor\": \"#FF7F0E\", \"edgecolor\": \"none\", \"edgewidth\": 1.0, \"zorder\": 1}, {\"data\": \"data05\", \"xindex\": 5, \"yindex\": 3, \"coordinates\": \"data\", \"pathcodes\": [\"M\", \"L\", \"L\", \"L\", \"Z\"], \"id\": \"el14669140415442600736\", \"dasharray\": \"none\", \"alpha\": 1, \"facecolor\": \"#FF7F0E\", \"edgecolor\": \"none\", \"edgewidth\": 1.0, \"zorder\": 1}, {\"data\": \"data02\", \"xindex\": 4, \"yindex\": 1, \"coordinates\": \"data\", \"pathcodes\": [\"M\", \"L\", \"L\", \"L\", \"Z\"], \"id\": \"el14669140415442601576\", \"dasharray\": \"none\", \"alpha\": 1, \"facecolor\": \"#FF7F0E\", \"edgecolor\": \"none\", \"edgewidth\": 1.0, \"zorder\": 1}, {\"data\": \"data01\", \"xindex\": 55, \"yindex\": 61, \"coordinates\": \"data\", \"pathcodes\": [\"M\", \"L\", \"L\", \"L\", \"Z\"], \"id\": \"el14669140415442602416\", \"dasharray\": \"none\", \"alpha\": 1, \"facecolor\": \"#FF7F0E\", \"edgecolor\": \"none\", \"edgewidth\": 1.0, \"zorder\": 1}, {\"data\": \"data03\", \"xindex\": 4, \"yindex\": 2, \"coordinates\": \"data\", \"pathcodes\": [\"M\", \"L\", \"L\", \"L\", \"Z\"], \"id\": \"el14669140415442603256\", \"dasharray\": \"none\", \"alpha\": 1, \"facecolor\": \"#FF7F0E\", \"edgecolor\": \"none\", \"edgewidth\": 1.0, \"zorder\": 1}, {\"data\": \"data02\", \"xindex\": 5, \"yindex\": 1, \"coordinates\": \"data\", \"pathcodes\": [\"M\", \"L\", \"L\", \"L\", \"Z\"], \"id\": \"el14669140415442657408\", \"dasharray\": \"none\", \"alpha\": 1, \"facecolor\": \"#FF7F0E\", \"edgecolor\": \"none\", \"edgewidth\": 1.0, \"zorder\": 1}, {\"data\": \"data03\", \"xindex\": 5, \"yindex\": 2, \"coordinates\": \"data\", \"pathcodes\": [\"M\", \"L\", \"L\", \"L\", \"Z\"], \"id\": \"el14669140415442658248\", \"dasharray\": \"none\", \"alpha\": 1, \"facecolor\": \"#FF7F0E\", \"edgecolor\": \"none\", \"edgewidth\": 1.0, \"zorder\": 1}, {\"data\": \"data03\", \"xindex\": 6, \"yindex\": 2, \"coordinates\": \"data\", \"pathcodes\": [\"M\", \"L\", \"L\", \"L\", \"Z\"], \"id\": \"el14669140415442659088\", \"dasharray\": \"none\", \"alpha\": 1, \"facecolor\": \"#FF7F0E\", \"edgecolor\": \"none\", \"edgewidth\": 1.0, \"zorder\": 1}, {\"data\": \"data01\", \"xindex\": 62, \"yindex\": 1, \"coordinates\": \"data\", \"pathcodes\": [\"M\", \"L\", \"L\", \"L\", \"Z\"], \"id\": \"el14669140415442659928\", \"dasharray\": \"none\", \"alpha\": 1, \"facecolor\": \"#FF7F0E\", \"edgecolor\": \"none\", \"edgewidth\": 1.0, \"zorder\": 1}, {\"data\": \"data01\", \"xindex\": 63, \"yindex\": 1, \"coordinates\": \"data\", \"pathcodes\": [\"M\", \"L\", \"L\", \"L\", \"Z\"], \"id\": \"el14669140415442660768\", \"dasharray\": \"none\", \"alpha\": 1, \"facecolor\": \"#FF7F0E\", \"edgecolor\": \"none\", \"edgewidth\": 1.0, \"zorder\": 1}, {\"data\": \"data01\", \"xindex\": 56, \"yindex\": 1, \"coordinates\": \"data\", \"pathcodes\": [\"M\", \"L\", \"L\", \"L\", \"Z\"], \"id\": \"el14669140415441686824\", \"dasharray\": \"none\", \"alpha\": 1, \"facecolor\": \"#FF7F0E\", \"edgecolor\": \"none\", \"edgewidth\": 1.0, \"zorder\": 1}, {\"data\": \"data01\", \"xindex\": 57, \"yindex\": 1, \"coordinates\": \"data\", \"pathcodes\": [\"M\", \"L\", \"L\", \"L\", \"Z\"], \"id\": \"el14669140415441687664\", \"dasharray\": \"none\", \"alpha\": 1, \"facecolor\": \"#FF7F0E\", \"edgecolor\": \"none\", \"edgewidth\": 1.0, \"zorder\": 1}, {\"data\": \"data01\", \"xindex\": 58, \"yindex\": 64, \"coordinates\": \"data\", \"pathcodes\": [\"M\", \"L\", \"L\", \"L\", \"Z\"], \"id\": \"el14669140415441688504\", \"dasharray\": \"none\", \"alpha\": 1, \"facecolor\": \"#FF7F0E\", \"edgecolor\": \"none\", \"edgewidth\": 1.0, \"zorder\": 1}], \"markers\": [], \"texts\": [], \"collections\": [], \"images\": [], \"sharex\": [], \"sharey\": []}], \"data\": {\"data01\": [[-10.0, 0.0, -9.8, -9.6, -9.400000000000002, -9.2, -9.0, -8.8, -8.6, -8.400000000000002, -8.2, -8.0, -7.799999999999999, -7.6, -7.4, -7.199999999999999, -7.0, -6.799999999999999, -6.6, -6.4, -6.199999999999999, -6.0, -5.799999999999999, -5.6, -5.399999999999999, -5.199999999999999, -5.0, -4.799999999999999, -4.6, -4.399999999999999, -4.199999999999999, -4.0, -3.8, -3.5999999999999996, -3.3999999999999995, -3.1999999999999993, -3.0, -2.8, -2.5999999999999996, -2.3999999999999995, -2.1999999999999993, -2.0, -1.799999999999999, -1.5999999999999996, -1.4000000000000004, -1.1999999999999993, -1.0, -0.7999999999999989, -0.5999999999999996, -0.3999999999999986, -0.1999999999999993, 0.0, 0.20000000000000107, 0.40000000000000036, 0.6000000000000014, 8.0, 9.400000000000002, 9.600000000000001, 9.8, 0.0, 0.8000000000000007, 0.0, 9.0, 9.200000000000003, 0.0], [-9.8, 0.0, -9.6, -9.4, -9.200000000000001, -9.0, -8.8, -8.6, -8.4, -8.200000000000001, -8.0, -7.8, -7.599999999999999, -7.4, -7.199999999999999, -7.0, -6.8, -6.599999999999999, -6.4, -6.199999999999999, -6.0, -5.8, -5.599999999999999, -5.3999999999999995, -5.199999999999998, -5.0, -4.8, -4.599999999999999, -4.3999999999999995, -4.199999999999998, -4.0, -3.8, -3.5999999999999996, -3.3999999999999995, -3.1999999999999993, -3.0, -2.8, -2.5999999999999996, -2.3999999999999995, -2.1999999999999993, -2.0, -1.799999999999999, -1.5999999999999996, -1.4000000000000004, -1.1999999999999993, -1.0, -0.7999999999999989, -0.5999999999999996, -0.3999999999999986, -0.1999999999999993, 0.0, 0.20000000000000107, 0.40000000000000036, 0.6000000000000014, 0.8000000000000007, 8.2, 9.600000000000001, 9.8, 10.0, 0.0, 1.0, 0.0, 9.200000000000003, 9.400000000000002, 0.0], [-9.8, 0.0, -9.6, -9.4, -9.200000000000001, -9.0, -8.8, -8.6, -8.4, -8.200000000000001, -8.0, -7.8, -7.599999999999999, -7.4, -7.199999999999999, -7.0, -6.8, -6.599999999999999, -6.4, -6.199999999999999, -6.0, -5.8, -5.599999999999999, -5.3999999999999995, -5.199999999999998, -5.0, -4.8, -4.599999999999999, -4.3999999999999995, -4.199999999999998, -4.0, -3.8, -3.5999999999999996, -3.3999999999999995, -3.1999999999999993, -3.0, -2.8, -2.5999999999999996, -2.3999999999999995, -2.1999999999999993, -2.0, -1.799999999999999, -1.5999999999999996, -1.4000000000000004, -1.1999999999999993, -1.0, -0.7999999999999989, -0.5999999999999996, -0.3999999999999986, -0.1999999999999993, 0.0, 0.20000000000000107, 0.40000000000000036, 0.6000000000000014, 0.8000000000000007, 8.2, 9.600000000000001, 9.8, 10.0, 3.0, 1.0, 4.0, 9.200000000000003, 9.400000000000002, 1.0], [-10.0, 0.0, -9.8, -9.6, -9.400000000000002, -9.2, -9.0, -8.8, -8.6, -8.400000000000002, -8.2, -8.0, -7.799999999999999, -7.6, -7.4, -7.199999999999999, -7.0, -6.799999999999999, -6.6, -6.4, -6.199999999999999, -6.0, -5.799999999999999, -5.6, -5.399999999999999, -5.199999999999999, -5.0, -4.799999999999999, -4.6, -4.399999999999999, -4.199999999999999, -4.0, -3.8, -3.5999999999999996, -3.3999999999999995, -3.1999999999999993, -3.0, -2.8, -2.5999999999999996, -2.3999999999999995, -2.1999999999999993, -2.0, -1.799999999999999, -1.5999999999999996, -1.4000000000000004, -1.1999999999999993, -1.0, -0.7999999999999989, -0.5999999999999996, -0.3999999999999986, -0.1999999999999993, 0.0, 0.20000000000000107, 0.40000000000000036, 0.6000000000000014, 8.0, 9.400000000000002, 9.600000000000001, 9.8, 3.0, 0.8000000000000007, 4.0, 9.0, 9.200000000000003, 1.0]], \"data02\": [[0.8000000000000007, 0.0, 7.400000000000002, 0.0, 7.800000000000001, 8.400000000000002], [1.0, 0.0, 7.600000000000001, 0.0, 8.0, 8.600000000000001], [1.0, 2.0, 7.600000000000001, 7.0, 8.0, 8.600000000000001], [0.8000000000000007, 2.0, 7.400000000000002, 7.0, 7.800000000000001, 8.400000000000002]], \"data03\": [[1.0, 0.0, 0.0, 1.6000000000000014, 8.2, 8.600000000000001, 8.8], [1.200000000000001, 0.0, 0.0, 1.8000000000000007, 8.400000000000002, 8.8, 9.0], [1.200000000000001, 10.0, 1.0, 1.8000000000000007, 8.400000000000002, 8.8, 9.0], [1.0, 10.0, 1.0, 1.6000000000000014, 8.2, 8.600000000000001, 8.8]], \"data04\": [[1.200000000000001, 0.0, 0.0, 7.199999999999999], [1.4000000000000004, 0.0, 0.0, 7.400000000000002], [1.4000000000000004, 29.0, 9.0, 7.400000000000002], [1.200000000000001, 29.0, 9.0, 7.199999999999999]], \"data05\": [[1.4000000000000004, 0.0, 5.200000000000001, 0.0, 0.0, 7.600000000000001], [1.6000000000000014, 0.0, 5.4, 0.0, 0.0, 7.800000000000001], [1.6000000000000014, 87.0, 5.4, 6.0, 78.0, 7.800000000000001], [1.4000000000000004, 87.0, 5.200000000000001, 6.0, 78.0, 7.600000000000001]], \"data06\": [[1.6000000000000014, 0.0], [1.8000000000000007, 0.0], [1.8000000000000007, 163.0], [1.6000000000000014, 163.0]], \"data07\": [[1.8000000000000007, 0.0, 0.0], [2.0, 0.0, 0.0], [2.0, 253.0, 14.0], [1.8000000000000007, 253.0, 14.0]], \"data08\": [[2.0, 0.0, 0.0, 6.400000000000002], [2.200000000000001, 0.0, 0.0, 6.600000000000001], [2.200000000000001, 466.0, 23.0, 6.600000000000001], [2.0, 466.0, 23.0, 6.400000000000002]], \"data09\": [[2.200000000000001, 0.0, 0.0], [2.4000000000000004, 0.0, 0.0], [2.4000000000000004, 719.0, 41.0], [2.200000000000001, 719.0, 41.0]], \"data10\": [[2.4000000000000004, 0.0, 0.0], [2.6000000000000014, 0.0, 0.0], [2.6000000000000014, 958.0, 38.0], [2.4000000000000004, 958.0, 38.0]], \"data11\": [[2.6000000000000014, 0.0, 0.0], [2.8000000000000007, 0.0, 0.0], [2.8000000000000007, 1208.0, 35.0], [2.6000000000000014, 1208.0, 35.0]], \"data12\": [[2.8000000000000007, 0.0, 0.0], [3.0, 0.0, 0.0], [3.0, 1512.0, 71.0], [2.8000000000000007, 1512.0, 71.0]], \"data13\": [[3.0, 0.0, 0.0], [3.200000000000001, 0.0, 0.0], [3.200000000000001, 1661.0, 60.0], [3.0, 1661.0, 60.0]], \"data14\": [[3.200000000000001, 0.0, 0.0], [3.4000000000000004, 0.0, 0.0], [3.4000000000000004, 1667.0, 84.0], [3.200000000000001, 1667.0, 84.0]], \"data15\": [[3.4000000000000004, 0.0, 0.0], [3.6000000000000014, 0.0, 0.0], [3.6000000000000014, 1548.0, 92.0], [3.4000000000000004, 1548.0, 92.0]], \"data16\": [[3.6000000000000014, 0.0, 0.0], [3.8000000000000007, 0.0, 0.0], [3.8000000000000007, 1237.0, 95.0], [3.6000000000000014, 1237.0, 95.0]], \"data17\": [[3.8000000000000007, 0.0, 0.0], [4.0, 0.0, 0.0], [4.0, 1017.0, 129.0], [3.8000000000000007, 1017.0, 129.0]], \"data18\": [[4.0, 0.0, 0.0], [4.200000000000001, 0.0, 0.0], [4.200000000000001, 712.0, 119.0], [4.0, 712.0, 119.0]], \"data19\": [[4.200000000000001, 0.0, 0.0], [4.4, 0.0, 0.0], [4.4, 575.0, 110.0], [4.200000000000001, 575.0, 110.0]], \"data20\": [[4.4, 0.0, 0.0], [4.600000000000001, 0.0, 0.0], [4.600000000000001, 349.0, 125.0], [4.4, 349.0, 125.0]], \"data21\": [[4.600000000000001, 0.0, 0.0], [4.800000000000001, 0.0, 0.0], [4.800000000000001, 260.0, 142.0], [4.600000000000001, 260.0, 142.0]], \"data22\": [[4.800000000000001, 0.0, 0.0], [5.0, 0.0, 0.0], [5.0, 192.0, 127.0], [4.800000000000001, 192.0, 127.0]], \"data23\": [[5.0, 0.0, 0.0], [5.200000000000001, 0.0, 0.0], [5.200000000000001, 123.0, 80.0], [5.0, 123.0, 80.0]], \"data24\": [[5.4, 0.0, 0.0], [5.600000000000001, 0.0, 0.0], [5.600000000000001, 50.0, 67.0], [5.4, 50.0, 67.0]], \"data25\": [[5.600000000000001, 0.0, 0.0], [5.800000000000001, 0.0, 0.0], [5.800000000000001, 37.0, 52.0], [5.600000000000001, 37.0, 52.0]], \"data26\": [[5.800000000000001, 0.0, 0.0], [6.0, 0.0, 0.0], [6.0, 25.0, 65.0], [5.800000000000001, 25.0, 65.0]], \"data27\": [[6.0, 0.0, 0.0], [6.199999999999999, 0.0, 0.0], [6.199999999999999, 11.0, 43.0], [6.0, 11.0, 43.0]], \"data28\": [[6.199999999999999, 0.0, 0.0], [6.400000000000002, 0.0, 0.0], [6.400000000000002, 13.0, 31.0], [6.199999999999999, 13.0, 31.0]], \"data29\": [[6.400000000000002, 0.0], [6.600000000000001, 0.0], [6.600000000000001, 7.0], [6.400000000000002, 7.0]], \"data30\": [[6.600000000000001, 0.0, 0.0], [6.800000000000001, 0.0, 0.0], [6.800000000000001, 5.0, 17.0], [6.600000000000001, 5.0, 17.0]], \"data31\": [[6.800000000000001, 0.0, 7.600000000000001, 7.800000000000001, 8.2, 8.400000000000002, 8.600000000000001, 8.8, 9.0, 9.200000000000003, 0.0], [7.0, 0.0, 7.800000000000001, 8.0, 8.400000000000002, 8.600000000000001, 8.8, 9.0, 9.200000000000003, 9.400000000000002, 0.0], [7.0, 1.0, 7.800000000000001, 8.0, 8.400000000000002, 8.600000000000001, 8.8, 9.0, 9.200000000000003, 9.400000000000002, 19.0], [6.800000000000001, 1.0, 7.600000000000001, 7.800000000000001, 8.2, 8.400000000000002, 8.600000000000001, 8.8, 9.0, 9.200000000000003, 19.0]], \"data32\": [[7.0, 0.0, 7.199999999999999, 0.0], [7.199999999999999, 0.0, 7.400000000000002, 0.0], [7.199999999999999, 3.0, 7.400000000000002, 15.0], [7.0, 3.0, 7.199999999999999, 15.0]]}, \"id\": \"el14669140415437358360\", \"plugins\": [{\"type\": \"reset\"}, {\"type\": \"zoom\", \"button\": true, \"enabled\": false}, {\"type\": \"boxzoom\", \"button\": true, \"enabled\": false}]});\n",
       "            })\n",
       "         });\n",
       "}\n",
       "</script>"
      ],
      "text/plain": [
       "<Figure size 432x288 with 1 Axes>"
      ]
     },
     "metadata": {
      "needs_background": "light"
     },
     "output_type": "display_data"
    }
   ],
   "source": [
    "df_comparisons.groupby('label').kenter_ft_text.hist(bins=100, range=[-10,10]);"
   ]
  },
  {
   "cell_type": "code",
   "execution_count": 133,
   "metadata": {
    "ExecuteTime": {
     "end_time": "2019-03-07T11:31:19.724477Z",
     "start_time": "2019-03-07T11:31:19.720616Z"
    }
   },
   "outputs": [
    {
     "data": {
      "text/plain": [
       "['kenter_wv_title',\n",
       " 'kenter_wv_spot',\n",
       " 'kenter_wv_text',\n",
       " 'kenter_ft_title',\n",
       " 'kenter_ft_spot',\n",
       " 'kenter_ft_text',\n",
       " 'idf_wv_title',\n",
       " 'idf_wv_spot',\n",
       " 'idf_wv_text',\n",
       " 'idf_ft_title',\n",
       " 'idf_ft_spot',\n",
       " 'idf_ft_text']"
      ]
     },
     "execution_count": 133,
     "metadata": {},
     "output_type": "execute_result"
    }
   ],
   "source": [
    "methods_cross"
   ]
  },
  {
   "cell_type": "code",
   "execution_count": 134,
   "metadata": {
    "ExecuteTime": {
     "end_time": "2019-03-07T11:31:22.573506Z",
     "start_time": "2019-03-07T11:31:22.569602Z"
    }
   },
   "outputs": [],
   "source": [
    "optcols = []\n",
    "\n",
    "for k1 in ks:\n",
    "    for b in bs:\n",
    "        optname = 'k_'+str(k1)+'_b_'+str(b)\n",
    "        for field in fields:\n",
    "            colname = 'kenter_wv_'+optname + '_' + field\n",
    "            optcols.append(colname)\n",
    "            colname = 'kenter_ft_'+optname + '_' + field\n",
    "            optcols.append(colname)"
   ]
  },
  {
   "cell_type": "code",
   "execution_count": 135,
   "metadata": {
    "ExecuteTime": {
     "end_time": "2019-03-07T11:31:23.017602Z",
     "start_time": "2019-03-07T11:31:23.013027Z"
    }
   },
   "outputs": [],
   "source": [
    "for col in optcols:\n",
    "    if col not in df_comparisons.columns:\n",
    "        print(col)"
   ]
  },
  {
   "cell_type": "code",
   "execution_count": 136,
   "metadata": {
    "ExecuteTime": {
     "end_time": "2019-03-07T11:31:24.795234Z",
     "start_time": "2019-03-07T11:31:24.525204Z"
    }
   },
   "outputs": [],
   "source": [
    "for met in methods_cross + optcols:\n",
    "    df_comparisons.loc[df_comparisons[met].isnull(), met] = df_comparisons[met].mean()"
   ]
  },
  {
   "cell_type": "code",
   "execution_count": 137,
   "metadata": {
    "ExecuteTime": {
     "end_time": "2019-03-07T11:31:24.946626Z",
     "start_time": "2019-03-07T11:31:24.941129Z"
    }
   },
   "outputs": [],
   "source": [
    "df_comparisons['label'] = df_comparisons.label.astype(np.int64)"
   ]
  },
  {
   "cell_type": "code",
   "execution_count": 138,
   "metadata": {
    "ExecuteTime": {
     "end_time": "2019-03-07T11:31:25.959774Z",
     "start_time": "2019-03-07T11:31:25.640429Z"
    }
   },
   "outputs": [],
   "source": [
    "results = {}\n",
    "for method in methods_cross + optcols:\n",
    "    results[method] = find_eacc(df_comparisons.label.values, df_comparisons[method].values) "
   ]
  },
  {
   "cell_type": "code",
   "execution_count": 139,
   "metadata": {
    "ExecuteTime": {
     "end_time": "2019-03-07T11:31:28.465237Z",
     "start_time": "2019-03-07T11:31:28.460093Z"
    }
   },
   "outputs": [],
   "source": [
    "def tabulate_res(resnow):\n",
    "\n",
    "    table = []\n",
    "    for key, val in resnow.items():\n",
    "        table.append(\n",
    "            [key, resnow[key]['eacc'], resnow[key]['f1'], resnow[key]['precision'], resnow[key]['recall'], resnow[key]['thr'], resnow[key]['tp'], resnow[key]['tn'], resnow[key]['fp'],\n",
    "             resnow[key]['fn']])\n",
    "\n",
    "    return tabulate(table, headers=['', 'E-ACC', 'F1', 'PREC', 'RECALL', 'THR', 'TP', 'TN', 'FP', 'FN'], tablefmt=\"fancy_grid\")"
   ]
  },
  {
   "cell_type": "code",
   "execution_count": 141,
   "metadata": {
    "ExecuteTime": {
     "end_time": "2019-03-07T11:31:59.960997Z",
     "start_time": "2019-03-07T11:31:59.895369Z"
    }
   },
   "outputs": [
    {
     "name": "stdout",
     "output_type": "stream",
     "text": [
      "╒══════════════════════════════╤══════════╤══════════╤══════════╤══════════╤═════════╤══════╤═══════╤══════╤══════╕\n",
      "│                              │    E-ACC │       F1 │     PREC │   RECALL │     THR │   TP │    TN │   FP │   FN │\n",
      "╞══════════════════════════════╪══════════╪══════════╪══════════╪══════════╪═════════╪══════╪═══════╪══════╪══════╡\n",
      "│ kenter_wv_title              │ 0.572121 │ 0.572121 │ 0.572121 │ 0.572121 │ 2.90282 │ 1063 │ 14205 │  795 │  795 │\n",
      "├──────────────────────────────┼──────────┼──────────┼──────────┼──────────┼─────────┼──────┼───────┼──────┼──────┤\n",
      "│ kenter_wv_spot               │ 0.629171 │ 0.629171 │ 0.629171 │ 0.629171 │ 3.40738 │ 1169 │ 14311 │  689 │  689 │\n",
      "├──────────────────────────────┼──────────┼──────────┼──────────┼──────────┼─────────┼──────┼───────┼──────┼──────┤\n",
      "│ kenter_wv_text               │ 0.467169 │ 0.467169 │ 0.467169 │ 0.467169 │ 4.4085  │  868 │ 14010 │  990 │  990 │\n",
      "├──────────────────────────────┼──────────┼──────────┼──────────┼──────────┼─────────┼──────┼───────┼──────┼──────┤\n",
      "│ kenter_ft_title              │ 0.555436 │ 0.555436 │ 0.555436 │ 0.555436 │ 2.95067 │ 1032 │ 14174 │  826 │  826 │\n",
      "├──────────────────────────────┼──────────┼──────────┼──────────┼──────────┼─────────┼──────┼───────┼──────┼──────┤\n",
      "│ kenter_ft_spot               │ 0.624865 │ 0.624865 │ 0.624865 │ 0.624865 │ 3.43234 │ 1161 │ 14303 │  697 │  697 │\n",
      "├──────────────────────────────┼──────────┼──────────┼──────────┼──────────┼─────────┼──────┼───────┼──────┼──────┤\n",
      "│ kenter_ft_text               │ 0.463402 │ 0.463402 │ 0.463402 │ 0.463402 │ 4.49999 │  861 │ 14003 │  997 │  997 │\n",
      "├──────────────────────────────┼──────────┼──────────┼──────────┼──────────┼─────────┼──────┼───────┼──────┼──────┤\n",
      "│ idf_wv_title                 │ 0.755651 │ 0.755651 │ 0.755651 │ 0.755651 │ 2.12314 │ 1404 │ 14546 │  454 │  454 │\n",
      "├──────────────────────────────┼──────────┼──────────┼──────────┼──────────┼─────────┼──────┼───────┼──────┼──────┤\n",
      "│ idf_wv_spot                  │ 0.876211 │ 0.876211 │ 0.876211 │ 0.876211 │ 2.33369 │ 1628 │ 14770 │  230 │  230 │\n",
      "├──────────────────────────────┼──────────┼──────────┼──────────┼──────────┼─────────┼──────┼───────┼──────┼──────┤\n",
      "│ idf_wv_text                  │ 0.901507 │ 0.901507 │ 0.901507 │ 0.901507 │ 2.68575 │ 1675 │ 14817 │  183 │  183 │\n",
      "├──────────────────────────────┼──────────┼──────────┼──────────┼──────────┼─────────┼──────┼───────┼──────┼──────┤\n",
      "│ idf_ft_title                 │ 0.747578 │ 0.747578 │ 0.747578 │ 0.747578 │ 2.15194 │ 1389 │ 14531 │  469 │  469 │\n",
      "├──────────────────────────────┼──────────┼──────────┼──────────┼──────────┼─────────┼──────┼───────┼──────┼──────┤\n",
      "│ idf_ft_spot                  │ 0.870829 │ 0.870829 │ 0.870829 │ 0.870829 │ 2.35513 │ 1618 │ 14760 │  240 │  240 │\n",
      "├──────────────────────────────┼──────────┼──────────┼──────────┼──────────┼─────────┼──────┼───────┼──────┼──────┤\n",
      "│ idf_ft_text                  │ 0.890743 │ 0.890743 │ 0.890743 │ 0.890743 │ 2.73829 │ 1655 │ 14797 │  203 │  203 │\n",
      "├──────────────────────────────┼──────────┼──────────┼──────────┼──────────┼─────────┼──────┼───────┼──────┼──────┤\n",
      "│ kenter_wv_k_5_b_0_title      │ 0.720129 │ 0.720129 │ 0.720129 │ 0.720129 │ 2.29472 │ 1338 │ 14480 │  520 │  520 │\n",
      "├──────────────────────────────┼──────────┼──────────┼──────────┼──────────┼─────────┼──────┼───────┼──────┼──────┤\n",
      "│ kenter_ft_k_5_b_0_title      │ 0.705597 │ 0.705597 │ 0.705597 │ 0.705597 │ 2.32773 │ 1311 │ 14453 │  547 │  547 │\n",
      "├──────────────────────────────┼──────────┼──────────┼──────────┼──────────┼─────────┼──────┼───────┼──────┼──────┤\n",
      "│ kenter_wv_k_5_b_0_spot       │ 0.854144 │ 0.854144 │ 0.854144 │ 0.854144 │ 2.49282 │ 1587 │ 14729 │  271 │  271 │\n",
      "├──────────────────────────────┼──────────┼──────────┼──────────┼──────────┼─────────┼──────┼───────┼──────┼──────┤\n",
      "│ kenter_ft_k_5_b_0_spot       │ 0.848762 │ 0.848762 │ 0.848762 │ 0.848762 │ 2.52176 │ 1577 │ 14719 │  281 │  281 │\n",
      "├──────────────────────────────┼──────────┼──────────┼──────────┼──────────┼─────────┼──────┼───────┼──────┼──────┤\n",
      "│ kenter_wv_k_5_b_0_text       │ 0.878902 │ 0.878902 │ 0.878902 │ 0.878902 │ 2.82787 │ 1633 │ 14775 │  225 │  225 │\n",
      "├──────────────────────────────┼──────────┼──────────┼──────────┼──────────┼─────────┼──────┼───────┼──────┼──────┤\n",
      "│ kenter_ft_k_5_b_0_text       │ 0.861141 │ 0.861141 │ 0.861141 │ 0.861141 │ 2.90152 │ 1600 │ 14742 │  258 │  258 │\n",
      "├──────────────────────────────┼──────────┼──────────┼──────────┼──────────┼─────────┼──────┼───────┼──────┼──────┤\n",
      "│ kenter_wv_k_5_b_0.001_title  │ 0.720129 │ 0.720129 │ 0.720129 │ 0.720129 │ 2.29504 │ 1338 │ 14480 │  520 │  520 │\n",
      "├──────────────────────────────┼──────────┼──────────┼──────────┼──────────┼─────────┼──────┼───────┼──────┼──────┤\n",
      "│ kenter_ft_k_5_b_0.001_title  │ 0.706136 │ 0.706136 │ 0.706136 │ 0.706136 │ 2.32751 │ 1312 │ 14454 │  546 │  546 │\n",
      "├──────────────────────────────┼──────────┼──────────┼──────────┼──────────┼─────────┼──────┼───────┼──────┼──────┤\n",
      "│ kenter_wv_k_5_b_0.001_spot   │ 0.854144 │ 0.854144 │ 0.854144 │ 0.854144 │ 2.49273 │ 1587 │ 14729 │  271 │  271 │\n",
      "├──────────────────────────────┼──────────┼──────────┼──────────┼──────────┼─────────┼──────┼───────┼──────┼──────┤\n",
      "│ kenter_ft_k_5_b_0.001_spot   │ 0.848762 │ 0.848762 │ 0.848762 │ 0.848762 │ 2.52222 │ 1577 │ 14719 │  281 │  281 │\n",
      "├──────────────────────────────┼──────────┼──────────┼──────────┼──────────┼─────────┼──────┼───────┼──────┼──────┤\n",
      "│ kenter_wv_k_5_b_0.001_text   │ 0.878902 │ 0.878902 │ 0.878902 │ 0.878902 │ 2.82927 │ 1633 │ 14775 │  225 │  225 │\n",
      "├──────────────────────────────┼──────────┼──────────┼──────────┼──────────┼─────────┼──────┼───────┼──────┼──────┤\n",
      "│ kenter_ft_k_5_b_0.001_text   │ 0.861679 │ 0.861679 │ 0.861679 │ 0.861679 │ 2.90189 │ 1601 │ 14743 │  257 │  257 │\n",
      "├──────────────────────────────┼──────────┼──────────┼──────────┼──────────┼─────────┼──────┼───────┼──────┼──────┤\n",
      "│ kenter_wv_k_5_b_0.01_title   │ 0.720667 │ 0.720667 │ 0.720667 │ 0.720667 │ 2.29857 │ 1339 │ 14481 │  519 │  519 │\n",
      "├──────────────────────────────┼──────────┼──────────┼──────────┼──────────┼─────────┼──────┼───────┼──────┼──────┤\n",
      "│ kenter_ft_k_5_b_0.01_title   │ 0.706136 │ 0.706136 │ 0.706136 │ 0.706136 │ 2.3301  │ 1312 │ 14454 │  546 │  546 │\n",
      "├──────────────────────────────┼──────────┼──────────┼──────────┼──────────┼─────────┼──────┼───────┼──────┼──────┤\n",
      "│ kenter_wv_k_5_b_0.01_spot    │ 0.855221 │ 0.855221 │ 0.855221 │ 0.855221 │ 2.49695 │ 1589 │ 14731 │  269 │  269 │\n",
      "├──────────────────────────────┼──────────┼──────────┼──────────┼──────────┼─────────┼──────┼───────┼──────┼──────┤\n",
      "│ kenter_ft_k_5_b_0.01_spot    │ 0.848762 │ 0.848762 │ 0.848762 │ 0.848762 │ 2.52735 │ 1577 │ 14719 │  281 │  281 │\n",
      "├──────────────────────────────┼──────────┼──────────┼──────────┼──────────┼─────────┼──────┼───────┼──────┼──────┤\n",
      "│ kenter_wv_k_5_b_0.01_text    │ 0.878902 │ 0.878902 │ 0.878902 │ 0.878902 │ 2.84066 │ 1633 │ 14775 │  225 │  225 │\n",
      "├──────────────────────────────┼──────────┼──────────┼──────────┼──────────┼─────────┼──────┼───────┼──────┼──────┤\n",
      "│ kenter_ft_k_5_b_0.01_text    │ 0.863832 │ 0.863832 │ 0.863832 │ 0.863832 │ 2.90989 │ 1605 │ 14747 │  253 │  253 │\n",
      "├──────────────────────────────┼──────────┼──────────┼──────────┼──────────┼─────────┼──────┼───────┼──────┼──────┤\n",
      "│ kenter_wv_k_5_b_0.1_title    │ 0.7169   │ 0.7169   │ 0.7169   │ 0.7169   │ 2.32628 │ 1332 │ 14474 │  526 │  526 │\n",
      "├──────────────────────────────┼──────────┼──────────┼──────────┼──────────┼─────────┼──────┼───────┼──────┼──────┤\n",
      "│ kenter_ft_k_5_b_0.1_title    │ 0.702368 │ 0.702368 │ 0.702368 │ 0.702368 │ 2.35859 │ 1305 │ 14447 │  553 │  553 │\n",
      "├──────────────────────────────┼──────────┼──────────┼──────────┼──────────┼─────────┼──────┼───────┼──────┼──────┤\n",
      "│ kenter_wv_k_5_b_0.1_spot     │ 0.8493   │ 0.8493   │ 0.8493   │ 0.8493   │ 2.53816 │ 1578 │ 14720 │  280 │  280 │\n",
      "├──────────────────────────────┼──────────┼──────────┼──────────┼──────────┼─────────┼──────┼───────┼──────┼──────┤\n",
      "│ kenter_ft_k_5_b_0.1_spot     │ 0.845533 │ 0.845533 │ 0.845533 │ 0.845533 │ 2.56797 │ 1571 │ 14713 │  287 │  287 │\n",
      "├──────────────────────────────┼──────────┼──────────┼──────────┼──────────┼─────────┼──────┼───────┼──────┼──────┤\n",
      "│ kenter_wv_k_5_b_0.1_text     │ 0.877287 │ 0.877287 │ 0.877287 │ 0.877287 │ 2.91603 │ 1630 │ 14772 │  228 │  228 │\n",
      "├──────────────────────────────┼──────────┼──────────┼──────────┼──────────┼─────────┼──────┼───────┼──────┼──────┤\n",
      "│ kenter_ft_k_5_b_0.1_text     │ 0.857912 │ 0.857912 │ 0.857912 │ 0.857912 │ 2.98783 │ 1594 │ 14736 │  264 │  264 │\n",
      "├──────────────────────────────┼──────────┼──────────┼──────────┼──────────┼─────────┼──────┼───────┼──────┼──────┤\n",
      "│ kenter_wv_k_5_b_0.2_title    │ 0.712056 │ 0.712056 │ 0.712056 │ 0.712056 │ 2.35952 │ 1323 │ 14465 │  535 │  535 │\n",
      "├──────────────────────────────┼──────────┼──────────┼──────────┼──────────┼─────────┼──────┼───────┼──────┼──────┤\n",
      "│ kenter_ft_k_5_b_0.2_title    │ 0.69591  │ 0.69591  │ 0.69591  │ 0.69591  │ 2.39329 │ 1293 │ 14435 │  565 │  565 │\n",
      "├──────────────────────────────┼──────────┼──────────┼──────────┼──────────┼─────────┼──────┼───────┼──────┼──────┤\n",
      "│ kenter_wv_k_5_b_0.2_spot     │ 0.841765 │ 0.841765 │ 0.841765 │ 0.841765 │ 2.61254 │ 1564 │ 14706 │  294 │  294 │\n",
      "├──────────────────────────────┼──────────┼──────────┼──────────┼──────────┼─────────┼──────┼───────┼──────┼──────┤\n",
      "│ kenter_ft_k_5_b_0.2_spot     │ 0.829925 │ 0.829925 │ 0.829925 │ 0.829925 │ 2.62959 │ 1542 │ 14684 │  316 │  316 │\n",
      "├──────────────────────────────┼──────────┼──────────┼──────────┼──────────┼─────────┼──────┼───────┼──────┼──────┤\n",
      "│ kenter_wv_k_5_b_0.2_text     │ 0.842842 │ 0.842842 │ 0.842842 │ 0.842842 │ 3.00218 │ 1566 │ 14708 │  292 │  292 │\n",
      "├──────────────────────────────┼──────────┼──────────┼──────────┼──────────┼─────────┼──────┼───────┼──────┼──────┤\n",
      "│ kenter_ft_k_5_b_0.2_text     │ 0.827234 │ 0.827234 │ 0.827234 │ 0.827234 │ 3.07501 │ 1537 │ 14679 │  321 │  321 │\n",
      "├──────────────────────────────┼──────────┼──────────┼──────────┼──────────┼─────────┼──────┼───────┼──────┼──────┤\n",
      "│ kenter_wv_k_10_b_0_title     │ 0.740043 │ 0.740043 │ 0.740043 │ 0.740043 │ 2.21244 │ 1375 │ 14517 │  483 │  483 │\n",
      "├──────────────────────────────┼──────────┼──────────┼──────────┼──────────┼─────────┼──────┼───────┼──────┼──────┤\n",
      "│ kenter_ft_k_10_b_0_title     │ 0.726588 │ 0.726588 │ 0.726588 │ 0.726588 │ 2.24485 │ 1350 │ 14492 │  508 │  508 │\n",
      "├──────────────────────────────┼──────────┼──────────┼──────────┼──────────┼─────────┼──────┼───────┼──────┼──────┤\n",
      "│ kenter_wv_k_10_b_0_spot      │ 0.866523 │ 0.866523 │ 0.866523 │ 0.866523 │ 2.41763 │ 1610 │ 14752 │  248 │  248 │\n",
      "├──────────────────────────────┼──────────┼──────────┼──────────┼──────────┼─────────┼──────┼───────┼──────┼──────┤\n",
      "│ kenter_ft_k_10_b_0_spot      │ 0.859526 │ 0.859526 │ 0.859526 │ 0.859526 │ 2.44263 │ 1597 │ 14739 │  261 │  261 │\n",
      "├──────────────────────────────┼──────────┼──────────┼──────────┼──────────┼─────────┼──────┼───────┼──────┼──────┤\n",
      "│ kenter_wv_k_10_b_0_text      │ 0.890743 │ 0.890743 │ 0.890743 │ 0.890743 │ 2.7608  │ 1655 │ 14797 │  203 │  203 │\n",
      "├──────────────────────────────┼──────────┼──────────┼──────────┼──────────┼─────────┼──────┼───────┼──────┼──────┤\n",
      "│ kenter_ft_k_10_b_0_text      │ 0.876211 │ 0.876211 │ 0.876211 │ 0.876211 │ 2.8253  │ 1628 │ 14770 │  230 │  230 │\n",
      "├──────────────────────────────┼──────────┼──────────┼──────────┼──────────┼─────────┼──────┼───────┼──────┼──────┤\n",
      "│ kenter_wv_k_10_b_0.001_title │ 0.740043 │ 0.740043 │ 0.740043 │ 0.740043 │ 2.21288 │ 1375 │ 14517 │  483 │  483 │\n",
      "├──────────────────────────────┼──────────┼──────────┼──────────┼──────────┼─────────┼──────┼───────┼──────┼──────┤\n",
      "│ kenter_ft_k_10_b_0.001_title │ 0.727126 │ 0.727126 │ 0.727126 │ 0.727126 │ 2.24498 │ 1351 │ 14493 │  507 │  507 │\n",
      "├──────────────────────────────┼──────────┼──────────┼──────────┼──────────┼─────────┼──────┼───────┼──────┼──────┤\n",
      "│ kenter_wv_k_10_b_0.001_spot  │ 0.865985 │ 0.865985 │ 0.865985 │ 0.865985 │ 2.41823 │ 1609 │ 14751 │  249 │  249 │\n",
      "├──────────────────────────────┼──────────┼──────────┼──────────┼──────────┼─────────┼──────┼───────┼──────┼──────┤\n",
      "│ kenter_ft_k_10_b_0.001_spot  │ 0.859526 │ 0.859526 │ 0.859526 │ 0.859526 │ 2.44253 │ 1597 │ 14739 │  261 │  261 │\n",
      "├──────────────────────────────┼──────────┼──────────┼──────────┼──────────┼─────────┼──────┼───────┼──────┼──────┤\n",
      "│ kenter_wv_k_10_b_0.001_text  │ 0.890743 │ 0.890743 │ 0.890743 │ 0.890743 │ 2.76273 │ 1655 │ 14797 │  203 │  203 │\n",
      "├──────────────────────────────┼──────────┼──────────┼──────────┼──────────┼─────────┼──────┼───────┼──────┼──────┤\n",
      "│ kenter_ft_k_10_b_0.001_text  │ 0.876211 │ 0.876211 │ 0.876211 │ 0.876211 │ 2.8266  │ 1628 │ 14770 │  230 │  230 │\n",
      "├──────────────────────────────┼──────────┼──────────┼──────────┼──────────┼─────────┼──────┼───────┼──────┼──────┤\n",
      "│ kenter_wv_k_10_b_0.01_title  │ 0.740043 │ 0.740043 │ 0.740043 │ 0.740043 │ 2.21376 │ 1375 │ 14517 │  483 │  483 │\n",
      "├──────────────────────────────┼──────────┼──────────┼──────────┼──────────┼─────────┼──────┼───────┼──────┼──────┤\n",
      "│ kenter_ft_k_10_b_0.01_title  │ 0.728202 │ 0.728202 │ 0.728202 │ 0.728202 │ 2.24552 │ 1353 │ 14495 │  505 │  505 │\n",
      "├──────────────────────────────┼──────────┼──────────┼──────────┼──────────┼─────────┼──────┼───────┼──────┼──────┤\n",
      "│ kenter_wv_k_10_b_0.01_spot   │ 0.863832 │ 0.863832 │ 0.863832 │ 0.863832 │ 2.42106 │ 1605 │ 14747 │  253 │  253 │\n",
      "├──────────────────────────────┼──────────┼──────────┼──────────┼──────────┼─────────┼──────┼───────┼──────┼──────┤\n",
      "│ kenter_ft_k_10_b_0.01_spot   │ 0.860065 │ 0.860065 │ 0.860065 │ 0.860065 │ 2.4447  │ 1598 │ 14740 │  260 │  260 │\n",
      "├──────────────────────────────┼──────────┼──────────┼──────────┼──────────┼─────────┼──────┼───────┼──────┼──────┤\n",
      "│ kenter_wv_k_10_b_0.01_text   │ 0.891281 │ 0.891281 │ 0.891281 │ 0.891281 │ 2.77037 │ 1656 │ 14798 │  202 │  202 │\n",
      "├──────────────────────────────┼──────────┼──────────┼──────────┼──────────┼─────────┼──────┼───────┼──────┼──────┤\n",
      "│ kenter_ft_k_10_b_0.01_text   │ 0.876749 │ 0.876749 │ 0.876749 │ 0.876749 │ 2.83397 │ 1629 │ 14771 │  229 │  229 │\n",
      "├──────────────────────────────┼──────────┼──────────┼──────────┼──────────┼─────────┼──────┼───────┼──────┼──────┤\n",
      "│ kenter_wv_k_10_b_0.1_title   │ 0.737352 │ 0.737352 │ 0.737352 │ 0.737352 │ 2.24067 │ 1370 │ 14512 │  488 │  488 │\n",
      "├──────────────────────────────┼──────────┼──────────┼──────────┼──────────┼─────────┼──────┼───────┼──────┼──────┤\n",
      "│ kenter_ft_k_10_b_0.1_title   │ 0.724435 │ 0.724435 │ 0.724435 │ 0.724435 │ 2.27638 │ 1346 │ 14488 │  512 │  512 │\n",
      "├──────────────────────────────┼──────────┼──────────┼──────────┼──────────┼─────────┼──────┼───────┼──────┼──────┤\n",
      "│ kenter_wv_k_10_b_0.1_spot    │ 0.863832 │ 0.863832 │ 0.863832 │ 0.863832 │ 2.46342 │ 1605 │ 14747 │  253 │  253 │\n",
      "├──────────────────────────────┼──────────┼──────────┼──────────┼──────────┼─────────┼──────┼───────┼──────┼──────┤\n",
      "│ kenter_ft_k_10_b_0.1_spot    │ 0.855221 │ 0.855221 │ 0.855221 │ 0.855221 │ 2.49469 │ 1589 │ 14731 │  269 │  269 │\n",
      "├──────────────────────────────┼──────────┼──────────┼──────────┼──────────┼─────────┼──────┼───────┼──────┼──────┤\n",
      "│ kenter_wv_k_10_b_0.1_text    │ 0.889666 │ 0.889666 │ 0.889666 │ 0.889666 │ 2.85247 │ 1653 │ 14795 │  205 │  205 │\n",
      "├──────────────────────────────┼──────────┼──────────┼──────────┼──────────┼─────────┼──────┼───────┼──────┼──────┤\n",
      "│ kenter_ft_k_10_b_0.1_text    │ 0.871905 │ 0.871905 │ 0.871905 │ 0.871905 │ 2.9142  │ 1620 │ 14762 │  238 │  238 │\n",
      "├──────────────────────────────┼──────────┼──────────┼──────────┼──────────┼─────────┼──────┼───────┼──────┼──────┤\n",
      "│ kenter_wv_k_10_b_0.2_title   │ 0.733584 │ 0.733584 │ 0.733584 │ 0.733584 │ 2.28194 │ 1363 │ 14505 │  495 │  495 │\n",
      "├──────────────────────────────┼──────────┼──────────┼──────────┼──────────┼─────────┼──────┼───────┼──────┼──────┤\n",
      "│ kenter_ft_k_10_b_0.2_title   │ 0.715823 │ 0.715823 │ 0.715823 │ 0.715823 │ 2.30843 │ 1330 │ 14472 │  528 │  528 │\n",
      "├──────────────────────────────┼──────────┼──────────┼──────────┼──────────┼─────────┼──────┼───────┼──────┼──────┤\n",
      "│ kenter_wv_k_10_b_0.2_spot    │ 0.855759 │ 0.855759 │ 0.855759 │ 0.855759 │ 2.53591 │ 1590 │ 14732 │  268 │  268 │\n",
      "├──────────────────────────────┼──────────┼──────────┼──────────┼──────────┼─────────┼──────┼───────┼──────┼──────┤\n",
      "│ kenter_ft_k_10_b_0.2_spot    │ 0.844995 │ 0.844995 │ 0.844995 │ 0.844995 │ 2.55365 │ 1570 │ 14712 │  288 │  288 │\n",
      "├──────────────────────────────┼──────────┼──────────┼──────────┼──────────┼─────────┼──────┼───────┼──────┼──────┤\n",
      "│ kenter_wv_k_10_b_0.2_text    │ 0.85845  │ 0.85845  │ 0.85845  │ 0.85845  │ 2.93476 │ 1595 │ 14737 │  263 │  263 │\n",
      "├──────────────────────────────┼──────────┼──────────┼──────────┼──────────┼─────────┼──────┼───────┼──────┼──────┤\n",
      "│ kenter_ft_k_10_b_0.2_text    │ 0.84338  │ 0.84338  │ 0.84338  │ 0.84338  │ 3.00283 │ 1567 │ 14709 │  291 │  291 │\n",
      "├──────────────────────────────┼──────────┼──────────┼──────────┼──────────┼─────────┼──────┼───────┼──────┼──────┤\n",
      "│ kenter_wv_k_20_b_0_title     │ 0.745425 │ 0.745425 │ 0.745425 │ 0.745425 │ 2.16837 │ 1385 │ 14527 │  473 │  473 │\n",
      "├──────────────────────────────┼──────────┼──────────┼──────────┼──────────┼─────────┼──────┼───────┼──────┼──────┤\n",
      "│ kenter_ft_k_20_b_0_title     │ 0.73789  │ 0.73789  │ 0.73789  │ 0.73789  │ 2.203   │ 1371 │ 14513 │  487 │  487 │\n",
      "├──────────────────────────────┼──────────┼──────────┼──────────┼──────────┼─────────┼──────┼───────┼──────┼──────┤\n",
      "│ kenter_wv_k_20_b_0_spot      │ 0.871905 │ 0.871905 │ 0.871905 │ 0.871905 │ 2.37688 │ 1620 │ 14762 │  238 │  238 │\n",
      "├──────────────────────────────┼──────────┼──────────┼──────────┼──────────┼─────────┼──────┼───────┼──────┼──────┤\n",
      "│ kenter_ft_k_20_b_0_spot      │ 0.863832 │ 0.863832 │ 0.863832 │ 0.863832 │ 2.39474 │ 1605 │ 14747 │  253 │  253 │\n",
      "├──────────────────────────────┼──────────┼──────────┼──────────┼──────────┼─────────┼──────┼───────┼──────┼──────┤\n",
      "│ kenter_wv_k_20_b_0_text      │ 0.896125 │ 0.896125 │ 0.896125 │ 0.896125 │ 2.72177 │ 1665 │ 14807 │  193 │  193 │\n",
      "├──────────────────────────────┼──────────┼──────────┼──────────┼──────────┼─────────┼──────┼───────┼──────┼──────┤\n",
      "│ kenter_ft_k_20_b_0_text      │ 0.883208 │ 0.883208 │ 0.883208 │ 0.883208 │ 2.78081 │ 1641 │ 14783 │  217 │  217 │\n",
      "├──────────────────────────────┼──────────┼──────────┼──────────┼──────────┼─────────┼──────┼───────┼──────┼──────┤\n",
      "│ kenter_wv_k_20_b_0.001_title │ 0.745425 │ 0.745425 │ 0.745425 │ 0.745425 │ 2.16841 │ 1385 │ 14527 │  473 │  473 │\n",
      "├──────────────────────────────┼──────────┼──────────┼──────────┼──────────┼─────────┼──────┼───────┼──────┼──────┤\n",
      "│ kenter_ft_k_20_b_0.001_title │ 0.73789  │ 0.73789  │ 0.73789  │ 0.73789  │ 2.20345 │ 1371 │ 14513 │  487 │  487 │\n",
      "├──────────────────────────────┼──────────┼──────────┼──────────┼──────────┼─────────┼──────┼───────┼──────┼──────┤\n",
      "│ kenter_wv_k_20_b_0.001_spot  │ 0.871905 │ 0.871905 │ 0.871905 │ 0.871905 │ 2.37756 │ 1620 │ 14762 │  238 │  238 │\n",
      "├──────────────────────────────┼──────────┼──────────┼──────────┼──────────┼─────────┼──────┼───────┼──────┼──────┤\n",
      "│ kenter_ft_k_20_b_0.001_spot  │ 0.863832 │ 0.863832 │ 0.863832 │ 0.863832 │ 2.39605 │ 1605 │ 14747 │  253 │  253 │\n",
      "├──────────────────────────────┼──────────┼──────────┼──────────┼──────────┼─────────┼──────┼───────┼──────┼──────┤\n",
      "│ kenter_wv_k_20_b_0.001_text  │ 0.896125 │ 0.896125 │ 0.896125 │ 0.896125 │ 2.72366 │ 1665 │ 14807 │  193 │  193 │\n",
      "├──────────────────────────────┼──────────┼──────────┼──────────┼──────────┼─────────┼──────┼───────┼──────┼──────┤\n",
      "│ kenter_ft_k_20_b_0.001_text  │ 0.883746 │ 0.883746 │ 0.883746 │ 0.883746 │ 2.78256 │ 1642 │ 14784 │  216 │  216 │\n",
      "├──────────────────────────────┼──────────┼──────────┼──────────┼──────────┼─────────┼──────┼───────┼──────┼──────┤\n",
      "│ kenter_wv_k_20_b_0.01_title  │ 0.746502 │ 0.746502 │ 0.746502 │ 0.746502 │ 2.16985 │ 1387 │ 14529 │  471 │  471 │\n",
      "├──────────────────────────────┼──────────┼──────────┼──────────┼──────────┼─────────┼──────┼───────┼──────┼──────┤\n",
      "│ kenter_ft_k_20_b_0.01_title  │ 0.738428 │ 0.738428 │ 0.738428 │ 0.738428 │ 2.2047  │ 1372 │ 14514 │  486 │  486 │\n",
      "├──────────────────────────────┼──────────┼──────────┼──────────┼──────────┼─────────┼──────┼───────┼──────┼──────┤\n",
      "│ kenter_wv_k_20_b_0.01_spot   │ 0.870291 │ 0.870291 │ 0.870291 │ 0.870291 │ 2.37954 │ 1617 │ 14759 │  241 │  241 │\n",
      "├──────────────────────────────┼──────────┼──────────┼──────────┼──────────┼─────────┼──────┼───────┼──────┼──────┤\n",
      "│ kenter_ft_k_20_b_0.01_spot   │ 0.863832 │ 0.863832 │ 0.863832 │ 0.863832 │ 2.39894 │ 1605 │ 14747 │  253 │  253 │\n",
      "├──────────────────────────────┼──────────┼──────────┼──────────┼──────────┼─────────┼──────┼───────┼──────┼──────┤\n",
      "│ kenter_wv_k_20_b_0.01_text   │ 0.895587 │ 0.895587 │ 0.895587 │ 0.895587 │ 2.73378 │ 1664 │ 14806 │  194 │  194 │\n",
      "├──────────────────────────────┼──────────┼──────────┼──────────┼──────────┼─────────┼──────┼───────┼──────┼──────┤\n",
      "│ kenter_ft_k_20_b_0.01_text   │ 0.885361 │ 0.885361 │ 0.885361 │ 0.885361 │ 2.7931  │ 1645 │ 14787 │  213 │  213 │\n",
      "├──────────────────────────────┼──────────┼──────────┼──────────┼──────────┼─────────┼──────┼───────┼──────┼──────┤\n",
      "│ kenter_wv_k_20_b_0.1_title   │ 0.744887 │ 0.744887 │ 0.744887 │ 0.744887 │ 2.20066 │ 1384 │ 14526 │  474 │  474 │\n",
      "├──────────────────────────────┼──────────┼──────────┼──────────┼──────────┼─────────┼──────┼───────┼──────┼──────┤\n",
      "│ kenter_ft_k_20_b_0.1_title   │ 0.735199 │ 0.735199 │ 0.735199 │ 0.735199 │ 2.22999 │ 1366 │ 14508 │  492 │  492 │\n",
      "├──────────────────────────────┼──────────┼──────────┼──────────┼──────────┼─────────┼──────┼───────┼──────┼──────┤\n",
      "│ kenter_wv_k_20_b_0.1_spot    │ 0.870525 │ 0.870525 │ 0.870759 │ 0.870291 │ 2.4221  │ 1617 │ 14760 │  240 │  241 │\n",
      "├──────────────────────────────┼──────────┼──────────┼──────────┼──────────┼─────────┼──────┼───────┼──────┼──────┤\n",
      "│ kenter_ft_k_20_b_0.1_spot    │ 0.860065 │ 0.860065 │ 0.860065 │ 0.860065 │ 2.45425 │ 1598 │ 14740 │  260 │  260 │\n",
      "├──────────────────────────────┼──────────┼──────────┼──────────┼──────────┼─────────┼──────┼───────┼──────┼──────┤\n",
      "│ kenter_wv_k_20_b_0.1_text    │ 0.895048 │ 0.895048 │ 0.895048 │ 0.895048 │ 2.81481 │ 1663 │ 14805 │  195 │  195 │\n",
      "├──────────────────────────────┼──────────┼──────────┼──────────┼──────────┼─────────┼──────┼───────┼──────┼──────┤\n",
      "│ kenter_ft_k_20_b_0.1_text    │ 0.87944  │ 0.87944  │ 0.87944  │ 0.87944  │ 2.87789 │ 1634 │ 14776 │  224 │  224 │\n",
      "├──────────────────────────────┼──────────┼──────────┼──────────┼──────────┼─────────┼──────┼───────┼──────┼──────┤\n",
      "│ kenter_wv_k_20_b_0.2_title   │ 0.738428 │ 0.738428 │ 0.738428 │ 0.738428 │ 2.23711 │ 1372 │ 14514 │  486 │  486 │\n",
      "├──────────────────────────────┼──────────┼──────────┼──────────┼──────────┼─────────┼──────┼───────┼──────┼──────┤\n",
      "│ kenter_ft_k_20_b_0.2_title   │ 0.727126 │ 0.727126 │ 0.727126 │ 0.727126 │ 2.26805 │ 1351 │ 14493 │  507 │  507 │\n",
      "├──────────────────────────────┼──────────┼──────────┼──────────┼──────────┼─────────┼──────┼───────┼──────┼──────┤\n",
      "│ kenter_wv_k_20_b_0.2_spot    │ 0.861679 │ 0.861679 │ 0.861679 │ 0.861679 │ 2.4923  │ 1601 │ 14743 │  257 │  257 │\n",
      "├──────────────────────────────┼──────────┼──────────┼──────────┼──────────┼─────────┼──────┼───────┼──────┼──────┤\n",
      "│ kenter_ft_k_20_b_0.2_spot    │ 0.851991 │ 0.851991 │ 0.851991 │ 0.851991 │ 2.51497 │ 1583 │ 14725 │  275 │  275 │\n",
      "├──────────────────────────────┼──────────┼──────────┼──────────┼──────────┼─────────┼──────┼───────┼──────┼──────┤\n",
      "│ kenter_wv_k_20_b_0.2_text    │ 0.8676   │ 0.8676   │ 0.8676   │ 0.8676   │ 2.9043  │ 1612 │ 14754 │  246 │  246 │\n",
      "├──────────────────────────────┼──────────┼──────────┼──────────┼──────────┼─────────┼──────┼───────┼──────┼──────┤\n",
      "│ kenter_ft_k_20_b_0.2_text    │ 0.851453 │ 0.851453 │ 0.851453 │ 0.851453 │ 2.96934 │ 1582 │ 14724 │  276 │  276 │\n",
      "├──────────────────────────────┼──────────┼──────────┼──────────┼──────────┼─────────┼──────┼───────┼──────┼──────┤\n",
      "│ kenter_wv_k_50_b_0_title     │ 0.751346 │ 0.751346 │ 0.751346 │ 0.751346 │ 2.13933 │ 1396 │ 14538 │  462 │  462 │\n",
      "├──────────────────────────────┼──────────┼──────────┼──────────┼──────────┼─────────┼──────┼───────┼──────┼──────┤\n",
      "│ kenter_ft_k_50_b_0_title     │ 0.743811 │ 0.743811 │ 0.743811 │ 0.743811 │ 2.17297 │ 1382 │ 14524 │  476 │  476 │\n",
      "├──────────────────────────────┼──────────┼──────────┼──────────┼──────────┼─────────┼──────┼───────┼──────┼──────┤\n",
      "│ kenter_wv_k_50_b_0_spot      │ 0.874058 │ 0.874058 │ 0.874058 │ 0.874058 │ 2.35258 │ 1624 │ 14766 │  234 │  234 │\n",
      "├──────────────────────────────┼──────────┼──────────┼──────────┼──────────┼─────────┼──────┼───────┼──────┼──────┤\n",
      "│ kenter_ft_k_50_b_0_spot      │ 0.866523 │ 0.866523 │ 0.866523 │ 0.866523 │ 2.37151 │ 1610 │ 14752 │  248 │  248 │\n",
      "├──────────────────────────────┼──────────┼──────────┼──────────┼──────────┼─────────┼──────┼───────┼──────┼──────┤\n",
      "│ kenter_wv_k_50_b_0_text      │ 0.899354 │ 0.899354 │ 0.899354 │ 0.899354 │ 2.69836 │ 1671 │ 14813 │  187 │  187 │\n",
      "├──────────────────────────────┼──────────┼──────────┼──────────┼──────────┼─────────┼──────┼───────┼──────┼──────┤\n",
      "│ kenter_ft_k_50_b_0_text      │ 0.888052 │ 0.888052 │ 0.888052 │ 0.888052 │ 2.75529 │ 1650 │ 14792 │  208 │  208 │\n",
      "├──────────────────────────────┼──────────┼──────────┼──────────┼──────────┼─────────┼──────┼───────┼──────┼──────┤\n",
      "│ kenter_wv_k_50_b_0.001_title │ 0.750807 │ 0.750807 │ 0.750807 │ 0.750807 │ 2.13926 │ 1395 │ 14537 │  463 │  463 │\n",
      "├──────────────────────────────┼──────────┼──────────┼──────────┼──────────┼─────────┼──────┼───────┼──────┼──────┤\n",
      "│ kenter_ft_k_50_b_0.001_title │ 0.743811 │ 0.743811 │ 0.743811 │ 0.743811 │ 2.17304 │ 1382 │ 14524 │  476 │  476 │\n",
      "├──────────────────────────────┼──────────┼──────────┼──────────┼──────────┼─────────┼──────┼───────┼──────┼──────┤\n",
      "│ kenter_wv_k_50_b_0.001_spot  │ 0.874058 │ 0.874058 │ 0.874058 │ 0.874058 │ 2.35308 │ 1624 │ 14766 │  234 │  234 │\n",
      "├──────────────────────────────┼──────────┼──────────┼──────────┼──────────┼─────────┼──────┼───────┼──────┼──────┤\n",
      "│ kenter_ft_k_50_b_0.001_spot  │ 0.866523 │ 0.866523 │ 0.866523 │ 0.866523 │ 2.37276 │ 1610 │ 14752 │  248 │  248 │\n",
      "├──────────────────────────────┼──────────┼──────────┼──────────┼──────────┼─────────┼──────┼───────┼──────┼──────┤\n",
      "│ kenter_wv_k_50_b_0.001_text  │ 0.899354 │ 0.899354 │ 0.899354 │ 0.899354 │ 2.69894 │ 1671 │ 14813 │  187 │  187 │\n",
      "├──────────────────────────────┼──────────┼──────────┼──────────┼──────────┼─────────┼──────┼───────┼──────┼──────┤\n",
      "│ kenter_ft_k_50_b_0.001_text  │ 0.888052 │ 0.888052 │ 0.888052 │ 0.888052 │ 2.7569  │ 1650 │ 14792 │  208 │  208 │\n",
      "├──────────────────────────────┼──────────┼──────────┼──────────┼──────────┼─────────┼──────┼───────┼──────┼──────┤\n",
      "│ kenter_wv_k_50_b_0.01_title  │ 0.752086 │ 0.752086 │ 0.752289 │ 0.751884 │ 2.14232 │ 1397 │ 14540 │  460 │  461 │\n",
      "├──────────────────────────────┼──────────┼──────────┼──────────┼──────────┼─────────┼──────┼───────┼──────┼──────┤\n",
      "│ kenter_ft_k_50_b_0.01_title  │ 0.743811 │ 0.743811 │ 0.743811 │ 0.743811 │ 2.17603 │ 1382 │ 14524 │  476 │  476 │\n",
      "├──────────────────────────────┼──────────┼──────────┼──────────┼──────────┼─────────┼──────┼───────┼──────┼──────┤\n",
      "│ kenter_wv_k_50_b_0.01_spot   │ 0.874596 │ 0.874596 │ 0.874596 │ 0.874596 │ 2.35612 │ 1625 │ 14767 │  233 │  233 │\n",
      "├──────────────────────────────┼──────────┼──────────┼──────────┼──────────┼─────────┼──────┼───────┼──────┼──────┤\n",
      "│ kenter_ft_k_50_b_0.01_spot   │ 0.868138 │ 0.868138 │ 0.868138 │ 0.868138 │ 2.37711 │ 1613 │ 14755 │  245 │  245 │\n",
      "├──────────────────────────────┼──────────┼──────────┼──────────┼──────────┼─────────┼──────┼───────┼──────┼──────┤\n",
      "│ kenter_wv_k_50_b_0.01_text   │ 0.899892 │ 0.899892 │ 0.899892 │ 0.899892 │ 2.71255 │ 1672 │ 14814 │  186 │  186 │\n",
      "├──────────────────────────────┼──────────┼──────────┼──────────┼──────────┼─────────┼──────┼───────┼──────┼──────┤\n",
      "│ kenter_ft_k_50_b_0.01_text   │ 0.888052 │ 0.888052 │ 0.888052 │ 0.888052 │ 2.76919 │ 1650 │ 14792 │  208 │  208 │\n",
      "├──────────────────────────────┼──────────┼──────────┼──────────┼──────────┼─────────┼──────┼───────┼──────┼──────┤\n",
      "│ kenter_wv_k_50_b_0.1_title   │ 0.750807 │ 0.750807 │ 0.750807 │ 0.750807 │ 2.17308 │ 1395 │ 14537 │  463 │  463 │\n",
      "├──────────────────────────────┼──────────┼──────────┼──────────┼──────────┼─────────┼──────┼───────┼──────┼──────┤\n",
      "│ kenter_ft_k_50_b_0.1_title   │ 0.741119 │ 0.741119 │ 0.741119 │ 0.741119 │ 2.19905 │ 1377 │ 14519 │  481 │  481 │\n",
      "├──────────────────────────────┼──────────┼──────────┼──────────┼──────────┼─────────┼──────┼───────┼──────┼──────┤\n",
      "│ kenter_wv_k_50_b_0.1_spot    │ 0.874832 │ 0.874832 │ 0.875067 │ 0.874596 │ 2.39704 │ 1625 │ 14768 │  232 │  233 │\n",
      "├──────────────────────────────┼──────────┼──────────┼──────────┼──────────┼─────────┼──────┼───────┼──────┼──────┤\n",
      "│ kenter_ft_k_50_b_0.1_spot    │ 0.864909 │ 0.864909 │ 0.864909 │ 0.864909 │ 2.42912 │ 1607 │ 14749 │  251 │  251 │\n",
      "├──────────────────────────────┼──────────┼──────────┼──────────┼──────────┼─────────┼──────┼───────┼──────┼──────┤\n",
      "│ kenter_wv_k_50_b_0.1_text    │ 0.898816 │ 0.898816 │ 0.898816 │ 0.898816 │ 2.79165 │ 1670 │ 14812 │  188 │  188 │\n",
      "├──────────────────────────────┼──────────┼──────────┼──────────┼──────────┼─────────┼──────┼───────┼──────┼──────┤\n",
      "│ kenter_ft_k_50_b_0.1_text    │ 0.884822 │ 0.884822 │ 0.884822 │ 0.884822 │ 2.85345 │ 1644 │ 14786 │  214 │  214 │\n",
      "├──────────────────────────────┼──────────┼──────────┼──────────┼──────────┼─────────┼──────┼───────┼──────┼──────┤\n",
      "│ kenter_wv_k_50_b_0.2_title   │ 0.744349 │ 0.744349 │ 0.744349 │ 0.744349 │ 2.21341 │ 1383 │ 14525 │  475 │  475 │\n",
      "├──────────────────────────────┼──────────┼──────────┼──────────┼──────────┼─────────┼──────┼───────┼──────┼──────┤\n",
      "│ kenter_ft_k_50_b_0.2_title   │ 0.735199 │ 0.735199 │ 0.735199 │ 0.735199 │ 2.23818 │ 1366 │ 14508 │  492 │  492 │\n",
      "├──────────────────────────────┼──────────┼──────────┼──────────┼──────────┼─────────┼──────┼───────┼──────┼──────┤\n",
      "│ kenter_wv_k_50_b_0.2_spot    │ 0.868138 │ 0.868138 │ 0.868138 │ 0.868138 │ 2.46728 │ 1613 │ 14755 │  245 │  245 │\n",
      "├──────────────────────────────┼──────────┼──────────┼──────────┼──────────┼─────────┼──────┼───────┼──────┼──────┤\n",
      "│ kenter_ft_k_50_b_0.2_spot    │ 0.855759 │ 0.855759 │ 0.855759 │ 0.855759 │ 2.49154 │ 1590 │ 14732 │  268 │  268 │\n",
      "├──────────────────────────────┼──────────┼──────────┼──────────┼──────────┼─────────┼──────┼───────┼──────┼──────┤\n",
      "│ kenter_wv_k_50_b_0.2_text    │ 0.870829 │ 0.870829 │ 0.870829 │ 0.870829 │ 2.88378 │ 1618 │ 14760 │  240 │  240 │\n",
      "├──────────────────────────────┼──────────┼──────────┼──────────┼──────────┼─────────┼──────┼───────┼──────┼──────┤\n",
      "│ kenter_ft_k_50_b_0.2_text    │ 0.857374 │ 0.857374 │ 0.857374 │ 0.857374 │ 2.94502 │ 1593 │ 14735 │  265 │  265 │\n",
      "╘══════════════════════════════╧══════════╧══════════╧══════════╧══════════╧═════════╧══════╧═══════╧══════╧══════╛\n"
     ]
    }
   ],
   "source": [
    "print(tabulate_res(results))"
   ]
  },
  {
   "cell_type": "code",
   "execution_count": 118,
   "metadata": {
    "ExecuteTime": {
     "end_time": "2019-03-07T11:08:33.684600Z",
     "start_time": "2019-03-07T11:08:33.621775Z"
    }
   },
   "outputs": [
    {
     "name": "stdout",
     "output_type": "stream",
     "text": [
      "╒══════════════════════════════╤══════════╤══════════╤══════════╤══════════╤══════════╤══════╤═══════╤══════╤══════╕\n",
      "│                              │    E-ACC │       F1 │     PREC │   RECALL │      THR │   TP │    TN │   FP │   FN │\n",
      "╞══════════════════════════════╪══════════╪══════════╪══════════╪══════════╪══════════╪══════╪═══════╪══════╪══════╡\n",
      "│ kenter_wv_title              │ 0.572121 │ 0.572121 │ 0.572121 │ 0.572121 │  2.90282 │ 1063 │ 14205 │  795 │  795 │\n",
      "├──────────────────────────────┼──────────┼──────────┼──────────┼──────────┼──────────┼──────┼───────┼──────┼──────┤\n",
      "│ kenter_wv_spot               │ 0.629171 │ 0.629171 │ 0.629171 │ 0.629171 │  3.40738 │ 1169 │ 14311 │  689 │  689 │\n",
      "├──────────────────────────────┼──────────┼──────────┼──────────┼──────────┼──────────┼──────┼───────┼──────┼──────┤\n",
      "│ kenter_wv_text               │ 0.467169 │ 0.467169 │ 0.467169 │ 0.467169 │  4.4085  │  868 │ 14010 │  990 │  990 │\n",
      "├──────────────────────────────┼──────────┼──────────┼──────────┼──────────┼──────────┼──────┼───────┼──────┼──────┤\n",
      "│ kenter_ft_title              │ 0.555436 │ 0.555436 │ 0.555436 │ 0.555436 │  2.95067 │ 1032 │ 14174 │  826 │  826 │\n",
      "├──────────────────────────────┼──────────┼──────────┼──────────┼──────────┼──────────┼──────┼───────┼──────┼──────┤\n",
      "│ kenter_ft_spot               │ 0.624865 │ 0.624865 │ 0.624865 │ 0.624865 │  3.43234 │ 1161 │ 14303 │  697 │  697 │\n",
      "├──────────────────────────────┼──────────┼──────────┼──────────┼──────────┼──────────┼──────┼───────┼──────┼──────┤\n",
      "│ kenter_ft_text               │ 0.463402 │ 0.463402 │ 0.463402 │ 0.463402 │  4.49999 │  861 │ 14003 │  997 │  997 │\n",
      "├──────────────────────────────┼──────────┼──────────┼──────────┼──────────┼──────────┼──────┼───────┼──────┼──────┤\n",
      "│ idf_wv_title                 │ 0.755651 │ 0.755651 │ 0.755651 │ 0.755651 │  2.12314 │ 1404 │ 14546 │  454 │  454 │\n",
      "├──────────────────────────────┼──────────┼──────────┼──────────┼──────────┼──────────┼──────┼───────┼──────┼──────┤\n",
      "│ idf_wv_spot                  │ 0.876211 │ 0.876211 │ 0.876211 │ 0.876211 │  2.33369 │ 1628 │ 14770 │  230 │  230 │\n",
      "├──────────────────────────────┼──────────┼──────────┼──────────┼──────────┼──────────┼──────┼───────┼──────┼──────┤\n",
      "│ idf_wv_text                  │ 0.901507 │ 0.901507 │ 0.901507 │ 0.901507 │  2.68575 │ 1675 │ 14817 │  183 │  183 │\n",
      "├──────────────────────────────┼──────────┼──────────┼──────────┼──────────┼──────────┼──────┼───────┼──────┼──────┤\n",
      "│ idf_ft_title                 │ 0.747578 │ 0.747578 │ 0.747578 │ 0.747578 │  2.15194 │ 1389 │ 14531 │  469 │  469 │\n",
      "├──────────────────────────────┼──────────┼──────────┼──────────┼──────────┼──────────┼──────┼───────┼──────┼──────┤\n",
      "│ idf_ft_spot                  │ 0.870829 │ 0.870829 │ 0.870829 │ 0.870829 │  2.35513 │ 1618 │ 14760 │  240 │  240 │\n",
      "├──────────────────────────────┼──────────┼──────────┼──────────┼──────────┼──────────┼──────┼───────┼──────┼──────┤\n",
      "│ idf_ft_text                  │ 0.890743 │ 0.890743 │ 0.890743 │ 0.890743 │  2.73829 │ 1655 │ 14797 │  203 │  203 │\n",
      "├──────────────────────────────┼──────────┼──────────┼──────────┼──────────┼──────────┼──────┼───────┼──────┼──────┤\n",
      "│ kenter_wv_k_0.8_b_0.2_title  │ 0.564047 │ 0.564047 │ 0.564047 │ 0.564047 │  2.97908 │ 1048 │ 14190 │  810 │  810 │\n",
      "├──────────────────────────────┼──────────┼──────────┼──────────┼──────────┼──────────┼──────┼───────┼──────┼──────┤\n",
      "│ kenter_ft_k_0.8_b_0.2_title  │ 0.542519 │ 0.542519 │ 0.542519 │ 0.542519 │  3.03918 │ 1008 │ 14150 │  850 │  850 │\n",
      "├──────────────────────────────┼──────────┼──────────┼──────────┼──────────┼──────────┼──────┼───────┼──────┼──────┤\n",
      "│ kenter_wv_k_0.8_b_0.2_spot   │ 0.699677 │ 0.699677 │ 0.699677 │ 0.699677 │  3.13162 │ 1300 │ 14442 │  558 │  558 │\n",
      "├──────────────────────────────┼──────────┼──────────┼──────────┼──────────┼──────────┼──────┼───────┼──────┼──────┤\n",
      "│ kenter_ft_k_0.8_b_0.2_spot   │ 0.69268  │ 0.69268  │ 0.69268  │ 0.69268  │  3.16031 │ 1287 │ 14429 │  571 │  571 │\n",
      "├──────────────────────────────┼──────────┼──────────┼──────────┼──────────┼──────────┼──────┼───────┼──────┼──────┤\n",
      "│ kenter_wv_k_0.8_b_0.2_text   │ 0.695371 │ 0.695371 │ 0.695371 │ 0.695371 │  3.42549 │ 1292 │ 14434 │  566 │  566 │\n",
      "├──────────────────────────────┼──────────┼──────────┼──────────┼──────────┼──────────┼──────┼───────┼──────┼──────┤\n",
      "│ kenter_ft_k_0.8_b_0.2_text   │ 0.616792 │ 0.616792 │ 0.616792 │ 0.616792 │  3.5454  │ 1146 │ 14288 │  712 │  712 │\n",
      "├──────────────────────────────┼──────────┼──────────┼──────────┼──────────┼──────────┼──────┼───────┼──────┼──────┤\n",
      "│ kenter_wv_k_0.8_b_0.5_title  │ 0.531755 │ 0.531755 │ 0.531755 │ 0.531755 │  3.11102 │  988 │ 14130 │  870 │  870 │\n",
      "├──────────────────────────────┼──────────┼──────────┼──────────┼──────────┼──────────┼──────┼───────┼──────┼──────┤\n",
      "│ kenter_ft_k_0.8_b_0.5_title  │ 0.509688 │ 0.509688 │ 0.509688 │ 0.509688 │  3.16823 │  947 │ 14089 │  911 │  911 │\n",
      "├──────────────────────────────┼──────────┼──────────┼──────────┼──────────┼──────────┼──────┼───────┼──────┼──────┤\n",
      "│ kenter_wv_k_0.8_b_0.5_spot   │ 0.639397 │ 0.639397 │ 0.639397 │ 0.639397 │  3.34041 │ 1188 │ 14330 │  670 │  670 │\n",
      "├──────────────────────────────┼──────────┼──────────┼──────────┼──────────┼──────────┼──────┼───────┼──────┼──────┤\n",
      "│ kenter_ft_k_0.8_b_0.5_spot   │ 0.631862 │ 0.631862 │ 0.631862 │ 0.631862 │  3.37986 │ 1174 │ 14316 │  684 │  684 │\n",
      "├──────────────────────────────┼──────────┼──────────┼──────────┼──────────┼──────────┼──────┼───────┼──────┼──────┤\n",
      "│ kenter_wv_k_0.8_b_0.5_text   │ 0.55113  │ 0.55113  │ 0.55113  │ 0.55113  │  3.78118 │ 1024 │ 14166 │  834 │  834 │\n",
      "├──────────────────────────────┼──────────┼──────────┼──────────┼──────────┼──────────┼──────┼───────┼──────┼──────┤\n",
      "│ kenter_ft_k_0.8_b_0.5_text   │ 0.504844 │ 0.504844 │ 0.504844 │ 0.504844 │  3.89472 │  938 │ 14080 │  920 │  920 │\n",
      "├──────────────────────────────┼──────────┼──────────┼──────────┼──────────┼──────────┼──────┼───────┼──────┼──────┤\n",
      "│ kenter_wv_k_0.8_b_0.75_title │ 0.485468 │ 0.485468 │ 0.485468 │ 0.485468 │  3.26863 │  902 │ 14044 │  956 │  956 │\n",
      "├──────────────────────────────┼──────────┼──────────┼──────────┼──────────┼──────────┼──────┼───────┼──────┼──────┤\n",
      "│ kenter_ft_k_0.8_b_0.75_title │ 0.458558 │ 0.458558 │ 0.458558 │ 0.458558 │  3.32439 │  852 │ 13994 │ 1006 │ 1006 │\n",
      "├──────────────────────────────┼──────────┼──────────┼──────────┼──────────┼──────────┼──────┼───────┼──────┼──────┤\n",
      "│ kenter_wv_k_0.8_b_0.75_spot  │ 0.53606  │ 0.53606  │ 0.53606  │ 0.53606  │  3.60953 │  996 │ 14138 │  862 │  862 │\n",
      "├──────────────────────────────┼──────────┼──────────┼──────────┼──────────┼──────────┼──────┼───────┼──────┼──────┤\n",
      "│ kenter_ft_k_0.8_b_0.75_spot  │ 0.527987 │ 0.527987 │ 0.527987 │ 0.527987 │  3.63789 │  981 │ 14123 │  877 │  877 │\n",
      "├──────────────────────────────┼──────────┼──────────┼──────────┼──────────┼──────────┼──────┼───────┼──────┼──────┤\n",
      "│ kenter_wv_k_0.8_b_0.75_text  │ 0.398278 │ 0.398278 │ 0.398278 │ 0.398278 │  4.28958 │  740 │ 13882 │ 1118 │ 1118 │\n",
      "├──────────────────────────────┼──────────┼──────────┼──────────┼──────────┼──────────┼──────┼───────┼──────┼──────┤\n",
      "│ kenter_ft_k_0.8_b_0.75_text  │ 0.376749 │ 0.376749 │ 0.376749 │ 0.376749 │  4.40089 │  700 │ 13842 │ 1158 │ 1158 │\n",
      "├──────────────────────────────┼──────────┼──────────┼──────────┼──────────┼──────────┼──────┼───────┼──────┼──────┤\n",
      "│ kenter_wv_k_0.8_b_0.9_title  │ 0.45479  │ 0.45479  │ 0.45479  │ 0.45479  │  3.38653 │  845 │ 13987 │ 1013 │ 1013 │\n",
      "├──────────────────────────────┼──────────┼──────────┼──────────┼──────────┼──────────┼──────┼───────┼──────┼──────┤\n",
      "│ kenter_ft_k_0.8_b_0.9_title  │ 0.434338 │ 0.434338 │ 0.434338 │ 0.434338 │  3.43617 │  807 │ 13949 │ 1051 │ 1051 │\n",
      "├──────────────────────────────┼──────────┼──────────┼──────────┼──────────┼──────────┼──────┼───────┼──────┼──────┤\n",
      "│ kenter_wv_k_0.8_b_0.9_spot   │ 0.465554 │ 0.465554 │ 0.465554 │ 0.465554 │  3.83907 │  865 │ 14007 │  993 │  993 │\n",
      "├──────────────────────────────┼──────────┼──────────┼──────────┼──────────┼──────────┼──────┼───────┼──────┼──────┤\n",
      "│ kenter_ft_k_0.8_b_0.9_spot   │ 0.46986  │ 0.46986  │ 0.46986  │ 0.46986  │  3.86594 │  873 │ 14015 │  985 │  985 │\n",
      "├──────────────────────────────┼──────────┼──────────┼──────────┼──────────┼──────────┼──────┼───────┼──────┼──────┤\n",
      "│ kenter_wv_k_0.8_b_0.9_text   │ 0.294941 │ 0.294941 │ 0.294941 │ 0.294941 │  4.75393 │  548 │ 13690 │ 1310 │ 1310 │\n",
      "├──────────────────────────────┼──────────┼──────────┼──────────┼──────────┼──────────┼──────┼───────┼──────┼──────┤\n",
      "│ kenter_ft_k_0.8_b_0.9_text   │ 0.275027 │ 0.275027 │ 0.275027 │ 0.275027 │  4.85926 │  511 │ 13653 │ 1347 │ 1347 │\n",
      "├──────────────────────────────┼──────────┼──────────┼──────────┼──────────┼──────────┼──────┼───────┼──────┼──────┤\n",
      "│ kenter_wv_k_0.8_b_1_title    │ 0.434876 │ 0.434876 │ 0.434876 │ 0.434876 │  3.48206 │  808 │ 13950 │ 1050 │ 1050 │\n",
      "├──────────────────────────────┼──────────┼──────────┼──────────┼──────────┼──────────┼──────┼───────┼──────┼──────┤\n",
      "│ kenter_ft_k_0.8_b_1_title    │ 0.420344 │ 0.420344 │ 0.420344 │ 0.420344 │  3.53781 │  781 │ 13923 │ 1077 │ 1077 │\n",
      "├──────────────────────────────┼──────────┼──────────┼──────────┼──────────┼──────────┼──────┼───────┼──────┼──────┤\n",
      "│ kenter_wv_k_0.8_b_1_spot     │ 0.418192 │ 0.418192 │ 0.418192 │ 0.418192 │  4.02904 │  777 │ 13919 │ 1081 │ 1081 │\n",
      "├──────────────────────────────┼──────────┼──────────┼──────────┼──────────┼──────────┼──────┼───────┼──────┼──────┤\n",
      "│ kenter_ft_k_0.8_b_1_spot     │ 0.414962 │ 0.414962 │ 0.414962 │ 0.414962 │  4.06144 │  771 │ 13913 │ 1087 │ 1087 │\n",
      "├──────────────────────────────┼──────────┼──────────┼──────────┼──────────┼──────────┼──────┼───────┼──────┼──────┤\n",
      "│ kenter_wv_k_0.8_b_1_text     │ 0.226588 │ 0.226588 │ 0.226588 │ 0.226588 │  5.16436 │  421 │ 13563 │ 1437 │ 1437 │\n",
      "├──────────────────────────────┼──────────┼──────────┼──────────┼──────────┼──────────┼──────┼───────┼──────┼──────┤\n",
      "│ kenter_ft_k_0.8_b_1_text     │ 0.221744 │ 0.221744 │ 0.221744 │ 0.221744 │  5.26821 │  412 │ 13554 │ 1446 │ 1446 │\n",
      "├──────────────────────────────┼──────────┼──────────┼──────────┼──────────┼──────────┼──────┼───────┼──────┼──────┤\n",
      "│ kenter_wv_k_1_b_0.2_title    │ 0.594726 │ 0.594726 │ 0.594726 │ 0.594726 │  2.85737 │ 1105 │ 14247 │  753 │  753 │\n",
      "├──────────────────────────────┼──────────┼──────────┼──────────┼──────────┼──────────┼──────┼───────┼──────┼──────┤\n",
      "│ kenter_ft_k_1_b_0.2_title    │ 0.575888 │ 0.575888 │ 0.575888 │ 0.575888 │  2.91349 │ 1070 │ 14212 │  788 │  788 │\n",
      "├──────────────────────────────┼──────────┼──────────┼──────────┼──────────┼──────────┼──────┼───────┼──────┼──────┤\n",
      "│ kenter_wv_k_1_b_0.2_spot     │ 0.738428 │ 0.738428 │ 0.738428 │ 0.738428 │  3.03945 │ 1372 │ 14514 │  486 │  486 │\n",
      "├──────────────────────────────┼──────────┼──────────┼──────────┼──────────┼──────────┼──────┼───────┼──────┼──────┤\n",
      "│ kenter_ft_k_1_b_0.2_spot     │ 0.724435 │ 0.724435 │ 0.724435 │ 0.724435 │  3.06739 │ 1346 │ 14488 │  512 │  512 │\n",
      "├──────────────────────────────┼──────────┼──────────┼──────────┼──────────┼──────────┼──────┼───────┼──────┼──────┤\n",
      "│ kenter_wv_k_1_b_0.2_text     │ 0.730893 │ 0.730893 │ 0.730893 │ 0.730893 │  3.35121 │ 1358 │ 14500 │  500 │  500 │\n",
      "├──────────────────────────────┼──────────┼──────────┼──────────┼──────────┼──────────┼──────┼───────┼──────┼──────┤\n",
      "│ kenter_ft_k_1_b_0.2_text     │ 0.670614 │ 0.670614 │ 0.670614 │ 0.670614 │  3.46975 │ 1246 │ 14388 │  612 │  612 │\n",
      "├──────────────────────────────┼──────────┼──────────┼──────────┼──────────┼──────────┼──────┼───────┼──────┼──────┤\n",
      "│ kenter_wv_k_1_b_0.5_title    │ 0.554898 │ 0.554898 │ 0.554898 │ 0.554898 │  2.9971  │ 1031 │ 14173 │  827 │  827 │\n",
      "├──────────────────────────────┼──────────┼──────────┼──────────┼──────────┼──────────┼──────┼───────┼──────┼──────┤\n",
      "│ kenter_ft_k_1_b_0.5_title    │ 0.540366 │ 0.540366 │ 0.540366 │ 0.540366 │  3.05125 │ 1004 │ 14146 │  854 │  854 │\n",
      "├──────────────────────────────┼──────────┼──────────┼──────────┼──────────┼──────────┼──────┼───────┼──────┼──────┤\n",
      "│ kenter_wv_k_1_b_0.5_spot     │ 0.666308 │ 0.666308 │ 0.666308 │ 0.666308 │  3.25983 │ 1238 │ 14380 │  620 │  620 │\n",
      "├──────────────────────────────┼──────────┼──────────┼──────────┼──────────┼──────────┼──────┼───────┼──────┼──────┤\n",
      "│ kenter_ft_k_1_b_0.5_spot     │ 0.663617 │ 0.663617 │ 0.663617 │ 0.663617 │  3.29931 │ 1233 │ 14375 │  625 │  625 │\n",
      "├──────────────────────────────┼──────────┼──────────┼──────────┼──────────┼──────────┼──────┼───────┼──────┼──────┤\n",
      "│ kenter_wv_k_1_b_0.5_text     │ 0.588267 │ 0.588267 │ 0.588267 │ 0.588267 │  3.74369 │ 1093 │ 14235 │  765 │  765 │\n",
      "├──────────────────────────────┼──────────┼──────────┼──────────┼──────────┼──────────┼──────┼───────┼──────┼──────┤\n",
      "│ kenter_ft_k_1_b_0.5_text     │ 0.544133 │ 0.544133 │ 0.544133 │ 0.544133 │  3.84821 │ 1011 │ 14153 │  847 │  847 │\n",
      "├──────────────────────────────┼──────────┼──────────┼──────────┼──────────┼──────────┼──────┼───────┼──────┼──────┤\n",
      "│ kenter_wv_k_1_b_0.75_title   │ 0.511841 │ 0.511841 │ 0.511841 │ 0.511841 │  3.16645 │  951 │ 14093 │  907 │  907 │\n",
      "├──────────────────────────────┼──────────┼──────────┼──────────┼──────────┼──────────┼──────┼───────┼──────┼──────┤\n",
      "│ kenter_ft_k_1_b_0.75_title   │ 0.491389 │ 0.491389 │ 0.491389 │ 0.491389 │  3.22035 │  913 │ 14055 │  945 │  945 │\n",
      "├──────────────────────────────┼──────────┼──────────┼──────────┼──────────┼──────────┼──────┼───────┼──────┼──────┤\n",
      "│ kenter_wv_k_1_b_0.75_spot    │ 0.564586 │ 0.564586 │ 0.564586 │ 0.564586 │  3.5529  │ 1049 │ 14191 │  809 │  809 │\n",
      "├──────────────────────────────┼──────────┼──────────┼──────────┼──────────┼──────────┼──────┼───────┼──────┼──────┤\n",
      "│ kenter_ft_k_1_b_0.75_spot    │ 0.556512 │ 0.556512 │ 0.556512 │ 0.556512 │  3.57675 │ 1034 │ 14176 │  824 │  824 │\n",
      "├──────────────────────────────┼──────────┼──────────┼──────────┼──────────┼──────────┼──────┼───────┼──────┼──────┤\n",
      "│ kenter_wv_k_1_b_0.75_text    │ 0.425727 │ 0.425727 │ 0.425727 │ 0.425727 │  4.31787 │  791 │ 13933 │ 1067 │ 1067 │\n",
      "├──────────────────────────────┼──────────┼──────────┼──────────┼──────────┼──────────┼──────┼───────┼──────┼──────┤\n",
      "│ kenter_ft_k_1_b_0.75_text    │ 0.404198 │ 0.404198 │ 0.404198 │ 0.404198 │  4.42044 │  751 │ 13893 │ 1107 │ 1107 │\n",
      "├──────────────────────────────┼──────────┼──────────┼──────────┼──────────┼──────────┼──────┼───────┼──────┼──────┤\n",
      "│ kenter_wv_k_1_b_0.9_title    │ 0.480086 │ 0.480086 │ 0.480086 │ 0.480086 │  3.28697 │  892 │ 14034 │  966 │  966 │\n",
      "├──────────────────────────────┼──────────┼──────────┼──────────┼──────────┼──────────┼──────┼───────┼──────┼──────┤\n",
      "│ kenter_ft_k_1_b_0.9_title    │ 0.458019 │ 0.458019 │ 0.458019 │ 0.458019 │  3.33587 │  851 │ 13993 │ 1007 │ 1007 │\n",
      "├──────────────────────────────┼──────────┼──────────┼──────────┼──────────┼──────────┼──────┼───────┼──────┼──────┤\n",
      "│ kenter_wv_k_1_b_0.9_spot     │ 0.488159 │ 0.488159 │ 0.488159 │ 0.488159 │  3.7972  │  907 │ 14049 │  951 │  951 │\n",
      "├──────────────────────────────┼──────────┼──────────┼──────────┼──────────┼──────────┼──────┼───────┼──────┼──────┤\n",
      "│ kenter_ft_k_1_b_0.9_spot     │ 0.49085  │ 0.49085  │ 0.49085  │ 0.49085  │  3.83299 │  912 │ 14054 │  946 │  946 │\n",
      "├──────────────────────────────┼──────────┼──────────┼──────────┼──────────┼──────────┼──────┼───────┼──────┼──────┤\n",
      "│ kenter_wv_k_1_b_0.9_text     │ 0.303552 │ 0.303552 │ 0.303552 │ 0.303552 │  4.86132 │  564 │ 13706 │ 1294 │ 1294 │\n",
      "├──────────────────────────────┼──────────┼──────────┼──────────┼──────────┼──────────┼──────┼───────┼──────┼──────┤\n",
      "│ kenter_ft_k_1_b_0.9_text     │ 0.293864 │ 0.293864 │ 0.293864 │ 0.293864 │  4.95282 │  546 │ 13688 │ 1312 │ 1312 │\n",
      "├──────────────────────────────┼──────────┼──────────┼──────────┼──────────┼──────────┼──────┼───────┼──────┼──────┤\n",
      "│ kenter_wv_k_1_b_1_title      │ 0.449408 │ 0.449408 │ 0.449408 │ 0.449408 │  3.38559 │  835 │ 13977 │ 1023 │ 1023 │\n",
      "├──────────────────────────────┼──────────┼──────────┼──────────┼──────────┼──────────┼──────┼───────┼──────┼──────┤\n",
      "│ kenter_ft_k_1_b_1_title      │ 0.437567 │ 0.437567 │ 0.437567 │ 0.437567 │  3.44188 │  813 │ 13955 │ 1045 │ 1045 │\n",
      "├──────────────────────────────┼──────────┼──────────┼──────────┼──────────┼──────────┼──────┼───────┼──────┼──────┤\n",
      "│ kenter_wv_k_1_b_1_spot       │ 0.435953 │ 0.435953 │ 0.435953 │ 0.435953 │  4.01613 │  810 │ 13952 │ 1048 │ 1048 │\n",
      "├──────────────────────────────┼──────────┼──────────┼──────────┼──────────┼──────────┼──────┼───────┼──────┼──────┤\n",
      "│ kenter_ft_k_1_b_1_spot       │ 0.431109 │ 0.431109 │ 0.431109 │ 0.431109 │  4.04927 │  801 │ 13943 │ 1057 │ 1057 │\n",
      "├──────────────────────────────┼──────────┼──────────┼──────────┼──────────┼──────────┼──────┼───────┼──────┼──────┤\n",
      "│ kenter_wv_k_1_b_1_text       │ 0.235737 │ 0.235737 │ 0.235737 │ 0.235737 │  5.34494 │  438 │ 13580 │ 1420 │ 1420 │\n",
      "├──────────────────────────────┼──────────┼──────────┼──────────┼──────────┼──────────┼──────┼───────┼──────┼──────┤\n",
      "│ kenter_ft_k_1_b_1_text       │ 0.230355 │ 0.230355 │ 0.230355 │ 0.230355 │  5.44862 │  428 │ 13570 │ 1430 │ 1430 │\n",
      "├──────────────────────────────┼──────────┼──────────┼──────────┼──────────┼──────────┼──────┼───────┼──────┼──────┤\n",
      "│ kenter_wv_k_1.2_b_0.2_title  │ 0.61733  │ 0.61733  │ 0.61733  │ 0.61733  │  2.77036 │ 1147 │ 14289 │  711 │  711 │\n",
      "├──────────────────────────────┼──────────┼──────────┼──────────┼──────────┼──────────┼──────┼───────┼──────┼──────┤\n",
      "│ kenter_ft_k_1.2_b_0.2_title  │ 0.594187 │ 0.594187 │ 0.594187 │ 0.594187 │  2.8299  │ 1104 │ 14246 │  754 │  754 │\n",
      "├──────────────────────────────┼──────────┼──────────┼──────────┼──────────┼──────────┼──────┼───────┼──────┼──────┤\n",
      "│ kenter_wv_k_1.2_b_0.2_spot   │ 0.760495 │ 0.760495 │ 0.760495 │ 0.760495 │  2.96385 │ 1413 │ 14555 │  445 │  445 │\n",
      "├──────────────────────────────┼──────────┼──────────┼──────────┼──────────┼──────────┼──────┼───────┼──────┼──────┤\n",
      "│ kenter_ft_k_1.2_b_0.2_spot   │ 0.747578 │ 0.747578 │ 0.747578 │ 0.747578 │  3.00413 │ 1389 │ 14531 │  469 │  469 │\n",
      "├──────────────────────────────┼──────────┼──────────┼──────────┼──────────┼──────────┼──────┼───────┼──────┼──────┤\n",
      "│ kenter_wv_k_1.2_b_0.2_text   │ 0.753498 │ 0.753498 │ 0.753498 │ 0.753498 │  3.29346 │ 1400 │ 14542 │  458 │  458 │\n",
      "├──────────────────────────────┼──────────┼──────────┼──────────┼──────────┼──────────┼──────┼───────┼──────┼──────┤\n",
      "│ kenter_ft_k_1.2_b_0.2_text   │ 0.705597 │ 0.705597 │ 0.705597 │ 0.705597 │  3.40438 │ 1311 │ 14453 │  547 │  547 │\n",
      "├──────────────────────────────┼──────────┼──────────┼──────────┼──────────┼──────────┼──────┼───────┼──────┼──────┤\n",
      "│ kenter_wv_k_1.2_b_0.5_title  │ 0.573735 │ 0.573735 │ 0.573735 │ 0.573735 │  2.91335 │ 1066 │ 14208 │  792 │  792 │\n",
      "├──────────────────────────────┼──────────┼──────────┼──────────┼──────────┼──────────┼──────┼───────┼──────┼──────┤\n",
      "│ kenter_ft_k_1.2_b_0.5_title  │ 0.559203 │ 0.559203 │ 0.559203 │ 0.559203 │  2.96802 │ 1039 │ 14181 │  819 │  819 │\n",
      "├──────────────────────────────┼──────────┼──────────┼──────────┼──────────┼──────────┼──────┼───────┼──────┼──────┤\n",
      "│ kenter_wv_k_1.2_b_0.5_spot   │ 0.688375 │ 0.688375 │ 0.688375 │ 0.688375 │  3.20763 │ 1279 │ 14421 │  579 │  579 │\n",
      "├──────────────────────────────┼──────────┼──────────┼──────────┼──────────┼──────────┼──────┼───────┼──────┼──────┤\n",
      "│ kenter_ft_k_1.2_b_0.5_spot   │ 0.68676  │ 0.68676  │ 0.68676  │ 0.68676  │  3.24032 │ 1276 │ 14418 │  582 │  582 │\n",
      "├──────────────────────────────┼──────────┼──────────┼──────────┼──────────┼──────────┼──────┼───────┼──────┼──────┤\n",
      "│ kenter_wv_k_1.2_b_0.5_text   │ 0.611948 │ 0.611948 │ 0.611948 │ 0.611948 │  3.70974 │ 1137 │ 14279 │  721 │  721 │\n",
      "├──────────────────────────────┼──────────┼──────────┼──────────┼──────────┼──────────┼──────┼───────┼──────┼──────┤\n",
      "│ kenter_ft_k_1.2_b_0.5_text   │ 0.574812 │ 0.574812 │ 0.574812 │ 0.574812 │  3.81676 │ 1068 │ 14210 │  790 │  790 │\n",
      "├──────────────────────────────┼──────────┼──────────┼──────────┼──────────┼──────────┼──────┼───────┼──────┼──────┤\n",
      "│ kenter_wv_k_1.2_b_0.75_title │ 0.527449 │ 0.527449 │ 0.527449 │ 0.527449 │  3.08119 │  980 │ 14122 │  878 │  878 │\n",
      "├──────────────────────────────┼──────────┼──────────┼──────────┼──────────┼──────────┼──────┼───────┼──────┼──────┤\n",
      "│ kenter_ft_k_1.2_b_0.75_title │ 0.510764 │ 0.510764 │ 0.510764 │ 0.510764 │  3.14092 │  949 │ 14091 │  909 │  909 │\n",
      "├──────────────────────────────┼──────────┼──────────┼──────────┼──────────┼──────────┼──────┼───────┼──────┼──────┤\n",
      "│ kenter_wv_k_1.2_b_0.75_spot  │ 0.586114 │ 0.586114 │ 0.586114 │ 0.586114 │  3.50757 │ 1089 │ 14231 │  769 │  769 │\n",
      "├──────────────────────────────┼──────────┼──────────┼──────────┼──────────┼──────────┼──────┼───────┼──────┼──────┤\n",
      "│ kenter_ft_k_1.2_b_0.75_spot  │ 0.582347 │ 0.582347 │ 0.582347 │ 0.582347 │  3.53301 │ 1082 │ 14224 │  776 │  776 │\n",
      "├──────────────────────────────┼──────────┼──────────┼──────────┼──────────┼──────────┼──────┼───────┼──────┼──────┤\n",
      "│ kenter_wv_k_1.2_b_0.75_text  │ 0.440258 │ 0.440258 │ 0.440258 │ 0.440258 │  4.34376 │  818 │ 13960 │ 1040 │ 1040 │\n",
      "├──────────────────────────────┼──────────┼──────────┼──────────┼──────────┼──────────┼──────┼───────┼──────┼──────┤\n",
      "│ kenter_ft_k_1.2_b_0.75_text  │ 0.427341 │ 0.427341 │ 0.427341 │ 0.427341 │  4.4404  │  794 │ 13936 │ 1064 │ 1064 │\n",
      "├──────────────────────────────┼──────────┼──────────┼──────────┼──────────┼──────────┼──────┼───────┼──────┼──────┤\n",
      "│ kenter_wv_k_1.2_b_0.9_title  │ 0.495694 │ 0.495694 │ 0.495694 │ 0.495694 │  3.21172 │  921 │ 14063 │  937 │  937 │\n",
      "├──────────────────────────────┼──────────┼──────────┼──────────┼──────────┼──────────┼──────┼───────┼──────┼──────┤\n",
      "│ kenter_ft_k_1.2_b_0.9_title  │ 0.470936 │ 0.470936 │ 0.470936 │ 0.470936 │  3.26173 │  875 │ 14017 │  983 │  983 │\n",
      "├──────────────────────────────┼──────────┼──────────┼──────────┼──────────┼──────────┼──────┼───────┼──────┼──────┤\n",
      "│ kenter_wv_k_1.2_b_0.9_spot   │ 0.5      │ 0.5      │ 0.5      │ 0.5      │  3.77317 │  929 │ 14071 │  929 │  929 │\n",
      "├──────────────────────────────┼──────────┼──────────┼──────────┼──────────┼──────────┼──────┼───────┼──────┼──────┤\n",
      "│ kenter_ft_k_1.2_b_0.9_spot   │ 0.502691 │ 0.502691 │ 0.502691 │ 0.502691 │  3.80341 │  934 │ 14076 │  924 │  924 │\n",
      "├──────────────────────────────┼──────────┼──────────┼──────────┼──────────┼──────────┼──────┼───────┼──────┼──────┤\n",
      "│ kenter_wv_k_1.2_b_0.9_text   │ 0.312702 │ 0.312702 │ 0.312702 │ 0.312702 │  4.95865 │  581 │ 13723 │ 1277 │ 1277 │\n",
      "├──────────────────────────────┼──────────┼──────────┼──────────┼──────────┼──────────┼──────┼───────┼──────┼──────┤\n",
      "│ kenter_ft_k_1.2_b_0.9_text   │ 0.297632 │ 0.297632 │ 0.297632 │ 0.297632 │  5.04206 │  553 │ 13695 │ 1305 │ 1305 │\n",
      "├──────────────────────────────┼──────────┼──────────┼──────────┼──────────┼──────────┼──────┼───────┼──────┼──────┤\n",
      "│ kenter_wv_k_1.2_b_1_title    │ 0.470398 │ 0.470398 │ 0.470398 │ 0.470398 │  3.31886 │  874 │ 14016 │  984 │  984 │\n",
      "├──────────────────────────────┼──────────┼──────────┼──────────┼──────────┼──────────┼──────┼───────┼──────┼──────┤\n",
      "│ kenter_ft_k_1.2_b_1_title    │ 0.44887  │ 0.44887  │ 0.44887  │ 0.44887  │  3.37026 │  834 │ 13976 │ 1024 │ 1024 │\n",
      "├──────────────────────────────┼──────────┼──────────┼──────────┼──────────┼──────────┼──────┼───────┼──────┼──────┤\n",
      "│ kenter_wv_k_1.2_b_1_spot     │ 0.448332 │ 0.448332 │ 0.448332 │ 0.448332 │  4.00442 │  833 │ 13975 │ 1025 │ 1025 │\n",
      "├──────────────────────────────┼──────────┼──────────┼──────────┼──────────┼──────────┼──────┼───────┼──────┼──────┤\n",
      "│ kenter_ft_k_1.2_b_1_spot     │ 0.448332 │ 0.448332 │ 0.448332 │ 0.448332 │  4.03656 │  833 │ 13975 │ 1025 │ 1025 │\n",
      "├──────────────────────────────┼──────────┼──────────┼──────────┼──────────┼──────────┼──────┼───────┼──────┼──────┤\n",
      "│ kenter_wv_k_1.2_b_1_text     │ 0.241658 │ 0.241658 │ 0.241658 │ 0.241658 │  5.51497 │  449 │ 13591 │ 1409 │ 1409 │\n",
      "├──────────────────────────────┼──────────┼──────────┼──────────┼──────────┼──────────┼──────┼───────┼──────┼──────┤\n",
      "│ kenter_ft_k_1.2_b_1_text     │ 0.236814 │ 0.236814 │ 0.236814 │ 0.236814 │  5.62026 │  440 │ 13582 │ 1418 │ 1418 │\n",
      "├──────────────────────────────┼──────────┼──────────┼──────────┼──────────┼──────────┼──────┼───────┼──────┼──────┤\n",
      "│ kenter_wv_k_1.5_b_0.2_title  │ 0.638321 │ 0.638321 │ 0.638321 │ 0.638321 │  2.67843 │ 1186 │ 14328 │  672 │  672 │\n",
      "├──────────────────────────────┼──────────┼──────────┼──────────┼──────────┼──────────┼──────┼───────┼──────┼──────┤\n",
      "│ kenter_ft_k_1.5_b_0.2_title  │ 0.620022 │ 0.620022 │ 0.620022 │ 0.620022 │  2.73155 │ 1152 │ 14294 │  706 │  706 │\n",
      "├──────────────────────────────┼──────────┼──────────┼──────────┼──────────┼──────────┼──────┼───────┼──────┼──────┤\n",
      "│ kenter_wv_k_1.5_b_0.2_spot   │ 0.7831   │ 0.7831   │ 0.7831   │ 0.7831   │  2.8866  │ 1455 │ 14597 │  403 │  403 │\n",
      "├──────────────────────────────┼──────────┼──────────┼──────────┼──────────┼──────────┼──────┼───────┼──────┼──────┤\n",
      "│ kenter_ft_k_1.5_b_0.2_spot   │ 0.772336 │ 0.772336 │ 0.772336 │ 0.772336 │  2.92311 │ 1435 │ 14577 │  423 │  423 │\n",
      "├──────────────────────────────┼──────────┼──────────┼──────────┼──────────┼──────────┼──────┼───────┼──────┼──────┤\n",
      "│ kenter_wv_k_1.5_b_0.2_text   │ 0.776103 │ 0.776103 │ 0.776103 │ 0.776103 │  3.23345 │ 1442 │ 14584 │  416 │  416 │\n",
      "├──────────────────────────────┼──────────┼──────────┼──────────┼──────────┼──────────┼──────┼───────┼──────┼──────┤\n",
      "│ kenter_ft_k_1.5_b_0.2_text   │ 0.738967 │ 0.738967 │ 0.738967 │ 0.738967 │  3.33319 │ 1373 │ 14515 │  485 │  485 │\n",
      "├──────────────────────────────┼──────────┼──────────┼──────────┼──────────┼──────────┼──────┼───────┼──────┼──────┤\n",
      "│ kenter_wv_k_1.5_b_0.5_title  │ 0.596878 │ 0.596878 │ 0.596878 │ 0.596878 │  2.81646 │ 1109 │ 14251 │  749 │  749 │\n",
      "├──────────────────────────────┼──────────┼──────────┼──────────┼──────────┼──────────┼──────┼───────┼──────┼──────┤\n",
      "│ kenter_ft_k_1.5_b_0.5_title  │ 0.576426 │ 0.576426 │ 0.576426 │ 0.576426 │  2.86669 │ 1071 │ 14213 │  787 │  787 │\n",
      "├──────────────────────────────┼──────────┼──────────┼──────────┼──────────┼──────────┼──────┼───────┼──────┼──────┤\n",
      "│ kenter_wv_k_1.5_b_0.5_spot   │ 0.702906 │ 0.702906 │ 0.702906 │ 0.702906 │  3.1306  │ 1306 │ 14448 │  552 │  552 │\n",
      "├──────────────────────────────┼──────────┼──────────┼──────────┼──────────┼──────────┼──────┼───────┼──────┼──────┤\n",
      "│ kenter_ft_k_1.5_b_0.5_spot   │ 0.704521 │ 0.704521 │ 0.704521 │ 0.704521 │  3.16543 │ 1309 │ 14451 │  549 │  549 │\n",
      "├──────────────────────────────┼──────────┼──────────┼──────────┼──────────┼──────────┼──────┼───────┼──────┼──────┤\n",
      "│ kenter_wv_k_1.5_b_0.5_text   │ 0.630786 │ 0.630786 │ 0.630786 │ 0.630786 │  3.66951 │ 1172 │ 14314 │  686 │  686 │\n",
      "├──────────────────────────────┼──────────┼──────────┼──────────┼──────────┼──────────┼──────┼───────┼──────┼──────┤\n",
      "│ kenter_ft_k_1.5_b_0.5_text   │ 0.607104 │ 0.607104 │ 0.607104 │ 0.607104 │  3.77501 │ 1128 │ 14270 │  730 │  730 │\n",
      "├──────────────────────────────┼──────────┼──────────┼──────────┼──────────┼──────────┼──────┼───────┼──────┼──────┤\n",
      "│ kenter_wv_k_1.5_b_0.75_title │ 0.547363 │ 0.547363 │ 0.547363 │ 0.547363 │  2.99938 │ 1017 │ 14159 │  841 │  841 │\n",
      "├──────────────────────────────┼──────────┼──────────┼──────────┼──────────┼──────────┼──────┼───────┼──────┼──────┤\n",
      "│ kenter_ft_k_1.5_b_0.75_title │ 0.530678 │ 0.530678 │ 0.530678 │ 0.530678 │  3.05711 │  986 │ 14128 │  872 │  872 │\n",
      "├──────────────────────────────┼──────────┼──────────┼──────────┼──────────┼──────────┼──────┼───────┼──────┼──────┤\n",
      "│ kenter_wv_k_1.5_b_0.75_spot  │ 0.607104 │ 0.607104 │ 0.607104 │ 0.607104 │  3.45355 │ 1128 │ 14270 │  730 │  730 │\n",
      "├──────────────────────────────┼──────────┼──────────┼──────────┼──────────┼──────────┼──────┼───────┼──────┼──────┤\n",
      "│ kenter_ft_k_1.5_b_0.75_spot  │ 0.601722 │ 0.601722 │ 0.601722 │ 0.601722 │  3.488   │ 1118 │ 14260 │  740 │  740 │\n",
      "├──────────────────────────────┼──────────┼──────────┼──────────┼──────────┼──────────┼──────┼───────┼──────┼──────┤\n",
      "│ kenter_wv_k_1.5_b_0.75_text  │ 0.455867 │ 0.455867 │ 0.455867 │ 0.455867 │  4.37113 │  847 │ 13989 │ 1011 │ 1011 │\n",
      "├──────────────────────────────┼──────────┼──────────┼──────────┼──────────┼──────────┼──────┼───────┼──────┼──────┤\n",
      "│ kenter_ft_k_1.5_b_0.75_text  │ 0.446717 │ 0.446717 │ 0.446717 │ 0.446717 │  4.46257 │  830 │ 13972 │ 1028 │ 1028 │\n",
      "├──────────────────────────────┼──────────┼──────────┼──────────┼──────────┼──────────┼──────┼───────┼──────┼──────┤\n",
      "│ kenter_wv_k_1.5_b_0.9_title  │ 0.514532 │ 0.514532 │ 0.514532 │ 0.514532 │  3.13333 │  956 │ 14098 │  902 │  902 │\n",
      "├──────────────────────────────┼──────────┼──────────┼──────────┼──────────┼──────────┼──────┼───────┼──────┼──────┤\n",
      "│ kenter_ft_k_1.5_b_0.9_title  │ 0.491927 │ 0.491927 │ 0.491927 │ 0.491927 │  3.18222 │  914 │ 14056 │  944 │  944 │\n",
      "├──────────────────────────────┼──────────┼──────────┼──────────┼──────────┼──────────┼──────┼───────┼──────┼──────┤\n",
      "│ kenter_wv_k_1.5_b_0.9_spot   │ 0.518299 │ 0.518299 │ 0.518299 │ 0.518299 │  3.75352 │  963 │ 14105 │  895 │  895 │\n",
      "├──────────────────────────────┼──────────┼──────────┼──────────┼──────────┼──────────┼──────┼───────┼──────┼──────┤\n",
      "│ kenter_ft_k_1.5_b_0.9_spot   │ 0.520452 │ 0.520452 │ 0.520452 │ 0.520452 │  3.77143 │  967 │ 14109 │  891 │  891 │\n",
      "├──────────────────────────────┼──────────┼──────────┼──────────┼──────────┼──────────┼──────┼───────┼──────┼──────┤\n",
      "│ kenter_wv_k_1.5_b_0.9_text   │ 0.31916  │ 0.31916  │ 0.31916  │ 0.31916  │  5.08782 │  593 │ 13735 │ 1265 │ 1265 │\n",
      "├──────────────────────────────┼──────────┼──────────┼──────────┼──────────┼──────────┼──────┼───────┼──────┼──────┤\n",
      "│ kenter_ft_k_1.5_b_0.9_text   │ 0.310011 │ 0.310011 │ 0.310011 │ 0.310011 │  5.15689 │  576 │ 13718 │ 1282 │ 1282 │\n",
      "├──────────────────────────────┼──────────┼──────────┼──────────┼──────────┼──────────┼──────┼───────┼──────┼──────┤\n",
      "│ kenter_wv_k_1.5_b_1_title    │ 0.487621 │ 0.487621 │ 0.487621 │ 0.487621 │  3.24302 │  906 │ 14048 │  952 │  952 │\n",
      "├──────────────────────────────┼──────────┼──────────┼──────────┼──────────┼──────────┼──────┼───────┼──────┼──────┤\n",
      "│ kenter_ft_k_1.5_b_1_title    │ 0.466631 │ 0.466631 │ 0.466631 │ 0.466631 │  3.29079 │  867 │ 14009 │  991 │  991 │\n",
      "├──────────────────────────────┼──────────┼──────────┼──────────┼──────────┼──────────┼──────┼───────┼──────┼──────┤\n",
      "│ kenter_wv_k_1.5_b_1_spot     │ 0.457481 │ 0.457481 │ 0.457481 │ 0.457481 │  3.99728 │  850 │ 13992 │ 1008 │ 1008 │\n",
      "├──────────────────────────────┼──────────┼──────────┼──────────┼──────────┼──────────┼──────┼───────┼──────┼──────┤\n",
      "│ kenter_ft_k_1.5_b_1_spot     │ 0.461249 │ 0.461249 │ 0.461249 │ 0.461249 │  4.02263 │  857 │ 13999 │ 1001 │ 1001 │\n",
      "├──────────────────────────────┼──────────┼──────────┼──────────┼──────────┼──────────┼──────┼───────┼──────┼──────┤\n",
      "│ kenter_wv_k_1.5_b_1_text     │ 0.241658 │ 0.241658 │ 0.241658 │ 0.241658 │  5.73486 │  449 │ 13591 │ 1409 │ 1409 │\n",
      "├──────────────────────────────┼──────────┼──────────┼──────────┼──────────┼──────────┼──────┼───────┼──────┼──────┤\n",
      "│ kenter_ft_k_1.5_b_1_text     │ 0.242734 │ 0.242734 │ 0.242734 │ 0.242734 │  5.84066 │  451 │ 13593 │ 1407 │ 1407 │\n",
      "├──────────────────────────────┼──────────┼──────────┼──────────┼──────────┼──────────┼──────┼───────┼──────┼──────┤\n",
      "│ kenter_wv_k_2_b_0.2_title    │ 0.65662  │ 0.65662  │ 0.65662  │ 0.65662  │  2.57068 │ 1220 │ 14362 │  638 │  638 │\n",
      "├──────────────────────────────┼──────────┼──────────┼──────────┼──────────┼──────────┼──────┼───────┼──────┼──────┤\n",
      "│ kenter_ft_k_2_b_0.2_title    │ 0.642088 │ 0.642088 │ 0.642088 │ 0.642088 │  2.61887 │ 1193 │ 14335 │  665 │  665 │\n",
      "├──────────────────────────────┼──────────┼──────────┼──────────┼──────────┼──────────┼──────┼───────┼──────┼──────┤\n",
      "│ kenter_wv_k_2_b_0.2_spot     │ 0.803769 │ 0.803769 │ 0.803985 │ 0.803552 │  2.80169 │ 1493 │ 14636 │  364 │  365 │\n",
      "├──────────────────────────────┼──────────┼──────────┼──────────┼──────────┼──────────┼──────┼───────┼──────┼──────┤\n",
      "│ kenter_ft_k_2_b_0.2_spot     │ 0.795479 │ 0.795479 │ 0.795479 │ 0.795479 │  2.83503 │ 1478 │ 14620 │  380 │  380 │\n",
      "├──────────────────────────────┼──────────┼──────────┼──────────┼──────────┼──────────┼──────┼───────┼──────┼──────┤\n",
      "│ kenter_wv_k_2_b_0.2_text     │ 0.798708 │ 0.798708 │ 0.798708 │ 0.798708 │  3.16321 │ 1484 │ 14626 │  374 │  374 │\n",
      "├──────────────────────────────┼──────────┼──────────┼──────────┼──────────┼──────────┼──────┼───────┼──────┼──────┤\n",
      "│ kenter_ft_k_2_b_0.2_text     │ 0.769645 │ 0.769645 │ 0.769645 │ 0.769645 │  3.25079 │ 1430 │ 14572 │  428 │  428 │\n",
      "├──────────────────────────────┼──────────┼──────────┼──────────┼──────────┼──────────┼──────┼───────┼──────┼──────┤\n",
      "│ kenter_wv_k_2_b_0.5_title    │ 0.620022 │ 0.620022 │ 0.620022 │ 0.620022 │  2.7142  │ 1152 │ 14294 │  706 │  706 │\n",
      "├──────────────────────────────┼──────────┼──────────┼──────────┼──────────┼──────────┼──────┼───────┼──────┼──────┤\n",
      "│ kenter_ft_k_2_b_0.5_title    │ 0.60226  │ 0.60226  │ 0.60226  │ 0.60226  │  2.7713  │ 1119 │ 14261 │  739 │  739 │\n",
      "├──────────────────────────────┼──────────┼──────────┼──────────┼──────────┼──────────┼──────┼───────┼──────┼──────┤\n",
      "│ kenter_wv_k_2_b_0.5_spot     │ 0.72605  │ 0.72605  │ 0.72605  │ 0.72605  │  3.05945 │ 1349 │ 14491 │  509 │  509 │\n",
      "├──────────────────────────────┼──────────┼──────────┼──────────┼──────────┼──────────┼──────┼───────┼──────┼──────┤\n",
      "│ kenter_ft_k_2_b_0.5_spot     │ 0.723358 │ 0.723358 │ 0.723358 │ 0.723358 │  3.08458 │ 1344 │ 14486 │  514 │  514 │\n",
      "├──────────────────────────────┼──────────┼──────────┼──────────┼──────────┼──────────┼──────┼───────┼──────┼──────┤\n",
      "│ kenter_wv_k_2_b_0.5_text     │ 0.653929 │ 0.653929 │ 0.653929 │ 0.653929 │  3.63087 │ 1215 │ 14357 │  643 │  643 │\n",
      "├──────────────────────────────┼──────────┼──────────┼──────────┼──────────┼──────────┼──────┼───────┼──────┼──────┤\n",
      "│ kenter_ft_k_2_b_0.5_text     │ 0.635091 │ 0.635091 │ 0.635091 │ 0.635091 │  3.72    │ 1180 │ 14322 │  678 │  678 │\n",
      "├──────────────────────────────┼──────────┼──────────┼──────────┼──────────┼──────────┼──────┼───────┼──────┼──────┤\n",
      "│ kenter_wv_k_2_b_0.75_title   │ 0.572121 │ 0.572121 │ 0.572121 │ 0.572121 │  2.90282 │ 1063 │ 14205 │  795 │  795 │\n",
      "├──────────────────────────────┼──────────┼──────────┼──────────┼──────────┼──────────┼──────┼───────┼──────┼──────┤\n",
      "│ kenter_ft_k_2_b_0.75_title   │ 0.555436 │ 0.555436 │ 0.555436 │ 0.555436 │  2.95067 │ 1032 │ 14174 │  826 │  826 │\n",
      "├──────────────────────────────┼──────────┼──────────┼──────────┼──────────┼──────────┼──────┼───────┼──────┼──────┤\n",
      "│ kenter_wv_k_2_b_0.75_spot    │ 0.629171 │ 0.629171 │ 0.629171 │ 0.629171 │  3.40738 │ 1169 │ 14311 │  689 │  689 │\n",
      "├──────────────────────────────┼──────────┼──────────┼──────────┼──────────┼──────────┼──────┼───────┼──────┼──────┤\n",
      "│ kenter_ft_k_2_b_0.75_spot    │ 0.624865 │ 0.624865 │ 0.624865 │ 0.624865 │  3.43234 │ 1161 │ 14303 │  697 │  697 │\n",
      "├──────────────────────────────┼──────────┼──────────┼──────────┼──────────┼──────────┼──────┼───────┼──────┼──────┤\n",
      "│ kenter_wv_k_2_b_0.75_text    │ 0.467169 │ 0.467169 │ 0.467169 │ 0.467169 │  4.4085  │  868 │ 14010 │  990 │  990 │\n",
      "├──────────────────────────────┼──────────┼──────────┼──────────┼──────────┼──────────┼──────┼───────┼──────┼──────┤\n",
      "│ kenter_ft_k_2_b_0.75_text    │ 0.463402 │ 0.463402 │ 0.463402 │ 0.463402 │  4.49999 │  861 │ 14003 │  997 │  997 │\n",
      "├──────────────────────────────┼──────────┼──────────┼──────────┼──────────┼──────────┼──────┼───────┼──────┼──────┤\n",
      "│ kenter_wv_k_2_b_0.9_title    │ 0.534984 │ 0.534984 │ 0.534984 │ 0.534984 │  3.05233 │  994 │ 14136 │  864 │  864 │\n",
      "├──────────────────────────────┼──────────┼──────────┼──────────┼──────────┼──────────┼──────┼───────┼──────┼──────┤\n",
      "│ kenter_ft_k_2_b_0.9_title    │ 0.518299 │ 0.518299 │ 0.518299 │ 0.518299 │  3.09006 │  963 │ 14105 │  895 │  895 │\n",
      "├──────────────────────────────┼──────────┼──────────┼──────────┼──────────┼──────────┼──────┼───────┼──────┼──────┤\n",
      "│ kenter_wv_k_2_b_0.9_spot     │ 0.532831 │ 0.532831 │ 0.532831 │ 0.532831 │  3.71592 │  990 │ 14132 │  868 │  868 │\n",
      "├──────────────────────────────┼──────────┼──────────┼──────────┼──────────┼──────────┼──────┼───────┼──────┼──────┤\n",
      "│ kenter_ft_k_2_b_0.9_spot     │ 0.534984 │ 0.534984 │ 0.534984 │ 0.534984 │  3.7355  │  994 │ 14136 │  864 │  864 │\n",
      "├──────────────────────────────┼──────────┼──────────┼──────────┼──────────┼──────────┼──────┼───────┼──────┼──────┤\n",
      "│ kenter_wv_k_2_b_0.9_text     │ 0.329386 │ 0.329386 │ 0.329386 │ 0.329386 │  5.25945 │  612 │ 13754 │ 1246 │ 1246 │\n",
      "├──────────────────────────────┼──────────┼──────────┼──────────┼──────────┼──────────┼──────┼───────┼──────┼──────┤\n",
      "│ kenter_ft_k_2_b_0.9_text     │ 0.320775 │ 0.320775 │ 0.320775 │ 0.320775 │  5.3169  │  596 │ 13738 │ 1262 │ 1262 │\n",
      "├──────────────────────────────┼──────────┼──────────┼──────────┼──────────┼──────────┼──────┼───────┼──────┼──────┤\n",
      "│ kenter_wv_k_2_b_1_title      │ 0.508611 │ 0.508611 │ 0.508611 │ 0.508611 │  3.16817 │  945 │ 14087 │  913 │  913 │\n",
      "├──────────────────────────────┼──────────┼──────────┼──────────┼──────────┼──────────┼──────┼───────┼──────┼──────┤\n",
      "│ kenter_ft_k_2_b_1_title      │ 0.491927 │ 0.491927 │ 0.491927 │ 0.491927 │  3.21317 │  914 │ 14056 │  944 │  944 │\n",
      "├──────────────────────────────┼──────────┼──────────┼──────────┼──────────┼──────────┼──────┼───────┼──────┼──────┤\n",
      "│ kenter_wv_k_2_b_1_spot       │ 0.473628 │ 0.473628 │ 0.473628 │ 0.473628 │  4.00637 │  880 │ 14022 │  978 │  978 │\n",
      "├──────────────────────────────┼──────────┼──────────┼──────────┼──────────┼──────────┼──────┼───────┼──────┼──────┤\n",
      "│ kenter_ft_k_2_b_1_spot       │ 0        │ 0        │ 0        │ 0        │ 11.558   │    0 │ 14999 │    1 │ 1858 │\n",
      "├──────────────────────────────┼──────────┼──────────┼──────────┼──────────┼──────────┼──────┼───────┼──────┼──────┤\n",
      "│ kenter_wv_k_2_b_1_text       │ 0.247578 │ 0.247578 │ 0.247578 │ 0.247578 │  6.04791 │  460 │ 13602 │ 1398 │ 1398 │\n",
      "├──────────────────────────────┼──────────┼──────────┼──────────┼──────────┼──────────┼──────┼───────┼──────┼──────┤\n",
      "│ kenter_ft_k_2_b_1_text       │ 0.241658 │ 0.241658 │ 0.241658 │ 0.241658 │  6.15197 │  449 │ 13591 │ 1409 │ 1409 │\n",
      "├──────────────────────────────┼──────────┼──────────┼──────────┼──────────┼──────────┼──────┼───────┼──────┼──────┤\n",
      "│ kenter_wv_k_2.5_b_0.2_title  │ 0.673843 │ 0.673843 │ 0.673843 │ 0.673843 │  2.50331 │ 1252 │ 14394 │  606 │  606 │\n",
      "├──────────────────────────────┼──────────┼──────────┼──────────┼──────────┼──────────┼──────┼───────┼──────┼──────┤\n",
      "│ kenter_ft_k_2.5_b_0.2_title  │ 0.658773 │ 0.658773 │ 0.658773 │ 0.658773 │  2.54691 │ 1224 │ 14366 │  634 │  634 │\n",
      "├──────────────────────────────┼──────────┼──────────┼──────────┼──────────┼──────────┼──────┼───────┼──────┼──────┤\n",
      "│ kenter_wv_k_2.5_b_0.2_spot   │ 0.815393 │ 0.815393 │ 0.815393 │ 0.815393 │  2.73847 │ 1515 │ 14657 │  343 │  343 │\n",
      "├──────────────────────────────┼──────────┼──────────┼──────────┼──────────┼──────────┼──────┼───────┼──────┼──────┤\n",
      "│ kenter_ft_k_2.5_b_0.2_spot   │ 0.808934 │ 0.808934 │ 0.808934 │ 0.808934 │  2.77486 │ 1503 │ 14645 │  355 │  355 │\n",
      "├──────────────────────────────┼──────────┼──────────┼──────────┼──────────┼──────────┼──────┼───────┼──────┼──────┤\n",
      "│ kenter_wv_k_2.5_b_0.2_text   │ 0.811087 │ 0.811087 │ 0.811087 │ 0.811087 │  3.11323 │ 1507 │ 14649 │  351 │  351 │\n",
      "├──────────────────────────────┼──────────┼──────────┼──────────┼──────────┼──────────┼──────┼───────┼──────┼──────┤\n",
      "│ kenter_ft_k_2.5_b_0.2_text   │ 0.788482 │ 0.788482 │ 0.788482 │ 0.788482 │  3.19711 │ 1465 │ 14607 │  393 │  393 │\n",
      "├──────────────────────────────┼──────────┼──────────┼──────────┼──────────┼──────────┼──────┼───────┼──────┼──────┤\n",
      "│ kenter_wv_k_2.5_b_0.5_title  │ 0.639935 │ 0.639935 │ 0.639935 │ 0.639935 │  2.64889 │ 1189 │ 14331 │  669 │  669 │\n",
      "├──────────────────────────────┼──────────┼──────────┼──────────┼──────────┼──────────┼──────┼───────┼──────┼──────┤\n",
      "│ kenter_ft_k_2.5_b_0.5_title  │ 0.620022 │ 0.620022 │ 0.620022 │ 0.620022 │  2.70214 │ 1152 │ 14294 │  706 │  706 │\n",
      "├──────────────────────────────┼──────────┼──────────┼──────────┼──────────┼──────────┼──────┼───────┼──────┼──────┤\n",
      "│ kenter_wv_k_2.5_b_0.5_spot   │ 0.741658 │ 0.741658 │ 0.741658 │ 0.741658 │  3.0101  │ 1378 │ 14520 │  480 │  480 │\n",
      "├──────────────────────────────┼──────────┼──────────┼──────────┼──────────┼──────────┼──────┼───────┼──────┼──────┤\n",
      "│ kenter_ft_k_2.5_b_0.5_spot   │ 0.740043 │ 0.740043 │ 0.740043 │ 0.740043 │  3.03584 │ 1375 │ 14517 │  483 │  483 │\n",
      "├──────────────────────────────┼──────────┼──────────┼──────────┼──────────┼──────────┼──────┼───────┼──────┼──────┤\n",
      "│ kenter_wv_k_2.5_b_0.5_text   │ 0.670075 │ 0.670075 │ 0.670075 │ 0.670075 │  3.60262 │ 1245 │ 14387 │  613 │  613 │\n",
      "├──────────────────────────────┼──────────┼──────────┼──────────┼──────────┼──────────┼──────┼───────┼──────┼──────┤\n",
      "│ kenter_ft_k_2.5_b_0.5_text   │ 0.652853 │ 0.652853 │ 0.652853 │ 0.652853 │  3.68634 │ 1213 │ 14355 │  645 │  645 │\n",
      "├──────────────────────────────┼──────────┼──────────┼──────────┼──────────┼──────────┼──────┼───────┼──────┼──────┤\n",
      "│ kenter_wv_k_2.5_b_0.75_title │ 0.588805 │ 0.588805 │ 0.588805 │ 0.588805 │  2.84268 │ 1094 │ 14236 │  764 │  764 │\n",
      "├──────────────────────────────┼──────────┼──────────┼──────────┼──────────┼──────────┼──────┼───────┼──────┼──────┤\n",
      "│ kenter_ft_k_2.5_b_0.75_title │ 0.567277 │ 0.567277 │ 0.567277 │ 0.567277 │  2.88788 │ 1054 │ 14196 │  804 │  804 │\n",
      "├──────────────────────────────┼──────────┼──────────┼──────────┼──────────┼──────────┼──────┼───────┼──────┼──────┤\n",
      "│ kenter_wv_k_2.5_b_0.75_spot  │ 0.642626 │ 0.642626 │ 0.642626 │ 0.642626 │  3.37535 │ 1194 │ 14336 │  664 │  664 │\n",
      "├──────────────────────────────┼──────────┼──────────┼──────────┼──────────┼──────────┼──────┼───────┼──────┼──────┤\n",
      "│ kenter_ft_k_2.5_b_0.75_spot  │ 0.637783 │ 0.637783 │ 0.637783 │ 0.637783 │  3.39167 │ 1185 │ 14327 │  673 │  673 │\n",
      "├──────────────────────────────┼──────────┼──────────┼──────────┼──────────┼──────────┼──────┼───────┼──────┼──────┤\n",
      "│ kenter_wv_k_2.5_b_0.75_text  │ 0.473089 │ 0.473089 │ 0.473089 │ 0.473089 │  4.44687 │  879 │ 14021 │  979 │  979 │\n",
      "├──────────────────────────────┼──────────┼──────────┼──────────┼──────────┼──────────┼──────┼───────┼──────┼──────┤\n",
      "│ kenter_ft_k_2.5_b_0.75_text  │ 0.472551 │ 0.472551 │ 0.472551 │ 0.472551 │  4.52475 │  878 │ 14020 │  980 │  980 │\n",
      "├──────────────────────────────┼──────────┼──────────┼──────────┼──────────┼──────────┼──────┼───────┼──────┼──────┤\n",
      "│ kenter_wv_k_2.5_b_0.9_title  │ 0.546825 │ 0.546825 │ 0.546825 │ 0.546825 │  2.99355 │ 1016 │ 14158 │  842 │  842 │\n",
      "├──────────────────────────────┼──────────┼──────────┼──────────┼──────────┼──────────┼──────┼───────┼──────┼──────┤\n",
      "│ kenter_ft_k_2.5_b_0.9_title  │ 0.534446 │ 0.534446 │ 0.534446 │ 0.534446 │  3.0336  │  993 │ 14135 │  865 │  865 │\n",
      "├──────────────────────────────┼──────────┼──────────┼──────────┼──────────┼──────────┼──────┼───────┼──────┼──────┤\n",
      "│ kenter_wv_k_2.5_b_0.9_spot   │ 0.542519 │ 0.542519 │ 0.542519 │ 0.542519 │  3.70145 │ 1008 │ 14150 │  850 │  850 │\n",
      "├──────────────────────────────┼──────────┼──────────┼──────────┼──────────┼──────────┼──────┼───────┼──────┼──────┤\n",
      "│ kenter_ft_k_2.5_b_0.9_spot   │ 0.54521  │ 0.54521  │ 0.54521  │ 0.54521  │  3.7184  │ 1013 │ 14155 │  845 │  845 │\n",
      "├──────────────────────────────┼──────────┼──────────┼──────────┼──────────┼──────────┼──────┼───────┼──────┼──────┤\n",
      "│ kenter_wv_k_2.5_b_0.9_text   │ 0.330463 │ 0.330463 │ 0.330463 │ 0.330463 │  5.38601 │  614 │ 13756 │ 1244 │ 1244 │\n",
      "├──────────────────────────────┼──────────┼──────────┼──────────┼──────────┼──────────┼──────┼───────┼──────┼──────┤\n",
      "│ kenter_ft_k_2.5_b_0.9_text   │ 0.325619 │ 0.325619 │ 0.325619 │ 0.325619 │  5.44987 │  605 │ 13747 │ 1253 │ 1253 │\n",
      "├──────────────────────────────┼──────────┼──────────┼──────────┼──────────┼──────────┼──────┼───────┼──────┼──────┤\n",
      "│ kenter_wv_k_2.5_b_1_title    │ 0.517761 │ 0.517761 │ 0.517761 │ 0.517761 │  3.10875 │  962 │ 14104 │  896 │  896 │\n",
      "├──────────────────────────────┼──────────┼──────────┼──────────┼──────────┼──────────┼──────┼───────┼──────┼──────┤\n",
      "│ kenter_ft_k_2.5_b_1_title    │ 0.506459 │ 0.506459 │ 0.506459 │ 0.506459 │  3.15821 │  941 │ 14083 │  917 │  917 │\n",
      "├──────────────────────────────┼──────────┼──────────┼──────────┼──────────┼──────────┼──────┼───────┼──────┼──────┤\n",
      "│ kenter_wv_k_2.5_b_1_spot     │ 0.480624 │ 0.480624 │ 0.480624 │ 0.480624 │  4.0082  │  893 │ 14035 │  965 │  965 │\n",
      "├──────────────────────────────┼──────────┼──────────┼──────────┼──────────┼──────────┼──────┼───────┼──────┼──────┤\n",
      "│ kenter_ft_k_2.5_b_1_spot     │ 0.483315 │ 0.483315 │ 0.483315 │ 0.483315 │  4.02148 │  898 │ 14040 │  960 │  960 │\n",
      "├──────────────────────────────┼──────────┼──────────┼──────────┼──────────┼──────────┼──────┼───────┼──────┼──────┤\n",
      "│ kenter_wv_k_2.5_b_1_text     │ 0.249731 │ 0.249731 │ 0.249731 │ 0.249731 │  6.28469 │  464 │ 13606 │ 1394 │ 1394 │\n",
      "├──────────────────────────────┼──────────┼──────────┼──────────┼──────────┼──────────┼──────┼───────┼──────┼──────┤\n",
      "│ kenter_ft_k_2.5_b_1_text     │ 0.246502 │ 0.246502 │ 0.246502 │ 0.246502 │  6.39601 │  458 │ 13600 │ 1400 │ 1400 │\n",
      "├──────────────────────────────┼──────────┼──────────┼──────────┼──────────┼──────────┼──────┼───────┼──────┼──────┤\n",
      "│ kenter_wv_k_5_b_0.2_title    │ 0.712056 │ 0.712056 │ 0.712056 │ 0.712056 │  2.35952 │ 1323 │ 14465 │  535 │  535 │\n",
      "├──────────────────────────────┼──────────┼──────────┼──────────┼──────────┼──────────┼──────┼───────┼──────┼──────┤\n",
      "│ kenter_ft_k_5_b_0.2_title    │ 0.69591  │ 0.69591  │ 0.69591  │ 0.69591  │  2.39329 │ 1293 │ 14435 │  565 │  565 │\n",
      "├──────────────────────────────┼──────────┼──────────┼──────────┼──────────┼──────────┼──────┼───────┼──────┼──────┤\n",
      "│ kenter_wv_k_5_b_0.2_spot     │ 0.841765 │ 0.841765 │ 0.841765 │ 0.841765 │  2.61254 │ 1564 │ 14706 │  294 │  294 │\n",
      "├──────────────────────────────┼──────────┼──────────┼──────────┼──────────┼──────────┼──────┼───────┼──────┼──────┤\n",
      "│ kenter_ft_k_5_b_0.2_spot     │ 0.829925 │ 0.829925 │ 0.829925 │ 0.829925 │  2.62959 │ 1542 │ 14684 │  316 │  316 │\n",
      "├──────────────────────────────┼──────────┼──────────┼──────────┼──────────┼──────────┼──────┼───────┼──────┼──────┤\n",
      "│ kenter_wv_k_5_b_0.2_text     │ 0.842842 │ 0.842842 │ 0.842842 │ 0.842842 │  3.00218 │ 1566 │ 14708 │  292 │  292 │\n",
      "├──────────────────────────────┼──────────┼──────────┼──────────┼──────────┼──────────┼──────┼───────┼──────┼──────┤\n",
      "│ kenter_ft_k_5_b_0.2_text     │ 0.827234 │ 0.827234 │ 0.827234 │ 0.827234 │  3.07501 │ 1537 │ 14679 │  321 │  321 │\n",
      "├──────────────────────────────┼──────────┼──────────┼──────────┼──────────┼──────────┼──────┼───────┼──────┼──────┤\n",
      "│ kenter_wv_k_5_b_0.5_title    │ 0.672228 │ 0.672228 │ 0.672228 │ 0.672228 │  2.50537 │ 1249 │ 14391 │  609 │  609 │\n",
      "├──────────────────────────────┼──────────┼──────────┼──────────┼──────────┼──────────┼──────┼───────┼──────┼──────┤\n",
      "│ kenter_ft_k_5_b_0.5_title    │ 0.658235 │ 0.658235 │ 0.658235 │ 0.658235 │  2.54789 │ 1223 │ 14365 │  635 │  635 │\n",
      "├──────────────────────────────┼──────────┼──────────┼──────────┼──────────┼──────────┼──────┼───────┼──────┼──────┤\n",
      "│ kenter_wv_k_5_b_0.5_spot     │ 0.76803  │ 0.76803  │ 0.76803  │ 0.76803  │  2.89017 │ 1427 │ 14569 │  431 │  431 │\n",
      "├──────────────────────────────┼──────────┼──────────┼──────────┼──────────┼──────────┼──────┼───────┼──────┼──────┤\n",
      "│ kenter_ft_k_5_b_0.5_spot     │ 0.766416 │ 0.766416 │ 0.766416 │ 0.766416 │  2.91868 │ 1424 │ 14566 │  434 │  434 │\n",
      "├──────────────────────────────┼──────────┼──────────┼──────────┼──────────┼──────────┼──────┼───────┼──────┼──────┤\n",
      "│ kenter_wv_k_5_b_0.5_text     │ 0.689989 │ 0.689989 │ 0.689989 │ 0.689989 │  3.53224 │ 1282 │ 14424 │  576 │  576 │\n",
      "├──────────────────────────────┼──────────┼──────────┼──────────┼──────────┼──────────┼──────┼───────┼──────┼──────┤\n",
      "│ kenter_ft_k_5_b_0.5_text     │ 0.68084  │ 0.68084  │ 0.68084  │ 0.68084  │  3.6157  │ 1265 │ 14407 │  593 │  593 │\n",
      "├──────────────────────────────┼──────────┼──────────┼──────────┼──────────┼──────────┼──────┼───────┼──────┼──────┤\n",
      "│ kenter_wv_k_5_b_0.75_title   │ 0.621636 │ 0.621636 │ 0.621636 │ 0.621636 │  2.69884 │ 1155 │ 14297 │  703 │  703 │\n",
      "├──────────────────────────────┼──────────┼──────────┼──────────┼──────────┼──────────┼──────┼───────┼──────┼──────┤\n",
      "│ kenter_ft_k_5_b_0.75_title   │ 0.608181 │ 0.608181 │ 0.608181 │ 0.608181 │  2.7426  │ 1130 │ 14272 │  728 │  728 │\n",
      "├──────────────────────────────┼──────────┼──────────┼──────────┼──────────┼──────────┼──────┼───────┼──────┼──────┤\n",
      "│ kenter_wv_k_5_b_0.75_spot    │ 0.667384 │ 0.667384 │ 0.667384 │ 0.667384 │  3.29545 │ 1240 │ 14382 │  618 │  618 │\n",
      "├──────────────────────────────┼──────────┼──────────┼──────────┼──────────┼──────────┼──────┼───────┼──────┼──────┤\n",
      "│ kenter_ft_k_5_b_0.75_spot    │ 0        │ 0        │ 0        │ 0        │ 10.9667  │    0 │ 14999 │    1 │ 1858 │\n",
      "├──────────────────────────────┼──────────┼──────────┼──────────┼──────────┼──────────┼──────┼───────┼──────┼──────┤\n",
      "│ kenter_wv_k_5_b_0.75_text    │ 0.48493  │ 0.48493  │ 0.48493  │ 0.48493  │  4.55152 │  901 │ 14043 │  957 │  957 │\n",
      "├──────────────────────────────┼──────────┼──────────┼──────────┼──────────┼──────────┼──────┼───────┼──────┼──────┤\n",
      "│ kenter_ft_k_5_b_0.75_text    │ 0.486006 │ 0.486006 │ 0.486006 │ 0.486006 │  4.60544 │  903 │ 14045 │  955 │  955 │\n",
      "├──────────────────────────────┼──────────┼──────────┼──────────┼──────────┼──────────┼──────┼───────┼──────┼──────┤\n",
      "│ kenter_wv_k_5_b_0.9_title    │ 0.577503 │ 0.577503 │ 0.577503 │ 0.577503 │  2.86955 │ 1073 │ 14215 │  785 │  785 │\n",
      "├──────────────────────────────┼──────────┼──────────┼──────────┼──────────┼──────────┼──────┼───────┼──────┼──────┤\n",
      "│ kenter_ft_k_5_b_0.9_title    │ 0.5662   │ 0.5662   │ 0.5662   │ 0.5662   │  2.89975 │ 1052 │ 14194 │  806 │  806 │\n",
      "├──────────────────────────────┼──────────┼──────────┼──────────┼──────────┼──────────┼──────┼───────┼──────┼──────┤\n",
      "│ kenter_wv_k_5_b_0.9_spot     │ 0.557051 │ 0.557051 │ 0.557051 │ 0.557051 │  3.66146 │ 1035 │ 14177 │  823 │  823 │\n",
      "├──────────────────────────────┼──────────┼──────────┼──────────┼──────────┼──────────┼──────┼───────┼──────┼──────┤\n",
      "│ kenter_ft_k_5_b_0.9_spot     │ 0.565124 │ 0.565124 │ 0.565124 │ 0.565124 │  3.67567 │ 1050 │ 14192 │  808 │  808 │\n",
      "├──────────────────────────────┼──────────┼──────────┼──────────┼──────────┼──────────┼──────┼───────┼──────┼──────┤\n",
      "│ kenter_wv_k_5_b_0.9_text     │ 0.339074 │ 0.339074 │ 0.339074 │ 0.339074 │  5.76342 │  630 │ 13772 │ 1228 │ 1228 │\n",
      "├──────────────────────────────┼──────────┼──────────┼──────────┼──────────┼──────────┼──────┼───────┼──────┼──────┤\n",
      "│ kenter_ft_k_5_b_0.9_text     │ 0.335845 │ 0.335845 │ 0.335845 │ 0.335845 │  5.79853 │  624 │ 13766 │ 1234 │ 1234 │\n",
      "├──────────────────────────────┼──────────┼──────────┼──────────┼──────────┼──────────┼──────┼───────┼──────┼──────┤\n",
      "│ kenter_wv_k_5_b_1_title      │ 0.540904 │ 0.540904 │ 0.540904 │ 0.540904 │  2.99327 │ 1005 │ 14147 │  853 │  853 │\n",
      "├──────────────────────────────┼──────────┼──────────┼──────────┼──────────┼──────────┼──────┼───────┼──────┼──────┤\n",
      "│ kenter_ft_k_5_b_1_title      │ 0.531755 │ 0.531755 │ 0.531755 │ 0.531755 │  3.0363  │  988 │ 14130 │  870 │  870 │\n",
      "├──────────────────────────────┼──────────┼──────────┼──────────┼──────────┼──────────┼──────┼───────┼──────┼──────┤\n",
      "│ kenter_wv_k_5_b_1_spot       │ 0.492465 │ 0.492465 │ 0.492465 │ 0.492465 │  4.01381 │  915 │ 14057 │  943 │  943 │\n",
      "├──────────────────────────────┼──────────┼──────────┼──────────┼──────────┼──────────┼──────┼───────┼──────┼──────┤\n",
      "│ kenter_ft_k_5_b_1_spot       │ 0.498385 │ 0.498385 │ 0.498385 │ 0.498385 │  4.03116 │  926 │ 14068 │  932 │  932 │\n",
      "├──────────────────────────────┼──────────┼──────────┼──────────┼──────────┼──────────┼──────┼───────┼──────┼──────┤\n",
      "│ kenter_wv_k_5_b_1_text       │ 0.256189 │ 0.256189 │ 0.256189 │ 0.256189 │  7.04656 │  476 │ 13618 │ 1382 │ 1382 │\n",
      "├──────────────────────────────┼──────────┼──────────┼──────────┼──────────┼──────────┼──────┼───────┼──────┼──────┤\n",
      "│ kenter_ft_k_5_b_1_text       │ 0.254037 │ 0.254037 │ 0.254037 │ 0.254037 │  7.11517 │  472 │ 13614 │ 1386 │ 1386 │\n",
      "╘══════════════════════════════╧══════════╧══════════╧══════════╧══════════╧══════════╧══════╧═══════╧══════╧══════╛\n"
     ]
    }
   ],
   "source": [
    "print(tabulate_res(results))"
   ]
  },
  {
   "cell_type": "code",
   "execution_count": 92,
   "metadata": {
    "ExecuteTime": {
     "end_time": "2019-03-05T13:11:10.020446Z",
     "start_time": "2019-03-05T13:11:10.003510Z"
    }
   },
   "outputs": [
    {
     "name": "stdout",
     "output_type": "stream",
     "text": [
      "╒═════════════════╤══════════╤══════════╤══════════╤══════════╤═════════╤══════╤═══════╤══════╤══════╕\n",
      "│                 │    E-ACC │       F1 │     PREC │   RECALL │     THR │   TP │    TN │   FP │   FN │\n",
      "╞═════════════════╪══════════╪══════════╪══════════╪══════════╪═════════╪══════╪═══════╪══════╪══════╡\n",
      "│ kenter_wv_title │ 0.572121 │ 0.572121 │ 0.572121 │ 0.572121 │ 2.90282 │ 1063 │ 14205 │  795 │  795 │\n",
      "├─────────────────┼──────────┼──────────┼──────────┼──────────┼─────────┼──────┼───────┼──────┼──────┤\n",
      "│ kenter_wv_spot  │ 0.629171 │ 0.629171 │ 0.629171 │ 0.629171 │ 3.40738 │ 1169 │ 14311 │  689 │  689 │\n",
      "├─────────────────┼──────────┼──────────┼──────────┼──────────┼─────────┼──────┼───────┼──────┼──────┤\n",
      "│ kenter_wv_text  │ 0.467169 │ 0.467169 │ 0.467169 │ 0.467169 │ 4.4085  │  868 │ 14010 │  990 │  990 │\n",
      "├─────────────────┼──────────┼──────────┼──────────┼──────────┼─────────┼──────┼───────┼──────┼──────┤\n",
      "│ kenter_ft_title │ 0.555436 │ 0.555436 │ 0.555436 │ 0.555436 │ 2.95067 │ 1032 │ 14174 │  826 │  826 │\n",
      "├─────────────────┼──────────┼──────────┼──────────┼──────────┼─────────┼──────┼───────┼──────┼──────┤\n",
      "│ kenter_ft_spot  │ 0.624865 │ 0.624865 │ 0.624865 │ 0.624865 │ 3.43234 │ 1161 │ 14303 │  697 │  697 │\n",
      "├─────────────────┼──────────┼──────────┼──────────┼──────────┼─────────┼──────┼───────┼──────┼──────┤\n",
      "│ kenter_ft_text  │ 0.463402 │ 0.463402 │ 0.463402 │ 0.463402 │ 4.49999 │  861 │ 14003 │  997 │  997 │\n",
      "├─────────────────┼──────────┼──────────┼──────────┼──────────┼─────────┼──────┼───────┼──────┼──────┤\n",
      "│ idf_wv_title    │ 0.755651 │ 0.755651 │ 0.755651 │ 0.755651 │ 2.12314 │ 1404 │ 14546 │  454 │  454 │\n",
      "├─────────────────┼──────────┼──────────┼──────────┼──────────┼─────────┼──────┼───────┼──────┼──────┤\n",
      "│ idf_wv_spot     │ 0.876211 │ 0.876211 │ 0.876211 │ 0.876211 │ 2.33369 │ 1628 │ 14770 │  230 │  230 │\n",
      "├─────────────────┼──────────┼──────────┼──────────┼──────────┼─────────┼──────┼───────┼──────┼──────┤\n",
      "│ idf_wv_text     │ 0.901507 │ 0.901507 │ 0.901507 │ 0.901507 │ 2.68575 │ 1675 │ 14817 │  183 │  183 │\n",
      "├─────────────────┼──────────┼──────────┼──────────┼──────────┼─────────┼──────┼───────┼──────┼──────┤\n",
      "│ idf_ft_title    │ 0.747578 │ 0.747578 │ 0.747578 │ 0.747578 │ 2.15194 │ 1389 │ 14531 │  469 │  469 │\n",
      "├─────────────────┼──────────┼──────────┼──────────┼──────────┼─────────┼──────┼───────┼──────┼──────┤\n",
      "│ idf_ft_spot     │ 0.870829 │ 0.870829 │ 0.870829 │ 0.870829 │ 2.35513 │ 1618 │ 14760 │  240 │  240 │\n",
      "├─────────────────┼──────────┼──────────┼──────────┼──────────┼─────────┼──────┼───────┼──────┼──────┤\n",
      "│ idf_ft_text     │ 0.890743 │ 0.890743 │ 0.890743 │ 0.890743 │ 2.73829 │ 1655 │ 14797 │  203 │  203 │\n",
      "╘═════════════════╧══════════╧══════════╧══════════╧══════════╧═════════╧══════╧═══════╧══════╧══════╛\n"
     ]
    }
   ],
   "source": [
    "print(tabulate_res(results))"
   ]
  },
  {
   "cell_type": "code",
   "execution_count": 55,
   "metadata": {
    "ExecuteTime": {
     "end_time": "2019-03-05T12:30:53.518320Z",
     "start_time": "2019-03-05T12:30:53.501095Z"
    }
   },
   "outputs": [
    {
     "name": "stdout",
     "output_type": "stream",
     "text": [
      "╒═════════════════╤══════════╤══════════╤══════════╤══════════╤═════════╤══════╤═══════╤══════╤══════╕\n",
      "│                 │    E-ACC │       F1 │     PREC │   RECALL │     THR │   TP │    TN │   FP │   FN │\n",
      "╞═════════════════╪══════════╪══════════╪══════════╪══════════╪═════════╪══════╪═══════╪══════╪══════╡\n",
      "│ kenter_wv_title │ 0.527449 │ 0.527449 │ 0.527449 │ 0.527449 │ 3.08119 │  980 │ 14122 │  878 │  878 │\n",
      "├─────────────────┼──────────┼──────────┼──────────┼──────────┼─────────┼──────┼───────┼──────┼──────┤\n",
      "│ kenter_wv_spot  │ 0.586114 │ 0.586114 │ 0.586114 │ 0.586114 │ 3.50757 │ 1089 │ 14231 │  769 │  769 │\n",
      "├─────────────────┼──────────┼──────────┼──────────┼──────────┼─────────┼──────┼───────┼──────┼──────┤\n",
      "│ kenter_wv_text  │ 0.440258 │ 0.440258 │ 0.440258 │ 0.440258 │ 4.34376 │  818 │ 13960 │ 1040 │ 1040 │\n",
      "├─────────────────┼──────────┼──────────┼──────────┼──────────┼─────────┼──────┼───────┼──────┼──────┤\n",
      "│ kenter_ft_title │ 0.510764 │ 0.510764 │ 0.510764 │ 0.510764 │ 3.14092 │  949 │ 14091 │  909 │  909 │\n",
      "├─────────────────┼──────────┼──────────┼──────────┼──────────┼─────────┼──────┼───────┼──────┼──────┤\n",
      "│ kenter_ft_spot  │ 0.582347 │ 0.582347 │ 0.582347 │ 0.582347 │ 3.53301 │ 1082 │ 14224 │  776 │  776 │\n",
      "├─────────────────┼──────────┼──────────┼──────────┼──────────┼─────────┼──────┼───────┼──────┼──────┤\n",
      "│ kenter_ft_text  │ 0.427341 │ 0.427341 │ 0.427341 │ 0.427341 │ 4.4404  │  794 │ 13936 │ 1064 │ 1064 │\n",
      "├─────────────────┼──────────┼──────────┼──────────┼──────────┼─────────┼──────┼───────┼──────┼──────┤\n",
      "│ idf_wv_title    │ 0.755651 │ 0.755651 │ 0.755651 │ 0.755651 │ 2.12314 │ 1404 │ 14546 │  454 │  454 │\n",
      "├─────────────────┼──────────┼──────────┼──────────┼──────────┼─────────┼──────┼───────┼──────┼──────┤\n",
      "│ idf_wv_spot     │ 0.876211 │ 0.876211 │ 0.876211 │ 0.876211 │ 2.33369 │ 1628 │ 14770 │  230 │  230 │\n",
      "├─────────────────┼──────────┼──────────┼──────────┼──────────┼─────────┼──────┼───────┼──────┼──────┤\n",
      "│ idf_wv_text     │ 0.901507 │ 0.901507 │ 0.901507 │ 0.901507 │ 2.68575 │ 1675 │ 14817 │  183 │  183 │\n",
      "├─────────────────┼──────────┼──────────┼──────────┼──────────┼─────────┼──────┼───────┼──────┼──────┤\n",
      "│ idf_ft_title    │ 0.747578 │ 0.747578 │ 0.747578 │ 0.747578 │ 2.15194 │ 1389 │ 14531 │  469 │  469 │\n",
      "├─────────────────┼──────────┼──────────┼──────────┼──────────┼─────────┼──────┼───────┼──────┼──────┤\n",
      "│ idf_ft_spot     │ 0.870829 │ 0.870829 │ 0.870829 │ 0.870829 │ 2.35513 │ 1618 │ 14760 │  240 │  240 │\n",
      "├─────────────────┼──────────┼──────────┼──────────┼──────────┼─────────┼──────┼───────┼──────┼──────┤\n",
      "│ idf_ft_text     │ 0.890743 │ 0.890743 │ 0.890743 │ 0.890743 │ 2.73829 │ 1655 │ 14797 │  203 │  203 │\n",
      "╘═════════════════╧══════════╧══════════╧══════════╧══════════╧═════════╧══════╧═══════╧══════╧══════╛\n"
     ]
    }
   ],
   "source": [
    "print(tabulate_res(results))"
   ]
  },
  {
   "cell_type": "code",
   "execution_count": null,
   "metadata": {},
   "outputs": [],
   "source": []
  },
  {
   "cell_type": "code",
   "execution_count": 120,
   "metadata": {
    "ExecuteTime": {
     "end_time": "2019-03-07T11:08:54.590472Z",
     "start_time": "2019-03-07T11:08:54.483937Z"
    }
   },
   "outputs": [],
   "source": [
    "with open('unsupervised_results_lemma_kenter.pickle', 'wb') as f:\n",
    "    pickle.dump(results, f)"
   ]
  },
  {
   "cell_type": "code",
   "execution_count": 97,
   "metadata": {
    "ExecuteTime": {
     "end_time": "2019-03-07T11:00:48.846915Z",
     "start_time": "2019-03-07T11:00:48.842519Z"
    }
   },
   "outputs": [],
   "source": [
    "def normalize_score(dfnow, colname, thrnow):\n",
    "    \n",
    "    stdnow = dfnow[colname].std()\n",
    "    \n",
    "    print(\"%s\\t==>\\tstd: %.4f, old_thr: %.4f\" % (colname, stdnow, thrnow))\n",
    "    \n",
    "    return (dfnow[colname] - thrnow ) / stdnow, stdnow"
   ]
  },
  {
   "cell_type": "code",
   "execution_count": 106,
   "metadata": {
    "ExecuteTime": {
     "end_time": "2019-03-07T11:06:32.390725Z",
     "start_time": "2019-03-07T11:06:32.385397Z"
    }
   },
   "outputs": [],
   "source": []
  },
  {
   "cell_type": "code",
   "execution_count": 142,
   "metadata": {
    "ExecuteTime": {
     "end_time": "2019-03-07T11:32:14.047555Z",
     "start_time": "2019-03-07T11:32:14.039948Z"
    }
   },
   "outputs": [],
   "source": [
    "field = 'text'\n",
    "res_tmp = np.zeros((len(ks), len(bs)))\n",
    "\n",
    "met = 'kenter_ft'\n",
    "\n",
    "for ind_k, k1 in enumerate(ks):\n",
    "    for ind_b, b in enumerate(bs):\n",
    "        optname = 'k_'+str(k1)+'_b_'+str(b)\n",
    "        \n",
    "        colname = met + '_' + optname + '_' + field\n",
    "        \n",
    "        res_tmp[ind_k, ind_b] = results[colname]['f1']"
   ]
  },
  {
   "cell_type": "code",
   "execution_count": 143,
   "metadata": {
    "ExecuteTime": {
     "end_time": "2019-03-07T11:32:18.748126Z",
     "start_time": "2019-03-07T11:32:18.738386Z"
    }
   },
   "outputs": [
    {
     "name": "stdout",
     "output_type": "stream",
     "text": [
      "[[0.86114101 0.86167922 0.86383208 0.85791173 0.82723358]\n",
      " [0.87621098 0.87621098 0.87674919 0.87190527 0.84337998]\n",
      " [0.88320775 0.88374596 0.8853606  0.87944026 0.85145318]\n",
      " [0.88805167 0.88805167 0.88805167 0.88482239 0.85737352]]\n"
     ]
    }
   ],
   "source": [
    "print(res_tmp)"
   ]
  },
  {
   "cell_type": "code",
   "execution_count": 127,
   "metadata": {
    "ExecuteTime": {
     "end_time": "2019-03-07T11:13:52.749107Z",
     "start_time": "2019-03-07T11:13:52.743745Z"
    }
   },
   "outputs": [
    {
     "name": "stdout",
     "output_type": "stream",
     "text": [
      "[[0.61679225 0.50484392 0.37674919 0.27502691 0.22174381]\n",
      " [0.67061356 0.54413348 0.40419806 0.29386437 0.23035522]\n",
      " [0.70559742 0.57481163 0.42734123 0.29763186 0.23681378]\n",
      " [0.73896663 0.60710441 0.4467169  0.31001076 0.24273412]\n",
      " [0.76964478 0.6350915  0.46340151 0.32077503 0.2416577 ]\n",
      " [0.78848224 0.65285253 0.47255113 0.32561895 0.24650161]\n",
      " [0.82723358 0.68083961 0.48600646 0.33584499 0.2540366 ]]\n"
     ]
    }
   ],
   "source": [
    "print(res_tmp)"
   ]
  },
  {
   "cell_type": "code",
   "execution_count": 144,
   "metadata": {
    "ExecuteTime": {
     "end_time": "2019-03-07T11:33:07.634244Z",
     "start_time": "2019-03-07T11:33:07.629997Z"
    }
   },
   "outputs": [
    {
     "data": {
      "text/plain": [
       "[5, 10, 20, 50]"
      ]
     },
     "execution_count": 144,
     "metadata": {},
     "output_type": "execute_result"
    }
   ],
   "source": [
    "ks"
   ]
  },
  {
   "cell_type": "code",
   "execution_count": 145,
   "metadata": {
    "ExecuteTime": {
     "end_time": "2019-03-07T11:33:08.829119Z",
     "start_time": "2019-03-07T11:33:08.819667Z"
    }
   },
   "outputs": [
    {
     "data": {
      "text/plain": [
       "[0, 0.001, 0.01, 0.1, 0.2]"
      ]
     },
     "execution_count": 145,
     "metadata": {},
     "output_type": "execute_result"
    }
   ],
   "source": [
    "bs"
   ]
  },
  {
   "cell_type": "code",
   "execution_count": 147,
   "metadata": {
    "ExecuteTime": {
     "end_time": "2019-03-07T11:37:39.583091Z",
     "start_time": "2019-03-07T11:37:39.577471Z"
    }
   },
   "outputs": [],
   "source": [
    "k_opt = 50\n",
    "b_opt = 0.001\n",
    "\n",
    "optname = 'k_'+str(k_opt)+'_b_'+str(b_opt)"
   ]
  },
  {
   "cell_type": "code",
   "execution_count": 157,
   "metadata": {
    "ExecuteTime": {
     "end_time": "2019-03-07T11:40:21.281454Z",
     "start_time": "2019-03-07T11:40:21.273973Z"
    }
   },
   "outputs": [],
   "source": [
    "methods2 = [met+'_'+optname for met in ['kenter_wv','kenter_ft']]\n",
    "methods_cross_2 = [met + '_' + field for met in methods2 for field in fields]"
   ]
  },
  {
   "cell_type": "code",
   "execution_count": 158,
   "metadata": {
    "ExecuteTime": {
     "end_time": "2019-03-07T11:40:21.733189Z",
     "start_time": "2019-03-07T11:40:21.718840Z"
    }
   },
   "outputs": [
    {
     "name": "stdout",
     "output_type": "stream",
     "text": [
      "kenter_wv_k_50_b_0.001_title\t==>\tstd: 0.6633, old_thr: 2.1393\n",
      "kenter_wv_k_50_b_0.001_spot\t==>\tstd: 0.6192, old_thr: 2.3531\n",
      "kenter_wv_k_50_b_0.001_text\t==>\tstd: 0.5445, old_thr: 2.6989\n",
      "kenter_ft_k_50_b_0.001_title\t==>\tstd: 0.6932, old_thr: 2.1730\n",
      "kenter_ft_k_50_b_0.001_spot\t==>\tstd: 0.6468, old_thr: 2.3728\n",
      "kenter_ft_k_50_b_0.001_text\t==>\tstd: 0.5724, old_thr: 2.7569\n"
     ]
    }
   ],
   "source": [
    "for method in methods_cross_2:\n",
    "    dsnow, stdnow = normalize_score(df_comparisons, method, results[method]['thr'])\n",
    "    df_comparisons[method+'_norm'] = dsnow\n",
    "    results[method]['std_norm'] = stdnow"
   ]
  },
  {
   "cell_type": "code",
   "execution_count": 159,
   "metadata": {
    "ExecuteTime": {
     "end_time": "2019-03-07T11:40:32.461756Z",
     "start_time": "2019-03-07T11:40:32.458855Z"
    }
   },
   "outputs": [],
   "source": [
    "methods_cross_norm2 = [met+'_norm' for met in methods_cross_2]"
   ]
  },
  {
   "cell_type": "code",
   "execution_count": 160,
   "metadata": {
    "ExecuteTime": {
     "end_time": "2019-03-07T11:40:32.811138Z",
     "start_time": "2019-03-07T11:40:32.807230Z"
    }
   },
   "outputs": [],
   "source": [
    "field_weights = {'spot': 0.3, 'title': 0.1, 'text': 0.6}"
   ]
  },
  {
   "cell_type": "code",
   "execution_count": 161,
   "metadata": {
    "ExecuteTime": {
     "end_time": "2019-03-07T11:40:33.157313Z",
     "start_time": "2019-03-07T11:40:33.151491Z"
    }
   },
   "outputs": [],
   "source": [
    "def weighted_av(rownow, weights_field, metsnow):\n",
    "    \n",
    "    score = 0\n",
    "    count = 0\n",
    "    \n",
    "    for method in metsnow:\n",
    "        count += 1\n",
    "        for field in fields:\n",
    "            score += weights_field[field] * rownow[method + '_' + field + '_norm']\n",
    "            \n",
    "    return score / count"
   ]
  },
  {
   "cell_type": "code",
   "execution_count": 162,
   "metadata": {
    "ExecuteTime": {
     "end_time": "2019-03-07T11:40:38.663756Z",
     "start_time": "2019-03-07T11:40:37.635137Z"
    }
   },
   "outputs": [],
   "source": [
    "for met in methods2:\n",
    "    df_comparisons[met + '_all'] = df_comparisons.apply(lambda row: weighted_av(row, field_weights, [met]), axis=1)\n",
    "    results.update({met + '_all': find_eacc(df_comparisons.label.values, df_comparisons[met + '_all'].values)})"
   ]
  },
  {
   "cell_type": "code",
   "execution_count": 163,
   "metadata": {
    "ExecuteTime": {
     "end_time": "2019-03-07T11:40:48.613751Z",
     "start_time": "2019-03-07T11:40:48.603495Z"
    }
   },
   "outputs": [],
   "source": [
    "results.update({met+'_all': find_eacc(df_comparisons.label.values, df_comparisons[met+'_all'].values) for met in methods2})"
   ]
  },
  {
   "cell_type": "code",
   "execution_count": 164,
   "metadata": {
    "ExecuteTime": {
     "end_time": "2019-03-07T11:40:52.412425Z",
     "start_time": "2019-03-07T11:40:52.356338Z"
    }
   },
   "outputs": [
    {
     "name": "stdout",
     "output_type": "stream",
     "text": [
      "╒══════════════════════════════╤══════════╤══════════╤══════════╤══════════╤════════════╤══════╤═══════╤══════╤══════╕\n",
      "│                              │    E-ACC │       F1 │     PREC │   RECALL │        THR │   TP │    TN │   FP │   FN │\n",
      "╞══════════════════════════════╪══════════╪══════════╪══════════╪══════════╪════════════╪══════╪═══════╪══════╪══════╡\n",
      "│ kenter_wv_title              │ 0.572121 │ 0.572121 │ 0.572121 │ 0.572121 │  2.90282   │ 1063 │ 14205 │  795 │  795 │\n",
      "├──────────────────────────────┼──────────┼──────────┼──────────┼──────────┼────────────┼──────┼───────┼──────┼──────┤\n",
      "│ kenter_wv_spot               │ 0.629171 │ 0.629171 │ 0.629171 │ 0.629171 │  3.40738   │ 1169 │ 14311 │  689 │  689 │\n",
      "├──────────────────────────────┼──────────┼──────────┼──────────┼──────────┼────────────┼──────┼───────┼──────┼──────┤\n",
      "│ kenter_wv_text               │ 0.467169 │ 0.467169 │ 0.467169 │ 0.467169 │  4.4085    │  868 │ 14010 │  990 │  990 │\n",
      "├──────────────────────────────┼──────────┼──────────┼──────────┼──────────┼────────────┼──────┼───────┼──────┼──────┤\n",
      "│ kenter_ft_title              │ 0.555436 │ 0.555436 │ 0.555436 │ 0.555436 │  2.95067   │ 1032 │ 14174 │  826 │  826 │\n",
      "├──────────────────────────────┼──────────┼──────────┼──────────┼──────────┼────────────┼──────┼───────┼──────┼──────┤\n",
      "│ kenter_ft_spot               │ 0.624865 │ 0.624865 │ 0.624865 │ 0.624865 │  3.43234   │ 1161 │ 14303 │  697 │  697 │\n",
      "├──────────────────────────────┼──────────┼──────────┼──────────┼──────────┼────────────┼──────┼───────┼──────┼──────┤\n",
      "│ kenter_ft_text               │ 0.463402 │ 0.463402 │ 0.463402 │ 0.463402 │  4.49999   │  861 │ 14003 │  997 │  997 │\n",
      "├──────────────────────────────┼──────────┼──────────┼──────────┼──────────┼────────────┼──────┼───────┼──────┼──────┤\n",
      "│ idf_wv_title                 │ 0.755651 │ 0.755651 │ 0.755651 │ 0.755651 │  2.12314   │ 1404 │ 14546 │  454 │  454 │\n",
      "├──────────────────────────────┼──────────┼──────────┼──────────┼──────────┼────────────┼──────┼───────┼──────┼──────┤\n",
      "│ idf_wv_spot                  │ 0.876211 │ 0.876211 │ 0.876211 │ 0.876211 │  2.33369   │ 1628 │ 14770 │  230 │  230 │\n",
      "├──────────────────────────────┼──────────┼──────────┼──────────┼──────────┼────────────┼──────┼───────┼──────┼──────┤\n",
      "│ idf_wv_text                  │ 0.901507 │ 0.901507 │ 0.901507 │ 0.901507 │  2.68575   │ 1675 │ 14817 │  183 │  183 │\n",
      "├──────────────────────────────┼──────────┼──────────┼──────────┼──────────┼────────────┼──────┼───────┼──────┼──────┤\n",
      "│ idf_ft_title                 │ 0.747578 │ 0.747578 │ 0.747578 │ 0.747578 │  2.15194   │ 1389 │ 14531 │  469 │  469 │\n",
      "├──────────────────────────────┼──────────┼──────────┼──────────┼──────────┼────────────┼──────┼───────┼──────┼──────┤\n",
      "│ idf_ft_spot                  │ 0.870829 │ 0.870829 │ 0.870829 │ 0.870829 │  2.35513   │ 1618 │ 14760 │  240 │  240 │\n",
      "├──────────────────────────────┼──────────┼──────────┼──────────┼──────────┼────────────┼──────┼───────┼──────┼──────┤\n",
      "│ idf_ft_text                  │ 0.890743 │ 0.890743 │ 0.890743 │ 0.890743 │  2.73829   │ 1655 │ 14797 │  203 │  203 │\n",
      "├──────────────────────────────┼──────────┼──────────┼──────────┼──────────┼────────────┼──────┼───────┼──────┼──────┤\n",
      "│ kenter_wv_k_5_b_0_title      │ 0.720129 │ 0.720129 │ 0.720129 │ 0.720129 │  2.29472   │ 1338 │ 14480 │  520 │  520 │\n",
      "├──────────────────────────────┼──────────┼──────────┼──────────┼──────────┼────────────┼──────┼───────┼──────┼──────┤\n",
      "│ kenter_ft_k_5_b_0_title      │ 0.705597 │ 0.705597 │ 0.705597 │ 0.705597 │  2.32773   │ 1311 │ 14453 │  547 │  547 │\n",
      "├──────────────────────────────┼──────────┼──────────┼──────────┼──────────┼────────────┼──────┼───────┼──────┼──────┤\n",
      "│ kenter_wv_k_5_b_0_spot       │ 0.854144 │ 0.854144 │ 0.854144 │ 0.854144 │  2.49282   │ 1587 │ 14729 │  271 │  271 │\n",
      "├──────────────────────────────┼──────────┼──────────┼──────────┼──────────┼────────────┼──────┼───────┼──────┼──────┤\n",
      "│ kenter_ft_k_5_b_0_spot       │ 0.848762 │ 0.848762 │ 0.848762 │ 0.848762 │  2.52176   │ 1577 │ 14719 │  281 │  281 │\n",
      "├──────────────────────────────┼──────────┼──────────┼──────────┼──────────┼────────────┼──────┼───────┼──────┼──────┤\n",
      "│ kenter_wv_k_5_b_0_text       │ 0.878902 │ 0.878902 │ 0.878902 │ 0.878902 │  2.82787   │ 1633 │ 14775 │  225 │  225 │\n",
      "├──────────────────────────────┼──────────┼──────────┼──────────┼──────────┼────────────┼──────┼───────┼──────┼──────┤\n",
      "│ kenter_ft_k_5_b_0_text       │ 0.861141 │ 0.861141 │ 0.861141 │ 0.861141 │  2.90152   │ 1600 │ 14742 │  258 │  258 │\n",
      "├──────────────────────────────┼──────────┼──────────┼──────────┼──────────┼────────────┼──────┼───────┼──────┼──────┤\n",
      "│ kenter_wv_k_5_b_0.001_title  │ 0.720129 │ 0.720129 │ 0.720129 │ 0.720129 │  2.29504   │ 1338 │ 14480 │  520 │  520 │\n",
      "├──────────────────────────────┼──────────┼──────────┼──────────┼──────────┼────────────┼──────┼───────┼──────┼──────┤\n",
      "│ kenter_ft_k_5_b_0.001_title  │ 0.706136 │ 0.706136 │ 0.706136 │ 0.706136 │  2.32751   │ 1312 │ 14454 │  546 │  546 │\n",
      "├──────────────────────────────┼──────────┼──────────┼──────────┼──────────┼────────────┼──────┼───────┼──────┼──────┤\n",
      "│ kenter_wv_k_5_b_0.001_spot   │ 0.854144 │ 0.854144 │ 0.854144 │ 0.854144 │  2.49273   │ 1587 │ 14729 │  271 │  271 │\n",
      "├──────────────────────────────┼──────────┼──────────┼──────────┼──────────┼────────────┼──────┼───────┼──────┼──────┤\n",
      "│ kenter_ft_k_5_b_0.001_spot   │ 0.848762 │ 0.848762 │ 0.848762 │ 0.848762 │  2.52222   │ 1577 │ 14719 │  281 │  281 │\n",
      "├──────────────────────────────┼──────────┼──────────┼──────────┼──────────┼────────────┼──────┼───────┼──────┼──────┤\n",
      "│ kenter_wv_k_5_b_0.001_text   │ 0.878902 │ 0.878902 │ 0.878902 │ 0.878902 │  2.82927   │ 1633 │ 14775 │  225 │  225 │\n",
      "├──────────────────────────────┼──────────┼──────────┼──────────┼──────────┼────────────┼──────┼───────┼──────┼──────┤\n",
      "│ kenter_ft_k_5_b_0.001_text   │ 0.861679 │ 0.861679 │ 0.861679 │ 0.861679 │  2.90189   │ 1601 │ 14743 │  257 │  257 │\n",
      "├──────────────────────────────┼──────────┼──────────┼──────────┼──────────┼────────────┼──────┼───────┼──────┼──────┤\n",
      "│ kenter_wv_k_5_b_0.01_title   │ 0.720667 │ 0.720667 │ 0.720667 │ 0.720667 │  2.29857   │ 1339 │ 14481 │  519 │  519 │\n",
      "├──────────────────────────────┼──────────┼──────────┼──────────┼──────────┼────────────┼──────┼───────┼──────┼──────┤\n",
      "│ kenter_ft_k_5_b_0.01_title   │ 0.706136 │ 0.706136 │ 0.706136 │ 0.706136 │  2.3301    │ 1312 │ 14454 │  546 │  546 │\n",
      "├──────────────────────────────┼──────────┼──────────┼──────────┼──────────┼────────────┼──────┼───────┼──────┼──────┤\n",
      "│ kenter_wv_k_5_b_0.01_spot    │ 0.855221 │ 0.855221 │ 0.855221 │ 0.855221 │  2.49695   │ 1589 │ 14731 │  269 │  269 │\n",
      "├──────────────────────────────┼──────────┼──────────┼──────────┼──────────┼────────────┼──────┼───────┼──────┼──────┤\n",
      "│ kenter_ft_k_5_b_0.01_spot    │ 0.848762 │ 0.848762 │ 0.848762 │ 0.848762 │  2.52735   │ 1577 │ 14719 │  281 │  281 │\n",
      "├──────────────────────────────┼──────────┼──────────┼──────────┼──────────┼────────────┼──────┼───────┼──────┼──────┤\n",
      "│ kenter_wv_k_5_b_0.01_text    │ 0.878902 │ 0.878902 │ 0.878902 │ 0.878902 │  2.84066   │ 1633 │ 14775 │  225 │  225 │\n",
      "├──────────────────────────────┼──────────┼──────────┼──────────┼──────────┼────────────┼──────┼───────┼──────┼──────┤\n",
      "│ kenter_ft_k_5_b_0.01_text    │ 0.863832 │ 0.863832 │ 0.863832 │ 0.863832 │  2.90989   │ 1605 │ 14747 │  253 │  253 │\n",
      "├──────────────────────────────┼──────────┼──────────┼──────────┼──────────┼────────────┼──────┼───────┼──────┼──────┤\n",
      "│ kenter_wv_k_5_b_0.1_title    │ 0.7169   │ 0.7169   │ 0.7169   │ 0.7169   │  2.32628   │ 1332 │ 14474 │  526 │  526 │\n",
      "├──────────────────────────────┼──────────┼──────────┼──────────┼──────────┼────────────┼──────┼───────┼──────┼──────┤\n",
      "│ kenter_ft_k_5_b_0.1_title    │ 0.702368 │ 0.702368 │ 0.702368 │ 0.702368 │  2.35859   │ 1305 │ 14447 │  553 │  553 │\n",
      "├──────────────────────────────┼──────────┼──────────┼──────────┼──────────┼────────────┼──────┼───────┼──────┼──────┤\n",
      "│ kenter_wv_k_5_b_0.1_spot     │ 0.8493   │ 0.8493   │ 0.8493   │ 0.8493   │  2.53816   │ 1578 │ 14720 │  280 │  280 │\n",
      "├──────────────────────────────┼──────────┼──────────┼──────────┼──────────┼────────────┼──────┼───────┼──────┼──────┤\n",
      "│ kenter_ft_k_5_b_0.1_spot     │ 0.845533 │ 0.845533 │ 0.845533 │ 0.845533 │  2.56797   │ 1571 │ 14713 │  287 │  287 │\n",
      "├──────────────────────────────┼──────────┼──────────┼──────────┼──────────┼────────────┼──────┼───────┼──────┼──────┤\n",
      "│ kenter_wv_k_5_b_0.1_text     │ 0.877287 │ 0.877287 │ 0.877287 │ 0.877287 │  2.91603   │ 1630 │ 14772 │  228 │  228 │\n",
      "├──────────────────────────────┼──────────┼──────────┼──────────┼──────────┼────────────┼──────┼───────┼──────┼──────┤\n",
      "│ kenter_ft_k_5_b_0.1_text     │ 0.857912 │ 0.857912 │ 0.857912 │ 0.857912 │  2.98783   │ 1594 │ 14736 │  264 │  264 │\n",
      "├──────────────────────────────┼──────────┼──────────┼──────────┼──────────┼────────────┼──────┼───────┼──────┼──────┤\n",
      "│ kenter_wv_k_5_b_0.2_title    │ 0.712056 │ 0.712056 │ 0.712056 │ 0.712056 │  2.35952   │ 1323 │ 14465 │  535 │  535 │\n",
      "├──────────────────────────────┼──────────┼──────────┼──────────┼──────────┼────────────┼──────┼───────┼──────┼──────┤\n",
      "│ kenter_ft_k_5_b_0.2_title    │ 0.69591  │ 0.69591  │ 0.69591  │ 0.69591  │  2.39329   │ 1293 │ 14435 │  565 │  565 │\n",
      "├──────────────────────────────┼──────────┼──────────┼──────────┼──────────┼────────────┼──────┼───────┼──────┼──────┤\n",
      "│ kenter_wv_k_5_b_0.2_spot     │ 0.841765 │ 0.841765 │ 0.841765 │ 0.841765 │  2.61254   │ 1564 │ 14706 │  294 │  294 │\n",
      "├──────────────────────────────┼──────────┼──────────┼──────────┼──────────┼────────────┼──────┼───────┼──────┼──────┤\n",
      "│ kenter_ft_k_5_b_0.2_spot     │ 0.829925 │ 0.829925 │ 0.829925 │ 0.829925 │  2.62959   │ 1542 │ 14684 │  316 │  316 │\n",
      "├──────────────────────────────┼──────────┼──────────┼──────────┼──────────┼────────────┼──────┼───────┼──────┼──────┤\n",
      "│ kenter_wv_k_5_b_0.2_text     │ 0.842842 │ 0.842842 │ 0.842842 │ 0.842842 │  3.00218   │ 1566 │ 14708 │  292 │  292 │\n",
      "├──────────────────────────────┼──────────┼──────────┼──────────┼──────────┼────────────┼──────┼───────┼──────┼──────┤\n",
      "│ kenter_ft_k_5_b_0.2_text     │ 0.827234 │ 0.827234 │ 0.827234 │ 0.827234 │  3.07501   │ 1537 │ 14679 │  321 │  321 │\n",
      "├──────────────────────────────┼──────────┼──────────┼──────────┼──────────┼────────────┼──────┼───────┼──────┼──────┤\n",
      "│ kenter_wv_k_10_b_0_title     │ 0.740043 │ 0.740043 │ 0.740043 │ 0.740043 │  2.21244   │ 1375 │ 14517 │  483 │  483 │\n",
      "├──────────────────────────────┼──────────┼──────────┼──────────┼──────────┼────────────┼──────┼───────┼──────┼──────┤\n",
      "│ kenter_ft_k_10_b_0_title     │ 0.726588 │ 0.726588 │ 0.726588 │ 0.726588 │  2.24485   │ 1350 │ 14492 │  508 │  508 │\n",
      "├──────────────────────────────┼──────────┼──────────┼──────────┼──────────┼────────────┼──────┼───────┼──────┼──────┤\n",
      "│ kenter_wv_k_10_b_0_spot      │ 0.866523 │ 0.866523 │ 0.866523 │ 0.866523 │  2.41763   │ 1610 │ 14752 │  248 │  248 │\n",
      "├──────────────────────────────┼──────────┼──────────┼──────────┼──────────┼────────────┼──────┼───────┼──────┼──────┤\n",
      "│ kenter_ft_k_10_b_0_spot      │ 0.859526 │ 0.859526 │ 0.859526 │ 0.859526 │  2.44263   │ 1597 │ 14739 │  261 │  261 │\n",
      "├──────────────────────────────┼──────────┼──────────┼──────────┼──────────┼────────────┼──────┼───────┼──────┼──────┤\n",
      "│ kenter_wv_k_10_b_0_text      │ 0.890743 │ 0.890743 │ 0.890743 │ 0.890743 │  2.7608    │ 1655 │ 14797 │  203 │  203 │\n",
      "├──────────────────────────────┼──────────┼──────────┼──────────┼──────────┼────────────┼──────┼───────┼──────┼──────┤\n",
      "│ kenter_ft_k_10_b_0_text      │ 0.876211 │ 0.876211 │ 0.876211 │ 0.876211 │  2.8253    │ 1628 │ 14770 │  230 │  230 │\n",
      "├──────────────────────────────┼──────────┼──────────┼──────────┼──────────┼────────────┼──────┼───────┼──────┼──────┤\n",
      "│ kenter_wv_k_10_b_0.001_title │ 0.740043 │ 0.740043 │ 0.740043 │ 0.740043 │  2.21288   │ 1375 │ 14517 │  483 │  483 │\n",
      "├──────────────────────────────┼──────────┼──────────┼──────────┼──────────┼────────────┼──────┼───────┼──────┼──────┤\n",
      "│ kenter_ft_k_10_b_0.001_title │ 0.727126 │ 0.727126 │ 0.727126 │ 0.727126 │  2.24498   │ 1351 │ 14493 │  507 │  507 │\n",
      "├──────────────────────────────┼──────────┼──────────┼──────────┼──────────┼────────────┼──────┼───────┼──────┼──────┤\n",
      "│ kenter_wv_k_10_b_0.001_spot  │ 0.865985 │ 0.865985 │ 0.865985 │ 0.865985 │  2.41823   │ 1609 │ 14751 │  249 │  249 │\n",
      "├──────────────────────────────┼──────────┼──────────┼──────────┼──────────┼────────────┼──────┼───────┼──────┼──────┤\n",
      "│ kenter_ft_k_10_b_0.001_spot  │ 0.859526 │ 0.859526 │ 0.859526 │ 0.859526 │  2.44253   │ 1597 │ 14739 │  261 │  261 │\n",
      "├──────────────────────────────┼──────────┼──────────┼──────────┼──────────┼────────────┼──────┼───────┼──────┼──────┤\n",
      "│ kenter_wv_k_10_b_0.001_text  │ 0.890743 │ 0.890743 │ 0.890743 │ 0.890743 │  2.76273   │ 1655 │ 14797 │  203 │  203 │\n",
      "├──────────────────────────────┼──────────┼──────────┼──────────┼──────────┼────────────┼──────┼───────┼──────┼──────┤\n",
      "│ kenter_ft_k_10_b_0.001_text  │ 0.876211 │ 0.876211 │ 0.876211 │ 0.876211 │  2.8266    │ 1628 │ 14770 │  230 │  230 │\n",
      "├──────────────────────────────┼──────────┼──────────┼──────────┼──────────┼────────────┼──────┼───────┼──────┼──────┤\n",
      "│ kenter_wv_k_10_b_0.01_title  │ 0.740043 │ 0.740043 │ 0.740043 │ 0.740043 │  2.21376   │ 1375 │ 14517 │  483 │  483 │\n",
      "├──────────────────────────────┼──────────┼──────────┼──────────┼──────────┼────────────┼──────┼───────┼──────┼──────┤\n",
      "│ kenter_ft_k_10_b_0.01_title  │ 0.728202 │ 0.728202 │ 0.728202 │ 0.728202 │  2.24552   │ 1353 │ 14495 │  505 │  505 │\n",
      "├──────────────────────────────┼──────────┼──────────┼──────────┼──────────┼────────────┼──────┼───────┼──────┼──────┤\n",
      "│ kenter_wv_k_10_b_0.01_spot   │ 0.863832 │ 0.863832 │ 0.863832 │ 0.863832 │  2.42106   │ 1605 │ 14747 │  253 │  253 │\n",
      "├──────────────────────────────┼──────────┼──────────┼──────────┼──────────┼────────────┼──────┼───────┼──────┼──────┤\n",
      "│ kenter_ft_k_10_b_0.01_spot   │ 0.860065 │ 0.860065 │ 0.860065 │ 0.860065 │  2.4447    │ 1598 │ 14740 │  260 │  260 │\n",
      "├──────────────────────────────┼──────────┼──────────┼──────────┼──────────┼────────────┼──────┼───────┼──────┼──────┤\n",
      "│ kenter_wv_k_10_b_0.01_text   │ 0.891281 │ 0.891281 │ 0.891281 │ 0.891281 │  2.77037   │ 1656 │ 14798 │  202 │  202 │\n",
      "├──────────────────────────────┼──────────┼──────────┼──────────┼──────────┼────────────┼──────┼───────┼──────┼──────┤\n",
      "│ kenter_ft_k_10_b_0.01_text   │ 0.876749 │ 0.876749 │ 0.876749 │ 0.876749 │  2.83397   │ 1629 │ 14771 │  229 │  229 │\n",
      "├──────────────────────────────┼──────────┼──────────┼──────────┼──────────┼────────────┼──────┼───────┼──────┼──────┤\n",
      "│ kenter_wv_k_10_b_0.1_title   │ 0.737352 │ 0.737352 │ 0.737352 │ 0.737352 │  2.24067   │ 1370 │ 14512 │  488 │  488 │\n",
      "├──────────────────────────────┼──────────┼──────────┼──────────┼──────────┼────────────┼──────┼───────┼──────┼──────┤\n",
      "│ kenter_ft_k_10_b_0.1_title   │ 0.724435 │ 0.724435 │ 0.724435 │ 0.724435 │  2.27638   │ 1346 │ 14488 │  512 │  512 │\n",
      "├──────────────────────────────┼──────────┼──────────┼──────────┼──────────┼────────────┼──────┼───────┼──────┼──────┤\n",
      "│ kenter_wv_k_10_b_0.1_spot    │ 0.863832 │ 0.863832 │ 0.863832 │ 0.863832 │  2.46342   │ 1605 │ 14747 │  253 │  253 │\n",
      "├──────────────────────────────┼──────────┼──────────┼──────────┼──────────┼────────────┼──────┼───────┼──────┼──────┤\n",
      "│ kenter_ft_k_10_b_0.1_spot    │ 0.855221 │ 0.855221 │ 0.855221 │ 0.855221 │  2.49469   │ 1589 │ 14731 │  269 │  269 │\n",
      "├──────────────────────────────┼──────────┼──────────┼──────────┼──────────┼────────────┼──────┼───────┼──────┼──────┤\n",
      "│ kenter_wv_k_10_b_0.1_text    │ 0.889666 │ 0.889666 │ 0.889666 │ 0.889666 │  2.85247   │ 1653 │ 14795 │  205 │  205 │\n",
      "├──────────────────────────────┼──────────┼──────────┼──────────┼──────────┼────────────┼──────┼───────┼──────┼──────┤\n",
      "│ kenter_ft_k_10_b_0.1_text    │ 0.871905 │ 0.871905 │ 0.871905 │ 0.871905 │  2.9142    │ 1620 │ 14762 │  238 │  238 │\n",
      "├──────────────────────────────┼──────────┼──────────┼──────────┼──────────┼────────────┼──────┼───────┼──────┼──────┤\n",
      "│ kenter_wv_k_10_b_0.2_title   │ 0.733584 │ 0.733584 │ 0.733584 │ 0.733584 │  2.28194   │ 1363 │ 14505 │  495 │  495 │\n",
      "├──────────────────────────────┼──────────┼──────────┼──────────┼──────────┼────────────┼──────┼───────┼──────┼──────┤\n",
      "│ kenter_ft_k_10_b_0.2_title   │ 0.715823 │ 0.715823 │ 0.715823 │ 0.715823 │  2.30843   │ 1330 │ 14472 │  528 │  528 │\n",
      "├──────────────────────────────┼──────────┼──────────┼──────────┼──────────┼────────────┼──────┼───────┼──────┼──────┤\n",
      "│ kenter_wv_k_10_b_0.2_spot    │ 0.855759 │ 0.855759 │ 0.855759 │ 0.855759 │  2.53591   │ 1590 │ 14732 │  268 │  268 │\n",
      "├──────────────────────────────┼──────────┼──────────┼──────────┼──────────┼────────────┼──────┼───────┼──────┼──────┤\n",
      "│ kenter_ft_k_10_b_0.2_spot    │ 0.844995 │ 0.844995 │ 0.844995 │ 0.844995 │  2.55365   │ 1570 │ 14712 │  288 │  288 │\n",
      "├──────────────────────────────┼──────────┼──────────┼──────────┼──────────┼────────────┼──────┼───────┼──────┼──────┤\n",
      "│ kenter_wv_k_10_b_0.2_text    │ 0.85845  │ 0.85845  │ 0.85845  │ 0.85845  │  2.93476   │ 1595 │ 14737 │  263 │  263 │\n",
      "├──────────────────────────────┼──────────┼──────────┼──────────┼──────────┼────────────┼──────┼───────┼──────┼──────┤\n",
      "│ kenter_ft_k_10_b_0.2_text    │ 0.84338  │ 0.84338  │ 0.84338  │ 0.84338  │  3.00283   │ 1567 │ 14709 │  291 │  291 │\n",
      "├──────────────────────────────┼──────────┼──────────┼──────────┼──────────┼────────────┼──────┼───────┼──────┼──────┤\n",
      "│ kenter_wv_k_20_b_0_title     │ 0.745425 │ 0.745425 │ 0.745425 │ 0.745425 │  2.16837   │ 1385 │ 14527 │  473 │  473 │\n",
      "├──────────────────────────────┼──────────┼──────────┼──────────┼──────────┼────────────┼──────┼───────┼──────┼──────┤\n",
      "│ kenter_ft_k_20_b_0_title     │ 0.73789  │ 0.73789  │ 0.73789  │ 0.73789  │  2.203     │ 1371 │ 14513 │  487 │  487 │\n",
      "├──────────────────────────────┼──────────┼──────────┼──────────┼──────────┼────────────┼──────┼───────┼──────┼──────┤\n",
      "│ kenter_wv_k_20_b_0_spot      │ 0.871905 │ 0.871905 │ 0.871905 │ 0.871905 │  2.37688   │ 1620 │ 14762 │  238 │  238 │\n",
      "├──────────────────────────────┼──────────┼──────────┼──────────┼──────────┼────────────┼──────┼───────┼──────┼──────┤\n",
      "│ kenter_ft_k_20_b_0_spot      │ 0.863832 │ 0.863832 │ 0.863832 │ 0.863832 │  2.39474   │ 1605 │ 14747 │  253 │  253 │\n",
      "├──────────────────────────────┼──────────┼──────────┼──────────┼──────────┼────────────┼──────┼───────┼──────┼──────┤\n",
      "│ kenter_wv_k_20_b_0_text      │ 0.896125 │ 0.896125 │ 0.896125 │ 0.896125 │  2.72177   │ 1665 │ 14807 │  193 │  193 │\n",
      "├──────────────────────────────┼──────────┼──────────┼──────────┼──────────┼────────────┼──────┼───────┼──────┼──────┤\n",
      "│ kenter_ft_k_20_b_0_text      │ 0.883208 │ 0.883208 │ 0.883208 │ 0.883208 │  2.78081   │ 1641 │ 14783 │  217 │  217 │\n",
      "├──────────────────────────────┼──────────┼──────────┼──────────┼──────────┼────────────┼──────┼───────┼──────┼──────┤\n",
      "│ kenter_wv_k_20_b_0.001_title │ 0.745425 │ 0.745425 │ 0.745425 │ 0.745425 │  2.16841   │ 1385 │ 14527 │  473 │  473 │\n",
      "├──────────────────────────────┼──────────┼──────────┼──────────┼──────────┼────────────┼──────┼───────┼──────┼──────┤\n",
      "│ kenter_ft_k_20_b_0.001_title │ 0.73789  │ 0.73789  │ 0.73789  │ 0.73789  │  2.20345   │ 1371 │ 14513 │  487 │  487 │\n",
      "├──────────────────────────────┼──────────┼──────────┼──────────┼──────────┼────────────┼──────┼───────┼──────┼──────┤\n",
      "│ kenter_wv_k_20_b_0.001_spot  │ 0.871905 │ 0.871905 │ 0.871905 │ 0.871905 │  2.37756   │ 1620 │ 14762 │  238 │  238 │\n",
      "├──────────────────────────────┼──────────┼──────────┼──────────┼──────────┼────────────┼──────┼───────┼──────┼──────┤\n",
      "│ kenter_ft_k_20_b_0.001_spot  │ 0.863832 │ 0.863832 │ 0.863832 │ 0.863832 │  2.39605   │ 1605 │ 14747 │  253 │  253 │\n",
      "├──────────────────────────────┼──────────┼──────────┼──────────┼──────────┼────────────┼──────┼───────┼──────┼──────┤\n",
      "│ kenter_wv_k_20_b_0.001_text  │ 0.896125 │ 0.896125 │ 0.896125 │ 0.896125 │  2.72366   │ 1665 │ 14807 │  193 │  193 │\n",
      "├──────────────────────────────┼──────────┼──────────┼──────────┼──────────┼────────────┼──────┼───────┼──────┼──────┤\n",
      "│ kenter_ft_k_20_b_0.001_text  │ 0.883746 │ 0.883746 │ 0.883746 │ 0.883746 │  2.78256   │ 1642 │ 14784 │  216 │  216 │\n",
      "├──────────────────────────────┼──────────┼──────────┼──────────┼──────────┼────────────┼──────┼───────┼──────┼──────┤\n",
      "│ kenter_wv_k_20_b_0.01_title  │ 0.746502 │ 0.746502 │ 0.746502 │ 0.746502 │  2.16985   │ 1387 │ 14529 │  471 │  471 │\n",
      "├──────────────────────────────┼──────────┼──────────┼──────────┼──────────┼────────────┼──────┼───────┼──────┼──────┤\n",
      "│ kenter_ft_k_20_b_0.01_title  │ 0.738428 │ 0.738428 │ 0.738428 │ 0.738428 │  2.2047    │ 1372 │ 14514 │  486 │  486 │\n",
      "├──────────────────────────────┼──────────┼──────────┼──────────┼──────────┼────────────┼──────┼───────┼──────┼──────┤\n",
      "│ kenter_wv_k_20_b_0.01_spot   │ 0.870291 │ 0.870291 │ 0.870291 │ 0.870291 │  2.37954   │ 1617 │ 14759 │  241 │  241 │\n",
      "├──────────────────────────────┼──────────┼──────────┼──────────┼──────────┼────────────┼──────┼───────┼──────┼──────┤\n",
      "│ kenter_ft_k_20_b_0.01_spot   │ 0.863832 │ 0.863832 │ 0.863832 │ 0.863832 │  2.39894   │ 1605 │ 14747 │  253 │  253 │\n",
      "├──────────────────────────────┼──────────┼──────────┼──────────┼──────────┼────────────┼──────┼───────┼──────┼──────┤\n",
      "│ kenter_wv_k_20_b_0.01_text   │ 0.895587 │ 0.895587 │ 0.895587 │ 0.895587 │  2.73378   │ 1664 │ 14806 │  194 │  194 │\n",
      "├──────────────────────────────┼──────────┼──────────┼──────────┼──────────┼────────────┼──────┼───────┼──────┼──────┤\n",
      "│ kenter_ft_k_20_b_0.01_text   │ 0.885361 │ 0.885361 │ 0.885361 │ 0.885361 │  2.7931    │ 1645 │ 14787 │  213 │  213 │\n",
      "├──────────────────────────────┼──────────┼──────────┼──────────┼──────────┼────────────┼──────┼───────┼──────┼──────┤\n",
      "│ kenter_wv_k_20_b_0.1_title   │ 0.744887 │ 0.744887 │ 0.744887 │ 0.744887 │  2.20066   │ 1384 │ 14526 │  474 │  474 │\n",
      "├──────────────────────────────┼──────────┼──────────┼──────────┼──────────┼────────────┼──────┼───────┼──────┼──────┤\n",
      "│ kenter_ft_k_20_b_0.1_title   │ 0.735199 │ 0.735199 │ 0.735199 │ 0.735199 │  2.22999   │ 1366 │ 14508 │  492 │  492 │\n",
      "├──────────────────────────────┼──────────┼──────────┼──────────┼──────────┼────────────┼──────┼───────┼──────┼──────┤\n",
      "│ kenter_wv_k_20_b_0.1_spot    │ 0.870525 │ 0.870525 │ 0.870759 │ 0.870291 │  2.4221    │ 1617 │ 14760 │  240 │  241 │\n",
      "├──────────────────────────────┼──────────┼──────────┼──────────┼──────────┼────────────┼──────┼───────┼──────┼──────┤\n",
      "│ kenter_ft_k_20_b_0.1_spot    │ 0.860065 │ 0.860065 │ 0.860065 │ 0.860065 │  2.45425   │ 1598 │ 14740 │  260 │  260 │\n",
      "├──────────────────────────────┼──────────┼──────────┼──────────┼──────────┼────────────┼──────┼───────┼──────┼──────┤\n",
      "│ kenter_wv_k_20_b_0.1_text    │ 0.895048 │ 0.895048 │ 0.895048 │ 0.895048 │  2.81481   │ 1663 │ 14805 │  195 │  195 │\n",
      "├──────────────────────────────┼──────────┼──────────┼──────────┼──────────┼────────────┼──────┼───────┼──────┼──────┤\n",
      "│ kenter_ft_k_20_b_0.1_text    │ 0.87944  │ 0.87944  │ 0.87944  │ 0.87944  │  2.87789   │ 1634 │ 14776 │  224 │  224 │\n",
      "├──────────────────────────────┼──────────┼──────────┼──────────┼──────────┼────────────┼──────┼───────┼──────┼──────┤\n",
      "│ kenter_wv_k_20_b_0.2_title   │ 0.738428 │ 0.738428 │ 0.738428 │ 0.738428 │  2.23711   │ 1372 │ 14514 │  486 │  486 │\n",
      "├──────────────────────────────┼──────────┼──────────┼──────────┼──────────┼────────────┼──────┼───────┼──────┼──────┤\n",
      "│ kenter_ft_k_20_b_0.2_title   │ 0.727126 │ 0.727126 │ 0.727126 │ 0.727126 │  2.26805   │ 1351 │ 14493 │  507 │  507 │\n",
      "├──────────────────────────────┼──────────┼──────────┼──────────┼──────────┼────────────┼──────┼───────┼──────┼──────┤\n",
      "│ kenter_wv_k_20_b_0.2_spot    │ 0.861679 │ 0.861679 │ 0.861679 │ 0.861679 │  2.4923    │ 1601 │ 14743 │  257 │  257 │\n",
      "├──────────────────────────────┼──────────┼──────────┼──────────┼──────────┼────────────┼──────┼───────┼──────┼──────┤\n",
      "│ kenter_ft_k_20_b_0.2_spot    │ 0.851991 │ 0.851991 │ 0.851991 │ 0.851991 │  2.51497   │ 1583 │ 14725 │  275 │  275 │\n",
      "├──────────────────────────────┼──────────┼──────────┼──────────┼──────────┼────────────┼──────┼───────┼──────┼──────┤\n",
      "│ kenter_wv_k_20_b_0.2_text    │ 0.8676   │ 0.8676   │ 0.8676   │ 0.8676   │  2.9043    │ 1612 │ 14754 │  246 │  246 │\n",
      "├──────────────────────────────┼──────────┼──────────┼──────────┼──────────┼────────────┼──────┼───────┼──────┼──────┤\n",
      "│ kenter_ft_k_20_b_0.2_text    │ 0.851453 │ 0.851453 │ 0.851453 │ 0.851453 │  2.96934   │ 1582 │ 14724 │  276 │  276 │\n",
      "├──────────────────────────────┼──────────┼──────────┼──────────┼──────────┼────────────┼──────┼───────┼──────┼──────┤\n",
      "│ kenter_wv_k_50_b_0_title     │ 0.751346 │ 0.751346 │ 0.751346 │ 0.751346 │  2.13933   │ 1396 │ 14538 │  462 │  462 │\n",
      "├──────────────────────────────┼──────────┼──────────┼──────────┼──────────┼────────────┼──────┼───────┼──────┼──────┤\n",
      "│ kenter_ft_k_50_b_0_title     │ 0.743811 │ 0.743811 │ 0.743811 │ 0.743811 │  2.17297   │ 1382 │ 14524 │  476 │  476 │\n",
      "├──────────────────────────────┼──────────┼──────────┼──────────┼──────────┼────────────┼──────┼───────┼──────┼──────┤\n",
      "│ kenter_wv_k_50_b_0_spot      │ 0.874058 │ 0.874058 │ 0.874058 │ 0.874058 │  2.35258   │ 1624 │ 14766 │  234 │  234 │\n",
      "├──────────────────────────────┼──────────┼──────────┼──────────┼──────────┼────────────┼──────┼───────┼──────┼──────┤\n",
      "│ kenter_ft_k_50_b_0_spot      │ 0.866523 │ 0.866523 │ 0.866523 │ 0.866523 │  2.37151   │ 1610 │ 14752 │  248 │  248 │\n",
      "├──────────────────────────────┼──────────┼──────────┼──────────┼──────────┼────────────┼──────┼───────┼──────┼──────┤\n",
      "│ kenter_wv_k_50_b_0_text      │ 0.899354 │ 0.899354 │ 0.899354 │ 0.899354 │  2.69836   │ 1671 │ 14813 │  187 │  187 │\n",
      "├──────────────────────────────┼──────────┼──────────┼──────────┼──────────┼────────────┼──────┼───────┼──────┼──────┤\n",
      "│ kenter_ft_k_50_b_0_text      │ 0.888052 │ 0.888052 │ 0.888052 │ 0.888052 │  2.75529   │ 1650 │ 14792 │  208 │  208 │\n",
      "├──────────────────────────────┼──────────┼──────────┼──────────┼──────────┼────────────┼──────┼───────┼──────┼──────┤\n",
      "│ kenter_wv_k_50_b_0.001_title │ 0.750807 │ 0.750807 │ 0.750807 │ 0.750807 │  2.13926   │ 1395 │ 14537 │  463 │  463 │\n",
      "├──────────────────────────────┼──────────┼──────────┼──────────┼──────────┼────────────┼──────┼───────┼──────┼──────┤\n",
      "│ kenter_ft_k_50_b_0.001_title │ 0.743811 │ 0.743811 │ 0.743811 │ 0.743811 │  2.17304   │ 1382 │ 14524 │  476 │  476 │\n",
      "├──────────────────────────────┼──────────┼──────────┼──────────┼──────────┼────────────┼──────┼───────┼──────┼──────┤\n",
      "│ kenter_wv_k_50_b_0.001_spot  │ 0.874058 │ 0.874058 │ 0.874058 │ 0.874058 │  2.35308   │ 1624 │ 14766 │  234 │  234 │\n",
      "├──────────────────────────────┼──────────┼──────────┼──────────┼──────────┼────────────┼──────┼───────┼──────┼──────┤\n",
      "│ kenter_ft_k_50_b_0.001_spot  │ 0.866523 │ 0.866523 │ 0.866523 │ 0.866523 │  2.37276   │ 1610 │ 14752 │  248 │  248 │\n",
      "├──────────────────────────────┼──────────┼──────────┼──────────┼──────────┼────────────┼──────┼───────┼──────┼──────┤\n",
      "│ kenter_wv_k_50_b_0.001_text  │ 0.899354 │ 0.899354 │ 0.899354 │ 0.899354 │  2.69894   │ 1671 │ 14813 │  187 │  187 │\n",
      "├──────────────────────────────┼──────────┼──────────┼──────────┼──────────┼────────────┼──────┼───────┼──────┼──────┤\n",
      "│ kenter_ft_k_50_b_0.001_text  │ 0.888052 │ 0.888052 │ 0.888052 │ 0.888052 │  2.7569    │ 1650 │ 14792 │  208 │  208 │\n",
      "├──────────────────────────────┼──────────┼──────────┼──────────┼──────────┼────────────┼──────┼───────┼──────┼──────┤\n",
      "│ kenter_wv_k_50_b_0.01_title  │ 0.752086 │ 0.752086 │ 0.752289 │ 0.751884 │  2.14232   │ 1397 │ 14540 │  460 │  461 │\n",
      "├──────────────────────────────┼──────────┼──────────┼──────────┼──────────┼────────────┼──────┼───────┼──────┼──────┤\n",
      "│ kenter_ft_k_50_b_0.01_title  │ 0.743811 │ 0.743811 │ 0.743811 │ 0.743811 │  2.17603   │ 1382 │ 14524 │  476 │  476 │\n",
      "├──────────────────────────────┼──────────┼──────────┼──────────┼──────────┼────────────┼──────┼───────┼──────┼──────┤\n",
      "│ kenter_wv_k_50_b_0.01_spot   │ 0.874596 │ 0.874596 │ 0.874596 │ 0.874596 │  2.35612   │ 1625 │ 14767 │  233 │  233 │\n",
      "├──────────────────────────────┼──────────┼──────────┼──────────┼──────────┼────────────┼──────┼───────┼──────┼──────┤\n",
      "│ kenter_ft_k_50_b_0.01_spot   │ 0.868138 │ 0.868138 │ 0.868138 │ 0.868138 │  2.37711   │ 1613 │ 14755 │  245 │  245 │\n",
      "├──────────────────────────────┼──────────┼──────────┼──────────┼──────────┼────────────┼──────┼───────┼──────┼──────┤\n",
      "│ kenter_wv_k_50_b_0.01_text   │ 0.899892 │ 0.899892 │ 0.899892 │ 0.899892 │  2.71255   │ 1672 │ 14814 │  186 │  186 │\n",
      "├──────────────────────────────┼──────────┼──────────┼──────────┼──────────┼────────────┼──────┼───────┼──────┼──────┤\n",
      "│ kenter_ft_k_50_b_0.01_text   │ 0.888052 │ 0.888052 │ 0.888052 │ 0.888052 │  2.76919   │ 1650 │ 14792 │  208 │  208 │\n",
      "├──────────────────────────────┼──────────┼──────────┼──────────┼──────────┼────────────┼──────┼───────┼──────┼──────┤\n",
      "│ kenter_wv_k_50_b_0.1_title   │ 0.750807 │ 0.750807 │ 0.750807 │ 0.750807 │  2.17308   │ 1395 │ 14537 │  463 │  463 │\n",
      "├──────────────────────────────┼──────────┼──────────┼──────────┼──────────┼────────────┼──────┼───────┼──────┼──────┤\n",
      "│ kenter_ft_k_50_b_0.1_title   │ 0.741119 │ 0.741119 │ 0.741119 │ 0.741119 │  2.19905   │ 1377 │ 14519 │  481 │  481 │\n",
      "├──────────────────────────────┼──────────┼──────────┼──────────┼──────────┼────────────┼──────┼───────┼──────┼──────┤\n",
      "│ kenter_wv_k_50_b_0.1_spot    │ 0.874832 │ 0.874832 │ 0.875067 │ 0.874596 │  2.39704   │ 1625 │ 14768 │  232 │  233 │\n",
      "├──────────────────────────────┼──────────┼──────────┼──────────┼──────────┼────────────┼──────┼───────┼──────┼──────┤\n",
      "│ kenter_ft_k_50_b_0.1_spot    │ 0.864909 │ 0.864909 │ 0.864909 │ 0.864909 │  2.42912   │ 1607 │ 14749 │  251 │  251 │\n",
      "├──────────────────────────────┼──────────┼──────────┼──────────┼──────────┼────────────┼──────┼───────┼──────┼──────┤\n",
      "│ kenter_wv_k_50_b_0.1_text    │ 0.898816 │ 0.898816 │ 0.898816 │ 0.898816 │  2.79165   │ 1670 │ 14812 │  188 │  188 │\n",
      "├──────────────────────────────┼──────────┼──────────┼──────────┼──────────┼────────────┼──────┼───────┼──────┼──────┤\n",
      "│ kenter_ft_k_50_b_0.1_text    │ 0.884822 │ 0.884822 │ 0.884822 │ 0.884822 │  2.85345   │ 1644 │ 14786 │  214 │  214 │\n",
      "├──────────────────────────────┼──────────┼──────────┼──────────┼──────────┼────────────┼──────┼───────┼──────┼──────┤\n",
      "│ kenter_wv_k_50_b_0.2_title   │ 0.744349 │ 0.744349 │ 0.744349 │ 0.744349 │  2.21341   │ 1383 │ 14525 │  475 │  475 │\n",
      "├──────────────────────────────┼──────────┼──────────┼──────────┼──────────┼────────────┼──────┼───────┼──────┼──────┤\n",
      "│ kenter_ft_k_50_b_0.2_title   │ 0.735199 │ 0.735199 │ 0.735199 │ 0.735199 │  2.23818   │ 1366 │ 14508 │  492 │  492 │\n",
      "├──────────────────────────────┼──────────┼──────────┼──────────┼──────────┼────────────┼──────┼───────┼──────┼──────┤\n",
      "│ kenter_wv_k_50_b_0.2_spot    │ 0.868138 │ 0.868138 │ 0.868138 │ 0.868138 │  2.46728   │ 1613 │ 14755 │  245 │  245 │\n",
      "├──────────────────────────────┼──────────┼──────────┼──────────┼──────────┼────────────┼──────┼───────┼──────┼──────┤\n",
      "│ kenter_ft_k_50_b_0.2_spot    │ 0.855759 │ 0.855759 │ 0.855759 │ 0.855759 │  2.49154   │ 1590 │ 14732 │  268 │  268 │\n",
      "├──────────────────────────────┼──────────┼──────────┼──────────┼──────────┼────────────┼──────┼───────┼──────┼──────┤\n",
      "│ kenter_wv_k_50_b_0.2_text    │ 0.870829 │ 0.870829 │ 0.870829 │ 0.870829 │  2.88378   │ 1618 │ 14760 │  240 │  240 │\n",
      "├──────────────────────────────┼──────────┼──────────┼──────────┼──────────┼────────────┼──────┼───────┼──────┼──────┤\n",
      "│ kenter_ft_k_50_b_0.2_text    │ 0.857374 │ 0.857374 │ 0.857374 │ 0.857374 │  2.94502   │ 1593 │ 14735 │  265 │  265 │\n",
      "├──────────────────────────────┼──────────┼──────────┼──────────┼──────────┼────────────┼──────┼───────┼──────┼──────┤\n",
      "│ kenter_wv_k_50_b_0.001_all   │ 0.941335 │ 0.941335 │ 0.941335 │ 0.941335 │ -0.0244565 │ 1749 │ 14891 │  109 │  109 │\n",
      "├──────────────────────────────┼──────────┼──────────┼──────────┼──────────┼────────────┼──────┼───────┼──────┼──────┤\n",
      "│ kenter_ft_k_50_b_0.001_all   │ 0.933262 │ 0.933262 │ 0.933262 │ 0.933262 │ -0.0199942 │ 1734 │ 14876 │  124 │  124 │\n",
      "╘══════════════════════════════╧══════════╧══════════╧══════════╧══════════╧════════════╧══════╧═══════╧══════╧══════╛\n"
     ]
    }
   ],
   "source": [
    "print(tabulate_res(results))"
   ]
  },
  {
   "cell_type": "code",
   "execution_count": 165,
   "metadata": {
    "ExecuteTime": {
     "end_time": "2019-03-07T11:41:16.797237Z",
     "start_time": "2019-03-07T11:41:16.792533Z"
    }
   },
   "outputs": [
    {
     "data": {
      "text/plain": [
       "['kenter_wv_k_50_b_0.001', 'kenter_ft_k_50_b_0.001']"
      ]
     },
     "execution_count": 165,
     "metadata": {},
     "output_type": "execute_result"
    }
   ],
   "source": [
    "methods2"
   ]
  },
  {
   "cell_type": "code",
   "execution_count": 166,
   "metadata": {
    "ExecuteTime": {
     "end_time": "2019-03-07T11:41:22.351752Z",
     "start_time": "2019-03-07T11:41:22.346419Z"
    }
   },
   "outputs": [
    {
     "data": {
      "text/plain": [
       "['kenter_wv_k_50_b_0.001_title',\n",
       " 'kenter_wv_k_50_b_0.001_spot',\n",
       " 'kenter_wv_k_50_b_0.001_text',\n",
       " 'kenter_ft_k_50_b_0.001_title',\n",
       " 'kenter_ft_k_50_b_0.001_spot',\n",
       " 'kenter_ft_k_50_b_0.001_text']"
      ]
     },
     "execution_count": 166,
     "metadata": {},
     "output_type": "execute_result"
    }
   ],
   "source": [
    "methods_cross_2"
   ]
  },
  {
   "cell_type": "code",
   "execution_count": 167,
   "metadata": {
    "ExecuteTime": {
     "end_time": "2019-03-07T11:54:28.884046Z",
     "start_time": "2019-03-07T11:54:28.854529Z"
    }
   },
   "outputs": [],
   "source": [
    "results_final = {}\n",
    "for method in [met + '_' + field for met in methods2 for field in fields + ['all']]:\n",
    "    results_final[method] = find_eacc(df_comparisons.label.values, df_comparisons[method].values) "
   ]
  },
  {
   "cell_type": "code",
   "execution_count": 168,
   "metadata": {
    "ExecuteTime": {
     "end_time": "2019-03-07T11:54:38.955069Z",
     "start_time": "2019-03-07T11:54:38.941226Z"
    }
   },
   "outputs": [
    {
     "name": "stdout",
     "output_type": "stream",
     "text": [
      "╒══════════════════════════════╤══════════╤══════════╤══════════╤══════════╤════════════╤══════╤═══════╤══════╤══════╕\n",
      "│                              │    E-ACC │       F1 │     PREC │   RECALL │        THR │   TP │    TN │   FP │   FN │\n",
      "╞══════════════════════════════╪══════════╪══════════╪══════════╪══════════╪════════════╪══════╪═══════╪══════╪══════╡\n",
      "│ kenter_wv_k_50_b_0.001_title │ 0.750807 │ 0.750807 │ 0.750807 │ 0.750807 │  2.13926   │ 1395 │ 14537 │  463 │  463 │\n",
      "├──────────────────────────────┼──────────┼──────────┼──────────┼──────────┼────────────┼──────┼───────┼──────┼──────┤\n",
      "│ kenter_wv_k_50_b_0.001_spot  │ 0.874058 │ 0.874058 │ 0.874058 │ 0.874058 │  2.35308   │ 1624 │ 14766 │  234 │  234 │\n",
      "├──────────────────────────────┼──────────┼──────────┼──────────┼──────────┼────────────┼──────┼───────┼──────┼──────┤\n",
      "│ kenter_wv_k_50_b_0.001_text  │ 0.899354 │ 0.899354 │ 0.899354 │ 0.899354 │  2.69894   │ 1671 │ 14813 │  187 │  187 │\n",
      "├──────────────────────────────┼──────────┼──────────┼──────────┼──────────┼────────────┼──────┼───────┼──────┼──────┤\n",
      "│ kenter_wv_k_50_b_0.001_all   │ 0.941335 │ 0.941335 │ 0.941335 │ 0.941335 │ -0.0244565 │ 1749 │ 14891 │  109 │  109 │\n",
      "├──────────────────────────────┼──────────┼──────────┼──────────┼──────────┼────────────┼──────┼───────┼──────┼──────┤\n",
      "│ kenter_ft_k_50_b_0.001_title │ 0.743811 │ 0.743811 │ 0.743811 │ 0.743811 │  2.17304   │ 1382 │ 14524 │  476 │  476 │\n",
      "├──────────────────────────────┼──────────┼──────────┼──────────┼──────────┼────────────┼──────┼───────┼──────┼──────┤\n",
      "│ kenter_ft_k_50_b_0.001_spot  │ 0.866523 │ 0.866523 │ 0.866523 │ 0.866523 │  2.37276   │ 1610 │ 14752 │  248 │  248 │\n",
      "├──────────────────────────────┼──────────┼──────────┼──────────┼──────────┼────────────┼──────┼───────┼──────┼──────┤\n",
      "│ kenter_ft_k_50_b_0.001_text  │ 0.888052 │ 0.888052 │ 0.888052 │ 0.888052 │  2.7569    │ 1650 │ 14792 │  208 │  208 │\n",
      "├──────────────────────────────┼──────────┼──────────┼──────────┼──────────┼────────────┼──────┼───────┼──────┼──────┤\n",
      "│ kenter_ft_k_50_b_0.001_all   │ 0.933262 │ 0.933262 │ 0.933262 │ 0.933262 │ -0.0199942 │ 1734 │ 14876 │  124 │  124 │\n",
      "╘══════════════════════════════╧══════════╧══════════╧══════════╧══════════╧════════════╧══════╧═══════╧══════╧══════╛\n"
     ]
    }
   ],
   "source": [
    "print(tabulate_res(results_final))"
   ]
  },
  {
   "cell_type": "code",
   "execution_count": null,
   "metadata": {},
   "outputs": [],
   "source": [
    "methods2 = [met+'_'+optname for met in ['kenter_wv','kenter_ft']]\n",
    "methods_cross_2 = [met + '_' + field for met in methods2 for field in fields]\n"
   ]
  },
  {
   "cell_type": "code",
   "execution_count": 171,
   "metadata": {
    "ExecuteTime": {
     "end_time": "2019-03-07T12:10:03.448334Z",
     "start_time": "2019-03-07T12:10:03.439256Z"
    }
   },
   "outputs": [
    {
     "data": {
      "text/plain": [
       "['kenter_wv_k_50_b_0.001', 'kenter_ft_k_50_b_0.001']"
      ]
     },
     "execution_count": 171,
     "metadata": {},
     "output_type": "execute_result"
    }
   ],
   "source": [
    "methods2"
   ]
  },
  {
   "cell_type": "code",
   "execution_count": 172,
   "metadata": {
    "ExecuteTime": {
     "end_time": "2019-03-07T12:11:55.853641Z",
     "start_time": "2019-03-07T12:11:55.843432Z"
    }
   },
   "outputs": [],
   "source": [
    "met2print = {}\n",
    "for met in ['kenter_wv', 'kenter_ft']:\n",
    "    met2 = met+'_'+optname\n",
    "    for field in fields + ['all']:\n",
    "        met2print[met2 + '_' + field] = met + '_' + field"
   ]
  },
  {
   "cell_type": "code",
   "execution_count": 173,
   "metadata": {
    "ExecuteTime": {
     "end_time": "2019-03-07T12:11:57.994866Z",
     "start_time": "2019-03-07T12:11:57.991068Z"
    }
   },
   "outputs": [
    {
     "data": {
      "text/plain": [
       "{'kenter_wv_k_50_b_0.001_title': 'kenter_wv_title',\n",
       " 'kenter_wv_k_50_b_0.001_spot': 'kenter_wv_spot',\n",
       " 'kenter_wv_k_50_b_0.001_text': 'kenter_wv_text',\n",
       " 'kenter_wv_k_50_b_0.001_all': 'kenter_wv_all',\n",
       " 'kenter_ft_k_50_b_0.001_title': 'kenter_ft_title',\n",
       " 'kenter_ft_k_50_b_0.001_spot': 'kenter_ft_spot',\n",
       " 'kenter_ft_k_50_b_0.001_text': 'kenter_ft_text',\n",
       " 'kenter_ft_k_50_b_0.001_all': 'kenter_ft_all'}"
      ]
     },
     "execution_count": 173,
     "metadata": {},
     "output_type": "execute_result"
    }
   ],
   "source": [
    "met2print"
   ]
  },
  {
   "cell_type": "code",
   "execution_count": 174,
   "metadata": {
    "ExecuteTime": {
     "end_time": "2019-03-07T12:12:30.564317Z",
     "start_time": "2019-03-07T12:12:30.553838Z"
    }
   },
   "outputs": [],
   "source": [
    "results_final2 = {}\n",
    "for key, val in results_final.items():\n",
    "    results_final2[met2print[key]] = val"
   ]
  },
  {
   "cell_type": "code",
   "execution_count": 176,
   "metadata": {
    "ExecuteTime": {
     "end_time": "2019-03-07T12:12:42.882140Z",
     "start_time": "2019-03-07T12:12:42.873815Z"
    }
   },
   "outputs": [
    {
     "name": "stdout",
     "output_type": "stream",
     "text": [
      "╒═════════════════╤══════════╤══════════╤══════════╤══════════╤════════════╤══════╤═══════╤══════╤══════╕\n",
      "│                 │    E-ACC │       F1 │     PREC │   RECALL │        THR │   TP │    TN │   FP │   FN │\n",
      "╞═════════════════╪══════════╪══════════╪══════════╪══════════╪════════════╪══════╪═══════╪══════╪══════╡\n",
      "│ kenter_wv_title │ 0.750807 │ 0.750807 │ 0.750807 │ 0.750807 │  2.13926   │ 1395 │ 14537 │  463 │  463 │\n",
      "├─────────────────┼──────────┼──────────┼──────────┼──────────┼────────────┼──────┼───────┼──────┼──────┤\n",
      "│ kenter_wv_spot  │ 0.874058 │ 0.874058 │ 0.874058 │ 0.874058 │  2.35308   │ 1624 │ 14766 │  234 │  234 │\n",
      "├─────────────────┼──────────┼──────────┼──────────┼──────────┼────────────┼──────┼───────┼──────┼──────┤\n",
      "│ kenter_wv_text  │ 0.899354 │ 0.899354 │ 0.899354 │ 0.899354 │  2.69894   │ 1671 │ 14813 │  187 │  187 │\n",
      "├─────────────────┼──────────┼──────────┼──────────┼──────────┼────────────┼──────┼───────┼──────┼──────┤\n",
      "│ kenter_wv_all   │ 0.941335 │ 0.941335 │ 0.941335 │ 0.941335 │ -0.0244565 │ 1749 │ 14891 │  109 │  109 │\n",
      "├─────────────────┼──────────┼──────────┼──────────┼──────────┼────────────┼──────┼───────┼──────┼──────┤\n",
      "│ kenter_ft_title │ 0.743811 │ 0.743811 │ 0.743811 │ 0.743811 │  2.17304   │ 1382 │ 14524 │  476 │  476 │\n",
      "├─────────────────┼──────────┼──────────┼──────────┼──────────┼────────────┼──────┼───────┼──────┼──────┤\n",
      "│ kenter_ft_spot  │ 0.866523 │ 0.866523 │ 0.866523 │ 0.866523 │  2.37276   │ 1610 │ 14752 │  248 │  248 │\n",
      "├─────────────────┼──────────┼──────────┼──────────┼──────────┼────────────┼──────┼───────┼──────┼──────┤\n",
      "│ kenter_ft_text  │ 0.888052 │ 0.888052 │ 0.888052 │ 0.888052 │  2.7569    │ 1650 │ 14792 │  208 │  208 │\n",
      "├─────────────────┼──────────┼──────────┼──────────┼──────────┼────────────┼──────┼───────┼──────┼──────┤\n",
      "│ kenter_ft_all   │ 0.933262 │ 0.933262 │ 0.933262 │ 0.933262 │ -0.0199942 │ 1734 │ 14876 │  124 │  124 │\n",
      "╘═════════════════╧══════════╧══════════╧══════════╧══════════╧════════════╧══════╧═══════╧══════╧══════╛\n"
     ]
    }
   ],
   "source": [
    "print(tabulate_res(results_final2))"
   ]
  },
  {
   "cell_type": "code",
   "execution_count": 177,
   "metadata": {
    "ExecuteTime": {
     "end_time": "2019-03-07T12:12:50.861376Z",
     "start_time": "2019-03-07T12:12:50.844313Z"
    }
   },
   "outputs": [],
   "source": [
    "with open('unsupervised_results_lemma_kenter_final.pickle', 'wb') as f:\n",
    "    pickle.dump(results_final2, f)"
   ]
  },
  {
   "cell_type": "code",
   "execution_count": null,
   "metadata": {},
   "outputs": [],
   "source": []
  },
  {
   "cell_type": "code",
   "execution_count": null,
   "metadata": {},
   "outputs": [],
   "source": [
    "\n",
    "\n"
   ]
  },
  {
   "cell_type": "code",
   "execution_count": 96,
   "metadata": {
    "ExecuteTime": {
     "end_time": "2019-03-07T11:00:15.264516Z",
     "start_time": "2019-03-07T11:00:15.255461Z"
    }
   },
   "outputs": [
    {
     "data": {
      "text/plain": [
       "dict_keys(['kenter_wv_title', 'kenter_wv_spot', 'kenter_wv_text', 'kenter_ft_title', 'kenter_ft_spot', 'kenter_ft_text', 'idf_wv_title', 'idf_wv_spot', 'idf_wv_text', 'idf_ft_title', 'idf_ft_spot', 'idf_ft_text', 'kenter_wv_k_0.8_b_0.2_title', 'kenter_wv_k_0.8_b_0.2_spot', 'kenter_wv_k_0.8_b_0.2_text', 'kenter_wv_k_0.8_b_0.5_title', 'kenter_wv_k_0.8_b_0.5_spot', 'kenter_wv_k_0.8_b_0.5_text', 'kenter_wv_k_0.8_b_0.75_title', 'kenter_wv_k_0.8_b_0.75_spot', 'kenter_wv_k_0.8_b_0.75_text', 'kenter_wv_k_0.8_b_0.9_title', 'kenter_wv_k_0.8_b_0.9_spot', 'kenter_wv_k_0.8_b_0.9_text', 'kenter_wv_k_0.8_b_1_title', 'kenter_wv_k_0.8_b_1_spot', 'kenter_wv_k_0.8_b_1_text', 'kenter_wv_k_1_b_0.2_title', 'kenter_wv_k_1_b_0.2_spot', 'kenter_wv_k_1_b_0.2_text', 'kenter_wv_k_1_b_0.5_title', 'kenter_wv_k_1_b_0.5_spot', 'kenter_wv_k_1_b_0.5_text', 'kenter_wv_k_1_b_0.75_title', 'kenter_wv_k_1_b_0.75_spot', 'kenter_wv_k_1_b_0.75_text', 'kenter_wv_k_1_b_0.9_title', 'kenter_wv_k_1_b_0.9_spot', 'kenter_wv_k_1_b_0.9_text', 'kenter_wv_k_1_b_1_title', 'kenter_wv_k_1_b_1_spot', 'kenter_wv_k_1_b_1_text', 'kenter_wv_k_1.2_b_0.2_title', 'kenter_wv_k_1.2_b_0.2_spot', 'kenter_wv_k_1.2_b_0.2_text', 'kenter_wv_k_1.2_b_0.5_title', 'kenter_wv_k_1.2_b_0.5_spot', 'kenter_wv_k_1.2_b_0.5_text', 'kenter_wv_k_1.2_b_0.75_title', 'kenter_wv_k_1.2_b_0.75_spot', 'kenter_wv_k_1.2_b_0.75_text', 'kenter_wv_k_1.2_b_0.9_title', 'kenter_wv_k_1.2_b_0.9_spot', 'kenter_wv_k_1.2_b_0.9_text', 'kenter_wv_k_1.2_b_1_title', 'kenter_wv_k_1.2_b_1_spot', 'kenter_wv_k_1.2_b_1_text', 'kenter_wv_k_1.5_b_0.2_title', 'kenter_wv_k_1.5_b_0.2_spot', 'kenter_wv_k_1.5_b_0.2_text', 'kenter_wv_k_1.5_b_0.5_title', 'kenter_wv_k_1.5_b_0.5_spot', 'kenter_wv_k_1.5_b_0.5_text', 'kenter_wv_k_1.5_b_0.75_title', 'kenter_wv_k_1.5_b_0.75_spot', 'kenter_wv_k_1.5_b_0.75_text', 'kenter_wv_k_1.5_b_0.9_title', 'kenter_wv_k_1.5_b_0.9_spot', 'kenter_wv_k_1.5_b_0.9_text', 'kenter_wv_k_1.5_b_1_title', 'kenter_wv_k_1.5_b_1_spot', 'kenter_wv_k_1.5_b_1_text', 'kenter_wv_k_2_b_0.2_title', 'kenter_wv_k_2_b_0.2_spot', 'kenter_wv_k_2_b_0.2_text', 'kenter_wv_k_2_b_0.5_title', 'kenter_wv_k_2_b_0.5_spot', 'kenter_wv_k_2_b_0.5_text', 'kenter_wv_k_2_b_0.75_title', 'kenter_wv_k_2_b_0.75_spot', 'kenter_wv_k_2_b_0.75_text', 'kenter_wv_k_2_b_0.9_title', 'kenter_wv_k_2_b_0.9_spot', 'kenter_wv_k_2_b_0.9_text', 'kenter_wv_k_2_b_1_title', 'kenter_wv_k_2_b_1_spot', 'kenter_wv_k_2_b_1_text', 'kenter_wv_k_2.5_b_0.2_title', 'kenter_wv_k_2.5_b_0.2_spot', 'kenter_wv_k_2.5_b_0.2_text', 'kenter_wv_k_2.5_b_0.5_title', 'kenter_wv_k_2.5_b_0.5_spot', 'kenter_wv_k_2.5_b_0.5_text', 'kenter_wv_k_2.5_b_0.75_title', 'kenter_wv_k_2.5_b_0.75_spot', 'kenter_wv_k_2.5_b_0.75_text', 'kenter_wv_k_2.5_b_0.9_title', 'kenter_wv_k_2.5_b_0.9_spot', 'kenter_wv_k_2.5_b_0.9_text', 'kenter_wv_k_2.5_b_1_title', 'kenter_wv_k_2.5_b_1_spot', 'kenter_wv_k_2.5_b_1_text', 'kenter_wv_k_5_b_0.2_title', 'kenter_wv_k_5_b_0.2_spot', 'kenter_wv_k_5_b_0.2_text', 'kenter_wv_k_5_b_0.5_title', 'kenter_wv_k_5_b_0.5_spot', 'kenter_wv_k_5_b_0.5_text', 'kenter_wv_k_5_b_0.75_title', 'kenter_wv_k_5_b_0.75_spot', 'kenter_wv_k_5_b_0.75_text', 'kenter_wv_k_5_b_0.9_title', 'kenter_wv_k_5_b_0.9_spot', 'kenter_wv_k_5_b_0.9_text', 'kenter_wv_k_5_b_1_title', 'kenter_wv_k_5_b_1_spot', 'kenter_wv_k_5_b_1_text'])"
      ]
     },
     "execution_count": 96,
     "metadata": {},
     "output_type": "execute_result"
    }
   ],
   "source": [
    "results.keys()"
   ]
  },
  {
   "cell_type": "code",
   "execution_count": null,
   "metadata": {},
   "outputs": [],
   "source": []
  },
  {
   "cell_type": "code",
   "execution_count": null,
   "metadata": {},
   "outputs": [],
   "source": []
  },
  {
   "cell_type": "code",
   "execution_count": null,
   "metadata": {},
   "outputs": [],
   "source": []
  },
  {
   "cell_type": "code",
   "execution_count": null,
   "metadata": {},
   "outputs": [],
   "source": []
  },
  {
   "cell_type": "code",
   "execution_count": null,
   "metadata": {},
   "outputs": [],
   "source": []
  },
  {
   "cell_type": "code",
   "execution_count": null,
   "metadata": {},
   "outputs": [],
   "source": []
  }
 ],
 "metadata": {
  "kernelspec": {
   "display_name": "Python 3",
   "language": "python",
   "name": "python3"
  },
  "language_info": {
   "codemirror_mode": {
    "name": "ipython",
    "version": 3
   },
   "file_extension": ".py",
   "mimetype": "text/x-python",
   "name": "python",
   "nbconvert_exporter": "python",
   "pygments_lexer": "ipython3",
   "version": "3.6.8"
  }
 },
 "nbformat": 4,
 "nbformat_minor": 2
}
