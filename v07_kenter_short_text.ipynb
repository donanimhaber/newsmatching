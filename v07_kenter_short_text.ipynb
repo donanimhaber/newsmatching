{
 "cells": [
  {
   "cell_type": "code",
   "execution_count": 2,
   "metadata": {
    "ExecuteTime": {
     "end_time": "2019-03-05T12:11:26.232562Z",
     "start_time": "2019-03-05T12:11:26.167072Z"
    }
   },
   "outputs": [],
   "source": [
    "from pymongo import MongoClient\n",
    "import pandas as pd\n",
    "import numpy as np\n",
    "from datetime import datetime as dt\n",
    "import re\n",
    "from matplotlib import pyplot as plt\n",
    "import matplotlib\n",
    "import fastText\n",
    "import html\n",
    "import string\n",
    "import nltk\n",
    "from multiprocessing import Process\n",
    "import multiprocessing\n",
    "import time\n",
    "import sys\n",
    "from importlib import reload\n",
    "import redis\n",
    "# from urllib import request\n",
    "from urllib.parse import urlparse\n",
    "import requests as req\n",
    "# from lxml import html\n",
    "import logging\n",
    "# from scrapy.http import Request\n",
    "import requests\n",
    "import json\n",
    "import requests\n",
    "from scrapy.http import TextResponse\n",
    "from bs4 import BeautifulSoup\n",
    "import re\n",
    "from collections import Counter\n",
    "from sklearn.metrics import precision_recall_curve\n",
    "from tabulate import tabulate\n",
    "from sklearn.tree import DecisionTreeClassifier\n",
    "from sklearn.neural_network import MLPClassifier\n",
    "from sklearn.ensemble import RandomForestClassifier\n",
    "from sklearn.svm import SVC\n",
    "from gensim.models import Word2Vec\n",
    "from collections import defaultdict\n",
    "\n",
    "import pandas as pd\n",
    "import math\n",
    "import mpld3\n",
    "import pickle\n",
    "\n",
    "mpld3.enable_notebook()\n",
    "%matplotlib inline"
   ]
  },
  {
   "cell_type": "code",
   "execution_count": 3,
   "metadata": {
    "ExecuteTime": {
     "end_time": "2019-03-05T12:11:27.351149Z",
     "start_time": "2019-03-05T12:11:26.927445Z"
    }
   },
   "outputs": [],
   "source": [
    "df_comparisons = pd.read_csv('df_comparisons_unsup_lemma.csv', index_col=0)\n",
    "df_news = pd.read_csv('df_news_unsup_lemma.csv',  parse_dates=['Datetime', 'Date'], index_col=0)"
   ]
  },
  {
   "cell_type": "code",
   "execution_count": 4,
   "metadata": {
    "ExecuteTime": {
     "end_time": "2019-03-05T12:11:27.452158Z",
     "start_time": "2019-03-05T12:11:27.449387Z"
    }
   },
   "outputs": [],
   "source": [
    "fields = ['title', 'spot','text']"
   ]
  },
  {
   "cell_type": "code",
   "execution_count": 5,
   "metadata": {
    "ExecuteTime": {
     "end_time": "2019-03-05T12:11:28.791475Z",
     "start_time": "2019-03-05T12:11:28.709538Z"
    }
   },
   "outputs": [],
   "source": [
    "for field in fields:\n",
    "    df_news[field+'_pp_str'].fillna('', inplace=True)\n",
    "    df_news[field+'_pp'] = df_news[field+'_pp_str'].apply(lambda x: x.split())"
   ]
  },
  {
   "cell_type": "code",
   "execution_count": 6,
   "metadata": {
    "ExecuteTime": {
     "end_time": "2019-03-05T12:11:34.092305Z",
     "start_time": "2019-03-05T12:11:29.091653Z"
    }
   },
   "outputs": [],
   "source": [
    "ftmodel = fastText.load_model('../../data/model/downloads/haber-P1_S1_L1-100E.bin')\n",
    "model_w2v = Word2Vec.load('../../data/model/downloads/reaction.all.1544173485.punct_True.stopwords_True.lemmatized_True.w2v_100V_5E_1547415130.bin')"
   ]
  },
  {
   "cell_type": "code",
   "execution_count": null,
   "metadata": {},
   "outputs": [],
   "source": []
  },
  {
   "cell_type": "code",
   "execution_count": 7,
   "metadata": {
    "ExecuteTime": {
     "end_time": "2019-03-05T12:15:40.093257Z",
     "start_time": "2019-03-05T12:15:40.076533Z"
    }
   },
   "outputs": [],
   "source": [
    "class IdfCounter:\n",
    "    \n",
    "    def __init__(self):\n",
    "        \n",
    "        self.counts = Counter()\n",
    "        self.idfs = {}\n",
    "        self.N = 0\n",
    "        \n",
    "    def add_doc(self, docnow):\n",
    "        \n",
    "        self.N += 1\n",
    "        if self.N % 100_000 == 0:\n",
    "            print(\"Processed %i documents\" % self.N)\n",
    "            \n",
    "        docnow = set(docnow)\n",
    "        self.counts.update(docnow)\n",
    "                \n",
    "    def set_idfs(self):\n",
    "        \n",
    "        self.idfs = {}\n",
    "        for word, count in self.counts.items():\n",
    "            self.idfs[word] = np.log((self.N - count + 0.5) / (count + 0.5))"
   ]
  },
  {
   "cell_type": "code",
   "execution_count": 8,
   "metadata": {
    "ExecuteTime": {
     "end_time": "2019-03-05T12:15:40.490587Z",
     "start_time": "2019-03-05T12:15:40.486998Z"
    }
   },
   "outputs": [],
   "source": [
    "idf_counter = IdfCounter()"
   ]
  },
  {
   "cell_type": "code",
   "execution_count": 9,
   "metadata": {
    "ExecuteTime": {
     "end_time": "2019-03-05T12:19:29.671484Z",
     "start_time": "2019-03-05T12:15:41.132297Z"
    },
    "scrolled": true
   },
   "outputs": [
    {
     "name": "stdout",
     "output_type": "stream",
     "text": [
      "Processed 100000 documents\n",
      "Processed 200000 documents\n",
      "Processed 300000 documents\n",
      "Processed 400000 documents\n",
      "Processed 500000 documents\n",
      "Processed 600000 documents\n",
      "Processed 700000 documents\n",
      "Processed 800000 documents\n",
      "Processed 900000 documents\n",
      "Processed 1000000 documents\n",
      "Processed 1100000 documents\n",
      "Processed 1200000 documents\n",
      "Processed 1300000 documents\n",
      "Processed 1400000 documents\n",
      "Processed 1500000 documents\n",
      "Processed 1600000 documents\n",
      "Processed 1700000 documents\n",
      "Processed 1800000 documents\n",
      "Processed 1900000 documents\n",
      "Processed 2000000 documents\n",
      "Processed 2100000 documents\n",
      "Processed 2200000 documents\n",
      "Processed 2300000 documents\n",
      "Processed 2400000 documents\n",
      "Processed 2500000 documents\n",
      "Processed 2600000 documents\n",
      "Processed 2700000 documents\n",
      "Processed 2800000 documents\n",
      "Processed 2900000 documents\n",
      "Processed 3000000 documents\n",
      "Processed 3100000 documents\n",
      "Processed 3200000 documents\n",
      "Processed 3300000 documents\n",
      "Processed 3400000 documents\n",
      "Processed 3500000 documents\n",
      "Processed 3600000 documents\n",
      "Processed 3700000 documents\n"
     ]
    }
   ],
   "source": [
    "with open('../../data/haber-P1_S1_L1.txt', 'r') as f:\n",
    "    for line in f:\n",
    "        words = line.strip().split()\n",
    "        idf_counter.add_doc(words)"
   ]
  },
  {
   "cell_type": "code",
   "execution_count": 10,
   "metadata": {
    "ExecuteTime": {
     "end_time": "2019-03-05T12:19:33.673047Z",
     "start_time": "2019-03-05T12:19:29.673390Z"
    }
   },
   "outputs": [],
   "source": [
    "idf_counter.set_idfs()"
   ]
  },
  {
   "cell_type": "code",
   "execution_count": 11,
   "metadata": {
    "ExecuteTime": {
     "end_time": "2019-03-05T12:19:37.344636Z",
     "start_time": "2019-03-05T12:19:37.339425Z"
    }
   },
   "outputs": [
    {
     "data": {
      "text/plain": [
       "3741375"
      ]
     },
     "execution_count": 11,
     "metadata": {},
     "output_type": "execute_result"
    }
   ],
   "source": [
    "idf_counter.N"
   ]
  },
  {
   "cell_type": "code",
   "execution_count": 12,
   "metadata": {
    "ExecuteTime": {
     "end_time": "2019-03-05T12:19:37.610619Z",
     "start_time": "2019-03-05T12:19:37.603019Z"
    }
   },
   "outputs": [
    {
     "data": {
      "text/plain": [
       "3113574"
      ]
     },
     "execution_count": 12,
     "metadata": {},
     "output_type": "execute_result"
    }
   ],
   "source": [
    "len(idf_counter.idfs)"
   ]
  },
  {
   "cell_type": "code",
   "execution_count": 13,
   "metadata": {
    "ExecuteTime": {
     "end_time": "2019-03-05T12:19:38.529664Z",
     "start_time": "2019-03-05T12:19:37.974010Z"
    }
   },
   "outputs": [],
   "source": [
    "idfs_values = np.array(list(idf_counter.idfs.values()))\n",
    "max_idf = np.max(idfs_values)\n",
    "idf_dict = defaultdict(lambda: max_idf, idf_counter.idfs)"
   ]
  },
  {
   "cell_type": "code",
   "execution_count": 14,
   "metadata": {
    "ExecuteTime": {
     "end_time": "2019-03-05T12:19:40.740837Z",
     "start_time": "2019-03-05T12:19:40.730211Z"
    }
   },
   "outputs": [],
   "source": [
    "def get_idf_w2v(words):\n",
    "    idfs = []\n",
    "    for word in words:\n",
    "        if word in model_w2v.wv.vocab:\n",
    "            idfs.append(idf_dict[word])\n",
    "            \n",
    "    if len(idfs) == 0:\n",
    "        return np.array([1.]).reshape(-1,1)\n",
    "    else:\n",
    "        return np.array(idfs).reshape(-1,1)"
   ]
  },
  {
   "cell_type": "code",
   "execution_count": 15,
   "metadata": {
    "ExecuteTime": {
     "end_time": "2019-03-05T12:19:41.582755Z",
     "start_time": "2019-03-05T12:19:41.161406Z"
    }
   },
   "outputs": [],
   "source": [
    "for field in fields:\n",
    "    df_news[field+'_idfs_ft'] = df_news[field+'_pp'].apply(lambda x: np.array([idf_dict[word] for word in x]).reshape(-1,1))\n",
    "    df_news[field+'_idfs_wv'] = df_news[field+'_pp'].apply(get_idf_w2v)"
   ]
  },
  {
   "cell_type": "code",
   "execution_count": null,
   "metadata": {},
   "outputs": [],
   "source": []
  },
  {
   "cell_type": "code",
   "execution_count": 16,
   "metadata": {
    "ExecuteTime": {
     "end_time": "2019-03-05T12:19:48.421296Z",
     "start_time": "2019-03-05T12:19:48.415377Z"
    }
   },
   "outputs": [],
   "source": [
    "methods = ['kenter_wv', 'kenter_ft', 'idf_wv', 'idf_ft']"
   ]
  },
  {
   "cell_type": "code",
   "execution_count": 17,
   "metadata": {
    "ExecuteTime": {
     "end_time": "2019-03-05T12:19:48.926805Z",
     "start_time": "2019-03-05T12:19:48.917797Z"
    }
   },
   "outputs": [],
   "source": [
    "methods_cross = [met + '_' + field for met in methods for field in fields]"
   ]
  },
  {
   "cell_type": "code",
   "execution_count": 18,
   "metadata": {
    "ExecuteTime": {
     "end_time": "2019-03-05T12:19:50.726383Z",
     "start_time": "2019-03-05T12:19:50.713033Z"
    }
   },
   "outputs": [],
   "source": [
    "def get_w2v_matrix(words_now):\n",
    "    \n",
    "    vecs = []\n",
    "    \n",
    "    for word in words_now:\n",
    "        if word in model_w2v.wv.vocab:\n",
    "            vecs.append(model_w2v.wv.word_vec(word).reshape(1,-1))\n",
    "    if len(vecs) == 0:\n",
    "        return np.ones((1,100)) / 10\n",
    "    else:\n",
    "        res = np.concatenate(vecs, axis=0)\n",
    "        return res / np.sqrt((res**2).sum(axis=1, keepdims=True))"
   ]
  },
  {
   "cell_type": "code",
   "execution_count": 19,
   "metadata": {
    "ExecuteTime": {
     "end_time": "2019-03-05T12:19:51.117151Z",
     "start_time": "2019-03-05T12:19:51.110141Z"
    }
   },
   "outputs": [],
   "source": [
    "def get_ft_matrix(words_now):\n",
    "    \n",
    "    if len(words_now) == 0:\n",
    "        return np.ones((1,100)) / 10\n",
    "    \n",
    "    res = np.concatenate([ftmodel.get_word_vector(word).reshape(1,-1) for word in words_now], axis=0)\n",
    "    return res / np.sqrt((res**2).sum(axis=1, keepdims=True))"
   ]
  },
  {
   "cell_type": "code",
   "execution_count": 20,
   "metadata": {
    "ExecuteTime": {
     "end_time": "2019-03-05T12:19:57.920071Z",
     "start_time": "2019-03-05T12:19:52.317110Z"
    }
   },
   "outputs": [],
   "source": [
    "for field in fields:\n",
    "    df_news[field + '_pp_ft_mat'] = df_news[field + '_pp'].apply(get_ft_matrix)\n",
    "    df_news[field + '_pp_wv_mat'] = df_news[field + '_pp'].apply(get_w2v_matrix)"
   ]
  },
  {
   "cell_type": "code",
   "execution_count": 56,
   "metadata": {
    "ExecuteTime": {
     "end_time": "2019-03-05T12:31:05.002017Z",
     "start_time": "2019-03-05T12:31:04.985251Z"
    }
   },
   "outputs": [],
   "source": [
    "k1 = 2\n",
    "b = 0.75\n",
    "av_len = {field: df_news[field + '_pp'].apply(len).mean() for field in fields} "
   ]
  },
  {
   "cell_type": "code",
   "execution_count": 75,
   "metadata": {
    "ExecuteTime": {
     "end_time": "2019-03-05T12:37:46.218984Z",
     "start_time": "2019-03-05T12:37:46.215733Z"
    }
   },
   "outputs": [],
   "source": [
    "ks = [0.8,1,1.2,1.5,2,2.5,5]\n",
    "bs = [0.2, 0.5, 0.75, 0.9, 1]"
   ]
  },
  {
   "cell_type": "code",
   "execution_count": 129,
   "metadata": {
    "ExecuteTime": {
     "end_time": "2019-03-07T11:15:08.495693Z",
     "start_time": "2019-03-07T11:15:08.490906Z"
    }
   },
   "outputs": [],
   "source": [
    "ks = [5, 10, 20, 50]\n",
    "bs = [0, 0.001, 0.01, 0.1, 0.2]"
   ]
  },
  {
   "cell_type": "code",
   "execution_count": 130,
   "metadata": {
    "ExecuteTime": {
     "end_time": "2019-03-07T11:29:29.577905Z",
     "start_time": "2019-03-07T11:15:12.497349Z"
    }
   },
   "outputs": [
    {
     "name": "stdout",
     "output_type": "stream",
     "text": [
      "title\n",
      "spot\n",
      "text\n"
     ]
    }
   ],
   "source": [
    "for field in fields:\n",
    "    \n",
    "    print(field)\n",
    "    \n",
    "    ds_lens = df_news[field + '_pp'].apply(len)\n",
    "    ds_ft = df_news[field + '_pp_ft_mat']\n",
    "    ds_wv = df_news[field + '_pp_wv_mat']\n",
    "    ds_idf_ft = df_news[field+'_idfs_ft']\n",
    "    ds_idf_wv = df_news[field+'_idfs_wv']\n",
    "    \n",
    "    for index, row in df_comparisons.iterrows():\n",
    "        \n",
    "        ind0 = int(row.ind0)\n",
    "        ind1 = int(row.ind1)\n",
    "        \n",
    "        if ds_lens.iloc[ind1] == 0 or ds_lens.iloc[ind0] == 0:\n",
    "            \n",
    "            res_wv = {'k_'+str(k)+'_b_'+str(b): None for b in bs for k in ks}\n",
    "            res_ft = {'k_'+str(k)+'_b_'+str(b): None for b in bs for k in ks}\n",
    "            res_wv_idfonly = None\n",
    "            res_ft_idfonly = None\n",
    "        \n",
    "        else:\n",
    "        \n",
    "            if ds_lens.iloc[ind1] > ds_lens.iloc[ind0]:\n",
    "                tmp = ind1\n",
    "                ind1 = ind0\n",
    "                ind0 = tmp\n",
    "\n",
    "            mat_wv_l = ds_wv.iloc[ind0]\n",
    "            mat_wv_s = ds_wv.iloc[ind1]\n",
    "\n",
    "            mat_ft_l = ds_ft.iloc[ind0]\n",
    "            mat_ft_s = ds_ft.iloc[ind1]\n",
    "\n",
    "            len_s = ds_lens.iloc[ind1]\n",
    "            idf_l_ft = ds_idf_ft.iloc[ind0]\n",
    "            idf_l_wv = ds_idf_wv.iloc[ind0]\n",
    "\n",
    "            cos_wv = mat_wv_l @ mat_wv_s.transpose()\n",
    "            cos_ft = mat_ft_l @ mat_ft_s.transpose()\n",
    "\n",
    "            max_cos_wv = cos_wv.max(axis=1, keepdims=True)\n",
    "            max_cos_ft = cos_ft.max(axis=1, keepdims=True)\n",
    "            \n",
    "            res_wv = {}\n",
    "            res_ft = {}\n",
    "            \n",
    "            for k1 in ks:\n",
    "                for b in bs:\n",
    "                    res_wv['k_'+str(k1)+'_b_'+str(b)] = np.mean(idf_l_wv * max_cos_wv * (k1 + 1) / (max_cos_wv + k1 * (1-b+b*len_s / av_len[field]) ))\n",
    "                    res_ft['k_'+str(k1)+'_b_'+str(b)] = np.mean(idf_l_ft * max_cos_ft * (k1 + 1) / (max_cos_ft + k1 * (1-b+b*len_s / av_len[field]) ))\n",
    "            \n",
    "            res_wv_idfonly = np.mean(idf_l_wv * max_cos_wv)\n",
    "            res_ft_idfonly = np.mean(idf_l_ft * max_cos_ft)\n",
    "        \n",
    "        for k1 in ks:\n",
    "            for b in bs:\n",
    "                optname = 'k_'+str(k1)+'_b_'+str(b)\n",
    "                df_comparisons.loc[index, 'kenter_wv_'+optname + '_' + field] = res_wv[optname]\n",
    "                df_comparisons.loc[index, 'kenter_ft_'+optname + '_' + field] = res_ft[optname]\n",
    "        \n",
    "        df_comparisons.loc[index, 'idf_wv_'+field] = res_wv_idfonly\n",
    "        df_comparisons.loc[index, 'idf_ft_'+field] = res_ft_idfonly"
   ]
  },
  {
   "cell_type": "code",
   "execution_count": 131,
   "metadata": {
    "ExecuteTime": {
     "end_time": "2019-03-07T11:31:17.101290Z",
     "start_time": "2019-03-07T11:31:17.091842Z"
    }
   },
   "outputs": [],
   "source": [
    "def prec_recall(tp, fp, fn):\n",
    "\n",
    "    return float(tp / (tp + fp)), float(tp / (tp + fn))\n",
    "\n",
    "def find_eacc(labels_now, preds_now):\n",
    "    \n",
    "    labels_now = labels_now.flatten()\n",
    "    preds_now = preds_now.flatten()\n",
    "    \n",
    "    precs, recalls, thresholds = precision_recall_curve(labels_now, preds_now)\n",
    "    \n",
    "    indnow = np.argmin(np.abs(precs-recalls))\n",
    "    eacc = (precs[indnow] + recalls[indnow]) / 2\n",
    "    thr = thresholds[indnow]\n",
    "    \n",
    "    true_positive = np.logical_and(preds_now>=thr, labels_now==1).sum()\n",
    "    true_negative = np.logical_and(preds_now<thr, labels_now==0).sum()\n",
    "    false_positive = np.logical_and(preds_now>=thr, labels_now==0).sum()\n",
    "    false_negative = np.logical_and(preds_now<thr, labels_now==1).sum()\n",
    "    \n",
    "    precision, recall = prec_recall(true_positive, false_positive, false_negative)\n",
    "    \n",
    "    if recall == 0 and precision == 0:\n",
    "        f1 = 0\n",
    "    else:\n",
    "        f1 = 2*(recall * precision) / (recall + precision)\n",
    "    \n",
    "    out = dict(thr=thr,eacc=eacc, precision=precision, recall=recall, f1=f1,\n",
    "              tp=true_positive, tn=true_negative,\n",
    "               fp=false_positive, fn=false_negative,\n",
    "               precs=precs, recalls=recalls\n",
    "               )\n",
    "    \n",
    "    return out"
   ]
  },
  {
   "cell_type": "code",
   "execution_count": 134,
   "metadata": {
    "ExecuteTime": {
     "end_time": "2019-03-07T11:31:22.573506Z",
     "start_time": "2019-03-07T11:31:22.569602Z"
    }
   },
   "outputs": [],
   "source": [
    "optcols = []\n",
    "\n",
    "for k1 in ks:\n",
    "    for b in bs:\n",
    "        optname = 'k_'+str(k1)+'_b_'+str(b)\n",
    "        for field in fields:\n",
    "            colname = 'kenter_wv_'+optname + '_' + field\n",
    "            optcols.append(colname)\n",
    "            colname = 'kenter_ft_'+optname + '_' + field\n",
    "            optcols.append(colname)"
   ]
  },
  {
   "cell_type": "code",
   "execution_count": 135,
   "metadata": {
    "ExecuteTime": {
     "end_time": "2019-03-07T11:31:23.017602Z",
     "start_time": "2019-03-07T11:31:23.013027Z"
    }
   },
   "outputs": [],
   "source": [
    "for col in optcols:\n",
    "    if col not in df_comparisons.columns:\n",
    "        print(col)"
   ]
  },
  {
   "cell_type": "code",
   "execution_count": 136,
   "metadata": {
    "ExecuteTime": {
     "end_time": "2019-03-07T11:31:24.795234Z",
     "start_time": "2019-03-07T11:31:24.525204Z"
    }
   },
   "outputs": [],
   "source": [
    "for met in methods_cross + optcols:\n",
    "    df_comparisons.loc[df_comparisons[met].isnull(), met] = df_comparisons[met].mean()"
   ]
  },
  {
   "cell_type": "code",
   "execution_count": 137,
   "metadata": {
    "ExecuteTime": {
     "end_time": "2019-03-07T11:31:24.946626Z",
     "start_time": "2019-03-07T11:31:24.941129Z"
    }
   },
   "outputs": [],
   "source": [
    "df_comparisons['label'] = df_comparisons.label.astype(np.int64)"
   ]
  },
  {
   "cell_type": "code",
   "execution_count": 138,
   "metadata": {
    "ExecuteTime": {
     "end_time": "2019-03-07T11:31:25.959774Z",
     "start_time": "2019-03-07T11:31:25.640429Z"
    }
   },
   "outputs": [],
   "source": [
    "results = {}\n",
    "for method in methods_cross + optcols:\n",
    "    results[method] = find_eacc(df_comparisons.label.values, df_comparisons[method].values) "
   ]
  },
  {
   "cell_type": "code",
   "execution_count": 139,
   "metadata": {
    "ExecuteTime": {
     "end_time": "2019-03-07T11:31:28.465237Z",
     "start_time": "2019-03-07T11:31:28.460093Z"
    }
   },
   "outputs": [],
   "source": [
    "def tabulate_res(resnow):\n",
    "\n",
    "    table = []\n",
    "    for key, val in resnow.items():\n",
    "        table.append(\n",
    "            [key, resnow[key]['eacc'], resnow[key]['f1'], resnow[key]['precision'], resnow[key]['recall'], resnow[key]['thr'], resnow[key]['tp'], resnow[key]['tn'], resnow[key]['fp'],\n",
    "             resnow[key]['fn']])\n",
    "\n",
    "    return tabulate(table, headers=['', 'E-ACC', 'F1', 'PREC', 'RECALL', 'THR', 'TP', 'TN', 'FP', 'FN'], tablefmt=\"fancy_grid\")"
   ]
  },
  {
   "cell_type": "code",
   "execution_count": 141,
   "metadata": {
    "ExecuteTime": {
     "end_time": "2019-03-07T11:31:59.960997Z",
     "start_time": "2019-03-07T11:31:59.895369Z"
    }
   },
   "outputs": [
    {
     "name": "stdout",
     "output_type": "stream",
     "text": [
      "╒══════════════════════════════╤══════════╤══════════╤══════════╤══════════╤═════════╤══════╤═══════╤══════╤══════╕\n",
      "│                              │    E-ACC │       F1 │     PREC │   RECALL │     THR │   TP │    TN │   FP │   FN │\n",
      "╞══════════════════════════════╪══════════╪══════════╪══════════╪══════════╪═════════╪══════╪═══════╪══════╪══════╡\n",
      "│ kenter_wv_title              │ 0.572121 │ 0.572121 │ 0.572121 │ 0.572121 │ 2.90282 │ 1063 │ 14205 │  795 │  795 │\n",
      "├──────────────────────────────┼──────────┼──────────┼──────────┼──────────┼─────────┼──────┼───────┼──────┼──────┤\n",
      "│ kenter_wv_spot               │ 0.629171 │ 0.629171 │ 0.629171 │ 0.629171 │ 3.40738 │ 1169 │ 14311 │  689 │  689 │\n",
      "├──────────────────────────────┼──────────┼──────────┼──────────┼──────────┼─────────┼──────┼───────┼──────┼──────┤\n",
      "│ kenter_wv_text               │ 0.467169 │ 0.467169 │ 0.467169 │ 0.467169 │ 4.4085  │  868 │ 14010 │  990 │  990 │\n",
      "├──────────────────────────────┼──────────┼──────────┼──────────┼──────────┼─────────┼──────┼───────┼──────┼──────┤\n",
      "│ kenter_ft_title              │ 0.555436 │ 0.555436 │ 0.555436 │ 0.555436 │ 2.95067 │ 1032 │ 14174 │  826 │  826 │\n",
      "├──────────────────────────────┼──────────┼──────────┼──────────┼──────────┼─────────┼──────┼───────┼──────┼──────┤\n",
      "│ kenter_ft_spot               │ 0.624865 │ 0.624865 │ 0.624865 │ 0.624865 │ 3.43234 │ 1161 │ 14303 │  697 │  697 │\n",
      "├──────────────────────────────┼──────────┼──────────┼──────────┼──────────┼─────────┼──────┼───────┼──────┼──────┤\n",
      "│ kenter_ft_text               │ 0.463402 │ 0.463402 │ 0.463402 │ 0.463402 │ 4.49999 │  861 │ 14003 │  997 │  997 │\n",
      "├──────────────────────────────┼──────────┼──────────┼──────────┼──────────┼─────────┼──────┼───────┼──────┼──────┤\n",
      "│ idf_wv_title                 │ 0.755651 │ 0.755651 │ 0.755651 │ 0.755651 │ 2.12314 │ 1404 │ 14546 │  454 │  454 │\n",
      "├──────────────────────────────┼──────────┼──────────┼──────────┼──────────┼─────────┼──────┼───────┼──────┼──────┤\n",
      "│ idf_wv_spot                  │ 0.876211 │ 0.876211 │ 0.876211 │ 0.876211 │ 2.33369 │ 1628 │ 14770 │  230 │  230 │\n",
      "├──────────────────────────────┼──────────┼──────────┼──────────┼──────────┼─────────┼──────┼───────┼──────┼──────┤\n",
      "│ idf_wv_text                  │ 0.901507 │ 0.901507 │ 0.901507 │ 0.901507 │ 2.68575 │ 1675 │ 14817 │  183 │  183 │\n",
      "├──────────────────────────────┼──────────┼──────────┼──────────┼──────────┼─────────┼──────┼───────┼──────┼──────┤\n",
      "│ idf_ft_title                 │ 0.747578 │ 0.747578 │ 0.747578 │ 0.747578 │ 2.15194 │ 1389 │ 14531 │  469 │  469 │\n",
      "├──────────────────────────────┼──────────┼──────────┼──────────┼──────────┼─────────┼──────┼───────┼──────┼──────┤\n",
      "│ idf_ft_spot                  │ 0.870829 │ 0.870829 │ 0.870829 │ 0.870829 │ 2.35513 │ 1618 │ 14760 │  240 │  240 │\n",
      "├──────────────────────────────┼──────────┼──────────┼──────────┼──────────┼─────────┼──────┼───────┼──────┼──────┤\n",
      "│ idf_ft_text                  │ 0.890743 │ 0.890743 │ 0.890743 │ 0.890743 │ 2.73829 │ 1655 │ 14797 │  203 │  203 │\n",
      "├──────────────────────────────┼──────────┼──────────┼──────────┼──────────┼─────────┼──────┼───────┼──────┼──────┤\n",
      "│ kenter_wv_k_5_b_0_title      │ 0.720129 │ 0.720129 │ 0.720129 │ 0.720129 │ 2.29472 │ 1338 │ 14480 │  520 │  520 │\n",
      "├──────────────────────────────┼──────────┼──────────┼──────────┼──────────┼─────────┼──────┼───────┼──────┼──────┤\n",
      "│ kenter_ft_k_5_b_0_title      │ 0.705597 │ 0.705597 │ 0.705597 │ 0.705597 │ 2.32773 │ 1311 │ 14453 │  547 │  547 │\n",
      "├──────────────────────────────┼──────────┼──────────┼──────────┼──────────┼─────────┼──────┼───────┼──────┼──────┤\n",
      "│ kenter_wv_k_5_b_0_spot       │ 0.854144 │ 0.854144 │ 0.854144 │ 0.854144 │ 2.49282 │ 1587 │ 14729 │  271 │  271 │\n",
      "├──────────────────────────────┼──────────┼──────────┼──────────┼──────────┼─────────┼──────┼───────┼──────┼──────┤\n",
      "│ kenter_ft_k_5_b_0_spot       │ 0.848762 │ 0.848762 │ 0.848762 │ 0.848762 │ 2.52176 │ 1577 │ 14719 │  281 │  281 │\n",
      "├──────────────────────────────┼──────────┼──────────┼──────────┼──────────┼─────────┼──────┼───────┼──────┼──────┤\n",
      "│ kenter_wv_k_5_b_0_text       │ 0.878902 │ 0.878902 │ 0.878902 │ 0.878902 │ 2.82787 │ 1633 │ 14775 │  225 │  225 │\n",
      "├──────────────────────────────┼──────────┼──────────┼──────────┼──────────┼─────────┼──────┼───────┼──────┼──────┤\n",
      "│ kenter_ft_k_5_b_0_text       │ 0.861141 │ 0.861141 │ 0.861141 │ 0.861141 │ 2.90152 │ 1600 │ 14742 │  258 │  258 │\n",
      "├──────────────────────────────┼──────────┼──────────┼──────────┼──────────┼─────────┼──────┼───────┼──────┼──────┤\n",
      "│ kenter_wv_k_5_b_0.001_title  │ 0.720129 │ 0.720129 │ 0.720129 │ 0.720129 │ 2.29504 │ 1338 │ 14480 │  520 │  520 │\n",
      "├──────────────────────────────┼──────────┼──────────┼──────────┼──────────┼─────────┼──────┼───────┼──────┼──────┤\n",
      "│ kenter_ft_k_5_b_0.001_title  │ 0.706136 │ 0.706136 │ 0.706136 │ 0.706136 │ 2.32751 │ 1312 │ 14454 │  546 │  546 │\n",
      "├──────────────────────────────┼──────────┼──────────┼──────────┼──────────┼─────────┼──────┼───────┼──────┼──────┤\n",
      "│ kenter_wv_k_5_b_0.001_spot   │ 0.854144 │ 0.854144 │ 0.854144 │ 0.854144 │ 2.49273 │ 1587 │ 14729 │  271 │  271 │\n",
      "├──────────────────────────────┼──────────┼──────────┼──────────┼──────────┼─────────┼──────┼───────┼──────┼──────┤\n",
      "│ kenter_ft_k_5_b_0.001_spot   │ 0.848762 │ 0.848762 │ 0.848762 │ 0.848762 │ 2.52222 │ 1577 │ 14719 │  281 │  281 │\n",
      "├──────────────────────────────┼──────────┼──────────┼──────────┼──────────┼─────────┼──────┼───────┼──────┼──────┤\n",
      "│ kenter_wv_k_5_b_0.001_text   │ 0.878902 │ 0.878902 │ 0.878902 │ 0.878902 │ 2.82927 │ 1633 │ 14775 │  225 │  225 │\n",
      "├──────────────────────────────┼──────────┼──────────┼──────────┼──────────┼─────────┼──────┼───────┼──────┼──────┤\n",
      "│ kenter_ft_k_5_b_0.001_text   │ 0.861679 │ 0.861679 │ 0.861679 │ 0.861679 │ 2.90189 │ 1601 │ 14743 │  257 │  257 │\n",
      "├──────────────────────────────┼──────────┼──────────┼──────────┼──────────┼─────────┼──────┼───────┼──────┼──────┤\n",
      "│ kenter_wv_k_5_b_0.01_title   │ 0.720667 │ 0.720667 │ 0.720667 │ 0.720667 │ 2.29857 │ 1339 │ 14481 │  519 │  519 │\n",
      "├──────────────────────────────┼──────────┼──────────┼──────────┼──────────┼─────────┼──────┼───────┼──────┼──────┤\n",
      "│ kenter_ft_k_5_b_0.01_title   │ 0.706136 │ 0.706136 │ 0.706136 │ 0.706136 │ 2.3301  │ 1312 │ 14454 │  546 │  546 │\n",
      "├──────────────────────────────┼──────────┼──────────┼──────────┼──────────┼─────────┼──────┼───────┼──────┼──────┤\n",
      "│ kenter_wv_k_5_b_0.01_spot    │ 0.855221 │ 0.855221 │ 0.855221 │ 0.855221 │ 2.49695 │ 1589 │ 14731 │  269 │  269 │\n",
      "├──────────────────────────────┼──────────┼──────────┼──────────┼──────────┼─────────┼──────┼───────┼──────┼──────┤\n",
      "│ kenter_ft_k_5_b_0.01_spot    │ 0.848762 │ 0.848762 │ 0.848762 │ 0.848762 │ 2.52735 │ 1577 │ 14719 │  281 │  281 │\n",
      "├──────────────────────────────┼──────────┼──────────┼──────────┼──────────┼─────────┼──────┼───────┼──────┼──────┤\n",
      "│ kenter_wv_k_5_b_0.01_text    │ 0.878902 │ 0.878902 │ 0.878902 │ 0.878902 │ 2.84066 │ 1633 │ 14775 │  225 │  225 │\n",
      "├──────────────────────────────┼──────────┼──────────┼──────────┼──────────┼─────────┼──────┼───────┼──────┼──────┤\n",
      "│ kenter_ft_k_5_b_0.01_text    │ 0.863832 │ 0.863832 │ 0.863832 │ 0.863832 │ 2.90989 │ 1605 │ 14747 │  253 │  253 │\n",
      "├──────────────────────────────┼──────────┼──────────┼──────────┼──────────┼─────────┼──────┼───────┼──────┼──────┤\n",
      "│ kenter_wv_k_5_b_0.1_title    │ 0.7169   │ 0.7169   │ 0.7169   │ 0.7169   │ 2.32628 │ 1332 │ 14474 │  526 │  526 │\n",
      "├──────────────────────────────┼──────────┼──────────┼──────────┼──────────┼─────────┼──────┼───────┼──────┼──────┤\n",
      "│ kenter_ft_k_5_b_0.1_title    │ 0.702368 │ 0.702368 │ 0.702368 │ 0.702368 │ 2.35859 │ 1305 │ 14447 │  553 │  553 │\n",
      "├──────────────────────────────┼──────────┼──────────┼──────────┼──────────┼─────────┼──────┼───────┼──────┼──────┤\n",
      "│ kenter_wv_k_5_b_0.1_spot     │ 0.8493   │ 0.8493   │ 0.8493   │ 0.8493   │ 2.53816 │ 1578 │ 14720 │  280 │  280 │\n",
      "├──────────────────────────────┼──────────┼──────────┼──────────┼──────────┼─────────┼──────┼───────┼──────┼──────┤\n",
      "│ kenter_ft_k_5_b_0.1_spot     │ 0.845533 │ 0.845533 │ 0.845533 │ 0.845533 │ 2.56797 │ 1571 │ 14713 │  287 │  287 │\n",
      "├──────────────────────────────┼──────────┼──────────┼──────────┼──────────┼─────────┼──────┼───────┼──────┼──────┤\n",
      "│ kenter_wv_k_5_b_0.1_text     │ 0.877287 │ 0.877287 │ 0.877287 │ 0.877287 │ 2.91603 │ 1630 │ 14772 │  228 │  228 │\n",
      "├──────────────────────────────┼──────────┼──────────┼──────────┼──────────┼─────────┼──────┼───────┼──────┼──────┤\n",
      "│ kenter_ft_k_5_b_0.1_text     │ 0.857912 │ 0.857912 │ 0.857912 │ 0.857912 │ 2.98783 │ 1594 │ 14736 │  264 │  264 │\n",
      "├──────────────────────────────┼──────────┼──────────┼──────────┼──────────┼─────────┼──────┼───────┼──────┼──────┤\n",
      "│ kenter_wv_k_5_b_0.2_title    │ 0.712056 │ 0.712056 │ 0.712056 │ 0.712056 │ 2.35952 │ 1323 │ 14465 │  535 │  535 │\n",
      "├──────────────────────────────┼──────────┼──────────┼──────────┼──────────┼─────────┼──────┼───────┼──────┼──────┤\n",
      "│ kenter_ft_k_5_b_0.2_title    │ 0.69591  │ 0.69591  │ 0.69591  │ 0.69591  │ 2.39329 │ 1293 │ 14435 │  565 │  565 │\n",
      "├──────────────────────────────┼──────────┼──────────┼──────────┼──────────┼─────────┼──────┼───────┼──────┼──────┤\n",
      "│ kenter_wv_k_5_b_0.2_spot     │ 0.841765 │ 0.841765 │ 0.841765 │ 0.841765 │ 2.61254 │ 1564 │ 14706 │  294 │  294 │\n",
      "├──────────────────────────────┼──────────┼──────────┼──────────┼──────────┼─────────┼──────┼───────┼──────┼──────┤\n",
      "│ kenter_ft_k_5_b_0.2_spot     │ 0.829925 │ 0.829925 │ 0.829925 │ 0.829925 │ 2.62959 │ 1542 │ 14684 │  316 │  316 │\n",
      "├──────────────────────────────┼──────────┼──────────┼──────────┼──────────┼─────────┼──────┼───────┼──────┼──────┤\n",
      "│ kenter_wv_k_5_b_0.2_text     │ 0.842842 │ 0.842842 │ 0.842842 │ 0.842842 │ 3.00218 │ 1566 │ 14708 │  292 │  292 │\n",
      "├──────────────────────────────┼──────────┼──────────┼──────────┼──────────┼─────────┼──────┼───────┼──────┼──────┤\n",
      "│ kenter_ft_k_5_b_0.2_text     │ 0.827234 │ 0.827234 │ 0.827234 │ 0.827234 │ 3.07501 │ 1537 │ 14679 │  321 │  321 │\n",
      "├──────────────────────────────┼──────────┼──────────┼──────────┼──────────┼─────────┼──────┼───────┼──────┼──────┤\n",
      "│ kenter_wv_k_10_b_0_title     │ 0.740043 │ 0.740043 │ 0.740043 │ 0.740043 │ 2.21244 │ 1375 │ 14517 │  483 │  483 │\n",
      "├──────────────────────────────┼──────────┼──────────┼──────────┼──────────┼─────────┼──────┼───────┼──────┼──────┤\n",
      "│ kenter_ft_k_10_b_0_title     │ 0.726588 │ 0.726588 │ 0.726588 │ 0.726588 │ 2.24485 │ 1350 │ 14492 │  508 │  508 │\n",
      "├──────────────────────────────┼──────────┼──────────┼──────────┼──────────┼─────────┼──────┼───────┼──────┼──────┤\n",
      "│ kenter_wv_k_10_b_0_spot      │ 0.866523 │ 0.866523 │ 0.866523 │ 0.866523 │ 2.41763 │ 1610 │ 14752 │  248 │  248 │\n",
      "├──────────────────────────────┼──────────┼──────────┼──────────┼──────────┼─────────┼──────┼───────┼──────┼──────┤\n",
      "│ kenter_ft_k_10_b_0_spot      │ 0.859526 │ 0.859526 │ 0.859526 │ 0.859526 │ 2.44263 │ 1597 │ 14739 │  261 │  261 │\n",
      "├──────────────────────────────┼──────────┼──────────┼──────────┼──────────┼─────────┼──────┼───────┼──────┼──────┤\n",
      "│ kenter_wv_k_10_b_0_text      │ 0.890743 │ 0.890743 │ 0.890743 │ 0.890743 │ 2.7608  │ 1655 │ 14797 │  203 │  203 │\n",
      "├──────────────────────────────┼──────────┼──────────┼──────────┼──────────┼─────────┼──────┼───────┼──────┼──────┤\n",
      "│ kenter_ft_k_10_b_0_text      │ 0.876211 │ 0.876211 │ 0.876211 │ 0.876211 │ 2.8253  │ 1628 │ 14770 │  230 │  230 │\n",
      "├──────────────────────────────┼──────────┼──────────┼──────────┼──────────┼─────────┼──────┼───────┼──────┼──────┤\n",
      "│ kenter_wv_k_10_b_0.001_title │ 0.740043 │ 0.740043 │ 0.740043 │ 0.740043 │ 2.21288 │ 1375 │ 14517 │  483 │  483 │\n",
      "├──────────────────────────────┼──────────┼──────────┼──────────┼──────────┼─────────┼──────┼───────┼──────┼──────┤\n",
      "│ kenter_ft_k_10_b_0.001_title │ 0.727126 │ 0.727126 │ 0.727126 │ 0.727126 │ 2.24498 │ 1351 │ 14493 │  507 │  507 │\n",
      "├──────────────────────────────┼──────────┼──────────┼──────────┼──────────┼─────────┼──────┼───────┼──────┼──────┤\n",
      "│ kenter_wv_k_10_b_0.001_spot  │ 0.865985 │ 0.865985 │ 0.865985 │ 0.865985 │ 2.41823 │ 1609 │ 14751 │  249 │  249 │\n",
      "├──────────────────────────────┼──────────┼──────────┼──────────┼──────────┼─────────┼──────┼───────┼──────┼──────┤\n",
      "│ kenter_ft_k_10_b_0.001_spot  │ 0.859526 │ 0.859526 │ 0.859526 │ 0.859526 │ 2.44253 │ 1597 │ 14739 │  261 │  261 │\n",
      "├──────────────────────────────┼──────────┼──────────┼──────────┼──────────┼─────────┼──────┼───────┼──────┼──────┤\n",
      "│ kenter_wv_k_10_b_0.001_text  │ 0.890743 │ 0.890743 │ 0.890743 │ 0.890743 │ 2.76273 │ 1655 │ 14797 │  203 │  203 │\n",
      "├──────────────────────────────┼──────────┼──────────┼──────────┼──────────┼─────────┼──────┼───────┼──────┼──────┤\n",
      "│ kenter_ft_k_10_b_0.001_text  │ 0.876211 │ 0.876211 │ 0.876211 │ 0.876211 │ 2.8266  │ 1628 │ 14770 │  230 │  230 │\n",
      "├──────────────────────────────┼──────────┼──────────┼──────────┼──────────┼─────────┼──────┼───────┼──────┼──────┤\n",
      "│ kenter_wv_k_10_b_0.01_title  │ 0.740043 │ 0.740043 │ 0.740043 │ 0.740043 │ 2.21376 │ 1375 │ 14517 │  483 │  483 │\n",
      "├──────────────────────────────┼──────────┼──────────┼──────────┼──────────┼─────────┼──────┼───────┼──────┼──────┤\n",
      "│ kenter_ft_k_10_b_0.01_title  │ 0.728202 │ 0.728202 │ 0.728202 │ 0.728202 │ 2.24552 │ 1353 │ 14495 │  505 │  505 │\n",
      "├──────────────────────────────┼──────────┼──────────┼──────────┼──────────┼─────────┼──────┼───────┼──────┼──────┤\n",
      "│ kenter_wv_k_10_b_0.01_spot   │ 0.863832 │ 0.863832 │ 0.863832 │ 0.863832 │ 2.42106 │ 1605 │ 14747 │  253 │  253 │\n",
      "├──────────────────────────────┼──────────┼──────────┼──────────┼──────────┼─────────┼──────┼───────┼──────┼──────┤\n",
      "│ kenter_ft_k_10_b_0.01_spot   │ 0.860065 │ 0.860065 │ 0.860065 │ 0.860065 │ 2.4447  │ 1598 │ 14740 │  260 │  260 │\n",
      "├──────────────────────────────┼──────────┼──────────┼──────────┼──────────┼─────────┼──────┼───────┼──────┼──────┤\n",
      "│ kenter_wv_k_10_b_0.01_text   │ 0.891281 │ 0.891281 │ 0.891281 │ 0.891281 │ 2.77037 │ 1656 │ 14798 │  202 │  202 │\n",
      "├──────────────────────────────┼──────────┼──────────┼──────────┼──────────┼─────────┼──────┼───────┼──────┼──────┤\n",
      "│ kenter_ft_k_10_b_0.01_text   │ 0.876749 │ 0.876749 │ 0.876749 │ 0.876749 │ 2.83397 │ 1629 │ 14771 │  229 │  229 │\n",
      "├──────────────────────────────┼──────────┼──────────┼──────────┼──────────┼─────────┼──────┼───────┼──────┼──────┤\n",
      "│ kenter_wv_k_10_b_0.1_title   │ 0.737352 │ 0.737352 │ 0.737352 │ 0.737352 │ 2.24067 │ 1370 │ 14512 │  488 │  488 │\n",
      "├──────────────────────────────┼──────────┼──────────┼──────────┼──────────┼─────────┼──────┼───────┼──────┼──────┤\n",
      "│ kenter_ft_k_10_b_0.1_title   │ 0.724435 │ 0.724435 │ 0.724435 │ 0.724435 │ 2.27638 │ 1346 │ 14488 │  512 │  512 │\n",
      "├──────────────────────────────┼──────────┼──────────┼──────────┼──────────┼─────────┼──────┼───────┼──────┼──────┤\n",
      "│ kenter_wv_k_10_b_0.1_spot    │ 0.863832 │ 0.863832 │ 0.863832 │ 0.863832 │ 2.46342 │ 1605 │ 14747 │  253 │  253 │\n",
      "├──────────────────────────────┼──────────┼──────────┼──────────┼──────────┼─────────┼──────┼───────┼──────┼──────┤\n",
      "│ kenter_ft_k_10_b_0.1_spot    │ 0.855221 │ 0.855221 │ 0.855221 │ 0.855221 │ 2.49469 │ 1589 │ 14731 │  269 │  269 │\n",
      "├──────────────────────────────┼──────────┼──────────┼──────────┼──────────┼─────────┼──────┼───────┼──────┼──────┤\n",
      "│ kenter_wv_k_10_b_0.1_text    │ 0.889666 │ 0.889666 │ 0.889666 │ 0.889666 │ 2.85247 │ 1653 │ 14795 │  205 │  205 │\n",
      "├──────────────────────────────┼──────────┼──────────┼──────────┼──────────┼─────────┼──────┼───────┼──────┼──────┤\n",
      "│ kenter_ft_k_10_b_0.1_text    │ 0.871905 │ 0.871905 │ 0.871905 │ 0.871905 │ 2.9142  │ 1620 │ 14762 │  238 │  238 │\n",
      "├──────────────────────────────┼──────────┼──────────┼──────────┼──────────┼─────────┼──────┼───────┼──────┼──────┤\n",
      "│ kenter_wv_k_10_b_0.2_title   │ 0.733584 │ 0.733584 │ 0.733584 │ 0.733584 │ 2.28194 │ 1363 │ 14505 │  495 │  495 │\n",
      "├──────────────────────────────┼──────────┼──────────┼──────────┼──────────┼─────────┼──────┼───────┼──────┼──────┤\n",
      "│ kenter_ft_k_10_b_0.2_title   │ 0.715823 │ 0.715823 │ 0.715823 │ 0.715823 │ 2.30843 │ 1330 │ 14472 │  528 │  528 │\n",
      "├──────────────────────────────┼──────────┼──────────┼──────────┼──────────┼─────────┼──────┼───────┼──────┼──────┤\n",
      "│ kenter_wv_k_10_b_0.2_spot    │ 0.855759 │ 0.855759 │ 0.855759 │ 0.855759 │ 2.53591 │ 1590 │ 14732 │  268 │  268 │\n",
      "├──────────────────────────────┼──────────┼──────────┼──────────┼──────────┼─────────┼──────┼───────┼──────┼──────┤\n",
      "│ kenter_ft_k_10_b_0.2_spot    │ 0.844995 │ 0.844995 │ 0.844995 │ 0.844995 │ 2.55365 │ 1570 │ 14712 │  288 │  288 │\n",
      "├──────────────────────────────┼──────────┼──────────┼──────────┼──────────┼─────────┼──────┼───────┼──────┼──────┤\n",
      "│ kenter_wv_k_10_b_0.2_text    │ 0.85845  │ 0.85845  │ 0.85845  │ 0.85845  │ 2.93476 │ 1595 │ 14737 │  263 │  263 │\n",
      "├──────────────────────────────┼──────────┼──────────┼──────────┼──────────┼─────────┼──────┼───────┼──────┼──────┤\n",
      "│ kenter_ft_k_10_b_0.2_text    │ 0.84338  │ 0.84338  │ 0.84338  │ 0.84338  │ 3.00283 │ 1567 │ 14709 │  291 │  291 │\n",
      "├──────────────────────────────┼──────────┼──────────┼──────────┼──────────┼─────────┼──────┼───────┼──────┼──────┤\n",
      "│ kenter_wv_k_20_b_0_title     │ 0.745425 │ 0.745425 │ 0.745425 │ 0.745425 │ 2.16837 │ 1385 │ 14527 │  473 │  473 │\n",
      "├──────────────────────────────┼──────────┼──────────┼──────────┼──────────┼─────────┼──────┼───────┼──────┼──────┤\n",
      "│ kenter_ft_k_20_b_0_title     │ 0.73789  │ 0.73789  │ 0.73789  │ 0.73789  │ 2.203   │ 1371 │ 14513 │  487 │  487 │\n",
      "├──────────────────────────────┼──────────┼──────────┼──────────┼──────────┼─────────┼──────┼───────┼──────┼──────┤\n",
      "│ kenter_wv_k_20_b_0_spot      │ 0.871905 │ 0.871905 │ 0.871905 │ 0.871905 │ 2.37688 │ 1620 │ 14762 │  238 │  238 │\n",
      "├──────────────────────────────┼──────────┼──────────┼──────────┼──────────┼─────────┼──────┼───────┼──────┼──────┤\n",
      "│ kenter_ft_k_20_b_0_spot      │ 0.863832 │ 0.863832 │ 0.863832 │ 0.863832 │ 2.39474 │ 1605 │ 14747 │  253 │  253 │\n",
      "├──────────────────────────────┼──────────┼──────────┼──────────┼──────────┼─────────┼──────┼───────┼──────┼──────┤\n",
      "│ kenter_wv_k_20_b_0_text      │ 0.896125 │ 0.896125 │ 0.896125 │ 0.896125 │ 2.72177 │ 1665 │ 14807 │  193 │  193 │\n",
      "├──────────────────────────────┼──────────┼──────────┼──────────┼──────────┼─────────┼──────┼───────┼──────┼──────┤\n",
      "│ kenter_ft_k_20_b_0_text      │ 0.883208 │ 0.883208 │ 0.883208 │ 0.883208 │ 2.78081 │ 1641 │ 14783 │  217 │  217 │\n",
      "├──────────────────────────────┼──────────┼──────────┼──────────┼──────────┼─────────┼──────┼───────┼──────┼──────┤\n",
      "│ kenter_wv_k_20_b_0.001_title │ 0.745425 │ 0.745425 │ 0.745425 │ 0.745425 │ 2.16841 │ 1385 │ 14527 │  473 │  473 │\n",
      "├──────────────────────────────┼──────────┼──────────┼──────────┼──────────┼─────────┼──────┼───────┼──────┼──────┤\n",
      "│ kenter_ft_k_20_b_0.001_title │ 0.73789  │ 0.73789  │ 0.73789  │ 0.73789  │ 2.20345 │ 1371 │ 14513 │  487 │  487 │\n",
      "├──────────────────────────────┼──────────┼──────────┼──────────┼──────────┼─────────┼──────┼───────┼──────┼──────┤\n",
      "│ kenter_wv_k_20_b_0.001_spot  │ 0.871905 │ 0.871905 │ 0.871905 │ 0.871905 │ 2.37756 │ 1620 │ 14762 │  238 │  238 │\n",
      "├──────────────────────────────┼──────────┼──────────┼──────────┼──────────┼─────────┼──────┼───────┼──────┼──────┤\n",
      "│ kenter_ft_k_20_b_0.001_spot  │ 0.863832 │ 0.863832 │ 0.863832 │ 0.863832 │ 2.39605 │ 1605 │ 14747 │  253 │  253 │\n",
      "├──────────────────────────────┼──────────┼──────────┼──────────┼──────────┼─────────┼──────┼───────┼──────┼──────┤\n",
      "│ kenter_wv_k_20_b_0.001_text  │ 0.896125 │ 0.896125 │ 0.896125 │ 0.896125 │ 2.72366 │ 1665 │ 14807 │  193 │  193 │\n",
      "├──────────────────────────────┼──────────┼──────────┼──────────┼──────────┼─────────┼──────┼───────┼──────┼──────┤\n",
      "│ kenter_ft_k_20_b_0.001_text  │ 0.883746 │ 0.883746 │ 0.883746 │ 0.883746 │ 2.78256 │ 1642 │ 14784 │  216 │  216 │\n",
      "├──────────────────────────────┼──────────┼──────────┼──────────┼──────────┼─────────┼──────┼───────┼──────┼──────┤\n",
      "│ kenter_wv_k_20_b_0.01_title  │ 0.746502 │ 0.746502 │ 0.746502 │ 0.746502 │ 2.16985 │ 1387 │ 14529 │  471 │  471 │\n",
      "├──────────────────────────────┼──────────┼──────────┼──────────┼──────────┼─────────┼──────┼───────┼──────┼──────┤\n",
      "│ kenter_ft_k_20_b_0.01_title  │ 0.738428 │ 0.738428 │ 0.738428 │ 0.738428 │ 2.2047  │ 1372 │ 14514 │  486 │  486 │\n",
      "├──────────────────────────────┼──────────┼──────────┼──────────┼──────────┼─────────┼──────┼───────┼──────┼──────┤\n",
      "│ kenter_wv_k_20_b_0.01_spot   │ 0.870291 │ 0.870291 │ 0.870291 │ 0.870291 │ 2.37954 │ 1617 │ 14759 │  241 │  241 │\n",
      "├──────────────────────────────┼──────────┼──────────┼──────────┼──────────┼─────────┼──────┼───────┼──────┼──────┤\n",
      "│ kenter_ft_k_20_b_0.01_spot   │ 0.863832 │ 0.863832 │ 0.863832 │ 0.863832 │ 2.39894 │ 1605 │ 14747 │  253 │  253 │\n",
      "├──────────────────────────────┼──────────┼──────────┼──────────┼──────────┼─────────┼──────┼───────┼──────┼──────┤\n",
      "│ kenter_wv_k_20_b_0.01_text   │ 0.895587 │ 0.895587 │ 0.895587 │ 0.895587 │ 2.73378 │ 1664 │ 14806 │  194 │  194 │\n",
      "├──────────────────────────────┼──────────┼──────────┼──────────┼──────────┼─────────┼──────┼───────┼──────┼──────┤\n",
      "│ kenter_ft_k_20_b_0.01_text   │ 0.885361 │ 0.885361 │ 0.885361 │ 0.885361 │ 2.7931  │ 1645 │ 14787 │  213 │  213 │\n",
      "├──────────────────────────────┼──────────┼──────────┼──────────┼──────────┼─────────┼──────┼───────┼──────┼──────┤\n",
      "│ kenter_wv_k_20_b_0.1_title   │ 0.744887 │ 0.744887 │ 0.744887 │ 0.744887 │ 2.20066 │ 1384 │ 14526 │  474 │  474 │\n",
      "├──────────────────────────────┼──────────┼──────────┼──────────┼──────────┼─────────┼──────┼───────┼──────┼──────┤\n",
      "│ kenter_ft_k_20_b_0.1_title   │ 0.735199 │ 0.735199 │ 0.735199 │ 0.735199 │ 2.22999 │ 1366 │ 14508 │  492 │  492 │\n",
      "├──────────────────────────────┼──────────┼──────────┼──────────┼──────────┼─────────┼──────┼───────┼──────┼──────┤\n",
      "│ kenter_wv_k_20_b_0.1_spot    │ 0.870525 │ 0.870525 │ 0.870759 │ 0.870291 │ 2.4221  │ 1617 │ 14760 │  240 │  241 │\n",
      "├──────────────────────────────┼──────────┼──────────┼──────────┼──────────┼─────────┼──────┼───────┼──────┼──────┤\n",
      "│ kenter_ft_k_20_b_0.1_spot    │ 0.860065 │ 0.860065 │ 0.860065 │ 0.860065 │ 2.45425 │ 1598 │ 14740 │  260 │  260 │\n",
      "├──────────────────────────────┼──────────┼──────────┼──────────┼──────────┼─────────┼──────┼───────┼──────┼──────┤\n",
      "│ kenter_wv_k_20_b_0.1_text    │ 0.895048 │ 0.895048 │ 0.895048 │ 0.895048 │ 2.81481 │ 1663 │ 14805 │  195 │  195 │\n",
      "├──────────────────────────────┼──────────┼──────────┼──────────┼──────────┼─────────┼──────┼───────┼──────┼──────┤\n",
      "│ kenter_ft_k_20_b_0.1_text    │ 0.87944  │ 0.87944  │ 0.87944  │ 0.87944  │ 2.87789 │ 1634 │ 14776 │  224 │  224 │\n",
      "├──────────────────────────────┼──────────┼──────────┼──────────┼──────────┼─────────┼──────┼───────┼──────┼──────┤\n",
      "│ kenter_wv_k_20_b_0.2_title   │ 0.738428 │ 0.738428 │ 0.738428 │ 0.738428 │ 2.23711 │ 1372 │ 14514 │  486 │  486 │\n",
      "├──────────────────────────────┼──────────┼──────────┼──────────┼──────────┼─────────┼──────┼───────┼──────┼──────┤\n",
      "│ kenter_ft_k_20_b_0.2_title   │ 0.727126 │ 0.727126 │ 0.727126 │ 0.727126 │ 2.26805 │ 1351 │ 14493 │  507 │  507 │\n",
      "├──────────────────────────────┼──────────┼──────────┼──────────┼──────────┼─────────┼──────┼───────┼──────┼──────┤\n",
      "│ kenter_wv_k_20_b_0.2_spot    │ 0.861679 │ 0.861679 │ 0.861679 │ 0.861679 │ 2.4923  │ 1601 │ 14743 │  257 │  257 │\n",
      "├──────────────────────────────┼──────────┼──────────┼──────────┼──────────┼─────────┼──────┼───────┼──────┼──────┤\n",
      "│ kenter_ft_k_20_b_0.2_spot    │ 0.851991 │ 0.851991 │ 0.851991 │ 0.851991 │ 2.51497 │ 1583 │ 14725 │  275 │  275 │\n",
      "├──────────────────────────────┼──────────┼──────────┼──────────┼──────────┼─────────┼──────┼───────┼──────┼──────┤\n",
      "│ kenter_wv_k_20_b_0.2_text    │ 0.8676   │ 0.8676   │ 0.8676   │ 0.8676   │ 2.9043  │ 1612 │ 14754 │  246 │  246 │\n",
      "├──────────────────────────────┼──────────┼──────────┼──────────┼──────────┼─────────┼──────┼───────┼──────┼──────┤\n",
      "│ kenter_ft_k_20_b_0.2_text    │ 0.851453 │ 0.851453 │ 0.851453 │ 0.851453 │ 2.96934 │ 1582 │ 14724 │  276 │  276 │\n",
      "├──────────────────────────────┼──────────┼──────────┼──────────┼──────────┼─────────┼──────┼───────┼──────┼──────┤\n",
      "│ kenter_wv_k_50_b_0_title     │ 0.751346 │ 0.751346 │ 0.751346 │ 0.751346 │ 2.13933 │ 1396 │ 14538 │  462 │  462 │\n",
      "├──────────────────────────────┼──────────┼──────────┼──────────┼──────────┼─────────┼──────┼───────┼──────┼──────┤\n",
      "│ kenter_ft_k_50_b_0_title     │ 0.743811 │ 0.743811 │ 0.743811 │ 0.743811 │ 2.17297 │ 1382 │ 14524 │  476 │  476 │\n",
      "├──────────────────────────────┼──────────┼──────────┼──────────┼──────────┼─────────┼──────┼───────┼──────┼──────┤\n",
      "│ kenter_wv_k_50_b_0_spot      │ 0.874058 │ 0.874058 │ 0.874058 │ 0.874058 │ 2.35258 │ 1624 │ 14766 │  234 │  234 │\n",
      "├──────────────────────────────┼──────────┼──────────┼──────────┼──────────┼─────────┼──────┼───────┼──────┼──────┤\n",
      "│ kenter_ft_k_50_b_0_spot      │ 0.866523 │ 0.866523 │ 0.866523 │ 0.866523 │ 2.37151 │ 1610 │ 14752 │  248 │  248 │\n",
      "├──────────────────────────────┼──────────┼──────────┼──────────┼──────────┼─────────┼──────┼───────┼──────┼──────┤\n",
      "│ kenter_wv_k_50_b_0_text      │ 0.899354 │ 0.899354 │ 0.899354 │ 0.899354 │ 2.69836 │ 1671 │ 14813 │  187 │  187 │\n",
      "├──────────────────────────────┼──────────┼──────────┼──────────┼──────────┼─────────┼──────┼───────┼──────┼──────┤\n",
      "│ kenter_ft_k_50_b_0_text      │ 0.888052 │ 0.888052 │ 0.888052 │ 0.888052 │ 2.75529 │ 1650 │ 14792 │  208 │  208 │\n",
      "├──────────────────────────────┼──────────┼──────────┼──────────┼──────────┼─────────┼──────┼───────┼──────┼──────┤\n",
      "│ kenter_wv_k_50_b_0.001_title │ 0.750807 │ 0.750807 │ 0.750807 │ 0.750807 │ 2.13926 │ 1395 │ 14537 │  463 │  463 │\n",
      "├──────────────────────────────┼──────────┼──────────┼──────────┼──────────┼─────────┼──────┼───────┼──────┼──────┤\n",
      "│ kenter_ft_k_50_b_0.001_title │ 0.743811 │ 0.743811 │ 0.743811 │ 0.743811 │ 2.17304 │ 1382 │ 14524 │  476 │  476 │\n",
      "├──────────────────────────────┼──────────┼──────────┼──────────┼──────────┼─────────┼──────┼───────┼──────┼──────┤\n",
      "│ kenter_wv_k_50_b_0.001_spot  │ 0.874058 │ 0.874058 │ 0.874058 │ 0.874058 │ 2.35308 │ 1624 │ 14766 │  234 │  234 │\n",
      "├──────────────────────────────┼──────────┼──────────┼──────────┼──────────┼─────────┼──────┼───────┼──────┼──────┤\n",
      "│ kenter_ft_k_50_b_0.001_spot  │ 0.866523 │ 0.866523 │ 0.866523 │ 0.866523 │ 2.37276 │ 1610 │ 14752 │  248 │  248 │\n",
      "├──────────────────────────────┼──────────┼──────────┼──────────┼──────────┼─────────┼──────┼───────┼──────┼──────┤\n",
      "│ kenter_wv_k_50_b_0.001_text  │ 0.899354 │ 0.899354 │ 0.899354 │ 0.899354 │ 2.69894 │ 1671 │ 14813 │  187 │  187 │\n",
      "├──────────────────────────────┼──────────┼──────────┼──────────┼──────────┼─────────┼──────┼───────┼──────┼──────┤\n",
      "│ kenter_ft_k_50_b_0.001_text  │ 0.888052 │ 0.888052 │ 0.888052 │ 0.888052 │ 2.7569  │ 1650 │ 14792 │  208 │  208 │\n",
      "├──────────────────────────────┼──────────┼──────────┼──────────┼──────────┼─────────┼──────┼───────┼──────┼──────┤\n",
      "│ kenter_wv_k_50_b_0.01_title  │ 0.752086 │ 0.752086 │ 0.752289 │ 0.751884 │ 2.14232 │ 1397 │ 14540 │  460 │  461 │\n",
      "├──────────────────────────────┼──────────┼──────────┼──────────┼──────────┼─────────┼──────┼───────┼──────┼──────┤\n",
      "│ kenter_ft_k_50_b_0.01_title  │ 0.743811 │ 0.743811 │ 0.743811 │ 0.743811 │ 2.17603 │ 1382 │ 14524 │  476 │  476 │\n",
      "├──────────────────────────────┼──────────┼──────────┼──────────┼──────────┼─────────┼──────┼───────┼──────┼──────┤\n",
      "│ kenter_wv_k_50_b_0.01_spot   │ 0.874596 │ 0.874596 │ 0.874596 │ 0.874596 │ 2.35612 │ 1625 │ 14767 │  233 │  233 │\n",
      "├──────────────────────────────┼──────────┼──────────┼──────────┼──────────┼─────────┼──────┼───────┼──────┼──────┤\n",
      "│ kenter_ft_k_50_b_0.01_spot   │ 0.868138 │ 0.868138 │ 0.868138 │ 0.868138 │ 2.37711 │ 1613 │ 14755 │  245 │  245 │\n",
      "├──────────────────────────────┼──────────┼──────────┼──────────┼──────────┼─────────┼──────┼───────┼──────┼──────┤\n",
      "│ kenter_wv_k_50_b_0.01_text   │ 0.899892 │ 0.899892 │ 0.899892 │ 0.899892 │ 2.71255 │ 1672 │ 14814 │  186 │  186 │\n",
      "├──────────────────────────────┼──────────┼──────────┼──────────┼──────────┼─────────┼──────┼───────┼──────┼──────┤\n",
      "│ kenter_ft_k_50_b_0.01_text   │ 0.888052 │ 0.888052 │ 0.888052 │ 0.888052 │ 2.76919 │ 1650 │ 14792 │  208 │  208 │\n",
      "├──────────────────────────────┼──────────┼──────────┼──────────┼──────────┼─────────┼──────┼───────┼──────┼──────┤\n",
      "│ kenter_wv_k_50_b_0.1_title   │ 0.750807 │ 0.750807 │ 0.750807 │ 0.750807 │ 2.17308 │ 1395 │ 14537 │  463 │  463 │\n",
      "├──────────────────────────────┼──────────┼──────────┼──────────┼──────────┼─────────┼──────┼───────┼──────┼──────┤\n",
      "│ kenter_ft_k_50_b_0.1_title   │ 0.741119 │ 0.741119 │ 0.741119 │ 0.741119 │ 2.19905 │ 1377 │ 14519 │  481 │  481 │\n",
      "├──────────────────────────────┼──────────┼──────────┼──────────┼──────────┼─────────┼──────┼───────┼──────┼──────┤\n",
      "│ kenter_wv_k_50_b_0.1_spot    │ 0.874832 │ 0.874832 │ 0.875067 │ 0.874596 │ 2.39704 │ 1625 │ 14768 │  232 │  233 │\n",
      "├──────────────────────────────┼──────────┼──────────┼──────────┼──────────┼─────────┼──────┼───────┼──────┼──────┤\n",
      "│ kenter_ft_k_50_b_0.1_spot    │ 0.864909 │ 0.864909 │ 0.864909 │ 0.864909 │ 2.42912 │ 1607 │ 14749 │  251 │  251 │\n",
      "├──────────────────────────────┼──────────┼──────────┼──────────┼──────────┼─────────┼──────┼───────┼──────┼──────┤\n",
      "│ kenter_wv_k_50_b_0.1_text    │ 0.898816 │ 0.898816 │ 0.898816 │ 0.898816 │ 2.79165 │ 1670 │ 14812 │  188 │  188 │\n",
      "├──────────────────────────────┼──────────┼──────────┼──────────┼──────────┼─────────┼──────┼───────┼──────┼──────┤\n",
      "│ kenter_ft_k_50_b_0.1_text    │ 0.884822 │ 0.884822 │ 0.884822 │ 0.884822 │ 2.85345 │ 1644 │ 14786 │  214 │  214 │\n",
      "├──────────────────────────────┼──────────┼──────────┼──────────┼──────────┼─────────┼──────┼───────┼──────┼──────┤\n",
      "│ kenter_wv_k_50_b_0.2_title   │ 0.744349 │ 0.744349 │ 0.744349 │ 0.744349 │ 2.21341 │ 1383 │ 14525 │  475 │  475 │\n",
      "├──────────────────────────────┼──────────┼──────────┼──────────┼──────────┼─────────┼──────┼───────┼──────┼──────┤\n",
      "│ kenter_ft_k_50_b_0.2_title   │ 0.735199 │ 0.735199 │ 0.735199 │ 0.735199 │ 2.23818 │ 1366 │ 14508 │  492 │  492 │\n",
      "├──────────────────────────────┼──────────┼──────────┼──────────┼──────────┼─────────┼──────┼───────┼──────┼──────┤\n",
      "│ kenter_wv_k_50_b_0.2_spot    │ 0.868138 │ 0.868138 │ 0.868138 │ 0.868138 │ 2.46728 │ 1613 │ 14755 │  245 │  245 │\n",
      "├──────────────────────────────┼──────────┼──────────┼──────────┼──────────┼─────────┼──────┼───────┼──────┼──────┤\n",
      "│ kenter_ft_k_50_b_0.2_spot    │ 0.855759 │ 0.855759 │ 0.855759 │ 0.855759 │ 2.49154 │ 1590 │ 14732 │  268 │  268 │\n",
      "├──────────────────────────────┼──────────┼──────────┼──────────┼──────────┼─────────┼──────┼───────┼──────┼──────┤\n",
      "│ kenter_wv_k_50_b_0.2_text    │ 0.870829 │ 0.870829 │ 0.870829 │ 0.870829 │ 2.88378 │ 1618 │ 14760 │  240 │  240 │\n",
      "├──────────────────────────────┼──────────┼──────────┼──────────┼──────────┼─────────┼──────┼───────┼──────┼──────┤\n",
      "│ kenter_ft_k_50_b_0.2_text    │ 0.857374 │ 0.857374 │ 0.857374 │ 0.857374 │ 2.94502 │ 1593 │ 14735 │  265 │  265 │\n",
      "╘══════════════════════════════╧══════════╧══════════╧══════════╧══════════╧═════════╧══════╧═══════╧══════╧══════╛\n"
     ]
    }
   ],
   "source": [
    "print(tabulate_res(results))"
   ]
  },
  {
   "cell_type": "code",
   "execution_count": null,
   "metadata": {},
   "outputs": [],
   "source": []
  },
  {
   "cell_type": "code",
   "execution_count": 120,
   "metadata": {
    "ExecuteTime": {
     "end_time": "2019-03-07T11:08:54.590472Z",
     "start_time": "2019-03-07T11:08:54.483937Z"
    }
   },
   "outputs": [],
   "source": [
    "with open('unsupervised_results_lemma_kenter.pickle', 'wb') as f:\n",
    "    pickle.dump(results, f)"
   ]
  },
  {
   "cell_type": "code",
   "execution_count": 97,
   "metadata": {
    "ExecuteTime": {
     "end_time": "2019-03-07T11:00:48.846915Z",
     "start_time": "2019-03-07T11:00:48.842519Z"
    }
   },
   "outputs": [],
   "source": [
    "def normalize_score(dfnow, colname, thrnow):\n",
    "    \n",
    "    stdnow = dfnow[colname].std()\n",
    "    \n",
    "    print(\"%s\\t==>\\tstd: %.4f, old_thr: %.4f\" % (colname, stdnow, thrnow))\n",
    "    \n",
    "    return (dfnow[colname] - thrnow ) / stdnow, stdnow"
   ]
  },
  {
   "cell_type": "code",
   "execution_count": 106,
   "metadata": {
    "ExecuteTime": {
     "end_time": "2019-03-07T11:06:32.390725Z",
     "start_time": "2019-03-07T11:06:32.385397Z"
    }
   },
   "outputs": [],
   "source": []
  },
  {
   "cell_type": "code",
   "execution_count": 142,
   "metadata": {
    "ExecuteTime": {
     "end_time": "2019-03-07T11:32:14.047555Z",
     "start_time": "2019-03-07T11:32:14.039948Z"
    }
   },
   "outputs": [],
   "source": [
    "field = 'text'\n",
    "res_tmp = np.zeros((len(ks), len(bs)))\n",
    "\n",
    "met = 'kenter_ft'\n",
    "\n",
    "for ind_k, k1 in enumerate(ks):\n",
    "    for ind_b, b in enumerate(bs):\n",
    "        optname = 'k_'+str(k1)+'_b_'+str(b)\n",
    "        \n",
    "        colname = met + '_' + optname + '_' + field\n",
    "        \n",
    "        res_tmp[ind_k, ind_b] = results[colname]['f1']"
   ]
  },
  {
   "cell_type": "code",
   "execution_count": 143,
   "metadata": {
    "ExecuteTime": {
     "end_time": "2019-03-07T11:32:18.748126Z",
     "start_time": "2019-03-07T11:32:18.738386Z"
    }
   },
   "outputs": [
    {
     "name": "stdout",
     "output_type": "stream",
     "text": [
      "[[0.86114101 0.86167922 0.86383208 0.85791173 0.82723358]\n",
      " [0.87621098 0.87621098 0.87674919 0.87190527 0.84337998]\n",
      " [0.88320775 0.88374596 0.8853606  0.87944026 0.85145318]\n",
      " [0.88805167 0.88805167 0.88805167 0.88482239 0.85737352]]\n"
     ]
    }
   ],
   "source": [
    "print(res_tmp)"
   ]
  },
  {
   "cell_type": "code",
   "execution_count": 127,
   "metadata": {
    "ExecuteTime": {
     "end_time": "2019-03-07T11:13:52.749107Z",
     "start_time": "2019-03-07T11:13:52.743745Z"
    }
   },
   "outputs": [
    {
     "name": "stdout",
     "output_type": "stream",
     "text": [
      "[[0.61679225 0.50484392 0.37674919 0.27502691 0.22174381]\n",
      " [0.67061356 0.54413348 0.40419806 0.29386437 0.23035522]\n",
      " [0.70559742 0.57481163 0.42734123 0.29763186 0.23681378]\n",
      " [0.73896663 0.60710441 0.4467169  0.31001076 0.24273412]\n",
      " [0.76964478 0.6350915  0.46340151 0.32077503 0.2416577 ]\n",
      " [0.78848224 0.65285253 0.47255113 0.32561895 0.24650161]\n",
      " [0.82723358 0.68083961 0.48600646 0.33584499 0.2540366 ]]\n"
     ]
    }
   ],
   "source": [
    "print(res_tmp)"
   ]
  },
  {
   "cell_type": "code",
   "execution_count": 144,
   "metadata": {
    "ExecuteTime": {
     "end_time": "2019-03-07T11:33:07.634244Z",
     "start_time": "2019-03-07T11:33:07.629997Z"
    }
   },
   "outputs": [
    {
     "data": {
      "text/plain": [
       "[5, 10, 20, 50]"
      ]
     },
     "execution_count": 144,
     "metadata": {},
     "output_type": "execute_result"
    }
   ],
   "source": [
    "ks"
   ]
  },
  {
   "cell_type": "code",
   "execution_count": 145,
   "metadata": {
    "ExecuteTime": {
     "end_time": "2019-03-07T11:33:08.829119Z",
     "start_time": "2019-03-07T11:33:08.819667Z"
    }
   },
   "outputs": [
    {
     "data": {
      "text/plain": [
       "[0, 0.001, 0.01, 0.1, 0.2]"
      ]
     },
     "execution_count": 145,
     "metadata": {},
     "output_type": "execute_result"
    }
   ],
   "source": [
    "bs"
   ]
  },
  {
   "cell_type": "code",
   "execution_count": 147,
   "metadata": {
    "ExecuteTime": {
     "end_time": "2019-03-07T11:37:39.583091Z",
     "start_time": "2019-03-07T11:37:39.577471Z"
    }
   },
   "outputs": [],
   "source": [
    "k_opt = 50\n",
    "b_opt = 0.001\n",
    "\n",
    "optname = 'k_'+str(k_opt)+'_b_'+str(b_opt)"
   ]
  },
  {
   "cell_type": "code",
   "execution_count": 157,
   "metadata": {
    "ExecuteTime": {
     "end_time": "2019-03-07T11:40:21.281454Z",
     "start_time": "2019-03-07T11:40:21.273973Z"
    }
   },
   "outputs": [],
   "source": [
    "methods2 = [met+'_'+optname for met in ['kenter_wv','kenter_ft']]\n",
    "methods_cross_2 = [met + '_' + field for met in methods2 for field in fields]"
   ]
  },
  {
   "cell_type": "code",
   "execution_count": 158,
   "metadata": {
    "ExecuteTime": {
     "end_time": "2019-03-07T11:40:21.733189Z",
     "start_time": "2019-03-07T11:40:21.718840Z"
    }
   },
   "outputs": [
    {
     "name": "stdout",
     "output_type": "stream",
     "text": [
      "kenter_wv_k_50_b_0.001_title\t==>\tstd: 0.6633, old_thr: 2.1393\n",
      "kenter_wv_k_50_b_0.001_spot\t==>\tstd: 0.6192, old_thr: 2.3531\n",
      "kenter_wv_k_50_b_0.001_text\t==>\tstd: 0.5445, old_thr: 2.6989\n",
      "kenter_ft_k_50_b_0.001_title\t==>\tstd: 0.6932, old_thr: 2.1730\n",
      "kenter_ft_k_50_b_0.001_spot\t==>\tstd: 0.6468, old_thr: 2.3728\n",
      "kenter_ft_k_50_b_0.001_text\t==>\tstd: 0.5724, old_thr: 2.7569\n"
     ]
    }
   ],
   "source": [
    "for method in methods_cross_2:\n",
    "    dsnow, stdnow = normalize_score(df_comparisons, method, results[method]['thr'])\n",
    "    df_comparisons[method+'_norm'] = dsnow\n",
    "    results[method]['std_norm'] = stdnow"
   ]
  },
  {
   "cell_type": "code",
   "execution_count": 159,
   "metadata": {
    "ExecuteTime": {
     "end_time": "2019-03-07T11:40:32.461756Z",
     "start_time": "2019-03-07T11:40:32.458855Z"
    }
   },
   "outputs": [],
   "source": [
    "methods_cross_norm2 = [met+'_norm' for met in methods_cross_2]"
   ]
  },
  {
   "cell_type": "code",
   "execution_count": 160,
   "metadata": {
    "ExecuteTime": {
     "end_time": "2019-03-07T11:40:32.811138Z",
     "start_time": "2019-03-07T11:40:32.807230Z"
    }
   },
   "outputs": [],
   "source": [
    "field_weights = {'spot': 0.3, 'title': 0.1, 'text': 0.6}"
   ]
  },
  {
   "cell_type": "code",
   "execution_count": 161,
   "metadata": {
    "ExecuteTime": {
     "end_time": "2019-03-07T11:40:33.157313Z",
     "start_time": "2019-03-07T11:40:33.151491Z"
    }
   },
   "outputs": [],
   "source": [
    "def weighted_av(rownow, weights_field, metsnow):\n",
    "    \n",
    "    score = 0\n",
    "    count = 0\n",
    "    \n",
    "    for method in metsnow:\n",
    "        count += 1\n",
    "        for field in fields:\n",
    "            score += weights_field[field] * rownow[method + '_' + field + '_norm']\n",
    "            \n",
    "    return score / count"
   ]
  },
  {
   "cell_type": "code",
   "execution_count": 162,
   "metadata": {
    "ExecuteTime": {
     "end_time": "2019-03-07T11:40:38.663756Z",
     "start_time": "2019-03-07T11:40:37.635137Z"
    }
   },
   "outputs": [],
   "source": [
    "for met in methods2:\n",
    "    df_comparisons[met + '_all'] = df_comparisons.apply(lambda row: weighted_av(row, field_weights, [met]), axis=1)\n",
    "    results.update({met + '_all': find_eacc(df_comparisons.label.values, df_comparisons[met + '_all'].values)})"
   ]
  },
  {
   "cell_type": "code",
   "execution_count": 163,
   "metadata": {
    "ExecuteTime": {
     "end_time": "2019-03-07T11:40:48.613751Z",
     "start_time": "2019-03-07T11:40:48.603495Z"
    }
   },
   "outputs": [],
   "source": [
    "results.update({met+'_all': find_eacc(df_comparisons.label.values, df_comparisons[met+'_all'].values) for met in methods2})"
   ]
  },
  {
   "cell_type": "code",
   "execution_count": 164,
   "metadata": {
    "ExecuteTime": {
     "end_time": "2019-03-07T11:40:52.412425Z",
     "start_time": "2019-03-07T11:40:52.356338Z"
    }
   },
   "outputs": [
    {
     "name": "stdout",
     "output_type": "stream",
     "text": [
      "╒══════════════════════════════╤══════════╤══════════╤══════════╤══════════╤════════════╤══════╤═══════╤══════╤══════╕\n",
      "│                              │    E-ACC │       F1 │     PREC │   RECALL │        THR │   TP │    TN │   FP │   FN │\n",
      "╞══════════════════════════════╪══════════╪══════════╪══════════╪══════════╪════════════╪══════╪═══════╪══════╪══════╡\n",
      "│ kenter_wv_title              │ 0.572121 │ 0.572121 │ 0.572121 │ 0.572121 │  2.90282   │ 1063 │ 14205 │  795 │  795 │\n",
      "├──────────────────────────────┼──────────┼──────────┼──────────┼──────────┼────────────┼──────┼───────┼──────┼──────┤\n",
      "│ kenter_wv_spot               │ 0.629171 │ 0.629171 │ 0.629171 │ 0.629171 │  3.40738   │ 1169 │ 14311 │  689 │  689 │\n",
      "├──────────────────────────────┼──────────┼──────────┼──────────┼──────────┼────────────┼──────┼───────┼──────┼──────┤\n",
      "│ kenter_wv_text               │ 0.467169 │ 0.467169 │ 0.467169 │ 0.467169 │  4.4085    │  868 │ 14010 │  990 │  990 │\n",
      "├──────────────────────────────┼──────────┼──────────┼──────────┼──────────┼────────────┼──────┼───────┼──────┼──────┤\n",
      "│ kenter_ft_title              │ 0.555436 │ 0.555436 │ 0.555436 │ 0.555436 │  2.95067   │ 1032 │ 14174 │  826 │  826 │\n",
      "├──────────────────────────────┼──────────┼──────────┼──────────┼──────────┼────────────┼──────┼───────┼──────┼──────┤\n",
      "│ kenter_ft_spot               │ 0.624865 │ 0.624865 │ 0.624865 │ 0.624865 │  3.43234   │ 1161 │ 14303 │  697 │  697 │\n",
      "├──────────────────────────────┼──────────┼──────────┼──────────┼──────────┼────────────┼──────┼───────┼──────┼──────┤\n",
      "│ kenter_ft_text               │ 0.463402 │ 0.463402 │ 0.463402 │ 0.463402 │  4.49999   │  861 │ 14003 │  997 │  997 │\n",
      "├──────────────────────────────┼──────────┼──────────┼──────────┼──────────┼────────────┼──────┼───────┼──────┼──────┤\n",
      "│ idf_wv_title                 │ 0.755651 │ 0.755651 │ 0.755651 │ 0.755651 │  2.12314   │ 1404 │ 14546 │  454 │  454 │\n",
      "├──────────────────────────────┼──────────┼──────────┼──────────┼──────────┼────────────┼──────┼───────┼──────┼──────┤\n",
      "│ idf_wv_spot                  │ 0.876211 │ 0.876211 │ 0.876211 │ 0.876211 │  2.33369   │ 1628 │ 14770 │  230 │  230 │\n",
      "├──────────────────────────────┼──────────┼──────────┼──────────┼──────────┼────────────┼──────┼───────┼──────┼──────┤\n",
      "│ idf_wv_text                  │ 0.901507 │ 0.901507 │ 0.901507 │ 0.901507 │  2.68575   │ 1675 │ 14817 │  183 │  183 │\n",
      "├──────────────────────────────┼──────────┼──────────┼──────────┼──────────┼────────────┼──────┼───────┼──────┼──────┤\n",
      "│ idf_ft_title                 │ 0.747578 │ 0.747578 │ 0.747578 │ 0.747578 │  2.15194   │ 1389 │ 14531 │  469 │  469 │\n",
      "├──────────────────────────────┼──────────┼──────────┼──────────┼──────────┼────────────┼──────┼───────┼──────┼──────┤\n",
      "│ idf_ft_spot                  │ 0.870829 │ 0.870829 │ 0.870829 │ 0.870829 │  2.35513   │ 1618 │ 14760 │  240 │  240 │\n",
      "├──────────────────────────────┼──────────┼──────────┼──────────┼──────────┼────────────┼──────┼───────┼──────┼──────┤\n",
      "│ idf_ft_text                  │ 0.890743 │ 0.890743 │ 0.890743 │ 0.890743 │  2.73829   │ 1655 │ 14797 │  203 │  203 │\n",
      "├──────────────────────────────┼──────────┼──────────┼──────────┼──────────┼────────────┼──────┼───────┼──────┼──────┤\n",
      "│ kenter_wv_k_5_b_0_title      │ 0.720129 │ 0.720129 │ 0.720129 │ 0.720129 │  2.29472   │ 1338 │ 14480 │  520 │  520 │\n",
      "├──────────────────────────────┼──────────┼──────────┼──────────┼──────────┼────────────┼──────┼───────┼──────┼──────┤\n",
      "│ kenter_ft_k_5_b_0_title      │ 0.705597 │ 0.705597 │ 0.705597 │ 0.705597 │  2.32773   │ 1311 │ 14453 │  547 │  547 │\n",
      "├──────────────────────────────┼──────────┼──────────┼──────────┼──────────┼────────────┼──────┼───────┼──────┼──────┤\n",
      "│ kenter_wv_k_5_b_0_spot       │ 0.854144 │ 0.854144 │ 0.854144 │ 0.854144 │  2.49282   │ 1587 │ 14729 │  271 │  271 │\n",
      "├──────────────────────────────┼──────────┼──────────┼──────────┼──────────┼────────────┼──────┼───────┼──────┼──────┤\n",
      "│ kenter_ft_k_5_b_0_spot       │ 0.848762 │ 0.848762 │ 0.848762 │ 0.848762 │  2.52176   │ 1577 │ 14719 │  281 │  281 │\n",
      "├──────────────────────────────┼──────────┼──────────┼──────────┼──────────┼────────────┼──────┼───────┼──────┼──────┤\n",
      "│ kenter_wv_k_5_b_0_text       │ 0.878902 │ 0.878902 │ 0.878902 │ 0.878902 │  2.82787   │ 1633 │ 14775 │  225 │  225 │\n",
      "├──────────────────────────────┼──────────┼──────────┼──────────┼──────────┼────────────┼──────┼───────┼──────┼──────┤\n",
      "│ kenter_ft_k_5_b_0_text       │ 0.861141 │ 0.861141 │ 0.861141 │ 0.861141 │  2.90152   │ 1600 │ 14742 │  258 │  258 │\n",
      "├──────────────────────────────┼──────────┼──────────┼──────────┼──────────┼────────────┼──────┼───────┼──────┼──────┤\n",
      "│ kenter_wv_k_5_b_0.001_title  │ 0.720129 │ 0.720129 │ 0.720129 │ 0.720129 │  2.29504   │ 1338 │ 14480 │  520 │  520 │\n",
      "├──────────────────────────────┼──────────┼──────────┼──────────┼──────────┼────────────┼──────┼───────┼──────┼──────┤\n",
      "│ kenter_ft_k_5_b_0.001_title  │ 0.706136 │ 0.706136 │ 0.706136 │ 0.706136 │  2.32751   │ 1312 │ 14454 │  546 │  546 │\n",
      "├──────────────────────────────┼──────────┼──────────┼──────────┼──────────┼────────────┼──────┼───────┼──────┼──────┤\n",
      "│ kenter_wv_k_5_b_0.001_spot   │ 0.854144 │ 0.854144 │ 0.854144 │ 0.854144 │  2.49273   │ 1587 │ 14729 │  271 │  271 │\n",
      "├──────────────────────────────┼──────────┼──────────┼──────────┼──────────┼────────────┼──────┼───────┼──────┼──────┤\n",
      "│ kenter_ft_k_5_b_0.001_spot   │ 0.848762 │ 0.848762 │ 0.848762 │ 0.848762 │  2.52222   │ 1577 │ 14719 │  281 │  281 │\n",
      "├──────────────────────────────┼──────────┼──────────┼──────────┼──────────┼────────────┼──────┼───────┼──────┼──────┤\n",
      "│ kenter_wv_k_5_b_0.001_text   │ 0.878902 │ 0.878902 │ 0.878902 │ 0.878902 │  2.82927   │ 1633 │ 14775 │  225 │  225 │\n",
      "├──────────────────────────────┼──────────┼──────────┼──────────┼──────────┼────────────┼──────┼───────┼──────┼──────┤\n",
      "│ kenter_ft_k_5_b_0.001_text   │ 0.861679 │ 0.861679 │ 0.861679 │ 0.861679 │  2.90189   │ 1601 │ 14743 │  257 │  257 │\n",
      "├──────────────────────────────┼──────────┼──────────┼──────────┼──────────┼────────────┼──────┼───────┼──────┼──────┤\n",
      "│ kenter_wv_k_5_b_0.01_title   │ 0.720667 │ 0.720667 │ 0.720667 │ 0.720667 │  2.29857   │ 1339 │ 14481 │  519 │  519 │\n",
      "├──────────────────────────────┼──────────┼──────────┼──────────┼──────────┼────────────┼──────┼───────┼──────┼──────┤\n",
      "│ kenter_ft_k_5_b_0.01_title   │ 0.706136 │ 0.706136 │ 0.706136 │ 0.706136 │  2.3301    │ 1312 │ 14454 │  546 │  546 │\n",
      "├──────────────────────────────┼──────────┼──────────┼──────────┼──────────┼────────────┼──────┼───────┼──────┼──────┤\n",
      "│ kenter_wv_k_5_b_0.01_spot    │ 0.855221 │ 0.855221 │ 0.855221 │ 0.855221 │  2.49695   │ 1589 │ 14731 │  269 │  269 │\n",
      "├──────────────────────────────┼──────────┼──────────┼──────────┼──────────┼────────────┼──────┼───────┼──────┼──────┤\n",
      "│ kenter_ft_k_5_b_0.01_spot    │ 0.848762 │ 0.848762 │ 0.848762 │ 0.848762 │  2.52735   │ 1577 │ 14719 │  281 │  281 │\n",
      "├──────────────────────────────┼──────────┼──────────┼──────────┼──────────┼────────────┼──────┼───────┼──────┼──────┤\n",
      "│ kenter_wv_k_5_b_0.01_text    │ 0.878902 │ 0.878902 │ 0.878902 │ 0.878902 │  2.84066   │ 1633 │ 14775 │  225 │  225 │\n",
      "├──────────────────────────────┼──────────┼──────────┼──────────┼──────────┼────────────┼──────┼───────┼──────┼──────┤\n",
      "│ kenter_ft_k_5_b_0.01_text    │ 0.863832 │ 0.863832 │ 0.863832 │ 0.863832 │  2.90989   │ 1605 │ 14747 │  253 │  253 │\n",
      "├──────────────────────────────┼──────────┼──────────┼──────────┼──────────┼────────────┼──────┼───────┼──────┼──────┤\n",
      "│ kenter_wv_k_5_b_0.1_title    │ 0.7169   │ 0.7169   │ 0.7169   │ 0.7169   │  2.32628   │ 1332 │ 14474 │  526 │  526 │\n",
      "├──────────────────────────────┼──────────┼──────────┼──────────┼──────────┼────────────┼──────┼───────┼──────┼──────┤\n",
      "│ kenter_ft_k_5_b_0.1_title    │ 0.702368 │ 0.702368 │ 0.702368 │ 0.702368 │  2.35859   │ 1305 │ 14447 │  553 │  553 │\n",
      "├──────────────────────────────┼──────────┼──────────┼──────────┼──────────┼────────────┼──────┼───────┼──────┼──────┤\n",
      "│ kenter_wv_k_5_b_0.1_spot     │ 0.8493   │ 0.8493   │ 0.8493   │ 0.8493   │  2.53816   │ 1578 │ 14720 │  280 │  280 │\n",
      "├──────────────────────────────┼──────────┼──────────┼──────────┼──────────┼────────────┼──────┼───────┼──────┼──────┤\n",
      "│ kenter_ft_k_5_b_0.1_spot     │ 0.845533 │ 0.845533 │ 0.845533 │ 0.845533 │  2.56797   │ 1571 │ 14713 │  287 │  287 │\n",
      "├──────────────────────────────┼──────────┼──────────┼──────────┼──────────┼────────────┼──────┼───────┼──────┼──────┤\n",
      "│ kenter_wv_k_5_b_0.1_text     │ 0.877287 │ 0.877287 │ 0.877287 │ 0.877287 │  2.91603   │ 1630 │ 14772 │  228 │  228 │\n",
      "├──────────────────────────────┼──────────┼──────────┼──────────┼──────────┼────────────┼──────┼───────┼──────┼──────┤\n",
      "│ kenter_ft_k_5_b_0.1_text     │ 0.857912 │ 0.857912 │ 0.857912 │ 0.857912 │  2.98783   │ 1594 │ 14736 │  264 │  264 │\n",
      "├──────────────────────────────┼──────────┼──────────┼──────────┼──────────┼────────────┼──────┼───────┼──────┼──────┤\n",
      "│ kenter_wv_k_5_b_0.2_title    │ 0.712056 │ 0.712056 │ 0.712056 │ 0.712056 │  2.35952   │ 1323 │ 14465 │  535 │  535 │\n",
      "├──────────────────────────────┼──────────┼──────────┼──────────┼──────────┼────────────┼──────┼───────┼──────┼──────┤\n",
      "│ kenter_ft_k_5_b_0.2_title    │ 0.69591  │ 0.69591  │ 0.69591  │ 0.69591  │  2.39329   │ 1293 │ 14435 │  565 │  565 │\n",
      "├──────────────────────────────┼──────────┼──────────┼──────────┼──────────┼────────────┼──────┼───────┼──────┼──────┤\n",
      "│ kenter_wv_k_5_b_0.2_spot     │ 0.841765 │ 0.841765 │ 0.841765 │ 0.841765 │  2.61254   │ 1564 │ 14706 │  294 │  294 │\n",
      "├──────────────────────────────┼──────────┼──────────┼──────────┼──────────┼────────────┼──────┼───────┼──────┼──────┤\n",
      "│ kenter_ft_k_5_b_0.2_spot     │ 0.829925 │ 0.829925 │ 0.829925 │ 0.829925 │  2.62959   │ 1542 │ 14684 │  316 │  316 │\n",
      "├──────────────────────────────┼──────────┼──────────┼──────────┼──────────┼────────────┼──────┼───────┼──────┼──────┤\n",
      "│ kenter_wv_k_5_b_0.2_text     │ 0.842842 │ 0.842842 │ 0.842842 │ 0.842842 │  3.00218   │ 1566 │ 14708 │  292 │  292 │\n",
      "├──────────────────────────────┼──────────┼──────────┼──────────┼──────────┼────────────┼──────┼───────┼──────┼──────┤\n",
      "│ kenter_ft_k_5_b_0.2_text     │ 0.827234 │ 0.827234 │ 0.827234 │ 0.827234 │  3.07501   │ 1537 │ 14679 │  321 │  321 │\n",
      "├──────────────────────────────┼──────────┼──────────┼──────────┼──────────┼────────────┼──────┼───────┼──────┼──────┤\n",
      "│ kenter_wv_k_10_b_0_title     │ 0.740043 │ 0.740043 │ 0.740043 │ 0.740043 │  2.21244   │ 1375 │ 14517 │  483 │  483 │\n",
      "├──────────────────────────────┼──────────┼──────────┼──────────┼──────────┼────────────┼──────┼───────┼──────┼──────┤\n",
      "│ kenter_ft_k_10_b_0_title     │ 0.726588 │ 0.726588 │ 0.726588 │ 0.726588 │  2.24485   │ 1350 │ 14492 │  508 │  508 │\n",
      "├──────────────────────────────┼──────────┼──────────┼──────────┼──────────┼────────────┼──────┼───────┼──────┼──────┤\n",
      "│ kenter_wv_k_10_b_0_spot      │ 0.866523 │ 0.866523 │ 0.866523 │ 0.866523 │  2.41763   │ 1610 │ 14752 │  248 │  248 │\n",
      "├──────────────────────────────┼──────────┼──────────┼──────────┼──────────┼────────────┼──────┼───────┼──────┼──────┤\n",
      "│ kenter_ft_k_10_b_0_spot      │ 0.859526 │ 0.859526 │ 0.859526 │ 0.859526 │  2.44263   │ 1597 │ 14739 │  261 │  261 │\n",
      "├──────────────────────────────┼──────────┼──────────┼──────────┼──────────┼────────────┼──────┼───────┼──────┼──────┤\n",
      "│ kenter_wv_k_10_b_0_text      │ 0.890743 │ 0.890743 │ 0.890743 │ 0.890743 │  2.7608    │ 1655 │ 14797 │  203 │  203 │\n",
      "├──────────────────────────────┼──────────┼──────────┼──────────┼──────────┼────────────┼──────┼───────┼──────┼──────┤\n",
      "│ kenter_ft_k_10_b_0_text      │ 0.876211 │ 0.876211 │ 0.876211 │ 0.876211 │  2.8253    │ 1628 │ 14770 │  230 │  230 │\n",
      "├──────────────────────────────┼──────────┼──────────┼──────────┼──────────┼────────────┼──────┼───────┼──────┼──────┤\n",
      "│ kenter_wv_k_10_b_0.001_title │ 0.740043 │ 0.740043 │ 0.740043 │ 0.740043 │  2.21288   │ 1375 │ 14517 │  483 │  483 │\n",
      "├──────────────────────────────┼──────────┼──────────┼──────────┼──────────┼────────────┼──────┼───────┼──────┼──────┤\n",
      "│ kenter_ft_k_10_b_0.001_title │ 0.727126 │ 0.727126 │ 0.727126 │ 0.727126 │  2.24498   │ 1351 │ 14493 │  507 │  507 │\n",
      "├──────────────────────────────┼──────────┼──────────┼──────────┼──────────┼────────────┼──────┼───────┼──────┼──────┤\n",
      "│ kenter_wv_k_10_b_0.001_spot  │ 0.865985 │ 0.865985 │ 0.865985 │ 0.865985 │  2.41823   │ 1609 │ 14751 │  249 │  249 │\n",
      "├──────────────────────────────┼──────────┼──────────┼──────────┼──────────┼────────────┼──────┼───────┼──────┼──────┤\n",
      "│ kenter_ft_k_10_b_0.001_spot  │ 0.859526 │ 0.859526 │ 0.859526 │ 0.859526 │  2.44253   │ 1597 │ 14739 │  261 │  261 │\n",
      "├──────────────────────────────┼──────────┼──────────┼──────────┼──────────┼────────────┼──────┼───────┼──────┼──────┤\n",
      "│ kenter_wv_k_10_b_0.001_text  │ 0.890743 │ 0.890743 │ 0.890743 │ 0.890743 │  2.76273   │ 1655 │ 14797 │  203 │  203 │\n",
      "├──────────────────────────────┼──────────┼──────────┼──────────┼──────────┼────────────┼──────┼───────┼──────┼──────┤\n",
      "│ kenter_ft_k_10_b_0.001_text  │ 0.876211 │ 0.876211 │ 0.876211 │ 0.876211 │  2.8266    │ 1628 │ 14770 │  230 │  230 │\n",
      "├──────────────────────────────┼──────────┼──────────┼──────────┼──────────┼────────────┼──────┼───────┼──────┼──────┤\n",
      "│ kenter_wv_k_10_b_0.01_title  │ 0.740043 │ 0.740043 │ 0.740043 │ 0.740043 │  2.21376   │ 1375 │ 14517 │  483 │  483 │\n",
      "├──────────────────────────────┼──────────┼──────────┼──────────┼──────────┼────────────┼──────┼───────┼──────┼──────┤\n",
      "│ kenter_ft_k_10_b_0.01_title  │ 0.728202 │ 0.728202 │ 0.728202 │ 0.728202 │  2.24552   │ 1353 │ 14495 │  505 │  505 │\n",
      "├──────────────────────────────┼──────────┼──────────┼──────────┼──────────┼────────────┼──────┼───────┼──────┼──────┤\n",
      "│ kenter_wv_k_10_b_0.01_spot   │ 0.863832 │ 0.863832 │ 0.863832 │ 0.863832 │  2.42106   │ 1605 │ 14747 │  253 │  253 │\n",
      "├──────────────────────────────┼──────────┼──────────┼──────────┼──────────┼────────────┼──────┼───────┼──────┼──────┤\n",
      "│ kenter_ft_k_10_b_0.01_spot   │ 0.860065 │ 0.860065 │ 0.860065 │ 0.860065 │  2.4447    │ 1598 │ 14740 │  260 │  260 │\n",
      "├──────────────────────────────┼──────────┼──────────┼──────────┼──────────┼────────────┼──────┼───────┼──────┼──────┤\n",
      "│ kenter_wv_k_10_b_0.01_text   │ 0.891281 │ 0.891281 │ 0.891281 │ 0.891281 │  2.77037   │ 1656 │ 14798 │  202 │  202 │\n",
      "├──────────────────────────────┼──────────┼──────────┼──────────┼──────────┼────────────┼──────┼───────┼──────┼──────┤\n",
      "│ kenter_ft_k_10_b_0.01_text   │ 0.876749 │ 0.876749 │ 0.876749 │ 0.876749 │  2.83397   │ 1629 │ 14771 │  229 │  229 │\n",
      "├──────────────────────────────┼──────────┼──────────┼──────────┼──────────┼────────────┼──────┼───────┼──────┼──────┤\n",
      "│ kenter_wv_k_10_b_0.1_title   │ 0.737352 │ 0.737352 │ 0.737352 │ 0.737352 │  2.24067   │ 1370 │ 14512 │  488 │  488 │\n",
      "├──────────────────────────────┼──────────┼──────────┼──────────┼──────────┼────────────┼──────┼───────┼──────┼──────┤\n",
      "│ kenter_ft_k_10_b_0.1_title   │ 0.724435 │ 0.724435 │ 0.724435 │ 0.724435 │  2.27638   │ 1346 │ 14488 │  512 │  512 │\n",
      "├──────────────────────────────┼──────────┼──────────┼──────────┼──────────┼────────────┼──────┼───────┼──────┼──────┤\n",
      "│ kenter_wv_k_10_b_0.1_spot    │ 0.863832 │ 0.863832 │ 0.863832 │ 0.863832 │  2.46342   │ 1605 │ 14747 │  253 │  253 │\n",
      "├──────────────────────────────┼──────────┼──────────┼──────────┼──────────┼────────────┼──────┼───────┼──────┼──────┤\n",
      "│ kenter_ft_k_10_b_0.1_spot    │ 0.855221 │ 0.855221 │ 0.855221 │ 0.855221 │  2.49469   │ 1589 │ 14731 │  269 │  269 │\n",
      "├──────────────────────────────┼──────────┼──────────┼──────────┼──────────┼────────────┼──────┼───────┼──────┼──────┤\n",
      "│ kenter_wv_k_10_b_0.1_text    │ 0.889666 │ 0.889666 │ 0.889666 │ 0.889666 │  2.85247   │ 1653 │ 14795 │  205 │  205 │\n",
      "├──────────────────────────────┼──────────┼──────────┼──────────┼──────────┼────────────┼──────┼───────┼──────┼──────┤\n",
      "│ kenter_ft_k_10_b_0.1_text    │ 0.871905 │ 0.871905 │ 0.871905 │ 0.871905 │  2.9142    │ 1620 │ 14762 │  238 │  238 │\n",
      "├──────────────────────────────┼──────────┼──────────┼──────────┼──────────┼────────────┼──────┼───────┼──────┼──────┤\n",
      "│ kenter_wv_k_10_b_0.2_title   │ 0.733584 │ 0.733584 │ 0.733584 │ 0.733584 │  2.28194   │ 1363 │ 14505 │  495 │  495 │\n",
      "├──────────────────────────────┼──────────┼──────────┼──────────┼──────────┼────────────┼──────┼───────┼──────┼──────┤\n",
      "│ kenter_ft_k_10_b_0.2_title   │ 0.715823 │ 0.715823 │ 0.715823 │ 0.715823 │  2.30843   │ 1330 │ 14472 │  528 │  528 │\n",
      "├──────────────────────────────┼──────────┼──────────┼──────────┼──────────┼────────────┼──────┼───────┼──────┼──────┤\n",
      "│ kenter_wv_k_10_b_0.2_spot    │ 0.855759 │ 0.855759 │ 0.855759 │ 0.855759 │  2.53591   │ 1590 │ 14732 │  268 │  268 │\n",
      "├──────────────────────────────┼──────────┼──────────┼──────────┼──────────┼────────────┼──────┼───────┼──────┼──────┤\n",
      "│ kenter_ft_k_10_b_0.2_spot    │ 0.844995 │ 0.844995 │ 0.844995 │ 0.844995 │  2.55365   │ 1570 │ 14712 │  288 │  288 │\n",
      "├──────────────────────────────┼──────────┼──────────┼──────────┼──────────┼────────────┼──────┼───────┼──────┼──────┤\n",
      "│ kenter_wv_k_10_b_0.2_text    │ 0.85845  │ 0.85845  │ 0.85845  │ 0.85845  │  2.93476   │ 1595 │ 14737 │  263 │  263 │\n",
      "├──────────────────────────────┼──────────┼──────────┼──────────┼──────────┼────────────┼──────┼───────┼──────┼──────┤\n",
      "│ kenter_ft_k_10_b_0.2_text    │ 0.84338  │ 0.84338  │ 0.84338  │ 0.84338  │  3.00283   │ 1567 │ 14709 │  291 │  291 │\n",
      "├──────────────────────────────┼──────────┼──────────┼──────────┼──────────┼────────────┼──────┼───────┼──────┼──────┤\n",
      "│ kenter_wv_k_20_b_0_title     │ 0.745425 │ 0.745425 │ 0.745425 │ 0.745425 │  2.16837   │ 1385 │ 14527 │  473 │  473 │\n",
      "├──────────────────────────────┼──────────┼──────────┼──────────┼──────────┼────────────┼──────┼───────┼──────┼──────┤\n",
      "│ kenter_ft_k_20_b_0_title     │ 0.73789  │ 0.73789  │ 0.73789  │ 0.73789  │  2.203     │ 1371 │ 14513 │  487 │  487 │\n",
      "├──────────────────────────────┼──────────┼──────────┼──────────┼──────────┼────────────┼──────┼───────┼──────┼──────┤\n",
      "│ kenter_wv_k_20_b_0_spot      │ 0.871905 │ 0.871905 │ 0.871905 │ 0.871905 │  2.37688   │ 1620 │ 14762 │  238 │  238 │\n",
      "├──────────────────────────────┼──────────┼──────────┼──────────┼──────────┼────────────┼──────┼───────┼──────┼──────┤\n",
      "│ kenter_ft_k_20_b_0_spot      │ 0.863832 │ 0.863832 │ 0.863832 │ 0.863832 │  2.39474   │ 1605 │ 14747 │  253 │  253 │\n",
      "├──────────────────────────────┼──────────┼──────────┼──────────┼──────────┼────────────┼──────┼───────┼──────┼──────┤\n",
      "│ kenter_wv_k_20_b_0_text      │ 0.896125 │ 0.896125 │ 0.896125 │ 0.896125 │  2.72177   │ 1665 │ 14807 │  193 │  193 │\n",
      "├──────────────────────────────┼──────────┼──────────┼──────────┼──────────┼────────────┼──────┼───────┼──────┼──────┤\n",
      "│ kenter_ft_k_20_b_0_text      │ 0.883208 │ 0.883208 │ 0.883208 │ 0.883208 │  2.78081   │ 1641 │ 14783 │  217 │  217 │\n",
      "├──────────────────────────────┼──────────┼──────────┼──────────┼──────────┼────────────┼──────┼───────┼──────┼──────┤\n",
      "│ kenter_wv_k_20_b_0.001_title │ 0.745425 │ 0.745425 │ 0.745425 │ 0.745425 │  2.16841   │ 1385 │ 14527 │  473 │  473 │\n",
      "├──────────────────────────────┼──────────┼──────────┼──────────┼──────────┼────────────┼──────┼───────┼──────┼──────┤\n",
      "│ kenter_ft_k_20_b_0.001_title │ 0.73789  │ 0.73789  │ 0.73789  │ 0.73789  │  2.20345   │ 1371 │ 14513 │  487 │  487 │\n",
      "├──────────────────────────────┼──────────┼──────────┼──────────┼──────────┼────────────┼──────┼───────┼──────┼──────┤\n",
      "│ kenter_wv_k_20_b_0.001_spot  │ 0.871905 │ 0.871905 │ 0.871905 │ 0.871905 │  2.37756   │ 1620 │ 14762 │  238 │  238 │\n",
      "├──────────────────────────────┼──────────┼──────────┼──────────┼──────────┼────────────┼──────┼───────┼──────┼──────┤\n",
      "│ kenter_ft_k_20_b_0.001_spot  │ 0.863832 │ 0.863832 │ 0.863832 │ 0.863832 │  2.39605   │ 1605 │ 14747 │  253 │  253 │\n",
      "├──────────────────────────────┼──────────┼──────────┼──────────┼──────────┼────────────┼──────┼───────┼──────┼──────┤\n",
      "│ kenter_wv_k_20_b_0.001_text  │ 0.896125 │ 0.896125 │ 0.896125 │ 0.896125 │  2.72366   │ 1665 │ 14807 │  193 │  193 │\n",
      "├──────────────────────────────┼──────────┼──────────┼──────────┼──────────┼────────────┼──────┼───────┼──────┼──────┤\n",
      "│ kenter_ft_k_20_b_0.001_text  │ 0.883746 │ 0.883746 │ 0.883746 │ 0.883746 │  2.78256   │ 1642 │ 14784 │  216 │  216 │\n",
      "├──────────────────────────────┼──────────┼──────────┼──────────┼──────────┼────────────┼──────┼───────┼──────┼──────┤\n",
      "│ kenter_wv_k_20_b_0.01_title  │ 0.746502 │ 0.746502 │ 0.746502 │ 0.746502 │  2.16985   │ 1387 │ 14529 │  471 │  471 │\n",
      "├──────────────────────────────┼──────────┼──────────┼──────────┼──────────┼────────────┼──────┼───────┼──────┼──────┤\n",
      "│ kenter_ft_k_20_b_0.01_title  │ 0.738428 │ 0.738428 │ 0.738428 │ 0.738428 │  2.2047    │ 1372 │ 14514 │  486 │  486 │\n",
      "├──────────────────────────────┼──────────┼──────────┼──────────┼──────────┼────────────┼──────┼───────┼──────┼──────┤\n",
      "│ kenter_wv_k_20_b_0.01_spot   │ 0.870291 │ 0.870291 │ 0.870291 │ 0.870291 │  2.37954   │ 1617 │ 14759 │  241 │  241 │\n",
      "├──────────────────────────────┼──────────┼──────────┼──────────┼──────────┼────────────┼──────┼───────┼──────┼──────┤\n",
      "│ kenter_ft_k_20_b_0.01_spot   │ 0.863832 │ 0.863832 │ 0.863832 │ 0.863832 │  2.39894   │ 1605 │ 14747 │  253 │  253 │\n",
      "├──────────────────────────────┼──────────┼──────────┼──────────┼──────────┼────────────┼──────┼───────┼──────┼──────┤\n",
      "│ kenter_wv_k_20_b_0.01_text   │ 0.895587 │ 0.895587 │ 0.895587 │ 0.895587 │  2.73378   │ 1664 │ 14806 │  194 │  194 │\n",
      "├──────────────────────────────┼──────────┼──────────┼──────────┼──────────┼────────────┼──────┼───────┼──────┼──────┤\n",
      "│ kenter_ft_k_20_b_0.01_text   │ 0.885361 │ 0.885361 │ 0.885361 │ 0.885361 │  2.7931    │ 1645 │ 14787 │  213 │  213 │\n",
      "├──────────────────────────────┼──────────┼──────────┼──────────┼──────────┼────────────┼──────┼───────┼──────┼──────┤\n",
      "│ kenter_wv_k_20_b_0.1_title   │ 0.744887 │ 0.744887 │ 0.744887 │ 0.744887 │  2.20066   │ 1384 │ 14526 │  474 │  474 │\n",
      "├──────────────────────────────┼──────────┼──────────┼──────────┼──────────┼────────────┼──────┼───────┼──────┼──────┤\n",
      "│ kenter_ft_k_20_b_0.1_title   │ 0.735199 │ 0.735199 │ 0.735199 │ 0.735199 │  2.22999   │ 1366 │ 14508 │  492 │  492 │\n",
      "├──────────────────────────────┼──────────┼──────────┼──────────┼──────────┼────────────┼──────┼───────┼──────┼──────┤\n",
      "│ kenter_wv_k_20_b_0.1_spot    │ 0.870525 │ 0.870525 │ 0.870759 │ 0.870291 │  2.4221    │ 1617 │ 14760 │  240 │  241 │\n",
      "├──────────────────────────────┼──────────┼──────────┼──────────┼──────────┼────────────┼──────┼───────┼──────┼──────┤\n",
      "│ kenter_ft_k_20_b_0.1_spot    │ 0.860065 │ 0.860065 │ 0.860065 │ 0.860065 │  2.45425   │ 1598 │ 14740 │  260 │  260 │\n",
      "├──────────────────────────────┼──────────┼──────────┼──────────┼──────────┼────────────┼──────┼───────┼──────┼──────┤\n",
      "│ kenter_wv_k_20_b_0.1_text    │ 0.895048 │ 0.895048 │ 0.895048 │ 0.895048 │  2.81481   │ 1663 │ 14805 │  195 │  195 │\n",
      "├──────────────────────────────┼──────────┼──────────┼──────────┼──────────┼────────────┼──────┼───────┼──────┼──────┤\n",
      "│ kenter_ft_k_20_b_0.1_text    │ 0.87944  │ 0.87944  │ 0.87944  │ 0.87944  │  2.87789   │ 1634 │ 14776 │  224 │  224 │\n",
      "├──────────────────────────────┼──────────┼──────────┼──────────┼──────────┼────────────┼──────┼───────┼──────┼──────┤\n",
      "│ kenter_wv_k_20_b_0.2_title   │ 0.738428 │ 0.738428 │ 0.738428 │ 0.738428 │  2.23711   │ 1372 │ 14514 │  486 │  486 │\n",
      "├──────────────────────────────┼──────────┼──────────┼──────────┼──────────┼────────────┼──────┼───────┼──────┼──────┤\n",
      "│ kenter_ft_k_20_b_0.2_title   │ 0.727126 │ 0.727126 │ 0.727126 │ 0.727126 │  2.26805   │ 1351 │ 14493 │  507 │  507 │\n",
      "├──────────────────────────────┼──────────┼──────────┼──────────┼──────────┼────────────┼──────┼───────┼──────┼──────┤\n",
      "│ kenter_wv_k_20_b_0.2_spot    │ 0.861679 │ 0.861679 │ 0.861679 │ 0.861679 │  2.4923    │ 1601 │ 14743 │  257 │  257 │\n",
      "├──────────────────────────────┼──────────┼──────────┼──────────┼──────────┼────────────┼──────┼───────┼──────┼──────┤\n",
      "│ kenter_ft_k_20_b_0.2_spot    │ 0.851991 │ 0.851991 │ 0.851991 │ 0.851991 │  2.51497   │ 1583 │ 14725 │  275 │  275 │\n",
      "├──────────────────────────────┼──────────┼──────────┼──────────┼──────────┼────────────┼──────┼───────┼──────┼──────┤\n",
      "│ kenter_wv_k_20_b_0.2_text    │ 0.8676   │ 0.8676   │ 0.8676   │ 0.8676   │  2.9043    │ 1612 │ 14754 │  246 │  246 │\n",
      "├──────────────────────────────┼──────────┼──────────┼──────────┼──────────┼────────────┼──────┼───────┼──────┼──────┤\n",
      "│ kenter_ft_k_20_b_0.2_text    │ 0.851453 │ 0.851453 │ 0.851453 │ 0.851453 │  2.96934   │ 1582 │ 14724 │  276 │  276 │\n",
      "├──────────────────────────────┼──────────┼──────────┼──────────┼──────────┼────────────┼──────┼───────┼──────┼──────┤\n",
      "│ kenter_wv_k_50_b_0_title     │ 0.751346 │ 0.751346 │ 0.751346 │ 0.751346 │  2.13933   │ 1396 │ 14538 │  462 │  462 │\n",
      "├──────────────────────────────┼──────────┼──────────┼──────────┼──────────┼────────────┼──────┼───────┼──────┼──────┤\n",
      "│ kenter_ft_k_50_b_0_title     │ 0.743811 │ 0.743811 │ 0.743811 │ 0.743811 │  2.17297   │ 1382 │ 14524 │  476 │  476 │\n",
      "├──────────────────────────────┼──────────┼──────────┼──────────┼──────────┼────────────┼──────┼───────┼──────┼──────┤\n",
      "│ kenter_wv_k_50_b_0_spot      │ 0.874058 │ 0.874058 │ 0.874058 │ 0.874058 │  2.35258   │ 1624 │ 14766 │  234 │  234 │\n",
      "├──────────────────────────────┼──────────┼──────────┼──────────┼──────────┼────────────┼──────┼───────┼──────┼──────┤\n",
      "│ kenter_ft_k_50_b_0_spot      │ 0.866523 │ 0.866523 │ 0.866523 │ 0.866523 │  2.37151   │ 1610 │ 14752 │  248 │  248 │\n",
      "├──────────────────────────────┼──────────┼──────────┼──────────┼──────────┼────────────┼──────┼───────┼──────┼──────┤\n",
      "│ kenter_wv_k_50_b_0_text      │ 0.899354 │ 0.899354 │ 0.899354 │ 0.899354 │  2.69836   │ 1671 │ 14813 │  187 │  187 │\n",
      "├──────────────────────────────┼──────────┼──────────┼──────────┼──────────┼────────────┼──────┼───────┼──────┼──────┤\n",
      "│ kenter_ft_k_50_b_0_text      │ 0.888052 │ 0.888052 │ 0.888052 │ 0.888052 │  2.75529   │ 1650 │ 14792 │  208 │  208 │\n",
      "├──────────────────────────────┼──────────┼──────────┼──────────┼──────────┼────────────┼──────┼───────┼──────┼──────┤\n",
      "│ kenter_wv_k_50_b_0.001_title │ 0.750807 │ 0.750807 │ 0.750807 │ 0.750807 │  2.13926   │ 1395 │ 14537 │  463 │  463 │\n",
      "├──────────────────────────────┼──────────┼──────────┼──────────┼──────────┼────────────┼──────┼───────┼──────┼──────┤\n",
      "│ kenter_ft_k_50_b_0.001_title │ 0.743811 │ 0.743811 │ 0.743811 │ 0.743811 │  2.17304   │ 1382 │ 14524 │  476 │  476 │\n",
      "├──────────────────────────────┼──────────┼──────────┼──────────┼──────────┼────────────┼──────┼───────┼──────┼──────┤\n",
      "│ kenter_wv_k_50_b_0.001_spot  │ 0.874058 │ 0.874058 │ 0.874058 │ 0.874058 │  2.35308   │ 1624 │ 14766 │  234 │  234 │\n",
      "├──────────────────────────────┼──────────┼──────────┼──────────┼──────────┼────────────┼──────┼───────┼──────┼──────┤\n",
      "│ kenter_ft_k_50_b_0.001_spot  │ 0.866523 │ 0.866523 │ 0.866523 │ 0.866523 │  2.37276   │ 1610 │ 14752 │  248 │  248 │\n",
      "├──────────────────────────────┼──────────┼──────────┼──────────┼──────────┼────────────┼──────┼───────┼──────┼──────┤\n",
      "│ kenter_wv_k_50_b_0.001_text  │ 0.899354 │ 0.899354 │ 0.899354 │ 0.899354 │  2.69894   │ 1671 │ 14813 │  187 │  187 │\n",
      "├──────────────────────────────┼──────────┼──────────┼──────────┼──────────┼────────────┼──────┼───────┼──────┼──────┤\n",
      "│ kenter_ft_k_50_b_0.001_text  │ 0.888052 │ 0.888052 │ 0.888052 │ 0.888052 │  2.7569    │ 1650 │ 14792 │  208 │  208 │\n",
      "├──────────────────────────────┼──────────┼──────────┼──────────┼──────────┼────────────┼──────┼───────┼──────┼──────┤\n",
      "│ kenter_wv_k_50_b_0.01_title  │ 0.752086 │ 0.752086 │ 0.752289 │ 0.751884 │  2.14232   │ 1397 │ 14540 │  460 │  461 │\n",
      "├──────────────────────────────┼──────────┼──────────┼──────────┼──────────┼────────────┼──────┼───────┼──────┼──────┤\n",
      "│ kenter_ft_k_50_b_0.01_title  │ 0.743811 │ 0.743811 │ 0.743811 │ 0.743811 │  2.17603   │ 1382 │ 14524 │  476 │  476 │\n",
      "├──────────────────────────────┼──────────┼──────────┼──────────┼──────────┼────────────┼──────┼───────┼──────┼──────┤\n",
      "│ kenter_wv_k_50_b_0.01_spot   │ 0.874596 │ 0.874596 │ 0.874596 │ 0.874596 │  2.35612   │ 1625 │ 14767 │  233 │  233 │\n",
      "├──────────────────────────────┼──────────┼──────────┼──────────┼──────────┼────────────┼──────┼───────┼──────┼──────┤\n",
      "│ kenter_ft_k_50_b_0.01_spot   │ 0.868138 │ 0.868138 │ 0.868138 │ 0.868138 │  2.37711   │ 1613 │ 14755 │  245 │  245 │\n",
      "├──────────────────────────────┼──────────┼──────────┼──────────┼──────────┼────────────┼──────┼───────┼──────┼──────┤\n",
      "│ kenter_wv_k_50_b_0.01_text   │ 0.899892 │ 0.899892 │ 0.899892 │ 0.899892 │  2.71255   │ 1672 │ 14814 │  186 │  186 │\n",
      "├──────────────────────────────┼──────────┼──────────┼──────────┼──────────┼────────────┼──────┼───────┼──────┼──────┤\n",
      "│ kenter_ft_k_50_b_0.01_text   │ 0.888052 │ 0.888052 │ 0.888052 │ 0.888052 │  2.76919   │ 1650 │ 14792 │  208 │  208 │\n",
      "├──────────────────────────────┼──────────┼──────────┼──────────┼──────────┼────────────┼──────┼───────┼──────┼──────┤\n",
      "│ kenter_wv_k_50_b_0.1_title   │ 0.750807 │ 0.750807 │ 0.750807 │ 0.750807 │  2.17308   │ 1395 │ 14537 │  463 │  463 │\n",
      "├──────────────────────────────┼──────────┼──────────┼──────────┼──────────┼────────────┼──────┼───────┼──────┼──────┤\n",
      "│ kenter_ft_k_50_b_0.1_title   │ 0.741119 │ 0.741119 │ 0.741119 │ 0.741119 │  2.19905   │ 1377 │ 14519 │  481 │  481 │\n",
      "├──────────────────────────────┼──────────┼──────────┼──────────┼──────────┼────────────┼──────┼───────┼──────┼──────┤\n",
      "│ kenter_wv_k_50_b_0.1_spot    │ 0.874832 │ 0.874832 │ 0.875067 │ 0.874596 │  2.39704   │ 1625 │ 14768 │  232 │  233 │\n",
      "├──────────────────────────────┼──────────┼──────────┼──────────┼──────────┼────────────┼──────┼───────┼──────┼──────┤\n",
      "│ kenter_ft_k_50_b_0.1_spot    │ 0.864909 │ 0.864909 │ 0.864909 │ 0.864909 │  2.42912   │ 1607 │ 14749 │  251 │  251 │\n",
      "├──────────────────────────────┼──────────┼──────────┼──────────┼──────────┼────────────┼──────┼───────┼──────┼──────┤\n",
      "│ kenter_wv_k_50_b_0.1_text    │ 0.898816 │ 0.898816 │ 0.898816 │ 0.898816 │  2.79165   │ 1670 │ 14812 │  188 │  188 │\n",
      "├──────────────────────────────┼──────────┼──────────┼──────────┼──────────┼────────────┼──────┼───────┼──────┼──────┤\n",
      "│ kenter_ft_k_50_b_0.1_text    │ 0.884822 │ 0.884822 │ 0.884822 │ 0.884822 │  2.85345   │ 1644 │ 14786 │  214 │  214 │\n",
      "├──────────────────────────────┼──────────┼──────────┼──────────┼──────────┼────────────┼──────┼───────┼──────┼──────┤\n",
      "│ kenter_wv_k_50_b_0.2_title   │ 0.744349 │ 0.744349 │ 0.744349 │ 0.744349 │  2.21341   │ 1383 │ 14525 │  475 │  475 │\n",
      "├──────────────────────────────┼──────────┼──────────┼──────────┼──────────┼────────────┼──────┼───────┼──────┼──────┤\n",
      "│ kenter_ft_k_50_b_0.2_title   │ 0.735199 │ 0.735199 │ 0.735199 │ 0.735199 │  2.23818   │ 1366 │ 14508 │  492 │  492 │\n",
      "├──────────────────────────────┼──────────┼──────────┼──────────┼──────────┼────────────┼──────┼───────┼──────┼──────┤\n",
      "│ kenter_wv_k_50_b_0.2_spot    │ 0.868138 │ 0.868138 │ 0.868138 │ 0.868138 │  2.46728   │ 1613 │ 14755 │  245 │  245 │\n",
      "├──────────────────────────────┼──────────┼──────────┼──────────┼──────────┼────────────┼──────┼───────┼──────┼──────┤\n",
      "│ kenter_ft_k_50_b_0.2_spot    │ 0.855759 │ 0.855759 │ 0.855759 │ 0.855759 │  2.49154   │ 1590 │ 14732 │  268 │  268 │\n",
      "├──────────────────────────────┼──────────┼──────────┼──────────┼──────────┼────────────┼──────┼───────┼──────┼──────┤\n",
      "│ kenter_wv_k_50_b_0.2_text    │ 0.870829 │ 0.870829 │ 0.870829 │ 0.870829 │  2.88378   │ 1618 │ 14760 │  240 │  240 │\n",
      "├──────────────────────────────┼──────────┼──────────┼──────────┼──────────┼────────────┼──────┼───────┼──────┼──────┤\n",
      "│ kenter_ft_k_50_b_0.2_text    │ 0.857374 │ 0.857374 │ 0.857374 │ 0.857374 │  2.94502   │ 1593 │ 14735 │  265 │  265 │\n",
      "├──────────────────────────────┼──────────┼──────────┼──────────┼──────────┼────────────┼──────┼───────┼──────┼──────┤\n",
      "│ kenter_wv_k_50_b_0.001_all   │ 0.941335 │ 0.941335 │ 0.941335 │ 0.941335 │ -0.0244565 │ 1749 │ 14891 │  109 │  109 │\n",
      "├──────────────────────────────┼──────────┼──────────┼──────────┼──────────┼────────────┼──────┼───────┼──────┼──────┤\n",
      "│ kenter_ft_k_50_b_0.001_all   │ 0.933262 │ 0.933262 │ 0.933262 │ 0.933262 │ -0.0199942 │ 1734 │ 14876 │  124 │  124 │\n",
      "╘══════════════════════════════╧══════════╧══════════╧══════════╧══════════╧════════════╧══════╧═══════╧══════╧══════╛\n"
     ]
    }
   ],
   "source": [
    "print(tabulate_res(results))"
   ]
  },
  {
   "cell_type": "code",
   "execution_count": 165,
   "metadata": {
    "ExecuteTime": {
     "end_time": "2019-03-07T11:41:16.797237Z",
     "start_time": "2019-03-07T11:41:16.792533Z"
    }
   },
   "outputs": [
    {
     "data": {
      "text/plain": [
       "['kenter_wv_k_50_b_0.001', 'kenter_ft_k_50_b_0.001']"
      ]
     },
     "execution_count": 165,
     "metadata": {},
     "output_type": "execute_result"
    }
   ],
   "source": [
    "methods2"
   ]
  },
  {
   "cell_type": "code",
   "execution_count": 166,
   "metadata": {
    "ExecuteTime": {
     "end_time": "2019-03-07T11:41:22.351752Z",
     "start_time": "2019-03-07T11:41:22.346419Z"
    }
   },
   "outputs": [
    {
     "data": {
      "text/plain": [
       "['kenter_wv_k_50_b_0.001_title',\n",
       " 'kenter_wv_k_50_b_0.001_spot',\n",
       " 'kenter_wv_k_50_b_0.001_text',\n",
       " 'kenter_ft_k_50_b_0.001_title',\n",
       " 'kenter_ft_k_50_b_0.001_spot',\n",
       " 'kenter_ft_k_50_b_0.001_text']"
      ]
     },
     "execution_count": 166,
     "metadata": {},
     "output_type": "execute_result"
    }
   ],
   "source": [
    "methods_cross_2"
   ]
  },
  {
   "cell_type": "code",
   "execution_count": 167,
   "metadata": {
    "ExecuteTime": {
     "end_time": "2019-03-07T11:54:28.884046Z",
     "start_time": "2019-03-07T11:54:28.854529Z"
    }
   },
   "outputs": [],
   "source": [
    "results_final = {}\n",
    "for method in [met + '_' + field for met in methods2 for field in fields + ['all']]:\n",
    "    results_final[method] = find_eacc(df_comparisons.label.values, df_comparisons[method].values) "
   ]
  },
  {
   "cell_type": "code",
   "execution_count": 168,
   "metadata": {
    "ExecuteTime": {
     "end_time": "2019-03-07T11:54:38.955069Z",
     "start_time": "2019-03-07T11:54:38.941226Z"
    }
   },
   "outputs": [
    {
     "name": "stdout",
     "output_type": "stream",
     "text": [
      "╒══════════════════════════════╤══════════╤══════════╤══════════╤══════════╤════════════╤══════╤═══════╤══════╤══════╕\n",
      "│                              │    E-ACC │       F1 │     PREC │   RECALL │        THR │   TP │    TN │   FP │   FN │\n",
      "╞══════════════════════════════╪══════════╪══════════╪══════════╪══════════╪════════════╪══════╪═══════╪══════╪══════╡\n",
      "│ kenter_wv_k_50_b_0.001_title │ 0.750807 │ 0.750807 │ 0.750807 │ 0.750807 │  2.13926   │ 1395 │ 14537 │  463 │  463 │\n",
      "├──────────────────────────────┼──────────┼──────────┼──────────┼──────────┼────────────┼──────┼───────┼──────┼──────┤\n",
      "│ kenter_wv_k_50_b_0.001_spot  │ 0.874058 │ 0.874058 │ 0.874058 │ 0.874058 │  2.35308   │ 1624 │ 14766 │  234 │  234 │\n",
      "├──────────────────────────────┼──────────┼──────────┼──────────┼──────────┼────────────┼──────┼───────┼──────┼──────┤\n",
      "│ kenter_wv_k_50_b_0.001_text  │ 0.899354 │ 0.899354 │ 0.899354 │ 0.899354 │  2.69894   │ 1671 │ 14813 │  187 │  187 │\n",
      "├──────────────────────────────┼──────────┼──────────┼──────────┼──────────┼────────────┼──────┼───────┼──────┼──────┤\n",
      "│ kenter_wv_k_50_b_0.001_all   │ 0.941335 │ 0.941335 │ 0.941335 │ 0.941335 │ -0.0244565 │ 1749 │ 14891 │  109 │  109 │\n",
      "├──────────────────────────────┼──────────┼──────────┼──────────┼──────────┼────────────┼──────┼───────┼──────┼──────┤\n",
      "│ kenter_ft_k_50_b_0.001_title │ 0.743811 │ 0.743811 │ 0.743811 │ 0.743811 │  2.17304   │ 1382 │ 14524 │  476 │  476 │\n",
      "├──────────────────────────────┼──────────┼──────────┼──────────┼──────────┼────────────┼──────┼───────┼──────┼──────┤\n",
      "│ kenter_ft_k_50_b_0.001_spot  │ 0.866523 │ 0.866523 │ 0.866523 │ 0.866523 │  2.37276   │ 1610 │ 14752 │  248 │  248 │\n",
      "├──────────────────────────────┼──────────┼──────────┼──────────┼──────────┼────────────┼──────┼───────┼──────┼──────┤\n",
      "│ kenter_ft_k_50_b_0.001_text  │ 0.888052 │ 0.888052 │ 0.888052 │ 0.888052 │  2.7569    │ 1650 │ 14792 │  208 │  208 │\n",
      "├──────────────────────────────┼──────────┼──────────┼──────────┼──────────┼────────────┼──────┼───────┼──────┼──────┤\n",
      "│ kenter_ft_k_50_b_0.001_all   │ 0.933262 │ 0.933262 │ 0.933262 │ 0.933262 │ -0.0199942 │ 1734 │ 14876 │  124 │  124 │\n",
      "╘══════════════════════════════╧══════════╧══════════╧══════════╧══════════╧════════════╧══════╧═══════╧══════╧══════╛\n"
     ]
    }
   ],
   "source": [
    "print(tabulate_res(results_final))"
   ]
  },
  {
   "cell_type": "code",
   "execution_count": null,
   "metadata": {},
   "outputs": [],
   "source": [
    "methods2 = [met+'_'+optname for met in ['kenter_wv','kenter_ft']]\n",
    "methods_cross_2 = [met + '_' + field for met in methods2 for field in fields]\n"
   ]
  },
  {
   "cell_type": "code",
   "execution_count": 171,
   "metadata": {
    "ExecuteTime": {
     "end_time": "2019-03-07T12:10:03.448334Z",
     "start_time": "2019-03-07T12:10:03.439256Z"
    }
   },
   "outputs": [
    {
     "data": {
      "text/plain": [
       "['kenter_wv_k_50_b_0.001', 'kenter_ft_k_50_b_0.001']"
      ]
     },
     "execution_count": 171,
     "metadata": {},
     "output_type": "execute_result"
    }
   ],
   "source": [
    "methods2"
   ]
  },
  {
   "cell_type": "code",
   "execution_count": 172,
   "metadata": {
    "ExecuteTime": {
     "end_time": "2019-03-07T12:11:55.853641Z",
     "start_time": "2019-03-07T12:11:55.843432Z"
    }
   },
   "outputs": [],
   "source": [
    "met2print = {}\n",
    "for met in ['kenter_wv', 'kenter_ft']:\n",
    "    met2 = met+'_'+optname\n",
    "    for field in fields + ['all']:\n",
    "        met2print[met2 + '_' + field] = met + '_' + field"
   ]
  },
  {
   "cell_type": "code",
   "execution_count": 173,
   "metadata": {
    "ExecuteTime": {
     "end_time": "2019-03-07T12:11:57.994866Z",
     "start_time": "2019-03-07T12:11:57.991068Z"
    }
   },
   "outputs": [
    {
     "data": {
      "text/plain": [
       "{'kenter_wv_k_50_b_0.001_title': 'kenter_wv_title',\n",
       " 'kenter_wv_k_50_b_0.001_spot': 'kenter_wv_spot',\n",
       " 'kenter_wv_k_50_b_0.001_text': 'kenter_wv_text',\n",
       " 'kenter_wv_k_50_b_0.001_all': 'kenter_wv_all',\n",
       " 'kenter_ft_k_50_b_0.001_title': 'kenter_ft_title',\n",
       " 'kenter_ft_k_50_b_0.001_spot': 'kenter_ft_spot',\n",
       " 'kenter_ft_k_50_b_0.001_text': 'kenter_ft_text',\n",
       " 'kenter_ft_k_50_b_0.001_all': 'kenter_ft_all'}"
      ]
     },
     "execution_count": 173,
     "metadata": {},
     "output_type": "execute_result"
    }
   ],
   "source": [
    "met2print"
   ]
  },
  {
   "cell_type": "code",
   "execution_count": 174,
   "metadata": {
    "ExecuteTime": {
     "end_time": "2019-03-07T12:12:30.564317Z",
     "start_time": "2019-03-07T12:12:30.553838Z"
    }
   },
   "outputs": [],
   "source": [
    "results_final2 = {}\n",
    "for key, val in results_final.items():\n",
    "    results_final2[met2print[key]] = val"
   ]
  },
  {
   "cell_type": "code",
   "execution_count": 176,
   "metadata": {
    "ExecuteTime": {
     "end_time": "2019-03-07T12:12:42.882140Z",
     "start_time": "2019-03-07T12:12:42.873815Z"
    }
   },
   "outputs": [
    {
     "name": "stdout",
     "output_type": "stream",
     "text": [
      "╒═════════════════╤══════════╤══════════╤══════════╤══════════╤════════════╤══════╤═══════╤══════╤══════╕\n",
      "│                 │    E-ACC │       F1 │     PREC │   RECALL │        THR │   TP │    TN │   FP │   FN │\n",
      "╞═════════════════╪══════════╪══════════╪══════════╪══════════╪════════════╪══════╪═══════╪══════╪══════╡\n",
      "│ kenter_wv_title │ 0.750807 │ 0.750807 │ 0.750807 │ 0.750807 │  2.13926   │ 1395 │ 14537 │  463 │  463 │\n",
      "├─────────────────┼──────────┼──────────┼──────────┼──────────┼────────────┼──────┼───────┼──────┼──────┤\n",
      "│ kenter_wv_spot  │ 0.874058 │ 0.874058 │ 0.874058 │ 0.874058 │  2.35308   │ 1624 │ 14766 │  234 │  234 │\n",
      "├─────────────────┼──────────┼──────────┼──────────┼──────────┼────────────┼──────┼───────┼──────┼──────┤\n",
      "│ kenter_wv_text  │ 0.899354 │ 0.899354 │ 0.899354 │ 0.899354 │  2.69894   │ 1671 │ 14813 │  187 │  187 │\n",
      "├─────────────────┼──────────┼──────────┼──────────┼──────────┼────────────┼──────┼───────┼──────┼──────┤\n",
      "│ kenter_wv_all   │ 0.941335 │ 0.941335 │ 0.941335 │ 0.941335 │ -0.0244565 │ 1749 │ 14891 │  109 │  109 │\n",
      "├─────────────────┼──────────┼──────────┼──────────┼──────────┼────────────┼──────┼───────┼──────┼──────┤\n",
      "│ kenter_ft_title │ 0.743811 │ 0.743811 │ 0.743811 │ 0.743811 │  2.17304   │ 1382 │ 14524 │  476 │  476 │\n",
      "├─────────────────┼──────────┼──────────┼──────────┼──────────┼────────────┼──────┼───────┼──────┼──────┤\n",
      "│ kenter_ft_spot  │ 0.866523 │ 0.866523 │ 0.866523 │ 0.866523 │  2.37276   │ 1610 │ 14752 │  248 │  248 │\n",
      "├─────────────────┼──────────┼──────────┼──────────┼──────────┼────────────┼──────┼───────┼──────┼──────┤\n",
      "│ kenter_ft_text  │ 0.888052 │ 0.888052 │ 0.888052 │ 0.888052 │  2.7569    │ 1650 │ 14792 │  208 │  208 │\n",
      "├─────────────────┼──────────┼──────────┼──────────┼──────────┼────────────┼──────┼───────┼──────┼──────┤\n",
      "│ kenter_ft_all   │ 0.933262 │ 0.933262 │ 0.933262 │ 0.933262 │ -0.0199942 │ 1734 │ 14876 │  124 │  124 │\n",
      "╘═════════════════╧══════════╧══════════╧══════════╧══════════╧════════════╧══════╧═══════╧══════╧══════╛\n"
     ]
    }
   ],
   "source": [
    "print(tabulate_res(results_final2))"
   ]
  },
  {
   "cell_type": "code",
   "execution_count": 177,
   "metadata": {
    "ExecuteTime": {
     "end_time": "2019-03-07T12:12:50.861376Z",
     "start_time": "2019-03-07T12:12:50.844313Z"
    }
   },
   "outputs": [],
   "source": [
    "with open('unsupervised_results_lemma_kenter_final.pickle', 'wb') as f:\n",
    "    pickle.dump(results_final2, f)"
   ]
  },
  {
   "cell_type": "code",
   "execution_count": null,
   "metadata": {},
   "outputs": [],
   "source": []
  },
  {
   "cell_type": "code",
   "execution_count": null,
   "metadata": {},
   "outputs": [],
   "source": []
  },
  {
   "cell_type": "code",
   "execution_count": null,
   "metadata": {},
   "outputs": [],
   "source": []
  },
  {
   "cell_type": "code",
   "execution_count": null,
   "metadata": {},
   "outputs": [],
   "source": []
  },
  {
   "cell_type": "code",
   "execution_count": null,
   "metadata": {},
   "outputs": [],
   "source": []
  }
 ],
 "metadata": {
  "kernelspec": {
   "display_name": "Python 3",
   "language": "python",
   "name": "python3"
  },
  "language_info": {
   "codemirror_mode": {
    "name": "ipython",
    "version": 3
   },
   "file_extension": ".py",
   "mimetype": "text/x-python",
   "name": "python",
   "nbconvert_exporter": "python",
   "pygments_lexer": "ipython3",
   "version": "3.6.8"
  }
 },
 "nbformat": 4,
 "nbformat_minor": 2
}
